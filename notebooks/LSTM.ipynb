{
  "nbformat": 4,
  "nbformat_minor": 5,
  "metadata": {
    "kernelspec": {
      "display_name": "Python 3",
      "language": "python",
      "name": "python3"
    },
    "language_info": {
      "codemirror_mode": {
        "name": "ipython",
        "version": 3
      },
      "file_extension": ".py",
      "mimetype": "text/x-python",
      "name": "python",
      "nbconvert_exporter": "python",
      "pygments_lexer": "ipython3",
      "version": "3.8.6"
    },
    "colab": {
      "name": "LSTM.ipynb",
      "provenance": [],
      "collapsed_sections": [],
      "toc_visible": true
    },
    "accelerator": "GPU"
  },
  "cells": [
    {
      "cell_type": "markdown",
      "metadata": {
        "id": "8befdd8a-6f6c-4089-997a-65c828859e26"
      },
      "source": [
        "# import libraries"
      ],
      "id": "8befdd8a-6f6c-4089-997a-65c828859e26"
    },
    {
      "cell_type": "code",
      "metadata": {
        "id": "f990e8d7-37c9-4b88-b3d6-b0616f1dfe16"
      },
      "source": [
        "import os\n",
        "import pandas as pd\n",
        "import matplotlib.pyplot as plt\n",
        "import numpy as np\n",
        "import seaborn as sns\n",
        "import tensorflow as tf"
      ],
      "id": "f990e8d7-37c9-4b88-b3d6-b0616f1dfe16",
      "execution_count": 1,
      "outputs": []
    },
    {
      "cell_type": "markdown",
      "metadata": {
        "id": "ef73bbca-ea89-4c15-9215-0a6fb01b0a6b"
      },
      "source": [
        "# import data"
      ],
      "id": "ef73bbca-ea89-4c15-9215-0a6fb01b0a6b"
    },
    {
      "cell_type": "code",
      "metadata": {
        "colab": {
          "base_uri": "https://localhost:8080/",
          "height": 409
        },
        "id": "1c422fa9-2b09-4f8d-bd0d-6344d0989ad5",
        "outputId": "0ab5a97d-6eb2-4faa-88bb-cf3692ebd822"
      },
      "source": [
        "cwd = os.getcwd()\n",
        "simp_path = 'raw_data/df.csv'\n",
        "abs_path = os.path.abspath(os.path.join(cwd,'..',simp_path))\n",
        "df = pd.read_csv(abs_path)"
      ],
      "id": "1c422fa9-2b09-4f8d-bd0d-6344d0989ad5",
      "execution_count": 6,
      "outputs": [
        {
          "output_type": "error",
          "ename": "FileNotFoundError",
          "evalue": "ignored",
          "traceback": [
            "\u001b[0;31m---------------------------------------------------------------------------\u001b[0m",
            "\u001b[0;31mFileNotFoundError\u001b[0m                         Traceback (most recent call last)",
            "\u001b[0;32m<ipython-input-6-6c7aa50e47ae>\u001b[0m in \u001b[0;36m<module>\u001b[0;34m()\u001b[0m\n\u001b[1;32m      2\u001b[0m \u001b[0msimp_path\u001b[0m \u001b[0;34m=\u001b[0m \u001b[0;34m'raw_data/df.csv'\u001b[0m\u001b[0;34m\u001b[0m\u001b[0;34m\u001b[0m\u001b[0m\n\u001b[1;32m      3\u001b[0m \u001b[0mabs_path\u001b[0m \u001b[0;34m=\u001b[0m \u001b[0mos\u001b[0m\u001b[0;34m.\u001b[0m\u001b[0mpath\u001b[0m\u001b[0;34m.\u001b[0m\u001b[0mabspath\u001b[0m\u001b[0;34m(\u001b[0m\u001b[0mos\u001b[0m\u001b[0;34m.\u001b[0m\u001b[0mpath\u001b[0m\u001b[0;34m.\u001b[0m\u001b[0mjoin\u001b[0m\u001b[0;34m(\u001b[0m\u001b[0mcwd\u001b[0m\u001b[0;34m,\u001b[0m\u001b[0;34m'..'\u001b[0m\u001b[0;34m,\u001b[0m\u001b[0msimp_path\u001b[0m\u001b[0;34m)\u001b[0m\u001b[0;34m)\u001b[0m\u001b[0;34m\u001b[0m\u001b[0;34m\u001b[0m\u001b[0m\n\u001b[0;32m----> 4\u001b[0;31m \u001b[0mdf\u001b[0m \u001b[0;34m=\u001b[0m \u001b[0mpd\u001b[0m\u001b[0;34m.\u001b[0m\u001b[0mread_csv\u001b[0m\u001b[0;34m(\u001b[0m\u001b[0mabs_path\u001b[0m\u001b[0;34m)\u001b[0m\u001b[0;34m\u001b[0m\u001b[0;34m\u001b[0m\u001b[0m\n\u001b[0m",
            "\u001b[0;32m/usr/local/lib/python3.7/dist-packages/pandas/io/parsers.py\u001b[0m in \u001b[0;36mread_csv\u001b[0;34m(filepath_or_buffer, sep, delimiter, header, names, index_col, usecols, squeeze, prefix, mangle_dupe_cols, dtype, engine, converters, true_values, false_values, skipinitialspace, skiprows, skipfooter, nrows, na_values, keep_default_na, na_filter, verbose, skip_blank_lines, parse_dates, infer_datetime_format, keep_date_col, date_parser, dayfirst, cache_dates, iterator, chunksize, compression, thousands, decimal, lineterminator, quotechar, quoting, doublequote, escapechar, comment, encoding, dialect, error_bad_lines, warn_bad_lines, delim_whitespace, low_memory, memory_map, float_precision)\u001b[0m\n\u001b[1;32m    686\u001b[0m     )\n\u001b[1;32m    687\u001b[0m \u001b[0;34m\u001b[0m\u001b[0m\n\u001b[0;32m--> 688\u001b[0;31m     \u001b[0;32mreturn\u001b[0m \u001b[0m_read\u001b[0m\u001b[0;34m(\u001b[0m\u001b[0mfilepath_or_buffer\u001b[0m\u001b[0;34m,\u001b[0m \u001b[0mkwds\u001b[0m\u001b[0;34m)\u001b[0m\u001b[0;34m\u001b[0m\u001b[0;34m\u001b[0m\u001b[0m\n\u001b[0m\u001b[1;32m    689\u001b[0m \u001b[0;34m\u001b[0m\u001b[0m\n\u001b[1;32m    690\u001b[0m \u001b[0;34m\u001b[0m\u001b[0m\n",
            "\u001b[0;32m/usr/local/lib/python3.7/dist-packages/pandas/io/parsers.py\u001b[0m in \u001b[0;36m_read\u001b[0;34m(filepath_or_buffer, kwds)\u001b[0m\n\u001b[1;32m    452\u001b[0m \u001b[0;34m\u001b[0m\u001b[0m\n\u001b[1;32m    453\u001b[0m     \u001b[0;31m# Create the parser.\u001b[0m\u001b[0;34m\u001b[0m\u001b[0;34m\u001b[0m\u001b[0;34m\u001b[0m\u001b[0m\n\u001b[0;32m--> 454\u001b[0;31m     \u001b[0mparser\u001b[0m \u001b[0;34m=\u001b[0m \u001b[0mTextFileReader\u001b[0m\u001b[0;34m(\u001b[0m\u001b[0mfp_or_buf\u001b[0m\u001b[0;34m,\u001b[0m \u001b[0;34m**\u001b[0m\u001b[0mkwds\u001b[0m\u001b[0;34m)\u001b[0m\u001b[0;34m\u001b[0m\u001b[0;34m\u001b[0m\u001b[0m\n\u001b[0m\u001b[1;32m    455\u001b[0m \u001b[0;34m\u001b[0m\u001b[0m\n\u001b[1;32m    456\u001b[0m     \u001b[0;32mif\u001b[0m \u001b[0mchunksize\u001b[0m \u001b[0;32mor\u001b[0m \u001b[0miterator\u001b[0m\u001b[0;34m:\u001b[0m\u001b[0;34m\u001b[0m\u001b[0;34m\u001b[0m\u001b[0m\n",
            "\u001b[0;32m/usr/local/lib/python3.7/dist-packages/pandas/io/parsers.py\u001b[0m in \u001b[0;36m__init__\u001b[0;34m(self, f, engine, **kwds)\u001b[0m\n\u001b[1;32m    946\u001b[0m             \u001b[0mself\u001b[0m\u001b[0;34m.\u001b[0m\u001b[0moptions\u001b[0m\u001b[0;34m[\u001b[0m\u001b[0;34m\"has_index_names\"\u001b[0m\u001b[0;34m]\u001b[0m \u001b[0;34m=\u001b[0m \u001b[0mkwds\u001b[0m\u001b[0;34m[\u001b[0m\u001b[0;34m\"has_index_names\"\u001b[0m\u001b[0;34m]\u001b[0m\u001b[0;34m\u001b[0m\u001b[0;34m\u001b[0m\u001b[0m\n\u001b[1;32m    947\u001b[0m \u001b[0;34m\u001b[0m\u001b[0m\n\u001b[0;32m--> 948\u001b[0;31m         \u001b[0mself\u001b[0m\u001b[0;34m.\u001b[0m\u001b[0m_make_engine\u001b[0m\u001b[0;34m(\u001b[0m\u001b[0mself\u001b[0m\u001b[0;34m.\u001b[0m\u001b[0mengine\u001b[0m\u001b[0;34m)\u001b[0m\u001b[0;34m\u001b[0m\u001b[0;34m\u001b[0m\u001b[0m\n\u001b[0m\u001b[1;32m    949\u001b[0m \u001b[0;34m\u001b[0m\u001b[0m\n\u001b[1;32m    950\u001b[0m     \u001b[0;32mdef\u001b[0m \u001b[0mclose\u001b[0m\u001b[0;34m(\u001b[0m\u001b[0mself\u001b[0m\u001b[0;34m)\u001b[0m\u001b[0;34m:\u001b[0m\u001b[0;34m\u001b[0m\u001b[0;34m\u001b[0m\u001b[0m\n",
            "\u001b[0;32m/usr/local/lib/python3.7/dist-packages/pandas/io/parsers.py\u001b[0m in \u001b[0;36m_make_engine\u001b[0;34m(self, engine)\u001b[0m\n\u001b[1;32m   1178\u001b[0m     \u001b[0;32mdef\u001b[0m \u001b[0m_make_engine\u001b[0m\u001b[0;34m(\u001b[0m\u001b[0mself\u001b[0m\u001b[0;34m,\u001b[0m \u001b[0mengine\u001b[0m\u001b[0;34m=\u001b[0m\u001b[0;34m\"c\"\u001b[0m\u001b[0;34m)\u001b[0m\u001b[0;34m:\u001b[0m\u001b[0;34m\u001b[0m\u001b[0;34m\u001b[0m\u001b[0m\n\u001b[1;32m   1179\u001b[0m         \u001b[0;32mif\u001b[0m \u001b[0mengine\u001b[0m \u001b[0;34m==\u001b[0m \u001b[0;34m\"c\"\u001b[0m\u001b[0;34m:\u001b[0m\u001b[0;34m\u001b[0m\u001b[0;34m\u001b[0m\u001b[0m\n\u001b[0;32m-> 1180\u001b[0;31m             \u001b[0mself\u001b[0m\u001b[0;34m.\u001b[0m\u001b[0m_engine\u001b[0m \u001b[0;34m=\u001b[0m \u001b[0mCParserWrapper\u001b[0m\u001b[0;34m(\u001b[0m\u001b[0mself\u001b[0m\u001b[0;34m.\u001b[0m\u001b[0mf\u001b[0m\u001b[0;34m,\u001b[0m \u001b[0;34m**\u001b[0m\u001b[0mself\u001b[0m\u001b[0;34m.\u001b[0m\u001b[0moptions\u001b[0m\u001b[0;34m)\u001b[0m\u001b[0;34m\u001b[0m\u001b[0;34m\u001b[0m\u001b[0m\n\u001b[0m\u001b[1;32m   1181\u001b[0m         \u001b[0;32melse\u001b[0m\u001b[0;34m:\u001b[0m\u001b[0;34m\u001b[0m\u001b[0;34m\u001b[0m\u001b[0m\n\u001b[1;32m   1182\u001b[0m             \u001b[0;32mif\u001b[0m \u001b[0mengine\u001b[0m \u001b[0;34m==\u001b[0m \u001b[0;34m\"python\"\u001b[0m\u001b[0;34m:\u001b[0m\u001b[0;34m\u001b[0m\u001b[0;34m\u001b[0m\u001b[0m\n",
            "\u001b[0;32m/usr/local/lib/python3.7/dist-packages/pandas/io/parsers.py\u001b[0m in \u001b[0;36m__init__\u001b[0;34m(self, src, **kwds)\u001b[0m\n\u001b[1;32m   2008\u001b[0m         \u001b[0mkwds\u001b[0m\u001b[0;34m[\u001b[0m\u001b[0;34m\"usecols\"\u001b[0m\u001b[0;34m]\u001b[0m \u001b[0;34m=\u001b[0m \u001b[0mself\u001b[0m\u001b[0;34m.\u001b[0m\u001b[0musecols\u001b[0m\u001b[0;34m\u001b[0m\u001b[0;34m\u001b[0m\u001b[0m\n\u001b[1;32m   2009\u001b[0m \u001b[0;34m\u001b[0m\u001b[0m\n\u001b[0;32m-> 2010\u001b[0;31m         \u001b[0mself\u001b[0m\u001b[0;34m.\u001b[0m\u001b[0m_reader\u001b[0m \u001b[0;34m=\u001b[0m \u001b[0mparsers\u001b[0m\u001b[0;34m.\u001b[0m\u001b[0mTextReader\u001b[0m\u001b[0;34m(\u001b[0m\u001b[0msrc\u001b[0m\u001b[0;34m,\u001b[0m \u001b[0;34m**\u001b[0m\u001b[0mkwds\u001b[0m\u001b[0;34m)\u001b[0m\u001b[0;34m\u001b[0m\u001b[0;34m\u001b[0m\u001b[0m\n\u001b[0m\u001b[1;32m   2011\u001b[0m         \u001b[0mself\u001b[0m\u001b[0;34m.\u001b[0m\u001b[0munnamed_cols\u001b[0m \u001b[0;34m=\u001b[0m \u001b[0mself\u001b[0m\u001b[0;34m.\u001b[0m\u001b[0m_reader\u001b[0m\u001b[0;34m.\u001b[0m\u001b[0munnamed_cols\u001b[0m\u001b[0;34m\u001b[0m\u001b[0;34m\u001b[0m\u001b[0m\n\u001b[1;32m   2012\u001b[0m \u001b[0;34m\u001b[0m\u001b[0m\n",
            "\u001b[0;32mpandas/_libs/parsers.pyx\u001b[0m in \u001b[0;36mpandas._libs.parsers.TextReader.__cinit__\u001b[0;34m()\u001b[0m\n",
            "\u001b[0;32mpandas/_libs/parsers.pyx\u001b[0m in \u001b[0;36mpandas._libs.parsers.TextReader._setup_parser_source\u001b[0;34m()\u001b[0m\n",
            "\u001b[0;31mFileNotFoundError\u001b[0m: [Errno 2] No such file or directory: '/raw_data/df.csv'"
          ]
        }
      ]
    },
    {
      "cell_type": "code",
      "metadata": {
        "id": "c5yVzHgVAaBi"
      },
      "source": [
        "df_small = pd.read_csv(\"df_small.csv\")"
      ],
      "id": "c5yVzHgVAaBi",
      "execution_count": 12,
      "outputs": []
    },
    {
      "cell_type": "code",
      "metadata": {
        "colab": {
          "base_uri": "https://localhost:8080/"
        },
        "id": "sSxHaXREBsHf",
        "outputId": "22ba429c-4b16-4df5-8663-8186ba25d953"
      },
      "source": [
        "%ls \n"
      ],
      "id": "sSxHaXREBsHf",
      "execution_count": 7,
      "outputs": [
        {
          "output_type": "stream",
          "text": [
            "\u001b[0m\u001b[01;34mdrive\u001b[0m/  \u001b[01;34msample_data\u001b[0m/\n"
          ],
          "name": "stdout"
        }
      ]
    },
    {
      "cell_type": "code",
      "metadata": {
        "colab": {
          "base_uri": "https://localhost:8080/"
        },
        "id": "Js9zRDGRBtFy",
        "outputId": "2723826e-3388-4cd2-a8c9-cc002bff4d84"
      },
      "source": [
        "%cd drive"
      ],
      "id": "Js9zRDGRBtFy",
      "execution_count": 9,
      "outputs": [
        {
          "output_type": "stream",
          "text": [
            "/content/drive\n"
          ],
          "name": "stdout"
        }
      ]
    },
    {
      "cell_type": "code",
      "metadata": {
        "colab": {
          "base_uri": "https://localhost:8080/"
        },
        "id": "DTb-aYdqBtTV",
        "outputId": "2405fa89-49a7-41e8-87d9-50e7844d7433"
      },
      "source": [
        "%cd MyDrive/"
      ],
      "id": "DTb-aYdqBtTV",
      "execution_count": 10,
      "outputs": [
        {
          "output_type": "stream",
          "text": [
            "/content/drive/MyDrive\n"
          ],
          "name": "stdout"
        }
      ]
    },
    {
      "cell_type": "code",
      "metadata": {
        "colab": {
          "base_uri": "https://localhost:8080/"
        },
        "id": "QCBZmxq0CJgp",
        "outputId": "f513ad9d-6fd5-4b51-fb78-ade3857bcc6e"
      },
      "source": [
        "%ls "
      ],
      "id": "QCBZmxq0CJgp",
      "execution_count": 11,
      "outputs": [
        {
          "output_type": "stream",
          "text": [
            "'Berlin Proof Kreuzberg_1.gmap'                   df_small.csv\n",
            "'Berlin Proof Kreuzberg_2.gmap'                   LSTM.ipynb\n",
            " BoardingPassOELSCHLEGELSANDRA1486109454826.pdf  'Unbenannte Karte.gmap'\n",
            "\u001b[0m\u001b[01;34m'Colab Notebooks'\u001b[0m/                               'Unbenannte Tabelle.gsheet'\n"
          ],
          "name": "stdout"
        }
      ]
    },
    {
      "cell_type": "code",
      "metadata": {
        "colab": {
          "base_uri": "https://localhost:8080/"
        },
        "id": "b87JT7jcAs9C",
        "outputId": "8ad993e1-6950-4f43-efd9-cc12aad89f46"
      },
      "source": [
        "from google.colab import drive\n",
        "drive.mount('/content/drive')"
      ],
      "id": "b87JT7jcAs9C",
      "execution_count": 4,
      "outputs": [
        {
          "output_type": "stream",
          "text": [
            "Mounted at /content/drive\n"
          ],
          "name": "stdout"
        }
      ]
    },
    {
      "cell_type": "code",
      "metadata": {
        "id": "26f8f995-23ef-4274-960f-b226383d0598",
        "outputId": "ae446774-0c73-4059-e705-0a9c6fde5a4f"
      },
      "source": [
        "df.shape"
      ],
      "id": "26f8f995-23ef-4274-960f-b226383d0598",
      "execution_count": null,
      "outputs": [
        {
          "output_type": "execute_result",
          "data": {
            "text/plain": [
              "(2008183, 12)"
            ]
          },
          "metadata": {
            "tags": []
          },
          "execution_count": 3
        }
      ]
    },
    {
      "cell_type": "code",
      "metadata": {
        "id": "2Dv7lIZoC9vM"
      },
      "source": [
        ""
      ],
      "id": "2Dv7lIZoC9vM",
      "execution_count": null,
      "outputs": []
    },
    {
      "cell_type": "code",
      "metadata": {
        "id": "e029962e-0e90-4202-a9dd-b187a4e70519"
      },
      "source": [
        "from tensorflow.keras.models import Sequential\n",
        "from tensorflow.keras.layers import LSTM, Dense, Dropout\n",
        "\n",
        "model = Sequential()\n",
        "\n",
        "model.add(LSTM(units = 92, return_sequences = True, input_shape = (x_train.shape[1], 1)))\n",
        "model.add(Dropout(0.2))\n",
        "\n",
        "# model.add(LSTM(units = 92, return_sequences = True))\n",
        "# model.add(Dropout(0.2))\n",
        "\n",
        "# model.add(LSTM(units = 92, return_sequences = True))\n",
        "# model.add(Dropout(0.2))\n",
        "\n",
        "model.add(LSTM(units = 92, return_sequences = False))\n",
        "model.add(Dropout(0.2))\n",
        "\n",
        "model.add(Dense(units = 1))\n",
        "model.compile(optimizer = 'adam', loss = 'mean_squared_error')"
      ],
      "id": "e029962e-0e90-4202-a9dd-b187a4e70519",
      "execution_count": null,
      "outputs": []
    },
    {
      "cell_type": "code",
      "metadata": {
        "id": "0b6ca195-9e43-4e38-96e0-ad18907f04de"
      },
      "source": [
        "from sklearn.preprocessing import MinMaxScaler\n",
        "from sklearn.model_selection import train_test_split\n"
      ],
      "id": "0b6ca195-9e43-4e38-96e0-ad18907f04de",
      "execution_count": 14,
      "outputs": []
    },
    {
      "cell_type": "code",
      "metadata": {
        "id": "6f302d0c-eb37-4a2d-bbda-f94c7cd90700"
      },
      "source": [
        "sc = MinMaxScaler()\n",
        "\n",
        "sc.fit(df_small[[\"adj_close\"]])\n",
        "\n",
        "X_train = sc.transform(df_small[[\"adj_close\"]])"
      ],
      "id": "6f302d0c-eb37-4a2d-bbda-f94c7cd90700",
      "execution_count": 25,
      "outputs": []
    },
    {
      "cell_type": "code",
      "metadata": {
        "colab": {
          "base_uri": "https://localhost:8080/"
        },
        "id": "7rjW8QBvK1Jd",
        "outputId": "14955b19-891a-4fc8-ea20-c25bc33d5387"
      },
      "source": [
        "X_train"
      ],
      "id": "7rjW8QBvK1Jd",
      "execution_count": 26,
      "outputs": [
        {
          "output_type": "execute_result",
          "data": {
            "text/plain": [
              "array([[0.34483819],\n",
              "       [0.3081892 ],\n",
              "       [0.31735164],\n",
              "       ...,\n",
              "       [0.78320922],\n",
              "       [0.77701894],\n",
              "       [0.78190596]])"
            ]
          },
          "metadata": {
            "tags": []
          },
          "execution_count": 26
        }
      ]
    },
    {
      "cell_type": "code",
      "metadata": {
        "id": "e03de275-7ffa-409d-ad20-eb41c8e67757"
      },
      "source": [
        "X_train, X_test, y_train, y_test = train_test_split(X, y, test_size=0.3, random_state=0)\n",
        "\n"
      ],
      "id": "e03de275-7ffa-409d-ad20-eb41c8e67757",
      "execution_count": null,
      "outputs": []
    },
    {
      "cell_type": "code",
      "metadata": {
        "colab": {
          "base_uri": "https://localhost:8080/",
          "height": 419
        },
        "id": "8628e473-3843-41a2-936b-3bd50214b81f",
        "outputId": "6edb700e-ca51-436c-c1b6-83a0ca8edf09"
      },
      "source": [
        "df_small"
      ],
      "id": "8628e473-3843-41a2-936b-3bd50214b81f",
      "execution_count": 16,
      "outputs": [
        {
          "output_type": "execute_result",
          "data": {
            "text/html": [
              "<div>\n",
              "<style scoped>\n",
              "    .dataframe tbody tr th:only-of-type {\n",
              "        vertical-align: middle;\n",
              "    }\n",
              "\n",
              "    .dataframe tbody tr th {\n",
              "        vertical-align: top;\n",
              "    }\n",
              "\n",
              "    .dataframe thead th {\n",
              "        text-align: right;\n",
              "    }\n",
              "</style>\n",
              "<table border=\"1\" class=\"dataframe\">\n",
              "  <thead>\n",
              "    <tr style=\"text-align: right;\">\n",
              "      <th></th>\n",
              "      <th>Unnamed: 0</th>\n",
              "      <th>ticker</th>\n",
              "      <th>open</th>\n",
              "      <th>close</th>\n",
              "      <th>adj_close</th>\n",
              "      <th>low</th>\n",
              "      <th>high</th>\n",
              "      <th>volume</th>\n",
              "      <th>date</th>\n",
              "      <th>sector</th>\n",
              "      <th>year</th>\n",
              "      <th>month</th>\n",
              "      <th>day</th>\n",
              "    </tr>\n",
              "  </thead>\n",
              "  <tbody>\n",
              "    <tr>\n",
              "      <th>0</th>\n",
              "      <td>1462441</td>\n",
              "      <td>T</td>\n",
              "      <td>48.562500</td>\n",
              "      <td>47.000000</td>\n",
              "      <td>19.225044</td>\n",
              "      <td>46.625000</td>\n",
              "      <td>49.000000</td>\n",
              "      <td>5791900</td>\n",
              "      <td>2000-01-03</td>\n",
              "      <td>PUBLIC UTILITIES</td>\n",
              "      <td>2000</td>\n",
              "      <td>1</td>\n",
              "      <td>3</td>\n",
              "    </tr>\n",
              "    <tr>\n",
              "      <th>1</th>\n",
              "      <td>1462442</td>\n",
              "      <td>T</td>\n",
              "      <td>47.062500</td>\n",
              "      <td>44.250000</td>\n",
              "      <td>18.100174</td>\n",
              "      <td>43.500000</td>\n",
              "      <td>47.750000</td>\n",
              "      <td>7173600</td>\n",
              "      <td>2000-01-04</td>\n",
              "      <td>PUBLIC UTILITIES</td>\n",
              "      <td>2000</td>\n",
              "      <td>1</td>\n",
              "      <td>4</td>\n",
              "    </tr>\n",
              "    <tr>\n",
              "      <th>2</th>\n",
              "      <td>1462443</td>\n",
              "      <td>T</td>\n",
              "      <td>45.000000</td>\n",
              "      <td>44.937500</td>\n",
              "      <td>18.381397</td>\n",
              "      <td>44.437500</td>\n",
              "      <td>45.250000</td>\n",
              "      <td>9090000</td>\n",
              "      <td>2000-01-05</td>\n",
              "      <td>PUBLIC UTILITIES</td>\n",
              "      <td>2000</td>\n",
              "      <td>1</td>\n",
              "      <td>5</td>\n",
              "    </tr>\n",
              "    <tr>\n",
              "      <th>3</th>\n",
              "      <td>1462444</td>\n",
              "      <td>T</td>\n",
              "      <td>44.562500</td>\n",
              "      <td>43.750000</td>\n",
              "      <td>17.993273</td>\n",
              "      <td>43.125000</td>\n",
              "      <td>45.000000</td>\n",
              "      <td>7153600</td>\n",
              "      <td>2000-01-06</td>\n",
              "      <td>PUBLIC UTILITIES</td>\n",
              "      <td>2000</td>\n",
              "      <td>1</td>\n",
              "      <td>6</td>\n",
              "    </tr>\n",
              "    <tr>\n",
              "      <th>4</th>\n",
              "      <td>1462445</td>\n",
              "      <td>T</td>\n",
              "      <td>44.562500</td>\n",
              "      <td>44.125000</td>\n",
              "      <td>18.147497</td>\n",
              "      <td>43.375000</td>\n",
              "      <td>44.750000</td>\n",
              "      <td>5885600</td>\n",
              "      <td>2000-01-07</td>\n",
              "      <td>PUBLIC UTILITIES</td>\n",
              "      <td>2000</td>\n",
              "      <td>1</td>\n",
              "      <td>7</td>\n",
              "    </tr>\n",
              "    <tr>\n",
              "      <th>...</th>\n",
              "      <td>...</td>\n",
              "      <td>...</td>\n",
              "      <td>...</td>\n",
              "      <td>...</td>\n",
              "      <td>...</td>\n",
              "      <td>...</td>\n",
              "      <td>...</td>\n",
              "      <td>...</td>\n",
              "      <td>...</td>\n",
              "      <td>...</td>\n",
              "      <td>...</td>\n",
              "      <td>...</td>\n",
              "      <td>...</td>\n",
              "    </tr>\n",
              "    <tr>\n",
              "      <th>4687</th>\n",
              "      <td>1467128</td>\n",
              "      <td>T</td>\n",
              "      <td>33.139999</td>\n",
              "      <td>33.110001</td>\n",
              "      <td>33.110001</td>\n",
              "      <td>33.009998</td>\n",
              "      <td>33.250000</td>\n",
              "      <td>23493500</td>\n",
              "      <td>2018-08-20</td>\n",
              "      <td>PUBLIC UTILITIES</td>\n",
              "      <td>2018</td>\n",
              "      <td>8</td>\n",
              "      <td>20</td>\n",
              "    </tr>\n",
              "    <tr>\n",
              "      <th>4688</th>\n",
              "      <td>1467129</td>\n",
              "      <td>T</td>\n",
              "      <td>33.330002</td>\n",
              "      <td>33.400002</td>\n",
              "      <td>33.400002</td>\n",
              "      <td>33.310001</td>\n",
              "      <td>33.580002</td>\n",
              "      <td>28419300</td>\n",
              "      <td>2018-08-21</td>\n",
              "      <td>PUBLIC UTILITIES</td>\n",
              "      <td>2018</td>\n",
              "      <td>8</td>\n",
              "      <td>21</td>\n",
              "    </tr>\n",
              "    <tr>\n",
              "      <th>4689</th>\n",
              "      <td>1467130</td>\n",
              "      <td>T</td>\n",
              "      <td>33.200001</td>\n",
              "      <td>32.680000</td>\n",
              "      <td>32.680000</td>\n",
              "      <td>32.660000</td>\n",
              "      <td>33.200001</td>\n",
              "      <td>34156900</td>\n",
              "      <td>2018-08-22</td>\n",
              "      <td>PUBLIC UTILITIES</td>\n",
              "      <td>2018</td>\n",
              "      <td>8</td>\n",
              "      <td>22</td>\n",
              "    </tr>\n",
              "    <tr>\n",
              "      <th>4690</th>\n",
              "      <td>1467131</td>\n",
              "      <td>T</td>\n",
              "      <td>32.689999</td>\n",
              "      <td>32.490002</td>\n",
              "      <td>32.490002</td>\n",
              "      <td>32.410000</td>\n",
              "      <td>32.790001</td>\n",
              "      <td>21453600</td>\n",
              "      <td>2018-08-23</td>\n",
              "      <td>PUBLIC UTILITIES</td>\n",
              "      <td>2018</td>\n",
              "      <td>8</td>\n",
              "      <td>23</td>\n",
              "    </tr>\n",
              "    <tr>\n",
              "      <th>4691</th>\n",
              "      <td>1467132</td>\n",
              "      <td>T</td>\n",
              "      <td>32.459999</td>\n",
              "      <td>32.639999</td>\n",
              "      <td>32.639999</td>\n",
              "      <td>32.459999</td>\n",
              "      <td>32.740002</td>\n",
              "      <td>16225000</td>\n",
              "      <td>2018-08-24</td>\n",
              "      <td>PUBLIC UTILITIES</td>\n",
              "      <td>2018</td>\n",
              "      <td>8</td>\n",
              "      <td>24</td>\n",
              "    </tr>\n",
              "  </tbody>\n",
              "</table>\n",
              "<p>4692 rows × 13 columns</p>\n",
              "</div>"
            ],
            "text/plain": [
              "      Unnamed: 0 ticker       open  ...  year  month  day\n",
              "0        1462441      T  48.562500  ...  2000      1    3\n",
              "1        1462442      T  47.062500  ...  2000      1    4\n",
              "2        1462443      T  45.000000  ...  2000      1    5\n",
              "3        1462444      T  44.562500  ...  2000      1    6\n",
              "4        1462445      T  44.562500  ...  2000      1    7\n",
              "...          ...    ...        ...  ...   ...    ...  ...\n",
              "4687     1467128      T  33.139999  ...  2018      8   20\n",
              "4688     1467129      T  33.330002  ...  2018      8   21\n",
              "4689     1467130      T  33.200001  ...  2018      8   22\n",
              "4690     1467131      T  32.689999  ...  2018      8   23\n",
              "4691     1467132      T  32.459999  ...  2018      8   24\n",
              "\n",
              "[4692 rows x 13 columns]"
            ]
          },
          "metadata": {
            "tags": []
          },
          "execution_count": 16
        }
      ]
    },
    {
      "cell_type": "code",
      "metadata": {
        "colab": {
          "base_uri": "https://localhost:8080/"
        },
        "id": "0e4a9a2e-f7de-4615-a4ca-56c4d61aa6af",
        "outputId": "13fb1803-0194-4a62-f0b9-12c1bf897d36"
      },
      "source": [
        "df_small.dtypes"
      ],
      "id": "0e4a9a2e-f7de-4615-a4ca-56c4d61aa6af",
      "execution_count": 17,
      "outputs": [
        {
          "output_type": "execute_result",
          "data": {
            "text/plain": [
              "Unnamed: 0      int64\n",
              "ticker         object\n",
              "open          float64\n",
              "close         float64\n",
              "adj_close     float64\n",
              "low           float64\n",
              "high          float64\n",
              "volume          int64\n",
              "date           object\n",
              "sector         object\n",
              "year            int64\n",
              "month           int64\n",
              "day             int64\n",
              "dtype: object"
            ]
          },
          "metadata": {
            "tags": []
          },
          "execution_count": 17
        }
      ]
    },
    {
      "cell_type": "code",
      "metadata": {
        "colab": {
          "base_uri": "https://localhost:8080/",
          "height": 307
        },
        "id": "6a3c2ac5-8e10-4d41-949a-b0b4e4c48c82",
        "outputId": "f66b3e06-6cf0-43c0-a323-ddfabdbf6a26"
      },
      "source": [
        "df_small = df_small.drop(columns= \"Unnamed: 0\")"
      ],
      "id": "6a3c2ac5-8e10-4d41-949a-b0b4e4c48c82",
      "execution_count": 22,
      "outputs": [
        {
          "output_type": "error",
          "ename": "KeyError",
          "evalue": "ignored",
          "traceback": [
            "\u001b[0;31m---------------------------------------------------------------------------\u001b[0m",
            "\u001b[0;31mKeyError\u001b[0m                                  Traceback (most recent call last)",
            "\u001b[0;32m<ipython-input-22-9270dbc0c31c>\u001b[0m in \u001b[0;36m<module>\u001b[0;34m()\u001b[0m\n\u001b[0;32m----> 1\u001b[0;31m \u001b[0mdf_small\u001b[0m \u001b[0;34m=\u001b[0m \u001b[0mdf_small\u001b[0m\u001b[0;34m.\u001b[0m\u001b[0mdrop\u001b[0m\u001b[0;34m(\u001b[0m\u001b[0mcolumns\u001b[0m\u001b[0;34m=\u001b[0m \u001b[0;34m\"Unnamed: 0\"\u001b[0m\u001b[0;34m)\u001b[0m\u001b[0;34m\u001b[0m\u001b[0;34m\u001b[0m\u001b[0m\n\u001b[0m",
            "\u001b[0;32m/usr/local/lib/python3.7/dist-packages/pandas/core/frame.py\u001b[0m in \u001b[0;36mdrop\u001b[0;34m(self, labels, axis, index, columns, level, inplace, errors)\u001b[0m\n\u001b[1;32m   4172\u001b[0m             \u001b[0mlevel\u001b[0m\u001b[0;34m=\u001b[0m\u001b[0mlevel\u001b[0m\u001b[0;34m,\u001b[0m\u001b[0;34m\u001b[0m\u001b[0;34m\u001b[0m\u001b[0m\n\u001b[1;32m   4173\u001b[0m             \u001b[0minplace\u001b[0m\u001b[0;34m=\u001b[0m\u001b[0minplace\u001b[0m\u001b[0;34m,\u001b[0m\u001b[0;34m\u001b[0m\u001b[0;34m\u001b[0m\u001b[0m\n\u001b[0;32m-> 4174\u001b[0;31m             \u001b[0merrors\u001b[0m\u001b[0;34m=\u001b[0m\u001b[0merrors\u001b[0m\u001b[0;34m,\u001b[0m\u001b[0;34m\u001b[0m\u001b[0;34m\u001b[0m\u001b[0m\n\u001b[0m\u001b[1;32m   4175\u001b[0m         )\n\u001b[1;32m   4176\u001b[0m \u001b[0;34m\u001b[0m\u001b[0m\n",
            "\u001b[0;32m/usr/local/lib/python3.7/dist-packages/pandas/core/generic.py\u001b[0m in \u001b[0;36mdrop\u001b[0;34m(self, labels, axis, index, columns, level, inplace, errors)\u001b[0m\n\u001b[1;32m   3887\u001b[0m         \u001b[0;32mfor\u001b[0m \u001b[0maxis\u001b[0m\u001b[0;34m,\u001b[0m \u001b[0mlabels\u001b[0m \u001b[0;32min\u001b[0m \u001b[0maxes\u001b[0m\u001b[0;34m.\u001b[0m\u001b[0mitems\u001b[0m\u001b[0;34m(\u001b[0m\u001b[0;34m)\u001b[0m\u001b[0;34m:\u001b[0m\u001b[0;34m\u001b[0m\u001b[0;34m\u001b[0m\u001b[0m\n\u001b[1;32m   3888\u001b[0m             \u001b[0;32mif\u001b[0m \u001b[0mlabels\u001b[0m \u001b[0;32mis\u001b[0m \u001b[0;32mnot\u001b[0m \u001b[0;32mNone\u001b[0m\u001b[0;34m:\u001b[0m\u001b[0;34m\u001b[0m\u001b[0;34m\u001b[0m\u001b[0m\n\u001b[0;32m-> 3889\u001b[0;31m                 \u001b[0mobj\u001b[0m \u001b[0;34m=\u001b[0m \u001b[0mobj\u001b[0m\u001b[0;34m.\u001b[0m\u001b[0m_drop_axis\u001b[0m\u001b[0;34m(\u001b[0m\u001b[0mlabels\u001b[0m\u001b[0;34m,\u001b[0m \u001b[0maxis\u001b[0m\u001b[0;34m,\u001b[0m \u001b[0mlevel\u001b[0m\u001b[0;34m=\u001b[0m\u001b[0mlevel\u001b[0m\u001b[0;34m,\u001b[0m \u001b[0merrors\u001b[0m\u001b[0;34m=\u001b[0m\u001b[0merrors\u001b[0m\u001b[0;34m)\u001b[0m\u001b[0;34m\u001b[0m\u001b[0;34m\u001b[0m\u001b[0m\n\u001b[0m\u001b[1;32m   3890\u001b[0m \u001b[0;34m\u001b[0m\u001b[0m\n\u001b[1;32m   3891\u001b[0m         \u001b[0;32mif\u001b[0m \u001b[0minplace\u001b[0m\u001b[0;34m:\u001b[0m\u001b[0;34m\u001b[0m\u001b[0;34m\u001b[0m\u001b[0m\n",
            "\u001b[0;32m/usr/local/lib/python3.7/dist-packages/pandas/core/generic.py\u001b[0m in \u001b[0;36m_drop_axis\u001b[0;34m(self, labels, axis, level, errors)\u001b[0m\n\u001b[1;32m   3921\u001b[0m                 \u001b[0mnew_axis\u001b[0m \u001b[0;34m=\u001b[0m \u001b[0maxis\u001b[0m\u001b[0;34m.\u001b[0m\u001b[0mdrop\u001b[0m\u001b[0;34m(\u001b[0m\u001b[0mlabels\u001b[0m\u001b[0;34m,\u001b[0m \u001b[0mlevel\u001b[0m\u001b[0;34m=\u001b[0m\u001b[0mlevel\u001b[0m\u001b[0;34m,\u001b[0m \u001b[0merrors\u001b[0m\u001b[0;34m=\u001b[0m\u001b[0merrors\u001b[0m\u001b[0;34m)\u001b[0m\u001b[0;34m\u001b[0m\u001b[0;34m\u001b[0m\u001b[0m\n\u001b[1;32m   3922\u001b[0m             \u001b[0;32melse\u001b[0m\u001b[0;34m:\u001b[0m\u001b[0;34m\u001b[0m\u001b[0;34m\u001b[0m\u001b[0m\n\u001b[0;32m-> 3923\u001b[0;31m                 \u001b[0mnew_axis\u001b[0m \u001b[0;34m=\u001b[0m \u001b[0maxis\u001b[0m\u001b[0;34m.\u001b[0m\u001b[0mdrop\u001b[0m\u001b[0;34m(\u001b[0m\u001b[0mlabels\u001b[0m\u001b[0;34m,\u001b[0m \u001b[0merrors\u001b[0m\u001b[0;34m=\u001b[0m\u001b[0merrors\u001b[0m\u001b[0;34m)\u001b[0m\u001b[0;34m\u001b[0m\u001b[0;34m\u001b[0m\u001b[0m\n\u001b[0m\u001b[1;32m   3924\u001b[0m             \u001b[0mresult\u001b[0m \u001b[0;34m=\u001b[0m \u001b[0mself\u001b[0m\u001b[0;34m.\u001b[0m\u001b[0mreindex\u001b[0m\u001b[0;34m(\u001b[0m\u001b[0;34m**\u001b[0m\u001b[0;34m{\u001b[0m\u001b[0maxis_name\u001b[0m\u001b[0;34m:\u001b[0m \u001b[0mnew_axis\u001b[0m\u001b[0;34m}\u001b[0m\u001b[0;34m)\u001b[0m\u001b[0;34m\u001b[0m\u001b[0;34m\u001b[0m\u001b[0m\n\u001b[1;32m   3925\u001b[0m \u001b[0;34m\u001b[0m\u001b[0m\n",
            "\u001b[0;32m/usr/local/lib/python3.7/dist-packages/pandas/core/indexes/base.py\u001b[0m in \u001b[0;36mdrop\u001b[0;34m(self, labels, errors)\u001b[0m\n\u001b[1;32m   5285\u001b[0m         \u001b[0;32mif\u001b[0m \u001b[0mmask\u001b[0m\u001b[0;34m.\u001b[0m\u001b[0many\u001b[0m\u001b[0;34m(\u001b[0m\u001b[0;34m)\u001b[0m\u001b[0;34m:\u001b[0m\u001b[0;34m\u001b[0m\u001b[0;34m\u001b[0m\u001b[0m\n\u001b[1;32m   5286\u001b[0m             \u001b[0;32mif\u001b[0m \u001b[0merrors\u001b[0m \u001b[0;34m!=\u001b[0m \u001b[0;34m\"ignore\"\u001b[0m\u001b[0;34m:\u001b[0m\u001b[0;34m\u001b[0m\u001b[0;34m\u001b[0m\u001b[0m\n\u001b[0;32m-> 5287\u001b[0;31m                 \u001b[0;32mraise\u001b[0m \u001b[0mKeyError\u001b[0m\u001b[0;34m(\u001b[0m\u001b[0;34mf\"{labels[mask]} not found in axis\"\u001b[0m\u001b[0;34m)\u001b[0m\u001b[0;34m\u001b[0m\u001b[0;34m\u001b[0m\u001b[0m\n\u001b[0m\u001b[1;32m   5288\u001b[0m             \u001b[0mindexer\u001b[0m \u001b[0;34m=\u001b[0m \u001b[0mindexer\u001b[0m\u001b[0;34m[\u001b[0m\u001b[0;34m~\u001b[0m\u001b[0mmask\u001b[0m\u001b[0;34m]\u001b[0m\u001b[0;34m\u001b[0m\u001b[0;34m\u001b[0m\u001b[0m\n\u001b[1;32m   5289\u001b[0m         \u001b[0;32mreturn\u001b[0m \u001b[0mself\u001b[0m\u001b[0;34m.\u001b[0m\u001b[0mdelete\u001b[0m\u001b[0;34m(\u001b[0m\u001b[0mindexer\u001b[0m\u001b[0;34m)\u001b[0m\u001b[0;34m\u001b[0m\u001b[0;34m\u001b[0m\u001b[0m\n",
            "\u001b[0;31mKeyError\u001b[0m: \"['Unnamed: 0'] not found in axis\""
          ]
        }
      ]
    },
    {
      "cell_type": "code",
      "metadata": {
        "colab": {
          "base_uri": "https://localhost:8080/",
          "height": 419
        },
        "id": "z8mb9ahzJydR",
        "outputId": "12f4c38d-6730-40c6-8563-b730a157ae5b"
      },
      "source": [
        "df_small"
      ],
      "id": "z8mb9ahzJydR",
      "execution_count": 23,
      "outputs": [
        {
          "output_type": "execute_result",
          "data": {
            "text/html": [
              "<div>\n",
              "<style scoped>\n",
              "    .dataframe tbody tr th:only-of-type {\n",
              "        vertical-align: middle;\n",
              "    }\n",
              "\n",
              "    .dataframe tbody tr th {\n",
              "        vertical-align: top;\n",
              "    }\n",
              "\n",
              "    .dataframe thead th {\n",
              "        text-align: right;\n",
              "    }\n",
              "</style>\n",
              "<table border=\"1\" class=\"dataframe\">\n",
              "  <thead>\n",
              "    <tr style=\"text-align: right;\">\n",
              "      <th></th>\n",
              "      <th>ticker</th>\n",
              "      <th>open</th>\n",
              "      <th>close</th>\n",
              "      <th>adj_close</th>\n",
              "      <th>low</th>\n",
              "      <th>high</th>\n",
              "      <th>volume</th>\n",
              "      <th>date</th>\n",
              "      <th>sector</th>\n",
              "      <th>year</th>\n",
              "      <th>month</th>\n",
              "      <th>day</th>\n",
              "    </tr>\n",
              "  </thead>\n",
              "  <tbody>\n",
              "    <tr>\n",
              "      <th>0</th>\n",
              "      <td>T</td>\n",
              "      <td>48.562500</td>\n",
              "      <td>47.000000</td>\n",
              "      <td>19.225044</td>\n",
              "      <td>46.625000</td>\n",
              "      <td>49.000000</td>\n",
              "      <td>5791900</td>\n",
              "      <td>2000-01-03</td>\n",
              "      <td>PUBLIC UTILITIES</td>\n",
              "      <td>2000</td>\n",
              "      <td>1</td>\n",
              "      <td>3</td>\n",
              "    </tr>\n",
              "    <tr>\n",
              "      <th>1</th>\n",
              "      <td>T</td>\n",
              "      <td>47.062500</td>\n",
              "      <td>44.250000</td>\n",
              "      <td>18.100174</td>\n",
              "      <td>43.500000</td>\n",
              "      <td>47.750000</td>\n",
              "      <td>7173600</td>\n",
              "      <td>2000-01-04</td>\n",
              "      <td>PUBLIC UTILITIES</td>\n",
              "      <td>2000</td>\n",
              "      <td>1</td>\n",
              "      <td>4</td>\n",
              "    </tr>\n",
              "    <tr>\n",
              "      <th>2</th>\n",
              "      <td>T</td>\n",
              "      <td>45.000000</td>\n",
              "      <td>44.937500</td>\n",
              "      <td>18.381397</td>\n",
              "      <td>44.437500</td>\n",
              "      <td>45.250000</td>\n",
              "      <td>9090000</td>\n",
              "      <td>2000-01-05</td>\n",
              "      <td>PUBLIC UTILITIES</td>\n",
              "      <td>2000</td>\n",
              "      <td>1</td>\n",
              "      <td>5</td>\n",
              "    </tr>\n",
              "    <tr>\n",
              "      <th>3</th>\n",
              "      <td>T</td>\n",
              "      <td>44.562500</td>\n",
              "      <td>43.750000</td>\n",
              "      <td>17.993273</td>\n",
              "      <td>43.125000</td>\n",
              "      <td>45.000000</td>\n",
              "      <td>7153600</td>\n",
              "      <td>2000-01-06</td>\n",
              "      <td>PUBLIC UTILITIES</td>\n",
              "      <td>2000</td>\n",
              "      <td>1</td>\n",
              "      <td>6</td>\n",
              "    </tr>\n",
              "    <tr>\n",
              "      <th>4</th>\n",
              "      <td>T</td>\n",
              "      <td>44.562500</td>\n",
              "      <td>44.125000</td>\n",
              "      <td>18.147497</td>\n",
              "      <td>43.375000</td>\n",
              "      <td>44.750000</td>\n",
              "      <td>5885600</td>\n",
              "      <td>2000-01-07</td>\n",
              "      <td>PUBLIC UTILITIES</td>\n",
              "      <td>2000</td>\n",
              "      <td>1</td>\n",
              "      <td>7</td>\n",
              "    </tr>\n",
              "    <tr>\n",
              "      <th>...</th>\n",
              "      <td>...</td>\n",
              "      <td>...</td>\n",
              "      <td>...</td>\n",
              "      <td>...</td>\n",
              "      <td>...</td>\n",
              "      <td>...</td>\n",
              "      <td>...</td>\n",
              "      <td>...</td>\n",
              "      <td>...</td>\n",
              "      <td>...</td>\n",
              "      <td>...</td>\n",
              "      <td>...</td>\n",
              "    </tr>\n",
              "    <tr>\n",
              "      <th>4687</th>\n",
              "      <td>T</td>\n",
              "      <td>33.139999</td>\n",
              "      <td>33.110001</td>\n",
              "      <td>33.110001</td>\n",
              "      <td>33.009998</td>\n",
              "      <td>33.250000</td>\n",
              "      <td>23493500</td>\n",
              "      <td>2018-08-20</td>\n",
              "      <td>PUBLIC UTILITIES</td>\n",
              "      <td>2018</td>\n",
              "      <td>8</td>\n",
              "      <td>20</td>\n",
              "    </tr>\n",
              "    <tr>\n",
              "      <th>4688</th>\n",
              "      <td>T</td>\n",
              "      <td>33.330002</td>\n",
              "      <td>33.400002</td>\n",
              "      <td>33.400002</td>\n",
              "      <td>33.310001</td>\n",
              "      <td>33.580002</td>\n",
              "      <td>28419300</td>\n",
              "      <td>2018-08-21</td>\n",
              "      <td>PUBLIC UTILITIES</td>\n",
              "      <td>2018</td>\n",
              "      <td>8</td>\n",
              "      <td>21</td>\n",
              "    </tr>\n",
              "    <tr>\n",
              "      <th>4689</th>\n",
              "      <td>T</td>\n",
              "      <td>33.200001</td>\n",
              "      <td>32.680000</td>\n",
              "      <td>32.680000</td>\n",
              "      <td>32.660000</td>\n",
              "      <td>33.200001</td>\n",
              "      <td>34156900</td>\n",
              "      <td>2018-08-22</td>\n",
              "      <td>PUBLIC UTILITIES</td>\n",
              "      <td>2018</td>\n",
              "      <td>8</td>\n",
              "      <td>22</td>\n",
              "    </tr>\n",
              "    <tr>\n",
              "      <th>4690</th>\n",
              "      <td>T</td>\n",
              "      <td>32.689999</td>\n",
              "      <td>32.490002</td>\n",
              "      <td>32.490002</td>\n",
              "      <td>32.410000</td>\n",
              "      <td>32.790001</td>\n",
              "      <td>21453600</td>\n",
              "      <td>2018-08-23</td>\n",
              "      <td>PUBLIC UTILITIES</td>\n",
              "      <td>2018</td>\n",
              "      <td>8</td>\n",
              "      <td>23</td>\n",
              "    </tr>\n",
              "    <tr>\n",
              "      <th>4691</th>\n",
              "      <td>T</td>\n",
              "      <td>32.459999</td>\n",
              "      <td>32.639999</td>\n",
              "      <td>32.639999</td>\n",
              "      <td>32.459999</td>\n",
              "      <td>32.740002</td>\n",
              "      <td>16225000</td>\n",
              "      <td>2018-08-24</td>\n",
              "      <td>PUBLIC UTILITIES</td>\n",
              "      <td>2018</td>\n",
              "      <td>8</td>\n",
              "      <td>24</td>\n",
              "    </tr>\n",
              "  </tbody>\n",
              "</table>\n",
              "<p>4692 rows × 12 columns</p>\n",
              "</div>"
            ],
            "text/plain": [
              "     ticker       open      close  ...  year  month  day\n",
              "0         T  48.562500  47.000000  ...  2000      1    3\n",
              "1         T  47.062500  44.250000  ...  2000      1    4\n",
              "2         T  45.000000  44.937500  ...  2000      1    5\n",
              "3         T  44.562500  43.750000  ...  2000      1    6\n",
              "4         T  44.562500  44.125000  ...  2000      1    7\n",
              "...     ...        ...        ...  ...   ...    ...  ...\n",
              "4687      T  33.139999  33.110001  ...  2018      8   20\n",
              "4688      T  33.330002  33.400002  ...  2018      8   21\n",
              "4689      T  33.200001  32.680000  ...  2018      8   22\n",
              "4690      T  32.689999  32.490002  ...  2018      8   23\n",
              "4691      T  32.459999  32.639999  ...  2018      8   24\n",
              "\n",
              "[4692 rows x 12 columns]"
            ]
          },
          "metadata": {
            "tags": []
          },
          "execution_count": 23
        }
      ]
    }
  ]
}