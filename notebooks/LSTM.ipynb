{
 "cells": [
  {
   "cell_type": "markdown",
   "id": "8befdd8a-6f6c-4089-997a-65c828859e26",
   "metadata": {},
   "source": [
    "# import libraries"
   ]
  },
  {
   "cell_type": "code",
   "execution_count": 20,
   "id": "f990e8d7-37c9-4b88-b3d6-b0616f1dfe16",
   "metadata": {},
   "outputs": [],
   "source": [
    "import os\n",
    "import pandas as pd\n",
    "import matplotlib.pyplot as plt\n",
    "import numpy as np\n",
    "import seaborn as sns\n",
    "import tensorflow as tf\n"
   ]
  },
  {
   "cell_type": "markdown",
   "id": "ef73bbca-ea89-4c15-9215-0a6fb01b0a6b",
   "metadata": {},
   "source": [
    "# import data"
   ]
  },
  {
   "cell_type": "code",
   "execution_count": 2,
   "id": "1c422fa9-2b09-4f8d-bd0d-6344d0989ad5",
   "metadata": {},
   "outputs": [],
   "source": [
    "cwd = os.getcwd()\n",
    "simp_path = 'raw_data/df.csv'\n",
    "abs_path = os.path.abspath(os.path.join(cwd,'..',simp_path))\n",
    "df = pd.read_csv(abs_path)\n"
   ]
  },
  {
   "cell_type": "code",
   "execution_count": 3,
   "id": "26f8f995-23ef-4274-960f-b226383d0598",
   "metadata": {},
   "outputs": [
    {
     "data": {
      "text/plain": [
       "(2008183, 12)"
      ]
     },
     "execution_count": 3,
     "metadata": {},
     "output_type": "execute_result"
    }
   ],
   "source": [
    "df.shape\n"
   ]
  },
  {
   "cell_type": "code",
   "execution_count": 4,
   "id": "f5ee7c80-055d-458a-8f52-c68a8c631934",
   "metadata": {},
   "outputs": [
    {
     "data": {
      "text/html": [
       "<div>\n",
       "<style scoped>\n",
       "    .dataframe tbody tr th:only-of-type {\n",
       "        vertical-align: middle;\n",
       "    }\n",
       "\n",
       "    .dataframe tbody tr th {\n",
       "        vertical-align: top;\n",
       "    }\n",
       "\n",
       "    .dataframe thead th {\n",
       "        text-align: right;\n",
       "    }\n",
       "</style>\n",
       "<table border=\"1\" class=\"dataframe\">\n",
       "  <thead>\n",
       "    <tr style=\"text-align: right;\">\n",
       "      <th></th>\n",
       "      <th>ticker</th>\n",
       "      <th>open</th>\n",
       "      <th>close</th>\n",
       "      <th>adj_close</th>\n",
       "      <th>low</th>\n",
       "      <th>high</th>\n",
       "      <th>volume</th>\n",
       "      <th>date</th>\n",
       "      <th>sector</th>\n",
       "      <th>year</th>\n",
       "      <th>month</th>\n",
       "      <th>day</th>\n",
       "    </tr>\n",
       "  </thead>\n",
       "  <tbody>\n",
       "    <tr>\n",
       "      <th>1462441</th>\n",
       "      <td>T</td>\n",
       "      <td>48.562500</td>\n",
       "      <td>47.000000</td>\n",
       "      <td>19.225044</td>\n",
       "      <td>46.625000</td>\n",
       "      <td>49.000000</td>\n",
       "      <td>5791900</td>\n",
       "      <td>2000-01-03</td>\n",
       "      <td>PUBLIC UTILITIES</td>\n",
       "      <td>2000</td>\n",
       "      <td>1</td>\n",
       "      <td>3</td>\n",
       "    </tr>\n",
       "    <tr>\n",
       "      <th>1462442</th>\n",
       "      <td>T</td>\n",
       "      <td>47.062500</td>\n",
       "      <td>44.250000</td>\n",
       "      <td>18.100174</td>\n",
       "      <td>43.500000</td>\n",
       "      <td>47.750000</td>\n",
       "      <td>7173600</td>\n",
       "      <td>2000-01-04</td>\n",
       "      <td>PUBLIC UTILITIES</td>\n",
       "      <td>2000</td>\n",
       "      <td>1</td>\n",
       "      <td>4</td>\n",
       "    </tr>\n",
       "    <tr>\n",
       "      <th>1462443</th>\n",
       "      <td>T</td>\n",
       "      <td>45.000000</td>\n",
       "      <td>44.937500</td>\n",
       "      <td>18.381397</td>\n",
       "      <td>44.437500</td>\n",
       "      <td>45.250000</td>\n",
       "      <td>9090000</td>\n",
       "      <td>2000-01-05</td>\n",
       "      <td>PUBLIC UTILITIES</td>\n",
       "      <td>2000</td>\n",
       "      <td>1</td>\n",
       "      <td>5</td>\n",
       "    </tr>\n",
       "    <tr>\n",
       "      <th>1462444</th>\n",
       "      <td>T</td>\n",
       "      <td>44.562500</td>\n",
       "      <td>43.750000</td>\n",
       "      <td>17.993273</td>\n",
       "      <td>43.125000</td>\n",
       "      <td>45.000000</td>\n",
       "      <td>7153600</td>\n",
       "      <td>2000-01-06</td>\n",
       "      <td>PUBLIC UTILITIES</td>\n",
       "      <td>2000</td>\n",
       "      <td>1</td>\n",
       "      <td>6</td>\n",
       "    </tr>\n",
       "    <tr>\n",
       "      <th>1462445</th>\n",
       "      <td>T</td>\n",
       "      <td>44.562500</td>\n",
       "      <td>44.125000</td>\n",
       "      <td>18.147497</td>\n",
       "      <td>43.375000</td>\n",
       "      <td>44.750000</td>\n",
       "      <td>5885600</td>\n",
       "      <td>2000-01-07</td>\n",
       "      <td>PUBLIC UTILITIES</td>\n",
       "      <td>2000</td>\n",
       "      <td>1</td>\n",
       "      <td>7</td>\n",
       "    </tr>\n",
       "    <tr>\n",
       "      <th>...</th>\n",
       "      <td>...</td>\n",
       "      <td>...</td>\n",
       "      <td>...</td>\n",
       "      <td>...</td>\n",
       "      <td>...</td>\n",
       "      <td>...</td>\n",
       "      <td>...</td>\n",
       "      <td>...</td>\n",
       "      <td>...</td>\n",
       "      <td>...</td>\n",
       "      <td>...</td>\n",
       "      <td>...</td>\n",
       "    </tr>\n",
       "    <tr>\n",
       "      <th>1467128</th>\n",
       "      <td>T</td>\n",
       "      <td>33.139999</td>\n",
       "      <td>33.110001</td>\n",
       "      <td>33.110001</td>\n",
       "      <td>33.009998</td>\n",
       "      <td>33.250000</td>\n",
       "      <td>23493500</td>\n",
       "      <td>2018-08-20</td>\n",
       "      <td>PUBLIC UTILITIES</td>\n",
       "      <td>2018</td>\n",
       "      <td>8</td>\n",
       "      <td>20</td>\n",
       "    </tr>\n",
       "    <tr>\n",
       "      <th>1467129</th>\n",
       "      <td>T</td>\n",
       "      <td>33.330002</td>\n",
       "      <td>33.400002</td>\n",
       "      <td>33.400002</td>\n",
       "      <td>33.310001</td>\n",
       "      <td>33.580002</td>\n",
       "      <td>28419300</td>\n",
       "      <td>2018-08-21</td>\n",
       "      <td>PUBLIC UTILITIES</td>\n",
       "      <td>2018</td>\n",
       "      <td>8</td>\n",
       "      <td>21</td>\n",
       "    </tr>\n",
       "    <tr>\n",
       "      <th>1467130</th>\n",
       "      <td>T</td>\n",
       "      <td>33.200001</td>\n",
       "      <td>32.680000</td>\n",
       "      <td>32.680000</td>\n",
       "      <td>32.660000</td>\n",
       "      <td>33.200001</td>\n",
       "      <td>34156900</td>\n",
       "      <td>2018-08-22</td>\n",
       "      <td>PUBLIC UTILITIES</td>\n",
       "      <td>2018</td>\n",
       "      <td>8</td>\n",
       "      <td>22</td>\n",
       "    </tr>\n",
       "    <tr>\n",
       "      <th>1467131</th>\n",
       "      <td>T</td>\n",
       "      <td>32.689999</td>\n",
       "      <td>32.490002</td>\n",
       "      <td>32.490002</td>\n",
       "      <td>32.410000</td>\n",
       "      <td>32.790001</td>\n",
       "      <td>21453600</td>\n",
       "      <td>2018-08-23</td>\n",
       "      <td>PUBLIC UTILITIES</td>\n",
       "      <td>2018</td>\n",
       "      <td>8</td>\n",
       "      <td>23</td>\n",
       "    </tr>\n",
       "    <tr>\n",
       "      <th>1467132</th>\n",
       "      <td>T</td>\n",
       "      <td>32.459999</td>\n",
       "      <td>32.639999</td>\n",
       "      <td>32.639999</td>\n",
       "      <td>32.459999</td>\n",
       "      <td>32.740002</td>\n",
       "      <td>16225000</td>\n",
       "      <td>2018-08-24</td>\n",
       "      <td>PUBLIC UTILITIES</td>\n",
       "      <td>2018</td>\n",
       "      <td>8</td>\n",
       "      <td>24</td>\n",
       "    </tr>\n",
       "  </tbody>\n",
       "</table>\n",
       "<p>4692 rows × 12 columns</p>\n",
       "</div>"
      ],
      "text/plain": [
       "        ticker       open      close  adj_close        low       high  \\\n",
       "1462441      T  48.562500  47.000000  19.225044  46.625000  49.000000   \n",
       "1462442      T  47.062500  44.250000  18.100174  43.500000  47.750000   \n",
       "1462443      T  45.000000  44.937500  18.381397  44.437500  45.250000   \n",
       "1462444      T  44.562500  43.750000  17.993273  43.125000  45.000000   \n",
       "1462445      T  44.562500  44.125000  18.147497  43.375000  44.750000   \n",
       "...        ...        ...        ...        ...        ...        ...   \n",
       "1467128      T  33.139999  33.110001  33.110001  33.009998  33.250000   \n",
       "1467129      T  33.330002  33.400002  33.400002  33.310001  33.580002   \n",
       "1467130      T  33.200001  32.680000  32.680000  32.660000  33.200001   \n",
       "1467131      T  32.689999  32.490002  32.490002  32.410000  32.790001   \n",
       "1467132      T  32.459999  32.639999  32.639999  32.459999  32.740002   \n",
       "\n",
       "           volume        date            sector  year  month  day  \n",
       "1462441   5791900  2000-01-03  PUBLIC UTILITIES  2000      1    3  \n",
       "1462442   7173600  2000-01-04  PUBLIC UTILITIES  2000      1    4  \n",
       "1462443   9090000  2000-01-05  PUBLIC UTILITIES  2000      1    5  \n",
       "1462444   7153600  2000-01-06  PUBLIC UTILITIES  2000      1    6  \n",
       "1462445   5885600  2000-01-07  PUBLIC UTILITIES  2000      1    7  \n",
       "...           ...         ...               ...   ...    ...  ...  \n",
       "1467128  23493500  2018-08-20  PUBLIC UTILITIES  2018      8   20  \n",
       "1467129  28419300  2018-08-21  PUBLIC UTILITIES  2018      8   21  \n",
       "1467130  34156900  2018-08-22  PUBLIC UTILITIES  2018      8   22  \n",
       "1467131  21453600  2018-08-23  PUBLIC UTILITIES  2018      8   23  \n",
       "1467132  16225000  2018-08-24  PUBLIC UTILITIES  2018      8   24  \n",
       "\n",
       "[4692 rows x 12 columns]"
      ]
     },
     "execution_count": 4,
     "metadata": {},
     "output_type": "execute_result"
    }
   ],
   "source": [
    "df_small = df[df[\"ticker\"].isin([\"T\"])]\n",
    "df_small\n"
   ]
  },
  {
   "cell_type": "code",
   "execution_count": 5,
   "id": "a3f80b9f-752b-4951-9767-540685b2e61a",
   "metadata": {},
   "outputs": [],
   "source": [
    "# getting the list of all companies \n",
    "companies = df_small.ticker.unique()\n",
    "companies.sort()\n"
   ]
  },
  {
   "cell_type": "code",
   "execution_count": 26,
   "id": "f6b8ec34-4600-40ef-b3fc-98b0b98bc95a",
   "metadata": {},
   "outputs": [
    {
     "ename": "NameError",
     "evalue": "name 'x' is not defined",
     "output_type": "error",
     "traceback": [
      "\u001b[0;31m---------------------------------------------------------------------------\u001b[0m",
      "\u001b[0;31mNameError\u001b[0m                                 Traceback (most recent call last)",
      "\u001b[0;32m<ipython-input-26-d6d0b1c825d7>\u001b[0m in \u001b[0;36m<module>\u001b[0;34m\u001b[0m\n\u001b[0;32m----> 1\u001b[0;31m \u001b[0mtf\u001b[0m\u001b[0;34m.\u001b[0m\u001b[0mkeras\u001b[0m\u001b[0;34m.\u001b[0m\u001b[0mutils\u001b[0m\u001b[0;34m.\u001b[0m\u001b[0mnormalize\u001b[0m\u001b[0;34m(\u001b[0m\u001b[0mx\u001b[0m\u001b[0;34m)\u001b[0m\u001b[0;34m\u001b[0m\u001b[0;34m\u001b[0m\u001b[0m\n\u001b[0m",
      "\u001b[0;31mNameError\u001b[0m: name 'x' is not defined"
     ]
    }
   ],
   "source": [
    "tf.keras.utils.normalize()\n"
   ]
  },
  {
   "cell_type": "code",
   "execution_count": 8,
   "id": "ad52d34b-c489-48c8-a71e-a216d29b3903",
   "metadata": {},
   "outputs": [
    {
     "data": {
      "text/plain": [
       "929"
      ]
     },
     "execution_count": 8,
     "metadata": {},
     "output_type": "execute_result"
    }
   ],
   "source": [
    "len(X_train)\n"
   ]
  },
  {
   "cell_type": "code",
   "execution_count": 11,
   "id": "9bb36758-7d5e-4c49-8b50-6b5c64575a81",
   "metadata": {},
   "outputs": [
    {
     "data": {
      "text/plain": [
       "(929, 3763, 1)"
      ]
     },
     "execution_count": 11,
     "metadata": {},
     "output_type": "execute_result"
    }
   ],
   "source": [
    "X_train = np.reshape(X_train, (X_train.shape[0], X_train.shape[1], 1))\n",
    "X_train.shape\n"
   ]
  },
  {
   "cell_type": "code",
   "execution_count": null,
   "id": "e029962e-0e90-4202-a9dd-b187a4e70519",
   "metadata": {},
   "outputs": [],
   "source": [
    "from tensorflow.keras.models import Sequential\n",
    "from tensorflow.keras.layers import LSTM, Dense, Dropout\n",
    "\n",
    "model = Sequential()\n",
    "\n",
    "model.add(LSTM(units = 92, return_sequences = True, input_shape = (x_train.shape[1], 1)))\n",
    "model.add(Dropout(0.2))\n",
    "\n",
    "# model.add(LSTM(units = 92, return_sequences = True))\n",
    "# model.add(Dropout(0.2))\n",
    "\n",
    "# model.add(LSTM(units = 92, return_sequences = True))\n",
    "# model.add(Dropout(0.2))\n",
    "\n",
    "model.add(LSTM(units = 92, return_sequences = False))\n",
    "model.add(Dropout(0.2))\n",
    "\n",
    "model.add(Dense(units = 1))\n",
    "model.compile(optimizer = 'adam', loss = 'mean_squared_error')\n"
   ]
  },
  {
   "cell_type": "code",
   "execution_count": null,
   "id": "0b6ca195-9e43-4e38-96e0-ad18907f04de",
   "metadata": {},
   "outputs": [],
   "source": []
  },
  {
   "cell_type": "code",
   "execution_count": 27,
   "id": "e03de275-7ffa-409d-ad20-eb41c8e67757",
   "metadata": {},
   "outputs": [],
   "source": [
    "df_small.to_csv(\"df_small.csv\")\n"
   ]
  },
  {
   "cell_type": "code",
   "execution_count": null,
   "id": "6f302d0c-eb37-4a2d-bbda-f94c7cd90700",
   "metadata": {},
   "outputs": [],
   "source": []
  },
  {
   "cell_type": "code",
   "execution_count": null,
   "id": "8628e473-3843-41a2-936b-3bd50214b81f",
   "metadata": {},
   "outputs": [],
   "source": []
  },
  {
   "cell_type": "code",
   "execution_count": null,
   "id": "0e4a9a2e-f7de-4615-a4ca-56c4d61aa6af",
   "metadata": {},
   "outputs": [],
   "source": []
  },
  {
   "cell_type": "code",
   "execution_count": null,
   "id": "6a3c2ac5-8e10-4d41-949a-b0b4e4c48c82",
   "metadata": {},
   "outputs": [],
   "source": []
  }
 ],
 "metadata": {
  "kernelspec": {
   "display_name": "Python 3",
   "language": "python",
   "name": "python3"
  },
  "language_info": {
   "codemirror_mode": {
    "name": "ipython",
    "version": 3
   },
   "file_extension": ".py",
   "mimetype": "text/x-python",
   "name": "python",
   "nbconvert_exporter": "python",
   "pygments_lexer": "ipython3",
   "version": "3.8.6"
  }
 },
 "nbformat": 4,
 "nbformat_minor": 5
}
