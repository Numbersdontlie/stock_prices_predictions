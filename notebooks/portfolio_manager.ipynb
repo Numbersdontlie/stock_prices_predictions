{
 "cells": [
  {
   "cell_type": "markdown",
   "id": "a3807224",
   "metadata": {},
   "source": [
    "# Import Libraries"
   ]
  },
  {
   "cell_type": "code",
   "execution_count": 1,
   "id": "af501f1f",
   "metadata": {},
   "outputs": [],
   "source": [
    "%load_ext autoreload\n",
    "%autoreload 2\n",
    "import os\n",
    "import pandas as pd\n",
    "import numpy as np\n",
    "from stock_prices_predictions.get_data import *\n",
    "from tensorflow.keras.models import Sequential\n",
    "from tensorflow.keras.layers import LSTM, Dropout, Dense\n",
    "from tensorflow.keras import layers\n",
    "from sklearn.preprocessing import RobustScaler\n",
    "import matplotlib.pyplot as plt\n",
    "import seaborn as sns\n",
    "from tensorflow.keras.callbacks import EarlyStopping\n",
    "from tensorflow.keras.losses import mean_absolute_percentage_error\n",
    "import joblib\n",
    "from tensorflow.keras.models import load_model"
   ]
  },
  {
   "cell_type": "code",
   "execution_count": 2,
   "id": "c4a7456a",
   "metadata": {},
   "outputs": [],
   "source": [
    "#list_of_10_stocks = ['T', 'INTC', 'ADBE', 'JPM', 'PG', 'NVDA', 'AAPL', 'AMZN', 'UNH', 'MA']\n",
    "list_of_10_stocks = ['T', 'INTC']"
   ]
  },
  {
   "cell_type": "markdown",
   "id": "2957fedd",
   "metadata": {},
   "source": [
    "# Loads model and transformer"
   ]
  },
  {
   "cell_type": "code",
   "execution_count": 3,
   "id": "a1cb5452",
   "metadata": {},
   "outputs": [],
   "source": [
    "T_scaler= joblib.load('T_scaler.joblib')\n",
    "INTC_scaler = joblib.load('INTC_scaler.joblib')\n",
    "#ADBE_scaler = joblib.load('ADBE_scaler.joblib')\n",
    "#JPM_scaler = joblib.load('JPM_scaler.joblib')\n",
    "#PG_scaler = joblib.load('PG_scaler.joblib')\n",
    "#NVDA_scaler = joblib.load('NVDA_scaler.joblib')\n",
    "#AAPL_scaler = joblib.load('AAPL_scaler.joblib')\n",
    "#AMZN_scaler = joblib.load('AMZN_scaler.joblib')\n",
    "#UNH_scaler = joblib.load('UNH_scaler.joblib')\n",
    "#MA_scaler = joblib.load('MA_scaler.joblib')\n",
    "\n",
    "T_model = load_model('T_model.h5')\n",
    "INTC_model = load_model('INTC_model.h5')\n",
    "#ADBE_model = load_model('ADBE_model.h5')\n",
    "#JPM_model = load_model('JPM_model.h5')\n",
    "#PG_model = load_model('PG_model.h5')\n",
    "#NVDA_model = load_model('NVDA_model.h5')\n",
    "#AAPL_model = load_model('AAPL_model.h5')\n",
    "#AMZN_model = load_model('AMZN_model.h5')\n",
    "#UNH_model = load_model('UNH_model.h5')\n",
    "#MA_model = load_model('MA_model.h5')"
   ]
  },
  {
   "cell_type": "markdown",
   "id": "428910a2",
   "metadata": {},
   "source": [
    "# Load dataframe"
   ]
  },
  {
   "cell_type": "code",
   "execution_count": 4,
   "id": "37870da6",
   "metadata": {},
   "outputs": [],
   "source": [
    "df = get_portfolio_data()"
   ]
  },
  {
   "cell_type": "code",
   "execution_count": 5,
   "id": "03d67ac8",
   "metadata": {},
   "outputs": [
    {
     "data": {
      "text/plain": [
       "ticker               object\n",
       "open                float64\n",
       "close               float64\n",
       "adj_close           float64\n",
       "low                 float64\n",
       "high                float64\n",
       "volume                int64\n",
       "date         datetime64[ns]\n",
       "sector               object\n",
       "year                  int64\n",
       "month                 int64\n",
       "day                   int64\n",
       "dtype: object"
      ]
     },
     "execution_count": 5,
     "metadata": {},
     "output_type": "execute_result"
    }
   ],
   "source": [
    "df.dtypes"
   ]
  },
  {
   "cell_type": "code",
   "execution_count": 6,
   "id": "9795ff90",
   "metadata": {},
   "outputs": [
    {
     "data": {
      "text/html": [
       "<div>\n",
       "<style scoped>\n",
       "    .dataframe tbody tr th:only-of-type {\n",
       "        vertical-align: middle;\n",
       "    }\n",
       "\n",
       "    .dataframe tbody tr th {\n",
       "        vertical-align: top;\n",
       "    }\n",
       "\n",
       "    .dataframe thead th {\n",
       "        text-align: right;\n",
       "    }\n",
       "</style>\n",
       "<table border=\"1\" class=\"dataframe\">\n",
       "  <thead>\n",
       "    <tr style=\"text-align: right;\">\n",
       "      <th></th>\n",
       "      <th>ticker</th>\n",
       "      <th>open</th>\n",
       "      <th>close</th>\n",
       "      <th>adj_close</th>\n",
       "      <th>low</th>\n",
       "      <th>high</th>\n",
       "      <th>volume</th>\n",
       "      <th>date</th>\n",
       "      <th>sector</th>\n",
       "      <th>year</th>\n",
       "      <th>month</th>\n",
       "      <th>day</th>\n",
       "    </tr>\n",
       "  </thead>\n",
       "  <tbody>\n",
       "    <tr>\n",
       "      <th>8588</th>\n",
       "      <td>AAPL</td>\n",
       "      <td>111.389999</td>\n",
       "      <td>109.330002</td>\n",
       "      <td>102.319397</td>\n",
       "      <td>107.349998</td>\n",
       "      <td>111.440002</td>\n",
       "      <td>53204600</td>\n",
       "      <td>2015-01-02</td>\n",
       "      <td>TECHNOLOGY</td>\n",
       "      <td>2015</td>\n",
       "      <td>1</td>\n",
       "      <td>2</td>\n",
       "    </tr>\n",
       "    <tr>\n",
       "      <th>8589</th>\n",
       "      <td>AAPL</td>\n",
       "      <td>108.290001</td>\n",
       "      <td>106.250000</td>\n",
       "      <td>99.436890</td>\n",
       "      <td>105.410004</td>\n",
       "      <td>108.650002</td>\n",
       "      <td>64285500</td>\n",
       "      <td>2015-01-05</td>\n",
       "      <td>TECHNOLOGY</td>\n",
       "      <td>2015</td>\n",
       "      <td>1</td>\n",
       "      <td>5</td>\n",
       "    </tr>\n",
       "    <tr>\n",
       "      <th>8590</th>\n",
       "      <td>AAPL</td>\n",
       "      <td>106.540001</td>\n",
       "      <td>106.260002</td>\n",
       "      <td>99.446251</td>\n",
       "      <td>104.629997</td>\n",
       "      <td>107.430000</td>\n",
       "      <td>65797100</td>\n",
       "      <td>2015-01-06</td>\n",
       "      <td>TECHNOLOGY</td>\n",
       "      <td>2015</td>\n",
       "      <td>1</td>\n",
       "      <td>6</td>\n",
       "    </tr>\n",
       "    <tr>\n",
       "      <th>8591</th>\n",
       "      <td>AAPL</td>\n",
       "      <td>107.199997</td>\n",
       "      <td>107.750000</td>\n",
       "      <td>100.840714</td>\n",
       "      <td>106.699997</td>\n",
       "      <td>108.199997</td>\n",
       "      <td>40105900</td>\n",
       "      <td>2015-01-07</td>\n",
       "      <td>TECHNOLOGY</td>\n",
       "      <td>2015</td>\n",
       "      <td>1</td>\n",
       "      <td>7</td>\n",
       "    </tr>\n",
       "    <tr>\n",
       "      <th>8592</th>\n",
       "      <td>AAPL</td>\n",
       "      <td>109.230003</td>\n",
       "      <td>111.889999</td>\n",
       "      <td>104.715256</td>\n",
       "      <td>108.699997</td>\n",
       "      <td>112.150002</td>\n",
       "      <td>59364500</td>\n",
       "      <td>2015-01-08</td>\n",
       "      <td>TECHNOLOGY</td>\n",
       "      <td>2015</td>\n",
       "      <td>1</td>\n",
       "      <td>8</td>\n",
       "    </tr>\n",
       "  </tbody>\n",
       "</table>\n",
       "</div>"
      ],
      "text/plain": [
       "     ticker        open       close   adj_close         low        high  \\\n",
       "8588   AAPL  111.389999  109.330002  102.319397  107.349998  111.440002   \n",
       "8589   AAPL  108.290001  106.250000   99.436890  105.410004  108.650002   \n",
       "8590   AAPL  106.540001  106.260002   99.446251  104.629997  107.430000   \n",
       "8591   AAPL  107.199997  107.750000  100.840714  106.699997  108.199997   \n",
       "8592   AAPL  109.230003  111.889999  104.715256  108.699997  112.150002   \n",
       "\n",
       "        volume       date      sector  year  month  day  \n",
       "8588  53204600 2015-01-02  TECHNOLOGY  2015      1    2  \n",
       "8589  64285500 2015-01-05  TECHNOLOGY  2015      1    5  \n",
       "8590  65797100 2015-01-06  TECHNOLOGY  2015      1    6  \n",
       "8591  40105900 2015-01-07  TECHNOLOGY  2015      1    7  \n",
       "8592  59364500 2015-01-08  TECHNOLOGY  2015      1    8  "
      ]
     },
     "execution_count": 6,
     "metadata": {},
     "output_type": "execute_result"
    }
   ],
   "source": [
    "df.head(5)"
   ]
  },
  {
   "cell_type": "markdown",
   "id": "a9625cdd",
   "metadata": {},
   "source": [
    "# Create classes"
   ]
  },
  {
   "cell_type": "code",
   "execution_count": 7,
   "id": "1428bbf0",
   "metadata": {},
   "outputs": [],
   "source": [
    "class Stock:\n",
    "    def __init__(self, name, initial_price, dolars):\n",
    "        self.name = name\n",
    "        self.initial_price = initial_price\n",
    "        self.current_price = initial_price\n",
    "        self.amount_owned = dolars\n",
    "        self.prediction = 0.0\n",
    "        self.prediction_higher = True\n",
    "        self.prices = 0.0\n",
    "    \n",
    "    def myfunc(self):\n",
    "        print(\"Hello my name is \" + self.name)\n",
    "    \n",
    "    def show_price(self):\n",
    "        print(\"my initial price is \" + str(self.initial_price))\n",
    "    \n",
    "    def prediction(self,number):\n",
    "        self.prediction = number\n",
    "    \n",
    "    def prices(self,number):\n",
    "        self.prices = number\n",
    "         "
   ]
  },
  {
   "cell_type": "markdown",
   "id": "a2c78f95",
   "metadata": {},
   "source": [
    "# User input"
   ]
  },
  {
   "cell_type": "code",
   "execution_count": 8,
   "id": "f960ec71",
   "metadata": {},
   "outputs": [],
   "source": [
    "initial_date = '2015-04-15'\n",
    "final_date = '2015-04-20'\n",
    "initial_amount = 10000\n",
    "ticker = \"T\""
   ]
  },
  {
   "cell_type": "markdown",
   "id": "09a05f11",
   "metadata": {},
   "source": [
    "# Instatiate classes"
   ]
  },
  {
   "cell_type": "code",
   "execution_count": 9,
   "id": "357e1615",
   "metadata": {},
   "outputs": [],
   "source": [
    "list_stocks = {}\n",
    "for i in list_of_10_stocks:\n",
    "    qty = len(list_of_10_stocks)\n",
    "    price = df[(df[\"date\"]==initial_date) & (df[\"ticker\"]==i)]\n",
    "    list_stocks[i] = Stock(i, price['adj_close'], initial_amount/qty)"
   ]
  },
  {
   "cell_type": "code",
   "execution_count": 10,
   "id": "0417d74e",
   "metadata": {},
   "outputs": [
    {
     "data": {
      "text/plain": [
       "{'T': <__main__.Stock at 0x7f24206f9220>,\n",
       " 'INTC': <__main__.Stock at 0x7f24206f9370>}"
      ]
     },
     "execution_count": 10,
     "metadata": {},
     "output_type": "execute_result"
    }
   ],
   "source": [
    "list_stocks"
   ]
  },
  {
   "cell_type": "code",
   "execution_count": 11,
   "id": "f7440d72",
   "metadata": {},
   "outputs": [
    {
     "data": {
      "text/plain": [
       "5000.0"
      ]
     },
     "execution_count": 11,
     "metadata": {},
     "output_type": "execute_result"
    }
   ],
   "source": [
    "list_stocks['T'].amount_owned"
   ]
  },
  {
   "cell_type": "markdown",
   "id": "d4f9c615",
   "metadata": {},
   "source": [
    "# Create predictions"
   ]
  },
  {
   "cell_type": "code",
   "execution_count": 12,
   "id": "123de7fa",
   "metadata": {},
   "outputs": [],
   "source": [
    "df_T2 = df[df['ticker']== 'T']\n",
    "df_T2.reset_index(inplace=True)\n",
    "ind = df_T2.index[df_T2['date'] == initial_date].tolist()\n",
    "ind2 = df_T2.index[df_T2['date'] == final_date].tolist()\n",
    "df_T2 = df_T2[ind[0]-18:ind2[0]+1]\n",
    "df_T2 = df_T2.adj_close"
   ]
  },
  {
   "cell_type": "code",
   "execution_count": 13,
   "id": "96c83675",
   "metadata": {},
   "outputs": [],
   "source": [
    "df_T2 = pd.DataFrame(df_T2)\n",
    "X_test_T = T_scaler.transform(df_T2)\n",
    "X_test_T2 = create_sequences_scaled(pd.DataFrame(X_test_T))\n",
    "prediction = T_model.predict(X_test_T2)\n",
    "\n",
    "prediction_back = T_scaler.inverse_transform(prediction.reshape(-1, 1))"
   ]
  },
  {
   "cell_type": "code",
   "execution_count": 14,
   "id": "8b944440",
   "metadata": {},
   "outputs": [],
   "source": [
    "list_stocks['T'].prediction = prediction_back"
   ]
  },
  {
   "cell_type": "code",
   "execution_count": 15,
   "id": "3f1245b6",
   "metadata": {},
   "outputs": [],
   "source": [
    "df_T2 = df[df['ticker']== 'T']\n",
    "df_T2.reset_index(inplace=True)\n",
    "ind = df_T2.index[df_T2['date'] == initial_date].tolist()\n",
    "ind2 = df_T2.index[df_T2['date'] == final_date].tolist()\n",
    "df_T2 = df_T2[ind[0]:ind2[0]+1]\n",
    "list_stocks['T'].prices = df_T2"
   ]
  },
  {
   "cell_type": "code",
   "execution_count": 16,
   "id": "5f305d7a",
   "metadata": {},
   "outputs": [],
   "source": [
    "df_T2 = df[df['ticker']== 'INTC']\n",
    "df_T2.reset_index(inplace=True)\n",
    "ind = df_T2.index[df_T2['date'] == initial_date].tolist()\n",
    "ind2 = df_T2.index[df_T2['date'] == final_date].tolist()\n",
    "df_T2 = df_T2[ind[0]-18:ind2[0]+1]\n",
    "df_T2 = df_T2.adj_close\n",
    "df_T2 = pd.DataFrame(df_T2)\n",
    "X_test_T = INTC_scaler.transform(df_T2)\n",
    "X_test_T2 = create_sequences_scaled(pd.DataFrame(X_test_T))\n",
    "prediction = INTC_model.predict(X_test_T2)\n",
    "prediction_back_INTC = INTC_scaler.inverse_transform(prediction.reshape(-1, 1))"
   ]
  },
  {
   "cell_type": "code",
   "execution_count": 17,
   "id": "ae8bfa45",
   "metadata": {},
   "outputs": [],
   "source": [
    "list_stocks['INTC'].prediction = prediction_back_INTC"
   ]
  },
  {
   "cell_type": "code",
   "execution_count": 18,
   "id": "aa68d429",
   "metadata": {},
   "outputs": [],
   "source": [
    "df_T2 = df[df['ticker']== 'INTC']\n",
    "df_T2.reset_index(inplace=True)\n",
    "ind = df_T2.index[df_T2['date'] == initial_date].tolist()\n",
    "ind2 = df_T2.index[df_T2['date'] == final_date].tolist()\n",
    "df_T2 = df_T2[ind[0]:ind2[0]+1]"
   ]
  },
  {
   "cell_type": "code",
   "execution_count": 19,
   "id": "0d27aecb",
   "metadata": {},
   "outputs": [],
   "source": [
    "list_stocks['INTC'].prices = df_T2"
   ]
  },
  {
   "cell_type": "markdown",
   "id": "596f857d",
   "metadata": {},
   "source": [
    "# Loop through days using models"
   ]
  },
  {
   "cell_type": "code",
   "execution_count": 31,
   "id": "f98264b5",
   "metadata": {},
   "outputs": [
    {
     "name": "stdout",
     "output_type": "stream",
     "text": [
      "[27.351194]\n"
     ]
    },
    {
     "ename": "AttributeError",
     "evalue": "'Stock' object has no attribute 'price'",
     "output_type": "error",
     "traceback": [
      "\u001b[0;31m---------------------------------------------------------------------------\u001b[0m",
      "\u001b[0;31mAttributeError\u001b[0m                            Traceback (most recent call last)",
      "\u001b[0;32m<ipython-input-31-9e82237ff3e5>\u001b[0m in \u001b[0;36m<module>\u001b[0;34m\u001b[0m\n\u001b[1;32m      7\u001b[0m \u001b[0;32mfor\u001b[0m \u001b[0mi\u001b[0m \u001b[0;32min\u001b[0m \u001b[0mrange\u001b[0m\u001b[0;34m(\u001b[0m\u001b[0mlen\u001b[0m\u001b[0;34m(\u001b[0m\u001b[0mdf_\u001b[0m\u001b[0;34m)\u001b[0m\u001b[0;34m-\u001b[0m\u001b[0;36m1\u001b[0m\u001b[0;34m)\u001b[0m\u001b[0;34m:\u001b[0m\u001b[0;34m\u001b[0m\u001b[0;34m\u001b[0m\u001b[0m\n\u001b[1;32m      8\u001b[0m     \u001b[0mprint\u001b[0m\u001b[0;34m(\u001b[0m\u001b[0mlist_stocks\u001b[0m\u001b[0;34m[\u001b[0m\u001b[0;34m'T'\u001b[0m\u001b[0;34m]\u001b[0m\u001b[0;34m.\u001b[0m\u001b[0mprediction\u001b[0m\u001b[0;34m[\u001b[0m\u001b[0mi\u001b[0m\u001b[0;34m]\u001b[0m\u001b[0;34m)\u001b[0m\u001b[0;34m\u001b[0m\u001b[0;34m\u001b[0m\u001b[0m\n\u001b[0;32m----> 9\u001b[0;31m     \u001b[0mprint\u001b[0m\u001b[0;34m(\u001b[0m\u001b[0mlist_stocks\u001b[0m\u001b[0;34m[\u001b[0m\u001b[0;34m'T'\u001b[0m\u001b[0;34m]\u001b[0m\u001b[0;34m.\u001b[0m\u001b[0mprice\u001b[0m\u001b[0;34m[\u001b[0m\u001b[0mi\u001b[0m\u001b[0;34m]\u001b[0m\u001b[0;34m)\u001b[0m\u001b[0;34m\u001b[0m\u001b[0;34m\u001b[0m\u001b[0m\n\u001b[0m",
      "\u001b[0;31mAttributeError\u001b[0m: 'Stock' object has no attribute 'price'"
     ]
    }
   ],
   "source": [
    "df_ = df[df['ticker']== 'T']\n",
    "df_.reset_index(inplace=True)\n",
    "ind = df_.index[df_['date'] == initial_date].tolist()\n",
    "ind2 = df_.index[df_['date'] == final_date].tolist()\n",
    "df_ = df_[ind[0]:ind2[0]+1]\n",
    "\n",
    "for i in range(len(df_)-1):\n",
    "    print(list_stocks['T'].prediction[i])\n",
    "    print(list_stocks['T'].price[i])"
   ]
  },
  {
   "cell_type": "code",
   "execution_count": 29,
   "id": "1c5631d8",
   "metadata": {},
   "outputs": [
    {
     "data": {
      "text/plain": [
       "array([[27.351194],\n",
       "       [27.336378],\n",
       "       [27.266119]], dtype=float32)"
      ]
     },
     "execution_count": 29,
     "metadata": {},
     "output_type": "execute_result"
    }
   ],
   "source": [
    "list_stocks['T'].prediction"
   ]
  },
  {
   "cell_type": "code",
   "execution_count": 32,
   "id": "9875d02a",
   "metadata": {},
   "outputs": [
    {
     "ename": "AttributeError",
     "evalue": "'Stock' object has no attribute 'price'",
     "output_type": "error",
     "traceback": [
      "\u001b[0;31m---------------------------------------------------------------------------\u001b[0m",
      "\u001b[0;31mAttributeError\u001b[0m                            Traceback (most recent call last)",
      "\u001b[0;32m<ipython-input-32-3e6eafae4122>\u001b[0m in \u001b[0;36m<module>\u001b[0;34m\u001b[0m\n\u001b[0;32m----> 1\u001b[0;31m \u001b[0mlist_stocks\u001b[0m\u001b[0;34m[\u001b[0m\u001b[0;34m'T'\u001b[0m\u001b[0;34m]\u001b[0m\u001b[0;34m.\u001b[0m\u001b[0mprice\u001b[0m\u001b[0;34m\u001b[0m\u001b[0;34m\u001b[0m\u001b[0m\n\u001b[0m",
      "\u001b[0;31mAttributeError\u001b[0m: 'Stock' object has no attribute 'price'"
     ]
    }
   ],
   "source": [
    "list_stocks['T'].price"
   ]
  },
  {
   "cell_type": "code",
   "execution_count": null,
   "id": "c2a2760c",
   "metadata": {},
   "outputs": [],
   "source": []
  }
 ],
 "metadata": {
  "kernelspec": {
   "display_name": "Python 3",
   "language": "python",
   "name": "python3"
  },
  "language_info": {
   "codemirror_mode": {
    "name": "ipython",
    "version": 3
   },
   "file_extension": ".py",
   "mimetype": "text/x-python",
   "name": "python",
   "nbconvert_exporter": "python",
   "pygments_lexer": "ipython3",
   "version": "3.8.6"
  },
  "toc": {
   "base_numbering": 1,
   "nav_menu": {},
   "number_sections": true,
   "sideBar": true,
   "skip_h1_title": false,
   "title_cell": "Table of Contents",
   "title_sidebar": "Contents",
   "toc_cell": false,
   "toc_position": {},
   "toc_section_display": true,
   "toc_window_display": true
  }
 },
 "nbformat": 4,
 "nbformat_minor": 5
}
