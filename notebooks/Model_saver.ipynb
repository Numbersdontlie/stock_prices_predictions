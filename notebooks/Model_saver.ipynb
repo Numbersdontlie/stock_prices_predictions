{
 "cells": [
  {
   "cell_type": "markdown",
   "id": "7cce8d0a",
   "metadata": {},
   "source": [
    "# Import libraries"
   ]
  },
  {
   "cell_type": "code",
   "execution_count": 1,
   "id": "325950c4",
   "metadata": {},
   "outputs": [],
   "source": [
    "%load_ext autoreload\n",
    "%autoreload 2\n",
    "import os\n",
    "import pandas as pd\n",
    "import numpy as np\n",
    "from stock_prices_predictions.get_data import *\n",
    "from tensorflow.keras.models import Sequential\n",
    "from tensorflow.keras.layers import LSTM, Dropout, Dense\n",
    "from tensorflow.keras import layers\n",
    "from sklearn.preprocessing import RobustScaler\n",
    "import matplotlib.pyplot as plt\n",
    "import seaborn as sns\n",
    "from tensorflow.keras.callbacks import EarlyStopping\n",
    "from tensorflow.keras.losses import mean_absolute_percentage_error\n",
    "from tensorflow.keras.models import load_model\n",
    "from joblib import dump"
   ]
  },
  {
   "cell_type": "markdown",
   "id": "538d1188",
   "metadata": {},
   "source": [
    "# Looper"
   ]
  },
  {
   "cell_type": "code",
   "execution_count": 2,
   "id": "61095f88",
   "metadata": {},
   "outputs": [],
   "source": [
    "list_of_10_stocks = ['T', 'INTC', 'ADBE', 'JPM', 'PG', 'NVDA', 'AAPL', 'AMZN', 'UNH', 'MA']\n",
    "#list_of_10_stocks = ['T']"
   ]
  },
  {
   "cell_type": "code",
   "execution_count": 3,
   "id": "d8c370c3",
   "metadata": {},
   "outputs": [],
   "source": [
    "for company in list_of_10_stocks:\n",
    "    company = company\n",
    "    days_ahead = 1\n",
    "    \n",
    "    #fetch data\n",
    "    X_train, X_test = get_lstm_data(company)\n",
    "    scaler = RobustScaler()\n",
    "    scaler.fit(X_train)\n",
    "    X_train_sc = scaler.transform(X_train)\n",
    "    scaler_ = scaler\n",
    "    #scale data\n",
    "    X_test_sc = scaler.transform(X_test)\n",
    "    X_train, y_train, y_train_simple = create_sequences_scaled_plus(pd.DataFrame(X_train_sc),pd.DataFrame(X_train), days_ahead)\n",
    "    X_test, y_test, y_test_simple = create_sequences_scaled_plus(pd.DataFrame(X_test_sc), pd.DataFrame(X_test), days_ahead)\n",
    "    \n",
    "    #create model\n",
    "    model = Sequential()\n",
    "    model.add(LSTM(units=18, activation='tanh', input_shape= (19, 1)))\n",
    "    #model.add(Dense(units=36, activation=\"tanh\"))\n",
    "    #model.add(Dense(units=10, activation=\"tanh\"))\n",
    "    model.add(Dense(units=1, activation=\"linear\"))\n",
    "    \n",
    "    #fit model\n",
    "    es = EarlyStopping(patience=20, restore_best_weights=True)\n",
    "    model.compile(optimizer=\"nadam\", loss=\"mse\", metrics=[\"mae\", \"mape\"])\n",
    "    model.fit(X_train, y_train, epochs=200, batch_size=16, workers=-1, validation_split=0.2, callbacks=[es], verbose=0)\n",
    "\n",
    "    # Export pipeline as pickle file  \n",
    "    model.save(f'{company}_model.h5')\n",
    "    dump(scaler, f'{company}_scaler.joblib')"
   ]
  },
  {
   "cell_type": "code",
   "execution_count": null,
   "id": "6a1ecfb7",
   "metadata": {},
   "outputs": [],
   "source": []
  }
 ],
 "metadata": {
  "kernelspec": {
   "display_name": "Python 3",
   "language": "python",
   "name": "python3"
  },
  "language_info": {
   "codemirror_mode": {
    "name": "ipython",
    "version": 3
   },
   "file_extension": ".py",
   "mimetype": "text/x-python",
   "name": "python",
   "nbconvert_exporter": "python",
   "pygments_lexer": "ipython3",
   "version": "3.8.6"
  },
  "toc": {
   "base_numbering": 1,
   "nav_menu": {},
   "number_sections": true,
   "sideBar": true,
   "skip_h1_title": false,
   "title_cell": "Table of Contents",
   "title_sidebar": "Contents",
   "toc_cell": false,
   "toc_position": {},
   "toc_section_display": true,
   "toc_window_display": false
  }
 },
 "nbformat": 4,
 "nbformat_minor": 5
}
