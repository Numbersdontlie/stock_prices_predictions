{
 "cells": [
  {
   "cell_type": "markdown",
   "id": "1f900ad4",
   "metadata": {},
   "source": [
    "# Import Libraries"
   ]
  },
  {
   "cell_type": "code",
   "execution_count": 1,
   "id": "9c828a39",
   "metadata": {},
   "outputs": [],
   "source": [
    "%load_ext autoreload\n",
    "%autoreload 2\n",
    "import os\n",
    "import pandas as pd\n",
    "import numpy as np\n",
    "from stock_prices_predictions.get_data import *\n",
    "from tensorflow.keras.models import Sequential\n",
    "from tensorflow.keras.layers import LSTM, Dropout, Dense\n",
    "from tensorflow.keras import layers\n",
    "from sklearn.preprocessing import RobustScaler\n",
    "import matplotlib.pyplot as plt\n",
    "import seaborn as sns\n",
    "from tensorflow.keras.callbacks import EarlyStopping\n",
    "from tensorflow.keras.losses import mean_absolute_percentage_error"
   ]
  },
  {
   "cell_type": "markdown",
   "id": "eb2a0b15",
   "metadata": {},
   "source": [
    "# Fetch data"
   ]
  },
  {
   "cell_type": "markdown",
   "id": "78b41ece",
   "metadata": {},
   "source": [
    "define company:"
   ]
  },
  {
   "cell_type": "code",
   "execution_count": 2,
   "id": "d8967dd4",
   "metadata": {},
   "outputs": [],
   "source": [
    "company = \"T\"\n",
    "days_ahead = 1"
   ]
  },
  {
   "cell_type": "code",
   "execution_count": 3,
   "id": "ff25ae50",
   "metadata": {},
   "outputs": [],
   "source": [
    "X_train, X_test = get_lstm_data(company)"
   ]
  },
  {
   "cell_type": "code",
   "execution_count": 4,
   "id": "bafa7534",
   "metadata": {},
   "outputs": [
    {
     "data": {
      "text/plain": [
       "(3773, 1)"
      ]
     },
     "execution_count": 4,
     "metadata": {},
     "output_type": "execute_result"
    }
   ],
   "source": [
    "X_train.shape"
   ]
  },
  {
   "cell_type": "code",
   "execution_count": 5,
   "id": "b218cb76",
   "metadata": {
    "scrolled": true
   },
   "outputs": [
    {
     "data": {
      "text/plain": [
       "(919, 1)"
      ]
     },
     "execution_count": 5,
     "metadata": {},
     "output_type": "execute_result"
    }
   ],
   "source": [
    "X_test.shape"
   ]
  },
  {
   "cell_type": "markdown",
   "id": "0d8bfa02",
   "metadata": {},
   "source": [
    "# Scale data"
   ]
  },
  {
   "cell_type": "code",
   "execution_count": 6,
   "id": "f024f32f",
   "metadata": {},
   "outputs": [],
   "source": [
    "#try differente scalers\n",
    "scaler = RobustScaler()\n",
    "scaler.fit(X_train)\n",
    "X_train_sc = scaler.transform(X_train)\n",
    "\n",
    "X_test_sc = scaler.transform(X_test)"
   ]
  },
  {
   "cell_type": "code",
   "execution_count": 7,
   "id": "2edc95d0",
   "metadata": {},
   "outputs": [
    {
     "data": {
      "text/plain": [
       "(3773, 1)"
      ]
     },
     "execution_count": 7,
     "metadata": {},
     "output_type": "execute_result"
    }
   ],
   "source": [
    "X_train_sc.shape"
   ]
  },
  {
   "cell_type": "code",
   "execution_count": 8,
   "id": "78f21ae0",
   "metadata": {},
   "outputs": [
    {
     "data": {
      "text/plain": [
       "(919, 1)"
      ]
     },
     "execution_count": 8,
     "metadata": {},
     "output_type": "execute_result"
    }
   ],
   "source": [
    "X_test_sc.shape"
   ]
  },
  {
   "cell_type": "markdown",
   "id": "2820d651",
   "metadata": {},
   "source": [
    "# Create Sequences"
   ]
  },
  {
   "cell_type": "code",
   "execution_count": 9,
   "id": "64c734e9",
   "metadata": {},
   "outputs": [],
   "source": [
    "#X_train, y_train = create_sequences(pd.DataFrame(X_train_sc),pd.DataFrame(X_train), days_ahead)\n",
    "#X_test, y_test = create_sequences(pd.DataFrame(X_test_sc),pd.DataFrame(X_test), days_ahead)"
   ]
  },
  {
   "cell_type": "code",
   "execution_count": 10,
   "id": "9bc0d5ca",
   "metadata": {},
   "outputs": [],
   "source": [
    "#X_train, y_train = create_sequences_scaled(pd.DataFrame(X_train_sc), days_ahead)\n",
    "#X_test, y_test = create_sequences_scaled(pd.DataFrame(X_test_sc), days_ahead)"
   ]
  },
  {
   "cell_type": "code",
   "execution_count": 11,
   "id": "e75a4813",
   "metadata": {},
   "outputs": [],
   "source": [
    "X_train, y_train, y_train_simple = create_sequences_scaled_plus(pd.DataFrame(X_train_sc),pd.DataFrame(X_train), days_ahead)\n",
    "X_test, y_test, y_test_simple = create_sequences_scaled_plus(pd.DataFrame(X_test_sc), pd.DataFrame(X_test), days_ahead)"
   ]
  },
  {
   "cell_type": "code",
   "execution_count": 12,
   "id": "da79583e",
   "metadata": {},
   "outputs": [
    {
     "data": {
      "text/plain": [
       "(919, 19, 1)"
      ]
     },
     "execution_count": 12,
     "metadata": {},
     "output_type": "execute_result"
    }
   ],
   "source": [
    "X_train.shape"
   ]
  },
  {
   "cell_type": "code",
   "execution_count": 13,
   "id": "358c432f",
   "metadata": {
    "scrolled": true
   },
   "outputs": [
    {
     "data": {
      "text/plain": [
       "(205, 19, 1)"
      ]
     },
     "execution_count": 13,
     "metadata": {},
     "output_type": "execute_result"
    }
   ],
   "source": [
    "X_test.shape"
   ]
  },
  {
   "cell_type": "code",
   "execution_count": 14,
   "id": "ecf8fd84",
   "metadata": {},
   "outputs": [
    {
     "data": {
      "text/plain": [
       "(919,)"
      ]
     },
     "execution_count": 14,
     "metadata": {},
     "output_type": "execute_result"
    }
   ],
   "source": [
    "y_train.shape"
   ]
  },
  {
   "cell_type": "code",
   "execution_count": 15,
   "id": "ad547b81",
   "metadata": {},
   "outputs": [
    {
     "data": {
      "text/plain": [
       "(205,)"
      ]
     },
     "execution_count": 15,
     "metadata": {},
     "output_type": "execute_result"
    }
   ],
   "source": [
    "y_test.shape"
   ]
  },
  {
   "cell_type": "code",
   "execution_count": 16,
   "id": "b5c89314",
   "metadata": {
    "scrolled": true
   },
   "outputs": [
    {
     "data": {
      "text/plain": [
       "array([27.45345116, 28.66120338, 29.02769089, 28.91108131, 28.19476128,\n",
       "       28.78614044, 28.31970024, 27.17025375, 27.40347862, 27.71998596,\n",
       "       27.27853203, 27.59505463, 27.62003708, 27.78901291, 27.59469223,\n",
       "       28.80290985, 29.08172798, 28.19457436, 28.64237785, 29.03948402,\n",
       "       29.29294968, 29.02258492, 29.20845795, 29.47039032, 29.40279388,\n",
       "       30.34063911, 30.2223568 , 30.08716583, 29.66584969, 30.10249329,\n",
       "       29.34051132, 29.39188194, 29.67440987, 29.2891407 , 28.94667816,\n",
       "       29.4175663 , 27.22580147, 28.42442513, 27.87648201, 28.01346779,\n",
       "       28.06483841, 27.56826591, 27.45696449, 28.62133789, 28.77911949,\n",
       "       29.08307076, 29.17858887, 28.83991051, 29.18727684, 28.79649162,\n",
       "       28.38834   , 29.12648582, 28.99622154, 29.32622528, 29.76042938,\n",
       "       28.80516815, 29.55200768, 30.20331383, 30.16857529, 29.99428558,\n",
       "       29.85338593, 30.39057159, 30.82208061, 31.75555038, 32.16944122,\n",
       "       32.08138275, 32.26631165, 32.35437775, 32.53931427, 33.40232468,\n",
       "       33.73696518, 34.1420517 , 34.01877213, 34.74088287, 34.66163635,\n",
       "       34.32469559, 34.25337219, 34.52083969, 33.95916367, 34.85963058,\n",
       "       34.76155853, 35.2608223 , 34.28012085, 34.32469559, 34.90420532,\n",
       "       35.07359695, 35.95623779, 36.09888458, 36.82104111, 37.46295547,\n",
       "       38.64871597, 38.32416534, 38.66674042, 38.33317947, 38.54954529,\n",
       "       38.91016388, 38.70280838, 39.01834488, 37.32346344, 36.84565353,\n",
       "       36.86367416, 37.17020416, 36.70140839, 36.24162292, 37.06201935,\n",
       "       36.82761765, 35.9711647 , 35.59703827, 35.78866577, 35.2685318 ,\n",
       "       33.24275589, 33.36138916, 33.58951569, 33.31575394, 34.13702011,\n",
       "       35.34153748, 35.25027847, 35.9072876 , 37.52243805, 38.02430725,\n",
       "       38.98245239, 38.92770004, 38.91856766, 37.48773956, 37.66313553,\n",
       "       38.18008041, 38.60471725, 38.07853317, 38.13392258, 37.95853424,\n",
       "       38.39239502, 38.57701874, 38.73394775, 39.09395981, 39.17704391,\n",
       "       38.44778824, 38.36470413, 38.37392807, 37.91687012, 37.62727737,\n",
       "       37.70201874, 37.77674103, 36.38487625, 36.02989578, 35.95516968,\n",
       "       35.45072556, 35.63755798, 35.99253464, 36.17935944, 36.49696732,\n",
       "       36.39421082, 35.59084702, 35.44138718, 35.6095314 , 34.63483429,\n",
       "       34.43611145, 34.54967117, 37.29395676, 36.21517181, 36.30033493,\n",
       "       36.43281937, 35.36349106, 35.65684891, 35.64738464, 34.60644913,\n",
       "       34.31308746, 35.41080475, 36.51799011, 36.94382477, 37.3791275 ,\n",
       "       36.89033127, 34.65774536, 34.05409241, 32.2718544 , 32.14728928,\n",
       "       31.68735504, 32.74136734, 33.06715012, 33.35460663, 34.85897064,\n",
       "       34.60025787, 36.50705338, 36.852005  , 37.31193161, 37.25444794,\n",
       "       36.54538345, 35.41776276, 36.06825638, 35.94203949, 36.34980774,\n",
       "       35.56339645, 35.0002861 , 35.92262268, 35.40805817, 35.24300385,\n",
       "       35.79640579, 36.27214432, 35.92262268, 34.34008408, 34.52455521,\n",
       "       34.8352356 , 35.26211166, 35.0947113 , 34.13955307, 32.59357452])"
      ]
     },
     "execution_count": 16,
     "metadata": {},
     "output_type": "execute_result"
    }
   ],
   "source": [
    "y_test_simple"
   ]
  },
  {
   "cell_type": "code",
   "execution_count": 17,
   "id": "761d2e36",
   "metadata": {
    "scrolled": true
   },
   "outputs": [
    {
     "data": {
      "text/plain": [
       "205"
      ]
     },
     "execution_count": 17,
     "metadata": {},
     "output_type": "execute_result"
    }
   ],
   "source": [
    "len(y_test_simple)"
   ]
  },
  {
   "cell_type": "code",
   "execution_count": 18,
   "id": "cfcc51be",
   "metadata": {
    "scrolled": true
   },
   "outputs": [
    {
     "data": {
      "text/plain": [
       "array([[[ 0.18429837],\n",
       "        [ 0.04557935],\n",
       "        [ 0.08025981],\n",
       "        ...,\n",
       "        [-0.15779842],\n",
       "        [-0.20851626],\n",
       "        [-0.19583562]],\n",
       "\n",
       "       [[ 0.05141525],\n",
       "        [ 0.08311602],\n",
       "        [ 0.05141525],\n",
       "        ...,\n",
       "        [-0.03734097],\n",
       "        [-0.03100124],\n",
       "        [-0.05636086]],\n",
       "\n",
       "       [[-0.11658912],\n",
       "        [-0.05636086],\n",
       "        [-0.10073944],\n",
       "        ...,\n",
       "        [-0.06270036],\n",
       "        [-0.05318994],\n",
       "        [-0.02466104]],\n",
       "\n",
       "       ...,\n",
       "\n",
       "       [[ 1.4710648 ],\n",
       "        [ 1.448074  ],\n",
       "        [ 1.3711039 ],\n",
       "        ...,\n",
       "        [ 1.2651446 ],\n",
       "        [ 1.2761401 ],\n",
       "        [ 1.2621454 ]],\n",
       "\n",
       "       [[ 1.3581083 ],\n",
       "        [ 1.3231218 ],\n",
       "        [ 1.2741408 ],\n",
       "        ...,\n",
       "        [ 1.2621454 ],\n",
       "        [ 1.287136  ],\n",
       "        [ 1.2861365 ]],\n",
       "\n",
       "       [[ 1.2591468 ],\n",
       "        [ 1.2591468 ],\n",
       "        [ 1.2761401 ],\n",
       "        ...,\n",
       "        [ 1.2961333 ],\n",
       "        [ 1.3091276 ],\n",
       "        [ 1.306128  ]]], dtype=float32)"
      ]
     },
     "execution_count": 18,
     "metadata": {},
     "output_type": "execute_result"
    }
   ],
   "source": [
    "X_train"
   ]
  },
  {
   "cell_type": "markdown",
   "id": "40262e91",
   "metadata": {},
   "source": [
    "# Create model"
   ]
  },
  {
   "cell_type": "code",
   "execution_count": 19,
   "id": "efdd863b",
   "metadata": {},
   "outputs": [],
   "source": [
    "model = Sequential()\n",
    "#model.add(LSTM(units=72, activation='relu', input_shape= (36, 4), return_sequences=True))\n",
    "model.add(LSTM(units=72, activation='tanh', input_shape= (19, 1)))\n",
    "model.add(Dense(units=36, activation=\"tanh\"))\n",
    "model.add(Dense(units=10, activation=\"tanh\"))\n",
    "model.add(Dense(units=1, activation=\"linear\"))"
   ]
  },
  {
   "cell_type": "markdown",
   "id": "8c2b7570",
   "metadata": {},
   "source": [
    "# Fit model\n"
   ]
  },
  {
   "cell_type": "code",
   "execution_count": 20,
   "id": "862bd0ec",
   "metadata": {
    "scrolled": true
   },
   "outputs": [
    {
     "name": "stdout",
     "output_type": "stream",
     "text": [
      "Epoch 1/200\n",
      "46/46 [==============================] - 5s 48ms/step - loss: 0.0074 - mae: 0.0608 - mape: 34917.8750 - val_loss: 0.0106 - val_mae: 0.0836 - val_mape: 7.9276\n",
      "Epoch 2/200\n",
      "46/46 [==============================] - 1s 31ms/step - loss: 0.0028 - mae: 0.0392 - mape: 14276.5732 - val_loss: 0.0252 - val_mae: 0.1391 - val_mape: 12.9035\n",
      "Epoch 3/200\n",
      "46/46 [==============================] - 2s 37ms/step - loss: 0.0025 - mae: 0.0367 - mape: 3063.2715 - val_loss: 0.0104 - val_mae: 0.0848 - val_mape: 7.9774\n",
      "Epoch 4/200\n",
      "46/46 [==============================] - 2s 34ms/step - loss: 0.0024 - mae: 0.0371 - mape: 18217.8398 - val_loss: 0.0137 - val_mae: 0.0996 - val_mape: 9.2373\n",
      "Epoch 5/200\n",
      "46/46 [==============================] - 2s 33ms/step - loss: 0.0021 - mae: 0.0337 - mape: 34610.2695 - val_loss: 0.0169 - val_mae: 0.1141 - val_mape: 10.7201\n",
      "Epoch 6/200\n",
      "46/46 [==============================] - 1s 30ms/step - loss: 0.0020 - mae: 0.0333 - mape: 7798.2910 - val_loss: 0.0168 - val_mae: 0.1152 - val_mape: 10.9938\n",
      "Epoch 7/200\n",
      "46/46 [==============================] - 1s 31ms/step - loss: 0.0020 - mae: 0.0332 - mape: 36656.6875 - val_loss: 0.0067 - val_mae: 0.0671 - val_mape: 6.4027\n",
      "Epoch 8/200\n",
      "46/46 [==============================] - 1s 30ms/step - loss: 0.0019 - mae: 0.0316 - mape: 24436.6113 - val_loss: 0.0143 - val_mae: 0.1058 - val_mape: 10.1187\n",
      "Epoch 9/200\n",
      "46/46 [==============================] - 1s 30ms/step - loss: 0.0018 - mae: 0.0307 - mape: 36094.6133 - val_loss: 0.0128 - val_mae: 0.0983 - val_mape: 9.2490\n",
      "Epoch 10/200\n",
      "46/46 [==============================] - 2s 33ms/step - loss: 0.0018 - mae: 0.0302 - mape: 31521.2891 - val_loss: 0.0132 - val_mae: 0.1009 - val_mape: 9.5619\n",
      "Epoch 11/200\n",
      "46/46 [==============================] - 1s 31ms/step - loss: 0.0018 - mae: 0.0308 - mape: 31826.2832 - val_loss: 0.0056 - val_mae: 0.0615 - val_mape: 5.8802\n",
      "Epoch 12/200\n",
      "46/46 [==============================] - 1s 29ms/step - loss: 0.0018 - mae: 0.0307 - mape: 42684.3438 - val_loss: 0.0133 - val_mae: 0.1019 - val_mape: 9.7041\n",
      "Epoch 13/200\n",
      "46/46 [==============================] - 1s 28ms/step - loss: 0.0016 - mae: 0.0286 - mape: 33060.6289 - val_loss: 0.0057 - val_mae: 0.0623 - val_mape: 5.9343\n",
      "Epoch 14/200\n",
      "46/46 [==============================] - 1s 30ms/step - loss: 0.0017 - mae: 0.0300 - mape: 52433.5625 - val_loss: 0.0189 - val_mae: 0.1246 - val_mape: 12.0301\n",
      "Epoch 15/200\n",
      "46/46 [==============================] - 1s 30ms/step - loss: 0.0017 - mae: 0.0292 - mape: 29472.9336 - val_loss: 0.0116 - val_mae: 0.0937 - val_mape: 8.7827\n",
      "Epoch 16/200\n",
      "46/46 [==============================] - 1s 30ms/step - loss: 0.0016 - mae: 0.0292 - mape: 8412.9824 - val_loss: 0.0098 - val_mae: 0.0858 - val_mape: 8.1581\n",
      "Epoch 17/200\n",
      "46/46 [==============================] - 1s 30ms/step - loss: 0.0015 - mae: 0.0279 - mape: 30053.3926 - val_loss: 0.0112 - val_mae: 0.0929 - val_mape: 8.8762\n",
      "Epoch 18/200\n",
      "46/46 [==============================] - 1s 28ms/step - loss: 0.0016 - mae: 0.0282 - mape: 26527.4141 - val_loss: 0.0104 - val_mae: 0.0884 - val_mape: 8.2880\n",
      "Epoch 19/200\n",
      "46/46 [==============================] - 1s 29ms/step - loss: 0.0016 - mae: 0.0293 - mape: 14227.9131 - val_loss: 0.0044 - val_mae: 0.0540 - val_mape: 5.2312\n",
      "Epoch 20/200\n",
      "46/46 [==============================] - 1s 27ms/step - loss: 0.0015 - mae: 0.0274 - mape: 43391.6719 - val_loss: 0.0096 - val_mae: 0.0841 - val_mape: 7.8616\n",
      "Epoch 21/200\n",
      "46/46 [==============================] - 1s 30ms/step - loss: 0.0016 - mae: 0.0287 - mape: 12130.4189 - val_loss: 0.0145 - val_mae: 0.1077 - val_mape: 10.3126\n",
      "Epoch 22/200\n",
      "46/46 [==============================] - 1s 29ms/step - loss: 0.0015 - mae: 0.0284 - mape: 8450.1465 - val_loss: 0.0071 - val_mae: 0.0709 - val_mape: 6.6465\n",
      "Epoch 23/200\n",
      "46/46 [==============================] - 1s 28ms/step - loss: 0.0015 - mae: 0.0277 - mape: 16852.2500 - val_loss: 0.0070 - val_mae: 0.0718 - val_mape: 6.8715\n",
      "Epoch 24/200\n",
      "46/46 [==============================] - 1s 30ms/step - loss: 0.0015 - mae: 0.0275 - mape: 19385.5938 - val_loss: 0.0030 - val_mae: 0.0442 - val_mape: 4.4787\n",
      "Epoch 25/200\n",
      "46/46 [==============================] - 1s 32ms/step - loss: 0.0015 - mae: 0.0275 - mape: 36019.3320 - val_loss: 0.0103 - val_mae: 0.0891 - val_mape: 8.4781\n",
      "Epoch 26/200\n",
      "46/46 [==============================] - 2s 34ms/step - loss: 0.0015 - mae: 0.0273 - mape: 1243.3899 - val_loss: 0.0058 - val_mae: 0.0645 - val_mape: 6.1706\n",
      "Epoch 27/200\n",
      "46/46 [==============================] - 1s 31ms/step - loss: 0.0016 - mae: 0.0293 - mape: 26314.5254 - val_loss: 0.0156 - val_mae: 0.1135 - val_mape: 11.0078\n",
      "Epoch 28/200\n",
      "46/46 [==============================] - 2s 54ms/step - loss: 0.0015 - mae: 0.0286 - mape: 1160.2692 - val_loss: 0.0073 - val_mae: 0.0725 - val_mape: 6.7964\n",
      "Epoch 29/200\n",
      "46/46 [==============================] - 2s 44ms/step - loss: 0.0014 - mae: 0.0271 - mape: 3967.3596 - val_loss: 0.0170 - val_mae: 0.1190 - val_mape: 11.6444\n",
      "Epoch 30/200\n",
      "46/46 [==============================] - 2s 38ms/step - loss: 0.0015 - mae: 0.0274 - mape: 10873.0527 - val_loss: 0.0034 - val_mae: 0.0473 - val_mape: 4.7546\n",
      "Epoch 31/200\n",
      "46/46 [==============================] - 2s 46ms/step - loss: 0.0015 - mae: 0.0290 - mape: 1164.8590 - val_loss: 0.0072 - val_mae: 0.0730 - val_mape: 6.9774\n",
      "Epoch 32/200\n",
      "46/46 [==============================] - 2s 40ms/step - loss: 0.0014 - mae: 0.0265 - mape: 642.4281 - val_loss: 0.0087 - val_mae: 0.0807 - val_mape: 7.6517\n",
      "Epoch 33/200\n",
      "46/46 [==============================] - 2s 49ms/step - loss: 0.0014 - mae: 0.0267 - mape: 8532.2158 - val_loss: 0.0091 - val_mae: 0.0831 - val_mape: 7.8618\n",
      "Epoch 34/200\n",
      "46/46 [==============================] - 2s 45ms/step - loss: 0.0014 - mae: 0.0265 - mape: 4928.3306 - val_loss: 0.0068 - val_mae: 0.0701 - val_mape: 6.6250\n",
      "Epoch 35/200\n",
      "46/46 [==============================] - 2s 43ms/step - loss: 0.0014 - mae: 0.0267 - mape: 12620.3799 - val_loss: 0.0038 - val_mae: 0.0506 - val_mape: 4.8846\n",
      "Epoch 36/200\n",
      "46/46 [==============================] - 2s 49ms/step - loss: 0.0015 - mae: 0.0278 - mape: 18887.3262 - val_loss: 0.0057 - val_mae: 0.0640 - val_mape: 6.1296\n",
      "Epoch 37/200\n",
      "46/46 [==============================] - 2s 39ms/step - loss: 0.0014 - mae: 0.0262 - mape: 1173.8531 - val_loss: 0.0053 - val_mae: 0.0611 - val_mape: 5.8515\n",
      "Epoch 38/200\n",
      "46/46 [==============================] - 2s 51ms/step - loss: 0.0014 - mae: 0.0266 - mape: 4516.2295 - val_loss: 0.0056 - val_mae: 0.0638 - val_mape: 6.1818\n",
      "Epoch 39/200\n",
      "46/46 [==============================] - 2s 47ms/step - loss: 0.0015 - mae: 0.0286 - mape: 14367.1553 - val_loss: 0.0051 - val_mae: 0.0600 - val_mape: 5.7611\n",
      "Epoch 40/200\n",
      "46/46 [==============================] - 2s 37ms/step - loss: 0.0014 - mae: 0.0266 - mape: 10007.0332 - val_loss: 0.0053 - val_mae: 0.0614 - val_mape: 5.8854\n",
      "Epoch 41/200\n",
      "46/46 [==============================] - 2s 53ms/step - loss: 0.0014 - mae: 0.0263 - mape: 24154.2070 - val_loss: 0.0047 - val_mae: 0.0570 - val_mape: 5.4520\n",
      "Epoch 42/200\n",
      "46/46 [==============================] - 2s 46ms/step - loss: 0.0014 - mae: 0.0273 - mape: 190.6246 - val_loss: 0.0041 - val_mae: 0.0531 - val_mape: 5.1427\n",
      "Epoch 43/200\n",
      "46/46 [==============================] - 2s 41ms/step - loss: 0.0015 - mae: 0.0277 - mape: 23913.8535 - val_loss: 0.0083 - val_mae: 0.0800 - val_mape: 7.7308\n",
      "Epoch 44/200\n",
      "46/46 [==============================] - 2s 36ms/step - loss: 0.0014 - mae: 0.0265 - mape: 673.1860 - val_loss: 0.0058 - val_mae: 0.0645 - val_mape: 6.1841\n"
     ]
    }
   ],
   "source": [
    "es = EarlyStopping(patience=20, restore_best_weights=True)\n",
    "\n",
    "#try different losses: mae, mape, mse\n",
    "\n",
    "#rmsprop optimizer\n",
    "model.compile(optimizer=\"adam\", loss=\"mse\", metrics=[\"mae\", \"mape\"])\n",
    "#validation_split=0.2,\n",
    "history_LSTM = model.fit(X_train, y_train, epochs=200, batch_size=16, workers=-1, validation_split=0.2, callbacks=[es])"
   ]
  },
  {
   "cell_type": "code",
   "execution_count": 21,
   "id": "a42ee21d",
   "metadata": {},
   "outputs": [
    {
     "name": "stdout",
     "output_type": "stream",
     "text": [
      "7/7 [==============================] - 0s 11ms/step - loss: 0.1336 - mae: 0.3184 - mape: 14.7990\n"
     ]
    },
    {
     "data": {
      "text/plain": [
       "[0.13361218571662903, 0.3184428811073303, 14.798989295959473]"
      ]
     },
     "execution_count": 21,
     "metadata": {},
     "output_type": "execute_result"
    }
   ],
   "source": [
    "model.evaluate(X_test, y_test)"
   ]
  },
  {
   "cell_type": "code",
   "execution_count": 22,
   "id": "03e6b738",
   "metadata": {},
   "outputs": [
    {
     "data": {
      "text/plain": [
       "[<matplotlib.lines.Line2D at 0x7fc67f28b100>]"
      ]
     },
     "execution_count": 22,
     "metadata": {},
     "output_type": "execute_result"
    },
    {
     "data": {
      "image/png": "[encoded data removed]",
      "text/plain": [
       "<Figure size 432x288 with 1 Axes>"
      ]
     },
     "metadata": {
      "needs_background": "light"
     },
     "output_type": "display_data"
    }
   ],
   "source": [
    "plt.plot(history_LSTM.history[\"mae\"])\n",
    "plt.plot(history_LSTM.history[\"val_mae\"])"
   ]
  },
  {
   "cell_type": "markdown",
   "id": "e22606c4",
   "metadata": {},
   "source": [
    "# Test Model"
   ]
  },
  {
   "cell_type": "code",
   "execution_count": 23,
   "id": "e7f7c624",
   "metadata": {},
   "outputs": [
    {
     "name": "stdout",
     "output_type": "stream",
     "text": [
      "Model: \"sequential\"\n",
      "_________________________________________________________________\n",
      "Layer (type)                 Output Shape              Param #   \n",
      "=================================================================\n",
      "lstm (LSTM)                  (None, 72)                21312     \n",
      "_________________________________________________________________\n",
      "dense (Dense)                (None, 36)                2628      \n",
      "_________________________________________________________________\n",
      "dense_1 (Dense)              (None, 10)                370       \n",
      "_________________________________________________________________\n",
      "dense_2 (Dense)              (None, 1)                 11        \n",
      "=================================================================\n",
      "Total params: 24,321\n",
      "Trainable params: 24,321\n",
      "Non-trainable params: 0\n",
      "_________________________________________________________________\n"
     ]
    }
   ],
   "source": [
    "model.summary()"
   ]
  },
  {
   "cell_type": "code",
   "execution_count": 24,
   "id": "d2667cc9",
   "metadata": {},
   "outputs": [],
   "source": [
    "prediction = model.predict(X_test)"
   ]
  },
  {
   "cell_type": "code",
   "execution_count": 25,
   "id": "36353dd0",
   "metadata": {
    "scrolled": true
   },
   "outputs": [
    {
     "data": {
      "text/plain": [
       "array([[1.1431148],\n",
       "       [1.246208 ],\n",
       "       [1.2884256],\n",
       "       [1.2827529],\n",
       "       [1.2292011],\n",
       "       [1.2678654],\n",
       "       [1.2365584],\n",
       "       [1.1348197],\n",
       "       [1.1451117],\n",
       "       [1.170786 ],\n",
       "       [1.1318188],\n",
       "       [1.151039 ],\n",
       "       [1.1616063],\n",
       "       [1.1741192],\n",
       "       [1.1629763],\n",
       "       [1.2666415],\n",
       "       [1.30638  ],\n",
       "       [1.2285687],\n",
       "       [1.2526506],\n",
       "       [1.3031952],\n",
       "       [1.3228836],\n",
       "       [1.3057697],\n",
       "       [1.3281771],\n",
       "       [1.3303329],\n",
       "       [1.3252939],\n",
       "       [1.3857964],\n",
       "       [1.4104722],\n",
       "       [1.3939626],\n",
       "       [1.3552983],\n",
       "       [1.3833746],\n",
       "       [1.3400881],\n",
       "       [1.3294324],\n",
       "       [1.3566982],\n",
       "       [1.3264724],\n",
       "       [1.304356 ],\n",
       "       [1.3295605],\n",
       "       [1.1628371],\n",
       "       [1.2410287],\n",
       "       [1.2000297],\n",
       "       [1.20346  ],\n",
       "       [1.2088457],\n",
       "       [1.1649383],\n",
       "       [1.1468503],\n",
       "       [1.2306488],\n",
       "       [1.2740788],\n",
       "       [1.2931932],\n",
       "       [1.313    ],\n",
       "       [1.2952741],\n",
       "       [1.3082212],\n",
       "       [1.2839552],\n",
       "       [1.2450155],\n",
       "       [1.2909497],\n",
       "       [1.296835 ],\n",
       "       [1.3183014],\n",
       "       [1.3471177],\n",
       "       [1.2930764],\n",
       "       [1.346081 ],\n",
       "       [1.3838077],\n",
       "       [1.4005101],\n",
       "       [1.3833859],\n",
       "       [1.369029 ],\n",
       "       [1.4027632],\n",
       "       [1.4473523],\n",
       "       [1.5117207],\n",
       "       [1.5594281],\n",
       "       [1.5666591],\n",
       "       [1.5695835],\n",
       "       [1.5798727],\n",
       "       [1.5985081],\n",
       "       [1.6521643],\n",
       "       [1.67307  ],\n",
       "       [1.7006897],\n",
       "       [1.7069345],\n",
       "       [1.7379488],\n",
       "       [1.740325 ],\n",
       "       [1.727387 ],\n",
       "       [1.7185286],\n",
       "       [1.737886 ],\n",
       "       [1.7012506],\n",
       "       [1.7489624],\n",
       "       [1.7483627],\n",
       "       [1.7758068],\n",
       "       [1.7405294],\n",
       "       [1.7221792],\n",
       "       [1.7552396],\n",
       "       [1.7661899],\n",
       "       [1.8196007],\n",
       "       [1.8343965],\n",
       "       [1.8735828],\n",
       "       [1.9153497],\n",
       "       [1.9808125],\n",
       "       [1.9717538],\n",
       "       [1.9832877],\n",
       "       [1.9758109],\n",
       "       [1.9795316],\n",
       "       [1.999366 ],\n",
       "       [1.9948097],\n",
       "       [2.0065262],\n",
       "       [1.9338102],\n",
       "       [1.8907323],\n",
       "       [1.8886056],\n",
       "       [1.898122 ],\n",
       "       [1.8702896],\n",
       "       [1.8518143],\n",
       "       [1.8796152],\n",
       "       [1.8945084],\n",
       "       [1.8545437],\n",
       "       [1.8115857],\n",
       "       [1.8232837],\n",
       "       [1.8060054],\n",
       "       [1.6673707],\n",
       "       [1.6605045],\n",
       "       [1.6638775],\n",
       "       [1.6609163],\n",
       "       [1.6958563],\n",
       "       [1.7735797],\n",
       "       [1.80351  ],\n",
       "       [1.811041 ],\n",
       "       [1.9030015],\n",
       "       [1.943299 ],\n",
       "       [1.9934461],\n",
       "       [1.9997113],\n",
       "       [2.0046039],\n",
       "       [1.9349372],\n",
       "       [1.9396775],\n",
       "       [1.9679629],\n",
       "       [1.9845452],\n",
       "       [1.9646513],\n",
       "       [1.9575791],\n",
       "       [1.9443045],\n",
       "       [1.972024 ],\n",
       "       [1.9865496],\n",
       "       [1.9930352],\n",
       "       [2.0007668],\n",
       "       [2.0136776],\n",
       "       [1.99106  ],\n",
       "       [1.9742079],\n",
       "       [1.973758 ],\n",
       "       [1.9538916],\n",
       "       [1.9372585],\n",
       "       [1.9339005],\n",
       "       [1.9295089],\n",
       "       [1.8719835],\n",
       "       [1.8351834],\n",
       "       [1.8303685],\n",
       "       [1.7978384],\n",
       "       [1.8139461],\n",
       "       [1.8293196],\n",
       "       [1.8465523],\n",
       "       [1.8555303],\n",
       "       [1.8544283],\n",
       "       [1.8179709],\n",
       "       [1.798436 ],\n",
       "       [1.8049774],\n",
       "       [1.7564807],\n",
       "       [1.7323201],\n",
       "       [1.735087 ],\n",
       "       [1.8547947],\n",
       "       [1.8612148],\n",
       "       [1.855677 ],\n",
       "       [1.8531682],\n",
       "       [1.808855 ],\n",
       "       [1.8179377],\n",
       "       [1.8176414],\n",
       "       [1.7646556],\n",
       "       [1.7117927],\n",
       "       [1.7774025],\n",
       "       [1.8526897],\n",
       "       [1.8831105],\n",
       "       [1.9111435],\n",
       "       [1.8893148],\n",
       "       [1.753833 ],\n",
       "       [1.7153242],\n",
       "       [1.5930189],\n",
       "       [1.5692993],\n",
       "       [1.5276493],\n",
       "       [1.6017587],\n",
       "       [1.6230893],\n",
       "       [1.6490132],\n",
       "       [1.7429476],\n",
       "       [1.7572187],\n",
       "       [1.8278173],\n",
       "       [1.8729609],\n",
       "       [1.9042667],\n",
       "       [1.9136189],\n",
       "       [1.8672181],\n",
       "       [1.8150694],\n",
       "       [1.8301324],\n",
       "       [1.8390588],\n",
       "       [1.8548906],\n",
       "       [1.8494728],\n",
       "       [1.7768861],\n",
       "       [1.8141818],\n",
       "       [1.7990319],\n",
       "       [1.8041728],\n",
       "       [1.81206  ],\n",
       "       [1.8411758],\n",
       "       [1.8317274],\n",
       "       [1.7522771],\n",
       "       [1.7205838],\n",
       "       [1.7425327],\n",
       "       [1.7687888],\n",
       "       [1.7627745],\n",
       "       [1.7224227],\n",
       "       [1.661891 ]], dtype=float32)"
      ]
     },
     "execution_count": 25,
     "metadata": {},
     "output_type": "execute_result"
    }
   ],
   "source": [
    "prediction"
   ]
  },
  {
   "cell_type": "markdown",
   "id": "60cf4023",
   "metadata": {},
   "source": [
    "# Visualizing Model"
   ]
  },
  {
   "cell_type": "code",
   "execution_count": 26,
   "id": "c1d45b5b",
   "metadata": {},
   "outputs": [],
   "source": [
    "y_test_back = scaler.inverse_transform(y_test.reshape(-1, 1))\n",
    "prediction_back = scaler.inverse_transform(prediction.reshape(-1, 1))"
   ]
  },
  {
   "cell_type": "code",
   "execution_count": 27,
   "id": "7ce2a13c",
   "metadata": {
    "scrolled": true
   },
   "outputs": [
    {
     "data": {
      "text/plain": [
       "(19, 1)"
      ]
     },
     "execution_count": 27,
     "metadata": {},
     "output_type": "execute_result"
    }
   ],
   "source": [
    "X_test[0,:,:].shape"
   ]
  },
  {
   "cell_type": "code",
   "execution_count": 28,
   "id": "e4c191ca",
   "metadata": {},
   "outputs": [],
   "source": [
    "X_, X_graph = get_lstm_data(company)"
   ]
  },
  {
   "cell_type": "code",
   "execution_count": 29,
   "id": "b5812156",
   "metadata": {
    "scrolled": true
   },
   "outputs": [
    {
     "data": {
      "text/plain": [
       "2435470    27.953215\n",
       "2435471    28.602901\n",
       "2435472    28.661203\n",
       "2435473    28.769485\n",
       "2435474    29.044355\n",
       "2435475    28.852777\n",
       "2435476    29.027691\n",
       "2435477    28.644547\n",
       "2435478    28.827791\n",
       "2435479    28.869436\n",
       "Name: adj_close, dtype: float64"
      ]
     },
     "execution_count": 29,
     "metadata": {},
     "output_type": "execute_result"
    }
   ],
   "source": [
    "X_graph.iloc[20:30,0]"
   ]
  },
  {
   "cell_type": "code",
   "execution_count": 30,
   "id": "9654af55",
   "metadata": {
    "scrolled": true
   },
   "outputs": [
    {
     "data": {
      "image/png": "[encoded data removed]",
      "text/plain": [
       "<Figure size 432x288 with 1 Axes>"
      ]
     },
     "metadata": {
      "needs_background": "light"
     },
     "output_type": "display_data"
    }
   ],
   "source": [
    "real = [1,0,2,0,4]\n",
    "predict = [0,2,0,4,0]\n",
    "another = [0,2.4, 0, 3, 0]\n",
    "plt.scatter(range(len(real)), real,  color=\"black\", label=f\"Actual {company} Price\")\n",
    "plt.scatter(range(len(real)), predict, color=\"green\", label=f\"Predicted {company} Price\")\n",
    "plt.xlabel(\"\")\n",
    "plt.ylabel(f\"{company} Share Price\")\n",
    "plt.title(f\"{company} Share Price\")\n",
    "plt.legend()\n",
    "plt.show()"
   ]
  },
  {
   "cell_type": "code",
   "execution_count": 31,
   "id": "b53c7aa6",
   "metadata": {},
   "outputs": [
    {
     "name": "stdout",
     "output_type": "stream",
     "text": [
      "last price: 29.0276908874512\n",
      "real next price: 28.6445465087891\n",
      "back next price: [28.76948547]\n",
      "predicted: [27.836052]\n"
     ]
    }
   ],
   "source": [
    "print(f\"last price: {X_graph.iloc[26,0]}\")\n",
    "print(f\"real next price: {X_graph.iloc[27,0]}\")\n",
    "print(f\"back next price: {y_test_back[1]}\")\n",
    "print(f\"predicted: {prediction_back[1]}\")"
   ]
  },
  {
   "cell_type": "code",
   "execution_count": 32,
   "id": "3dd4f7af",
   "metadata": {},
   "outputs": [
    {
     "data": {
      "text/plain": [
       "[<matplotlib.lines.Line2D at 0x7fc681e3d340>]"
      ]
     },
     "execution_count": 32,
     "metadata": {},
     "output_type": "execute_result"
    },
    {
     "data": {
      "image/png": "[encoded data removed]",
      "text/plain": [
       "<Figure size 432x288 with 1 Axes>"
      ]
     },
     "metadata": {
      "needs_background": "light"
     },
     "output_type": "display_data"
    }
   ],
   "source": [
    "plt.plot(X_graph.iloc[:18,0])\n",
    "#plt.scatter(range(len(y_test_back)), y_test_back,  color=\"black\", label=f\"Actual {company} Price\")\n",
    "#plt.scatter(range(len(y_test_back)),prediction_back, color=\"green\", label=f\"Predicted {company} Price\")"
   ]
  },
  {
   "cell_type": "code",
   "execution_count": 33,
   "id": "d130a9e5",
   "metadata": {},
   "outputs": [
    {
     "data": {
      "image/png": "[encoded data removed]",
      "text/plain": [
       "<Figure size 432x288 with 1 Axes>"
      ]
     },
     "metadata": {
      "needs_background": "light"
     },
     "output_type": "display_data"
    }
   ],
   "source": [
    "plt.scatter(range(len(y_test_back)), y_test_simple,  color=\"black\", label=f\"Actual {company} Price\")\n",
    "plt.scatter(range(len(y_test_back)),prediction_back, color=\"green\", label=f\"Predicted {company} Price\")\n",
    "plt.xlabel(\"\")\n",
    "plt.ylabel(f\"{company} Share Price\")\n",
    "plt.title(f\"{company} Share Price\")\n",
    "plt.legend()\n",
    "plt.show()"
   ]
  },
  {
   "cell_type": "code",
   "execution_count": 34,
   "id": "ae8d0619",
   "metadata": {},
   "outputs": [
    {
     "data": {
      "image/png": "[encoded data removed]",
      "text/plain": [
       "<Figure size 432x288 with 1 Axes>"
      ]
     },
     "metadata": {
      "needs_background": "light"
     },
     "output_type": "display_data"
    }
   ],
   "source": [
    "plt.plot(y_test_simple,  color=\"black\", label=f\"Actual {company} Price\")\n",
    "plt.plot(prediction_back, color=\"green\", label=f\"Predicted {company} Price\")\n",
    "plt.xlabel(\"\")\n",
    "plt.ylabel(f\"{company} Share Price\")\n",
    "plt.title(f\"{company} Share Price\")\n",
    "plt.legend()\n",
    "plt.show()"
   ]
  },
  {
   "cell_type": "code",
   "execution_count": 35,
   "id": "e1641134",
   "metadata": {},
   "outputs": [
    {
     "data": {
      "text/plain": [
       "7.2789693"
      ]
     },
     "execution_count": 35,
     "metadata": {},
     "output_type": "execute_result"
    }
   ],
   "source": [
    "mape = mean_absolute_percentage_error(y_test_back, prediction_back)\n",
    "np.mean(mape)"
   ]
  },
  {
   "cell_type": "code",
   "execution_count": 36,
   "id": "c3ff14ca",
   "metadata": {},
   "outputs": [
    {
     "data": {
      "text/plain": [
       "12.462072569098806"
      ]
     },
     "execution_count": 36,
     "metadata": {},
     "output_type": "execute_result"
    }
   ],
   "source": [
    "mape2 = mean_absolute_percentage_error(y_test_back, y_test_simple)\n",
    "np.mean(mape2)"
   ]
  },
  {
   "cell_type": "code",
   "execution_count": null,
   "id": "42e5343b",
   "metadata": {},
   "outputs": [],
   "source": []
  }
 ],
 "metadata": {
  "kernelspec": {
   "display_name": "Python 3",
   "language": "python",
   "name": "python3"
  },
  "language_info": {
   "codemirror_mode": {
    "name": "ipython",
    "version": 3
   },
   "file_extension": ".py",
   "mimetype": "text/x-python",
   "name": "python",
   "nbconvert_exporter": "python",
   "pygments_lexer": "ipython3",
   "version": "3.8.6"
  },
  "toc": {
   "base_numbering": 1,
   "nav_menu": {},
   "number_sections": true,
   "sideBar": true,
   "skip_h1_title": false,
   "title_cell": "Table of Contents",
   "title_sidebar": "Contents",
   "toc_cell": false,
   "toc_position": {},
   "toc_section_display": true,
   "toc_window_display": true
  }
 },
 "nbformat": 4,
 "nbformat_minor": 5
}
