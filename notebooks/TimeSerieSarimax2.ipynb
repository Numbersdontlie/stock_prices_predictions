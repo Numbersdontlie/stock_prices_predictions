{
 "cells": [
  {
   "cell_type": "markdown",
   "id": "3f30b5c2",
   "metadata": {},
   "source": [
    "## Importing Libraries and Data"
   ]
  },
  {
   "cell_type": "code",
   "execution_count": 1,
   "id": "0ae33589",
   "metadata": {},
   "outputs": [],
   "source": [
    "import os \n",
    "import pandas as pd\n",
    "import matplotlib.pyplot as plt\n",
    "import numpy as np\n",
    "import seaborn as sns\n",
    "import statsmodels\n",
    "from statsmodels.tsa.seasonal import seasonal_decompose\n",
    "from statsmodels.tsa.statespace.sarimax import SARIMAX\n",
    "from statsmodels.tsa.stattools import adfuller\n",
    "from statsmodels.graphics.tsaplots import plot_acf, plot_pacf\n",
    "import pmdarima as pm\n",
    "import math"
   ]
  },
  {
   "cell_type": "markdown",
   "id": "432d9060",
   "metadata": {},
   "source": [
    "### Import data"
   ]
  },
  {
   "cell_type": "code",
   "execution_count": 2,
   "id": "2a8fae03",
   "metadata": {},
   "outputs": [],
   "source": [
    "cwd = os.getcwd()\n",
    "simp_path = 'raw_data/df.csv'\n",
    "abs_path = os.path.abspath(os.path.join(cwd,'..',simp_path))\n",
    "df_sarimax = pd.read_csv(abs_path)"
   ]
  },
  {
   "cell_type": "code",
   "execution_count": 3,
   "id": "7ce6d893",
   "metadata": {},
   "outputs": [
    {
     "data": {
      "text/html": [
       "<div>\n",
       "<style scoped>\n",
       "    .dataframe tbody tr th:only-of-type {\n",
       "        vertical-align: middle;\n",
       "    }\n",
       "\n",
       "    .dataframe tbody tr th {\n",
       "        vertical-align: top;\n",
       "    }\n",
       "\n",
       "    .dataframe thead th {\n",
       "        text-align: right;\n",
       "    }\n",
       "</style>\n",
       "<table border=\"1\" class=\"dataframe\">\n",
       "  <thead>\n",
       "    <tr style=\"text-align: right;\">\n",
       "      <th></th>\n",
       "      <th>ticker</th>\n",
       "      <th>open</th>\n",
       "      <th>close</th>\n",
       "      <th>adj_close</th>\n",
       "      <th>low</th>\n",
       "      <th>high</th>\n",
       "      <th>volume</th>\n",
       "      <th>date</th>\n",
       "      <th>sector</th>\n",
       "    </tr>\n",
       "  </thead>\n",
       "  <tbody>\n",
       "    <tr>\n",
       "      <th>0</th>\n",
       "      <td>AAPL</td>\n",
       "      <td>0.513393</td>\n",
       "      <td>0.513393</td>\n",
       "      <td>0.023186</td>\n",
       "      <td>0.513393</td>\n",
       "      <td>0.515625</td>\n",
       "      <td>117258400</td>\n",
       "      <td>1980-12-12</td>\n",
       "      <td>TECHNOLOGY</td>\n",
       "    </tr>\n",
       "    <tr>\n",
       "      <th>1</th>\n",
       "      <td>AAPL</td>\n",
       "      <td>0.488839</td>\n",
       "      <td>0.486607</td>\n",
       "      <td>0.021977</td>\n",
       "      <td>0.486607</td>\n",
       "      <td>0.488839</td>\n",
       "      <td>43971200</td>\n",
       "      <td>1980-12-15</td>\n",
       "      <td>TECHNOLOGY</td>\n",
       "    </tr>\n",
       "    <tr>\n",
       "      <th>2</th>\n",
       "      <td>AAPL</td>\n",
       "      <td>0.453125</td>\n",
       "      <td>0.450893</td>\n",
       "      <td>0.020364</td>\n",
       "      <td>0.450893</td>\n",
       "      <td>0.453125</td>\n",
       "      <td>26432000</td>\n",
       "      <td>1980-12-16</td>\n",
       "      <td>TECHNOLOGY</td>\n",
       "    </tr>\n",
       "    <tr>\n",
       "      <th>3</th>\n",
       "      <td>AAPL</td>\n",
       "      <td>0.462054</td>\n",
       "      <td>0.462054</td>\n",
       "      <td>0.020868</td>\n",
       "      <td>0.462054</td>\n",
       "      <td>0.464286</td>\n",
       "      <td>21610400</td>\n",
       "      <td>1980-12-17</td>\n",
       "      <td>TECHNOLOGY</td>\n",
       "    </tr>\n",
       "    <tr>\n",
       "      <th>4</th>\n",
       "      <td>AAPL</td>\n",
       "      <td>0.475446</td>\n",
       "      <td>0.475446</td>\n",
       "      <td>0.021473</td>\n",
       "      <td>0.475446</td>\n",
       "      <td>0.477679</td>\n",
       "      <td>18362400</td>\n",
       "      <td>1980-12-18</td>\n",
       "      <td>TECHNOLOGY</td>\n",
       "    </tr>\n",
       "  </tbody>\n",
       "</table>\n",
       "</div>"
      ],
      "text/plain": [
       "  ticker      open     close  adj_close       low      high     volume  \\\n",
       "0   AAPL  0.513393  0.513393   0.023186  0.513393  0.515625  117258400   \n",
       "1   AAPL  0.488839  0.486607   0.021977  0.486607  0.488839   43971200   \n",
       "2   AAPL  0.453125  0.450893   0.020364  0.450893  0.453125   26432000   \n",
       "3   AAPL  0.462054  0.462054   0.020868  0.462054  0.464286   21610400   \n",
       "4   AAPL  0.475446  0.475446   0.021473  0.475446  0.477679   18362400   \n",
       "\n",
       "         date      sector  \n",
       "0  1980-12-12  TECHNOLOGY  \n",
       "1  1980-12-15  TECHNOLOGY  \n",
       "2  1980-12-16  TECHNOLOGY  \n",
       "3  1980-12-17  TECHNOLOGY  \n",
       "4  1980-12-18  TECHNOLOGY  "
      ]
     },
     "execution_count": 3,
     "metadata": {},
     "output_type": "execute_result"
    }
   ],
   "source": [
    "#cheking my dataframe\n",
    "df_sarimax.head()"
   ]
  },
  {
   "cell_type": "code",
   "execution_count": 4,
   "id": "15a57821",
   "metadata": {},
   "outputs": [
    {
     "data": {
      "text/html": [
       "<div>\n",
       "<style scoped>\n",
       "    .dataframe tbody tr th:only-of-type {\n",
       "        vertical-align: middle;\n",
       "    }\n",
       "\n",
       "    .dataframe tbody tr th {\n",
       "        vertical-align: top;\n",
       "    }\n",
       "\n",
       "    .dataframe thead th {\n",
       "        text-align: right;\n",
       "    }\n",
       "</style>\n",
       "<table border=\"1\" class=\"dataframe\">\n",
       "  <thead>\n",
       "    <tr style=\"text-align: right;\">\n",
       "      <th></th>\n",
       "      <th>ticker</th>\n",
       "      <th>open</th>\n",
       "      <th>close</th>\n",
       "      <th>adj_close</th>\n",
       "      <th>low</th>\n",
       "      <th>high</th>\n",
       "      <th>volume</th>\n",
       "      <th>date</th>\n",
       "      <th>sector</th>\n",
       "    </tr>\n",
       "  </thead>\n",
       "  <tbody>\n",
       "    <tr>\n",
       "      <th>0</th>\n",
       "      <td>AAPL</td>\n",
       "      <td>0.513393</td>\n",
       "      <td>0.513393</td>\n",
       "      <td>0.023186</td>\n",
       "      <td>0.513393</td>\n",
       "      <td>0.515625</td>\n",
       "      <td>117258400</td>\n",
       "      <td>1980-12-12</td>\n",
       "      <td>TECHNOLOGY</td>\n",
       "    </tr>\n",
       "    <tr>\n",
       "      <th>1</th>\n",
       "      <td>AAPL</td>\n",
       "      <td>0.488839</td>\n",
       "      <td>0.486607</td>\n",
       "      <td>0.021977</td>\n",
       "      <td>0.486607</td>\n",
       "      <td>0.488839</td>\n",
       "      <td>43971200</td>\n",
       "      <td>1980-12-15</td>\n",
       "      <td>TECHNOLOGY</td>\n",
       "    </tr>\n",
       "    <tr>\n",
       "      <th>2</th>\n",
       "      <td>AAPL</td>\n",
       "      <td>0.453125</td>\n",
       "      <td>0.450893</td>\n",
       "      <td>0.020364</td>\n",
       "      <td>0.450893</td>\n",
       "      <td>0.453125</td>\n",
       "      <td>26432000</td>\n",
       "      <td>1980-12-16</td>\n",
       "      <td>TECHNOLOGY</td>\n",
       "    </tr>\n",
       "    <tr>\n",
       "      <th>3</th>\n",
       "      <td>AAPL</td>\n",
       "      <td>0.462054</td>\n",
       "      <td>0.462054</td>\n",
       "      <td>0.020868</td>\n",
       "      <td>0.462054</td>\n",
       "      <td>0.464286</td>\n",
       "      <td>21610400</td>\n",
       "      <td>1980-12-17</td>\n",
       "      <td>TECHNOLOGY</td>\n",
       "    </tr>\n",
       "    <tr>\n",
       "      <th>4</th>\n",
       "      <td>AAPL</td>\n",
       "      <td>0.475446</td>\n",
       "      <td>0.475446</td>\n",
       "      <td>0.021473</td>\n",
       "      <td>0.475446</td>\n",
       "      <td>0.477679</td>\n",
       "      <td>18362400</td>\n",
       "      <td>1980-12-18</td>\n",
       "      <td>TECHNOLOGY</td>\n",
       "    </tr>\n",
       "  </tbody>\n",
       "</table>\n",
       "</div>"
      ],
      "text/plain": [
       "  ticker      open     close  adj_close       low      high     volume  \\\n",
       "0   AAPL  0.513393  0.513393   0.023186  0.513393  0.515625  117258400   \n",
       "1   AAPL  0.488839  0.486607   0.021977  0.486607  0.488839   43971200   \n",
       "2   AAPL  0.453125  0.450893   0.020364  0.450893  0.453125   26432000   \n",
       "3   AAPL  0.462054  0.462054   0.020868  0.462054  0.464286   21610400   \n",
       "4   AAPL  0.475446  0.475446   0.021473  0.475446  0.477679   18362400   \n",
       "\n",
       "        date      sector  \n",
       "0 1980-12-12  TECHNOLOGY  \n",
       "1 1980-12-15  TECHNOLOGY  \n",
       "2 1980-12-16  TECHNOLOGY  \n",
       "3 1980-12-17  TECHNOLOGY  \n",
       "4 1980-12-18  TECHNOLOGY  "
      ]
     },
     "execution_count": 4,
     "metadata": {},
     "output_type": "execute_result"
    }
   ],
   "source": [
    "# Transforming the data into a datetime format\n",
    "df_sarimax[\"date\"] = pd.to_datetime(df_sarimax[\"date\"], infer_datetime_format=True)\n",
    "df_sarimax.head()"
   ]
  },
  {
   "cell_type": "code",
   "execution_count": 5,
   "id": "fb9482af",
   "metadata": {},
   "outputs": [
    {
     "data": {
      "text/html": [
       "<div>\n",
       "<style scoped>\n",
       "    .dataframe tbody tr th:only-of-type {\n",
       "        vertical-align: middle;\n",
       "    }\n",
       "\n",
       "    .dataframe tbody tr th {\n",
       "        vertical-align: top;\n",
       "    }\n",
       "\n",
       "    .dataframe thead th {\n",
       "        text-align: right;\n",
       "    }\n",
       "</style>\n",
       "<table border=\"1\" class=\"dataframe\">\n",
       "  <thead>\n",
       "    <tr style=\"text-align: right;\">\n",
       "      <th></th>\n",
       "      <th>ticker</th>\n",
       "      <th>open</th>\n",
       "      <th>close</th>\n",
       "      <th>adj_close</th>\n",
       "      <th>low</th>\n",
       "      <th>high</th>\n",
       "      <th>volume</th>\n",
       "      <th>sector</th>\n",
       "    </tr>\n",
       "    <tr>\n",
       "      <th>date</th>\n",
       "      <th></th>\n",
       "      <th></th>\n",
       "      <th></th>\n",
       "      <th></th>\n",
       "      <th></th>\n",
       "      <th></th>\n",
       "      <th></th>\n",
       "      <th></th>\n",
       "    </tr>\n",
       "  </thead>\n",
       "  <tbody>\n",
       "    <tr>\n",
       "      <th>1980-12-12</th>\n",
       "      <td>AAPL</td>\n",
       "      <td>0.513393</td>\n",
       "      <td>0.513393</td>\n",
       "      <td>0.023186</td>\n",
       "      <td>0.513393</td>\n",
       "      <td>0.515625</td>\n",
       "      <td>117258400</td>\n",
       "      <td>TECHNOLOGY</td>\n",
       "    </tr>\n",
       "    <tr>\n",
       "      <th>1980-12-15</th>\n",
       "      <td>AAPL</td>\n",
       "      <td>0.488839</td>\n",
       "      <td>0.486607</td>\n",
       "      <td>0.021977</td>\n",
       "      <td>0.486607</td>\n",
       "      <td>0.488839</td>\n",
       "      <td>43971200</td>\n",
       "      <td>TECHNOLOGY</td>\n",
       "    </tr>\n",
       "    <tr>\n",
       "      <th>1980-12-16</th>\n",
       "      <td>AAPL</td>\n",
       "      <td>0.453125</td>\n",
       "      <td>0.450893</td>\n",
       "      <td>0.020364</td>\n",
       "      <td>0.450893</td>\n",
       "      <td>0.453125</td>\n",
       "      <td>26432000</td>\n",
       "      <td>TECHNOLOGY</td>\n",
       "    </tr>\n",
       "    <tr>\n",
       "      <th>1980-12-17</th>\n",
       "      <td>AAPL</td>\n",
       "      <td>0.462054</td>\n",
       "      <td>0.462054</td>\n",
       "      <td>0.020868</td>\n",
       "      <td>0.462054</td>\n",
       "      <td>0.464286</td>\n",
       "      <td>21610400</td>\n",
       "      <td>TECHNOLOGY</td>\n",
       "    </tr>\n",
       "    <tr>\n",
       "      <th>1980-12-18</th>\n",
       "      <td>AAPL</td>\n",
       "      <td>0.475446</td>\n",
       "      <td>0.475446</td>\n",
       "      <td>0.021473</td>\n",
       "      <td>0.475446</td>\n",
       "      <td>0.477679</td>\n",
       "      <td>18362400</td>\n",
       "      <td>TECHNOLOGY</td>\n",
       "    </tr>\n",
       "  </tbody>\n",
       "</table>\n",
       "</div>"
      ],
      "text/plain": [
       "           ticker      open     close  adj_close       low      high  \\\n",
       "date                                                                   \n",
       "1980-12-12   AAPL  0.513393  0.513393   0.023186  0.513393  0.515625   \n",
       "1980-12-15   AAPL  0.488839  0.486607   0.021977  0.486607  0.488839   \n",
       "1980-12-16   AAPL  0.453125  0.450893   0.020364  0.450893  0.453125   \n",
       "1980-12-17   AAPL  0.462054  0.462054   0.020868  0.462054  0.464286   \n",
       "1980-12-18   AAPL  0.475446  0.475446   0.021473  0.475446  0.477679   \n",
       "\n",
       "               volume      sector  \n",
       "date                               \n",
       "1980-12-12  117258400  TECHNOLOGY  \n",
       "1980-12-15   43971200  TECHNOLOGY  \n",
       "1980-12-16   26432000  TECHNOLOGY  \n",
       "1980-12-17   21610400  TECHNOLOGY  \n",
       "1980-12-18   18362400  TECHNOLOGY  "
      ]
     },
     "execution_count": 5,
     "metadata": {},
     "output_type": "execute_result"
    }
   ],
   "source": [
    "#Setting a new data index for my dataframe \n",
    "df_sarimax.reset_index()\n",
    "df_sarimax = df_sarimax.set_index(df_sarimax[\"date\"])\n",
    "df_sarimax = df_sarimax.drop(\"date\", axis=1)\n",
    "df_sarimax.head()"
   ]
  },
  {
   "cell_type": "markdown",
   "id": "2d0c3094",
   "metadata": {},
   "source": [
    "## Decomposition"
   ]
  },
  {
   "cell_type": "code",
   "execution_count": 6,
   "id": "36797033",
   "metadata": {},
   "outputs": [
    {
     "data": {
      "text/html": [
       "<div>\n",
       "<style scoped>\n",
       "    .dataframe tbody tr th:only-of-type {\n",
       "        vertical-align: middle;\n",
       "    }\n",
       "\n",
       "    .dataframe tbody tr th {\n",
       "        vertical-align: top;\n",
       "    }\n",
       "\n",
       "    .dataframe thead th {\n",
       "        text-align: right;\n",
       "    }\n",
       "</style>\n",
       "<table border=\"1\" class=\"dataframe\">\n",
       "  <thead>\n",
       "    <tr style=\"text-align: right;\">\n",
       "      <th></th>\n",
       "      <th>ticker</th>\n",
       "      <th>open</th>\n",
       "      <th>close</th>\n",
       "      <th>adj_close</th>\n",
       "      <th>low</th>\n",
       "      <th>high</th>\n",
       "      <th>volume</th>\n",
       "      <th>sector</th>\n",
       "    </tr>\n",
       "    <tr>\n",
       "      <th>date</th>\n",
       "      <th></th>\n",
       "      <th></th>\n",
       "      <th></th>\n",
       "      <th></th>\n",
       "      <th></th>\n",
       "      <th></th>\n",
       "      <th></th>\n",
       "      <th></th>\n",
       "    </tr>\n",
       "  </thead>\n",
       "  <tbody>\n",
       "    <tr>\n",
       "      <th>2000-01-03</th>\n",
       "      <td>AAPL</td>\n",
       "      <td>3.745536</td>\n",
       "      <td>3.997768</td>\n",
       "      <td>2.686497</td>\n",
       "      <td>3.631696</td>\n",
       "      <td>4.017857</td>\n",
       "      <td>133949200</td>\n",
       "      <td>TECHNOLOGY</td>\n",
       "    </tr>\n",
       "    <tr>\n",
       "      <th>2000-01-04</th>\n",
       "      <td>AAPL</td>\n",
       "      <td>3.866071</td>\n",
       "      <td>3.660714</td>\n",
       "      <td>2.459998</td>\n",
       "      <td>3.613839</td>\n",
       "      <td>3.950893</td>\n",
       "      <td>128094400</td>\n",
       "      <td>TECHNOLOGY</td>\n",
       "    </tr>\n",
       "    <tr>\n",
       "      <th>2000-01-05</th>\n",
       "      <td>AAPL</td>\n",
       "      <td>3.705357</td>\n",
       "      <td>3.714286</td>\n",
       "      <td>2.495997</td>\n",
       "      <td>3.678571</td>\n",
       "      <td>3.948661</td>\n",
       "      <td>194580400</td>\n",
       "      <td>TECHNOLOGY</td>\n",
       "    </tr>\n",
       "    <tr>\n",
       "      <th>2000-01-06</th>\n",
       "      <td>AAPL</td>\n",
       "      <td>3.790179</td>\n",
       "      <td>3.392857</td>\n",
       "      <td>2.279998</td>\n",
       "      <td>3.392857</td>\n",
       "      <td>3.821429</td>\n",
       "      <td>191993200</td>\n",
       "      <td>TECHNOLOGY</td>\n",
       "    </tr>\n",
       "    <tr>\n",
       "      <th>2000-01-07</th>\n",
       "      <td>AAPL</td>\n",
       "      <td>3.446429</td>\n",
       "      <td>3.553571</td>\n",
       "      <td>2.387998</td>\n",
       "      <td>3.410714</td>\n",
       "      <td>3.607143</td>\n",
       "      <td>115183600</td>\n",
       "      <td>TECHNOLOGY</td>\n",
       "    </tr>\n",
       "  </tbody>\n",
       "</table>\n",
       "</div>"
      ],
      "text/plain": [
       "           ticker      open     close  adj_close       low      high  \\\n",
       "date                                                                   \n",
       "2000-01-03   AAPL  3.745536  3.997768   2.686497  3.631696  4.017857   \n",
       "2000-01-04   AAPL  3.866071  3.660714   2.459998  3.613839  3.950893   \n",
       "2000-01-05   AAPL  3.705357  3.714286   2.495997  3.678571  3.948661   \n",
       "2000-01-06   AAPL  3.790179  3.392857   2.279998  3.392857  3.821429   \n",
       "2000-01-07   AAPL  3.446429  3.553571   2.387998  3.410714  3.607143   \n",
       "\n",
       "               volume      sector  \n",
       "date                               \n",
       "2000-01-03  133949200  TECHNOLOGY  \n",
       "2000-01-04  128094400  TECHNOLOGY  \n",
       "2000-01-05  194580400  TECHNOLOGY  \n",
       "2000-01-06  191993200  TECHNOLOGY  \n",
       "2000-01-07  115183600  TECHNOLOGY  "
      ]
     },
     "execution_count": 6,
     "metadata": {},
     "output_type": "execute_result"
    }
   ],
   "source": [
    "df_sarimax = df_sarimax[(df_sarimax.index)>\"1999-12-31\"]\n",
    "df_sarimax.head()"
   ]
  },
  {
   "cell_type": "code",
   "execution_count": 7,
   "id": "222edff6",
   "metadata": {},
   "outputs": [
    {
     "data": {
      "text/html": [
       "<div>\n",
       "<style scoped>\n",
       "    .dataframe tbody tr th:only-of-type {\n",
       "        vertical-align: middle;\n",
       "    }\n",
       "\n",
       "    .dataframe tbody tr th {\n",
       "        vertical-align: top;\n",
       "    }\n",
       "\n",
       "    .dataframe thead th {\n",
       "        text-align: right;\n",
       "    }\n",
       "</style>\n",
       "<table border=\"1\" class=\"dataframe\">\n",
       "  <thead>\n",
       "    <tr style=\"text-align: right;\">\n",
       "      <th></th>\n",
       "      <th>ticker</th>\n",
       "      <th>open</th>\n",
       "      <th>close</th>\n",
       "      <th>adj_close</th>\n",
       "      <th>low</th>\n",
       "      <th>high</th>\n",
       "      <th>volume</th>\n",
       "      <th>sector</th>\n",
       "    </tr>\n",
       "    <tr>\n",
       "      <th>date</th>\n",
       "      <th></th>\n",
       "      <th></th>\n",
       "      <th></th>\n",
       "      <th></th>\n",
       "      <th></th>\n",
       "      <th></th>\n",
       "      <th></th>\n",
       "      <th></th>\n",
       "    </tr>\n",
       "  </thead>\n",
       "  <tbody>\n",
       "    <tr>\n",
       "      <th>2000-01-03</th>\n",
       "      <td>T</td>\n",
       "      <td>48.5625</td>\n",
       "      <td>47.0000</td>\n",
       "      <td>19.225044</td>\n",
       "      <td>46.6250</td>\n",
       "      <td>49.00</td>\n",
       "      <td>5791900</td>\n",
       "      <td>PUBLIC UTILITIES</td>\n",
       "    </tr>\n",
       "    <tr>\n",
       "      <th>2000-01-04</th>\n",
       "      <td>T</td>\n",
       "      <td>47.0625</td>\n",
       "      <td>44.2500</td>\n",
       "      <td>18.100174</td>\n",
       "      <td>43.5000</td>\n",
       "      <td>47.75</td>\n",
       "      <td>7173600</td>\n",
       "      <td>PUBLIC UTILITIES</td>\n",
       "    </tr>\n",
       "    <tr>\n",
       "      <th>2000-01-05</th>\n",
       "      <td>T</td>\n",
       "      <td>45.0000</td>\n",
       "      <td>44.9375</td>\n",
       "      <td>18.381397</td>\n",
       "      <td>44.4375</td>\n",
       "      <td>45.25</td>\n",
       "      <td>9090000</td>\n",
       "      <td>PUBLIC UTILITIES</td>\n",
       "    </tr>\n",
       "    <tr>\n",
       "      <th>2000-01-06</th>\n",
       "      <td>T</td>\n",
       "      <td>44.5625</td>\n",
       "      <td>43.7500</td>\n",
       "      <td>17.993273</td>\n",
       "      <td>43.1250</td>\n",
       "      <td>45.00</td>\n",
       "      <td>7153600</td>\n",
       "      <td>PUBLIC UTILITIES</td>\n",
       "    </tr>\n",
       "    <tr>\n",
       "      <th>2000-01-07</th>\n",
       "      <td>T</td>\n",
       "      <td>44.5625</td>\n",
       "      <td>44.1250</td>\n",
       "      <td>18.147497</td>\n",
       "      <td>43.3750</td>\n",
       "      <td>44.75</td>\n",
       "      <td>5885600</td>\n",
       "      <td>PUBLIC UTILITIES</td>\n",
       "    </tr>\n",
       "  </tbody>\n",
       "</table>\n",
       "</div>"
      ],
      "text/plain": [
       "           ticker     open    close  adj_close      low   high   volume  \\\n",
       "date                                                                      \n",
       "2000-01-03      T  48.5625  47.0000  19.225044  46.6250  49.00  5791900   \n",
       "2000-01-04      T  47.0625  44.2500  18.100174  43.5000  47.75  7173600   \n",
       "2000-01-05      T  45.0000  44.9375  18.381397  44.4375  45.25  9090000   \n",
       "2000-01-06      T  44.5625  43.7500  17.993273  43.1250  45.00  7153600   \n",
       "2000-01-07      T  44.5625  44.1250  18.147497  43.3750  44.75  5885600   \n",
       "\n",
       "                      sector  \n",
       "date                          \n",
       "2000-01-03  PUBLIC UTILITIES  \n",
       "2000-01-04  PUBLIC UTILITIES  \n",
       "2000-01-05  PUBLIC UTILITIES  \n",
       "2000-01-06  PUBLIC UTILITIES  \n",
       "2000-01-07  PUBLIC UTILITIES  "
      ]
     },
     "execution_count": 7,
     "metadata": {},
     "output_type": "execute_result"
    }
   ],
   "source": [
    "#Selecting the stock \"T\": Telekom to work with it \n",
    "df_telekom = df_sarimax[df_sarimax[\"ticker\"]== \"T\"]\n",
    "df_telekom.head()"
   ]
  },
  {
   "cell_type": "code",
   "execution_count": 8,
   "id": "52cb2866",
   "metadata": {},
   "outputs": [
    {
     "data": {
      "image/png": "[encoded data removed]",
      "text/plain": [
       "<Figure size 432x288 with 4 Axes>"
      ]
     },
     "metadata": {
      "needs_background": "light"
     },
     "output_type": "display_data"
    }
   ],
   "source": [
    "#Checking the additive decomposition (y = Trend * Seasonal * Residuals)\n",
    "#periods 5(weekly), 20(monthly), 253(yearly)\n",
    "result_add_T = seasonal_decompose(df_telekom['adj_close'], model='additive', period=253)\n",
    "result_add_T.plot();"
   ]
  },
  {
   "cell_type": "code",
   "execution_count": 9,
   "id": "1fa1a3c2",
   "metadata": {},
   "outputs": [
    {
     "data": {
      "image/png": "[encoded data removed]",
      "text/plain": [
       "<Figure size 432x288 with 4 Axes>"
      ]
     },
     "metadata": {
      "needs_background": "light"
     },
     "output_type": "display_data"
    }
   ],
   "source": [
    "#Multiplicative Decomposition\n",
    "result_mult_T = seasonal_decompose(df_telekom['adj_close'], model='multiplicative', period=253)\n",
    "result_mult_T.plot();"
   ]
  },
  {
   "cell_type": "markdown",
   "id": "e3bab8b2",
   "metadata": {},
   "source": [
    "### checking stationality"
   ]
  },
  {
   "cell_type": "code",
   "execution_count": 10,
   "id": "f8a07e49",
   "metadata": {},
   "outputs": [
    {
     "data": {
      "image/png": "[encoded data removed]",
      "text/plain": [
       "<Figure size 432x288 with 1 Axes>"
      ]
     },
     "metadata": {
      "needs_background": "light"
     },
     "output_type": "display_data"
    }
   ],
   "source": [
    "#Plot the residuals from multiplicative\n",
    "plt.plot(result_mult_T._resid);"
   ]
  },
  {
   "cell_type": "code",
   "execution_count": 11,
   "id": "c6fe8dd5",
   "metadata": {},
   "outputs": [
    {
     "data": {
      "image/png": "[encoded data removed]",
      "text/plain": [
       "<Figure size 432x288 with 1 Axes>"
      ]
     },
     "metadata": {
      "needs_background": "light"
     },
     "output_type": "display_data"
    }
   ],
   "source": [
    "#Plot the residuals from additive\n",
    "plt.plot(result_add_T._resid);"
   ]
  },
  {
   "cell_type": "code",
   "execution_count": 12,
   "id": "508af60c",
   "metadata": {},
   "outputs": [],
   "source": [
    "#Removing nan values from additive\n",
    "result_observed_add=result_add_T.resid.dropna()"
   ]
  },
  {
   "cell_type": "code",
   "execution_count": 13,
   "id": "62bad341",
   "metadata": {},
   "outputs": [],
   "source": [
    "#Removing nan values from multiplicative\n",
    "result_observed_mult=result_mult_T.resid.dropna()"
   ]
  },
  {
   "cell_type": "code",
   "execution_count": 14,
   "id": "79aaa14a",
   "metadata": {},
   "outputs": [
    {
     "data": {
      "text/plain": [
       "1.1473483148038672e-14"
      ]
     },
     "execution_count": 14,
     "metadata": {},
     "output_type": "execute_result"
    }
   ],
   "source": [
    "#Test with dickey fuller test additive\n",
    "adfuller(result_observed_add)[1]"
   ]
  },
  {
   "cell_type": "code",
   "execution_count": 15,
   "id": "03085eb0",
   "metadata": {},
   "outputs": [
    {
     "data": {
      "text/plain": [
       "1.1976801680390142e-13"
      ]
     },
     "execution_count": 15,
     "metadata": {},
     "output_type": "execute_result"
    }
   ],
   "source": [
    "#Test with dickey fuller test multiplicative\n",
    "adfuller(result_observed_mult)[1]"
   ]
  },
  {
   "cell_type": "markdown",
   "id": "58c6cdc0",
   "metadata": {},
   "source": [
    "### Autocorrelation"
   ]
  },
  {
   "cell_type": "code",
   "execution_count": 16,
   "id": "d60d8213",
   "metadata": {},
   "outputs": [
    {
     "data": {
      "image/png": "[encoded data removed]",
      "text/plain": [
       "<Figure size 432x288 with 1 Axes>"
      ]
     },
     "metadata": {
      "needs_background": "light"
     },
     "output_type": "display_data"
    }
   ],
   "source": [
    "#Plotting autocorrelation \"adj_close\"\n",
    "y = df_telekom.adj_close\n",
    "plot_acf(y);"
   ]
  },
  {
   "cell_type": "code",
   "execution_count": 17,
   "id": "e10507b2",
   "metadata": {},
   "outputs": [
    {
     "data": {
      "image/png": "[encoded data removed]",
      "text/plain": [
       "<Figure size 432x288 with 1 Axes>"
      ]
     },
     "metadata": {
      "needs_background": "light"
     },
     "output_type": "display_data"
    }
   ],
   "source": [
    "#plot the multiplicative residuals with acf \n",
    "plot_acf(result_observed_mult);"
   ]
  },
  {
   "cell_type": "code",
   "execution_count": 18,
   "id": "5a01b5c0",
   "metadata": {},
   "outputs": [
    {
     "data": {
      "image/png": "[encoded data removed]",
      "text/plain": [
       "<Figure size 432x288 with 1 Axes>"
      ]
     },
     "metadata": {
      "needs_background": "light"
     },
     "output_type": "display_data"
    }
   ],
   "source": [
    "#plot the additive residuals with acf \n",
    "plot_acf(result_observed_add);"
   ]
  },
  {
   "cell_type": "code",
   "execution_count": 19,
   "id": "adae9cd9",
   "metadata": {},
   "outputs": [
    {
     "data": {
      "image/png": "[encoded data removed]",
      "text/plain": [
       "<Figure size 432x288 with 1 Axes>"
      ]
     },
     "metadata": {
      "needs_background": "light"
     },
     "output_type": "display_data"
    }
   ],
   "source": [
    "#plot the multiplicative residuals with pacf \n",
    "plot_pacf(result_observed_mult);"
   ]
  },
  {
   "cell_type": "code",
   "execution_count": 20,
   "id": "e333c83c",
   "metadata": {},
   "outputs": [
    {
     "data": {
      "image/png": "[encoded data removed]",
      "text/plain": [
       "<Figure size 432x288 with 1 Axes>"
      ]
     },
     "metadata": {
      "needs_background": "light"
     },
     "output_type": "display_data"
    }
   ],
   "source": [
    "#plot the additive residuals with pacf \n",
    "plot_pacf(result_observed_add);"
   ]
  },
  {
   "cell_type": "markdown",
   "id": "9ff31cd6",
   "metadata": {},
   "source": [
    "## Building the Model (SARIMAX)"
   ]
  },
  {
   "cell_type": "markdown",
   "id": "c461b37b",
   "metadata": {},
   "source": [
    "### Splitting the data (train/test)"
   ]
  },
  {
   "cell_type": "code",
   "execution_count": 28,
   "id": "5baae1de",
   "metadata": {},
   "outputs": [
    {
     "name": "stdout",
     "output_type": "stream",
     "text": [
      "(3773, 9)\n",
      "(919, 9)\n"
     ]
    }
   ],
   "source": [
    "#Split the data in train / test \n",
    "df_telekom_train = df_telekom[:\"2014\"]\n",
    "df_telekom_test = df_telekom[\"2015\":]\n",
    "print(df_telekom_train.shape)\n",
    "print(df_telekom_test.shape)"
   ]
  },
  {
   "cell_type": "code",
   "execution_count": 50,
   "id": "fba98add",
   "metadata": {},
   "outputs": [
    {
     "name": "stdout",
     "output_type": "stream",
     "text": [
      "Performing stepwise search to minimize aic\n",
      " ARIMA(0,1,0)(0,0,0)[5] intercept   : AIC=-19899.484, Time=0.86 sec\n",
      " ARIMA(1,1,0)(1,0,0)[5] intercept   : AIC=-19895.894, Time=3.44 sec\n",
      " ARIMA(0,1,1)(0,0,1)[5] intercept   : AIC=-19895.837, Time=3.02 sec\n",
      " ARIMA(0,1,0)(0,0,0)[5]             : AIC=-19901.368, Time=0.33 sec\n",
      " ARIMA(0,1,0)(1,0,0)[5] intercept   : AIC=-19897.854, Time=1.55 sec\n",
      " ARIMA(0,1,0)(0,0,1)[5] intercept   : AIC=-19897.791, Time=1.91 sec\n",
      " ARIMA(0,1,0)(1,0,1)[5] intercept   : AIC=-19895.390, Time=4.44 sec\n",
      " ARIMA(1,1,0)(0,0,0)[5] intercept   : AIC=-19897.514, Time=0.61 sec\n",
      " ARIMA(0,1,1)(0,0,0)[5] intercept   : AIC=-19897.517, Time=1.09 sec\n",
      " ARIMA(1,1,1)(0,0,0)[5] intercept   : AIC=-19910.645, Time=5.27 sec\n",
      " ARIMA(1,1,1)(1,0,0)[5] intercept   : AIC=-19895.365, Time=14.78 sec\n",
      " ARIMA(1,1,1)(0,0,1)[5] intercept   : AIC=-19895.343, Time=12.66 sec\n",
      " ARIMA(1,1,1)(1,0,1)[5] intercept   : AIC=-19893.112, Time=13.82 sec\n",
      " ARIMA(2,1,1)(0,0,0)[5] intercept   : AIC=-19908.192, Time=0.91 sec\n",
      " ARIMA(1,1,2)(0,0,0)[5] intercept   : AIC=-19909.937, Time=8.30 sec\n",
      " ARIMA(0,1,2)(0,0,0)[5] intercept   : AIC=-19909.668, Time=3.38 sec\n",
      " ARIMA(2,1,0)(0,0,0)[5] intercept   : AIC=-19908.878, Time=0.74 sec\n",
      " ARIMA(2,1,2)(0,0,0)[5] intercept   : AIC=-19913.535, Time=7.89 sec\n",
      " ARIMA(2,1,2)(1,0,0)[5] intercept   : AIC=-19911.485, Time=13.00 sec\n",
      " ARIMA(2,1,2)(0,0,1)[5] intercept   : AIC=-19911.462, Time=14.27 sec\n",
      " ARIMA(2,1,2)(1,0,1)[5] intercept   : AIC=-19909.469, Time=21.21 sec\n",
      " ARIMA(2,1,2)(0,0,0)[5]             : AIC=-19915.140, Time=1.31 sec\n",
      " ARIMA(2,1,2)(1,0,0)[5]             : AIC=-19913.357, Time=7.08 sec\n",
      " ARIMA(2,1,2)(0,0,1)[5]             : AIC=-19913.355, Time=7.06 sec\n",
      " ARIMA(2,1,2)(1,0,1)[5]             : AIC=-19911.441, Time=8.52 sec\n",
      " ARIMA(1,1,2)(0,0,0)[5]             : AIC=-19911.753, Time=3.33 sec\n",
      " ARIMA(2,1,1)(0,0,0)[5]             : AIC=-19910.049, Time=2.06 sec\n",
      " ARIMA(1,1,1)(0,0,0)[5]             : AIC=-19898.758, Time=1.99 sec\n",
      "\n",
      "Best model:  ARIMA(2,1,2)(0,0,0)[5]          \n",
      "Total fit time: 165.179 seconds\n",
      "                               SARIMAX Results                                \n",
      "==============================================================================\n",
      "Dep. Variable:                      y   No. Observations:                 3773\n",
      "Model:               SARIMAX(2, 1, 2)   Log Likelihood                9962.570\n",
      "Date:                Fri, 04 Jun 2021   AIC                         -19915.140\n",
      "Time:                        12:45:52   BIC                         -19883.963\n",
      "Sample:                             0   HQIC                        -19904.055\n",
      "                               - 3773                                         \n",
      "Covariance Type:                  opg                                         \n",
      "==============================================================================\n",
      "                 coef    std err          z      P>|z|      [0.025      0.975]\n",
      "------------------------------------------------------------------------------\n",
      "ar.L1          0.1799      0.144      1.248      0.212      -0.103       0.463\n",
      "ar.L2          0.4535      0.136      3.332      0.001       0.187       0.720\n",
      "ma.L1         -0.1830      0.140     -1.311      0.190      -0.457       0.091\n",
      "ma.L2         -0.5161      0.133     -3.868      0.000      -0.778      -0.255\n",
      "sigma2         0.0003   3.38e-06     87.947      0.000       0.000       0.000\n",
      "===================================================================================\n",
      "Ljung-Box (L1) (Q):                   0.04   Jarque-Bera (JB):              6726.40\n",
      "Prob(Q):                              0.85   Prob(JB):                         0.00\n",
      "Heteroskedasticity (H):               0.19   Skew:                             0.04\n",
      "Prob(H) (two-sided):                  0.00   Kurtosis:                         9.54\n",
      "===================================================================================\n",
      "\n",
      "Warnings:\n",
      "[1] Covariance matrix calculated using the outer product of gradients (complex-step).\n"
     ]
    }
   ],
   "source": [
    "#use the auto arima and train data to get the parameters\n",
    "model = pm.auto_arima(df_telekom_train[\"log_adj_close\"],\n",
    "                      m=5, # frequency of series. Important to choose manually\n",
    "                      seasonal=True,\n",
    "                      stepwise=True,  # only check most interesting combination. False will take way longer.\n",
    "                      start_p=0, max_p=2,\n",
    "                      start_d=0, max_d=1,\n",
    "                      start_q=0, max_q=2,\n",
    "                      start_P=0, max_P=2,\n",
    "                      start_D=0, max_D=2,\n",
    "                      start_Q=0, max_Q=2,\n",
    "                      njobs=-1, trace=True, error_action=\"ignore\",  suppress_warnings=True)\n",
    "print(model.summary())"
   ]
  },
  {
   "cell_type": "code",
   "execution_count": 36,
   "id": "aea7d0af",
   "metadata": {},
   "outputs": [],
   "source": [
    "#Best model params\n",
    "#ARIMA(2,1,2)(0,0,0)[5]   m=5"
   ]
  },
  {
   "cell_type": "markdown",
   "id": "43a972f9",
   "metadata": {},
   "source": [
    "### Define the model"
   ]
  },
  {
   "cell_type": "code",
   "execution_count": 25,
   "id": "93a8889d",
   "metadata": {
    "scrolled": true
   },
   "outputs": [
    {
     "name": "stderr",
     "output_type": "stream",
     "text": [
      "/home/luis/.pyenv/versions/3.8.6/envs/stock_prices_predictions/lib/python3.8/site-packages/pandas/core/indexing.py:1597: SettingWithCopyWarning: \n",
      "A value is trying to be set on a copy of a slice from a DataFrame.\n",
      "Try using .loc[row_indexer,col_indexer] = value instead\n",
      "\n",
      "See the caveats in the documentation: https://pandas.pydata.org/pandas-docs/stable/user_guide/indexing.html#returning-a-view-versus-a-copy\n",
      "  self.obj[key] = value\n",
      "/home/luis/.pyenv/versions/3.8.6/envs/stock_prices_predictions/lib/python3.8/site-packages/pandas/core/indexing.py:1676: SettingWithCopyWarning: \n",
      "A value is trying to be set on a copy of a slice from a DataFrame.\n",
      "Try using .loc[row_indexer,col_indexer] = value instead\n",
      "\n",
      "See the caveats in the documentation: https://pandas.pydata.org/pandas-docs/stable/user_guide/indexing.html#returning-a-view-versus-a-copy\n",
      "  self._setitem_single_column(ilocs[0], value, pi)\n"
     ]
    }
   ],
   "source": [
    "#I make the log to run the SARIMA Model\n",
    "df_telekom.loc[:,\"log_adj_close\"] = df_telekom[\"adj_close\"].apply(lambda x: math.log(x))"
   ]
  },
  {
   "cell_type": "code",
   "execution_count": 26,
   "id": "3fbe1735",
   "metadata": {},
   "outputs": [
    {
     "data": {
      "text/html": [
       "<div>\n",
       "<style scoped>\n",
       "    .dataframe tbody tr th:only-of-type {\n",
       "        vertical-align: middle;\n",
       "    }\n",
       "\n",
       "    .dataframe tbody tr th {\n",
       "        vertical-align: top;\n",
       "    }\n",
       "\n",
       "    .dataframe thead th {\n",
       "        text-align: right;\n",
       "    }\n",
       "</style>\n",
       "<table border=\"1\" class=\"dataframe\">\n",
       "  <thead>\n",
       "    <tr style=\"text-align: right;\">\n",
       "      <th></th>\n",
       "      <th>ticker</th>\n",
       "      <th>open</th>\n",
       "      <th>close</th>\n",
       "      <th>adj_close</th>\n",
       "      <th>low</th>\n",
       "      <th>high</th>\n",
       "      <th>volume</th>\n",
       "      <th>sector</th>\n",
       "      <th>log_adj_close</th>\n",
       "    </tr>\n",
       "    <tr>\n",
       "      <th>date</th>\n",
       "      <th></th>\n",
       "      <th></th>\n",
       "      <th></th>\n",
       "      <th></th>\n",
       "      <th></th>\n",
       "      <th></th>\n",
       "      <th></th>\n",
       "      <th></th>\n",
       "      <th></th>\n",
       "    </tr>\n",
       "  </thead>\n",
       "  <tbody>\n",
       "    <tr>\n",
       "      <th>2000-01-03</th>\n",
       "      <td>T</td>\n",
       "      <td>48.5625</td>\n",
       "      <td>47.0000</td>\n",
       "      <td>19.225044</td>\n",
       "      <td>46.6250</td>\n",
       "      <td>49.00</td>\n",
       "      <td>5791900</td>\n",
       "      <td>PUBLIC UTILITIES</td>\n",
       "      <td>2.956214</td>\n",
       "    </tr>\n",
       "    <tr>\n",
       "      <th>2000-01-04</th>\n",
       "      <td>T</td>\n",
       "      <td>47.0625</td>\n",
       "      <td>44.2500</td>\n",
       "      <td>18.100174</td>\n",
       "      <td>43.5000</td>\n",
       "      <td>47.75</td>\n",
       "      <td>7173600</td>\n",
       "      <td>PUBLIC UTILITIES</td>\n",
       "      <td>2.895922</td>\n",
       "    </tr>\n",
       "    <tr>\n",
       "      <th>2000-01-05</th>\n",
       "      <td>T</td>\n",
       "      <td>45.0000</td>\n",
       "      <td>44.9375</td>\n",
       "      <td>18.381397</td>\n",
       "      <td>44.4375</td>\n",
       "      <td>45.25</td>\n",
       "      <td>9090000</td>\n",
       "      <td>PUBLIC UTILITIES</td>\n",
       "      <td>2.911339</td>\n",
       "    </tr>\n",
       "    <tr>\n",
       "      <th>2000-01-06</th>\n",
       "      <td>T</td>\n",
       "      <td>44.5625</td>\n",
       "      <td>43.7500</td>\n",
       "      <td>17.993273</td>\n",
       "      <td>43.1250</td>\n",
       "      <td>45.00</td>\n",
       "      <td>7153600</td>\n",
       "      <td>PUBLIC UTILITIES</td>\n",
       "      <td>2.889998</td>\n",
       "    </tr>\n",
       "    <tr>\n",
       "      <th>2000-01-07</th>\n",
       "      <td>T</td>\n",
       "      <td>44.5625</td>\n",
       "      <td>44.1250</td>\n",
       "      <td>18.147497</td>\n",
       "      <td>43.3750</td>\n",
       "      <td>44.75</td>\n",
       "      <td>5885600</td>\n",
       "      <td>PUBLIC UTILITIES</td>\n",
       "      <td>2.898533</td>\n",
       "    </tr>\n",
       "  </tbody>\n",
       "</table>\n",
       "</div>"
      ],
      "text/plain": [
       "           ticker     open    close  adj_close      low   high   volume  \\\n",
       "date                                                                      \n",
       "2000-01-03      T  48.5625  47.0000  19.225044  46.6250  49.00  5791900   \n",
       "2000-01-04      T  47.0625  44.2500  18.100174  43.5000  47.75  7173600   \n",
       "2000-01-05      T  45.0000  44.9375  18.381397  44.4375  45.25  9090000   \n",
       "2000-01-06      T  44.5625  43.7500  17.993273  43.1250  45.00  7153600   \n",
       "2000-01-07      T  44.5625  44.1250  18.147497  43.3750  44.75  5885600   \n",
       "\n",
       "                      sector  log_adj_close  \n",
       "date                                         \n",
       "2000-01-03  PUBLIC UTILITIES       2.956214  \n",
       "2000-01-04  PUBLIC UTILITIES       2.895922  \n",
       "2000-01-05  PUBLIC UTILITIES       2.911339  \n",
       "2000-01-06  PUBLIC UTILITIES       2.889998  \n",
       "2000-01-07  PUBLIC UTILITIES       2.898533  "
      ]
     },
     "execution_count": 26,
     "metadata": {},
     "output_type": "execute_result"
    }
   ],
   "source": [
    "df_telekom.head()"
   ]
  },
  {
   "cell_type": "code",
   "execution_count": 85,
   "id": "744ab0b6",
   "metadata": {},
   "outputs": [
    {
     "name": "stderr",
     "output_type": "stream",
     "text": [
      "/home/luis/.pyenv/versions/3.8.6/envs/stock_prices_predictions/lib/python3.8/site-packages/statsmodels/tsa/base/tsa_model.py:581: ValueWarning: A date index has been provided, but it has no associated frequency information and so will be ignored when e.g. forecasting.\n",
      "  warnings.warn('A date index has been provided, but it has no'\n",
      "/home/luis/.pyenv/versions/3.8.6/envs/stock_prices_predictions/lib/python3.8/site-packages/statsmodels/tsa/base/tsa_model.py:581: ValueWarning: A date index has been provided, but it has no associated frequency information and so will be ignored when e.g. forecasting.\n",
      "  warnings.warn('A date index has been provided, but it has no'\n"
     ]
    }
   ],
   "source": [
    "#Specify training data\n",
    "data = df_telekom_train[\"log_adj_close\"]\n",
    "#Define the model configuration\n",
    "my_order = (2, 1, 2)\n",
    "my_seasonal_order = (0, 0, 0, 5)\n",
    "#Define the model #replace with data\n",
    "model_sarimax = SARIMAX(data, order=my_order, seasonal_order=my_seasonal_order)\n",
    "#Fit the model \n",
    "model_fit = model_sarimax.fit()"
   ]
  },
  {
   "cell_type": "markdown",
   "id": "210bddfb",
   "metadata": {},
   "source": [
    "### First prediction"
   ]
  },
  {
   "cell_type": "code",
   "execution_count": 42,
   "id": "1c8aa431",
   "metadata": {},
   "outputs": [
    {
     "data": {
      "text/plain": [
       "DatetimeIndex(['2015-01-02', '2015-01-05', '2015-01-06', '2015-01-07',\n",
       "               '2015-01-08', '2015-01-09', '2015-01-12', '2015-01-13',\n",
       "               '2015-01-14', '2015-01-15',\n",
       "               ...\n",
       "               '2018-08-13', '2018-08-14', '2018-08-15', '2018-08-16',\n",
       "               '2018-08-17', '2018-08-20', '2018-08-21', '2018-08-22',\n",
       "               '2018-08-23', '2018-08-24'],\n",
       "              dtype='datetime64[ns]', name='date', length=919, freq=None)"
      ]
     },
     "execution_count": 42,
     "metadata": {},
     "output_type": "execute_result"
    }
   ],
   "source": [
    "df_telekom_test.index"
   ]
  },
  {
   "cell_type": "code",
   "execution_count": 86,
   "id": "f94d1637",
   "metadata": {},
   "outputs": [
    {
     "name": "stderr",
     "output_type": "stream",
     "text": [
      "/home/luis/.pyenv/versions/3.8.6/envs/stock_prices_predictions/lib/python3.8/site-packages/statsmodels/tsa/base/tsa_model.py:376: ValueWarning: No supported index is available. Prediction results will be given with an integer index beginning at `start`.\n",
      "  warnings.warn('No supported index is available.'\n"
     ]
    }
   ],
   "source": [
    "#Forecast\n",
    "n_periods = len(df_telekom_test[\"log_adj_close\"])\n",
    "forecast = model_fit.get_forecast(steps = n_periods)\n",
    "index_y_test = df_telekom_test.index "
   ]
  },
  {
   "cell_type": "code",
   "execution_count": 87,
   "id": "180fa583",
   "metadata": {},
   "outputs": [
    {
     "data": {
      "text/html": [
       "<div>\n",
       "<style scoped>\n",
       "    .dataframe tbody tr th:only-of-type {\n",
       "        vertical-align: middle;\n",
       "    }\n",
       "\n",
       "    .dataframe tbody tr th {\n",
       "        vertical-align: top;\n",
       "    }\n",
       "\n",
       "    .dataframe thead th {\n",
       "        text-align: right;\n",
       "    }\n",
       "</style>\n",
       "<table border=\"1\" class=\"dataframe\">\n",
       "  <thead>\n",
       "    <tr style=\"text-align: right;\">\n",
       "      <th>log_adj_close</th>\n",
       "      <th>mean</th>\n",
       "      <th>mean_se</th>\n",
       "      <th>mean_ci_lower</th>\n",
       "      <th>mean_ci_upper</th>\n",
       "    </tr>\n",
       "  </thead>\n",
       "  <tbody>\n",
       "    <tr>\n",
       "      <th>3773</th>\n",
       "      <td>3.316905</td>\n",
       "      <td>0.017241</td>\n",
       "      <td>3.283113</td>\n",
       "      <td>3.350696</td>\n",
       "    </tr>\n",
       "    <tr>\n",
       "      <th>3774</th>\n",
       "      <td>3.317537</td>\n",
       "      <td>0.024344</td>\n",
       "      <td>3.269823</td>\n",
       "      <td>3.365250</td>\n",
       "    </tr>\n",
       "    <tr>\n",
       "      <th>3775</th>\n",
       "      <td>3.317453</td>\n",
       "      <td>0.029186</td>\n",
       "      <td>3.260250</td>\n",
       "      <td>3.374656</td>\n",
       "    </tr>\n",
       "    <tr>\n",
       "      <th>3776</th>\n",
       "      <td>3.317725</td>\n",
       "      <td>0.033225</td>\n",
       "      <td>3.252604</td>\n",
       "      <td>3.382846</td>\n",
       "    </tr>\n",
       "    <tr>\n",
       "      <th>3777</th>\n",
       "      <td>3.317736</td>\n",
       "      <td>0.036598</td>\n",
       "      <td>3.246005</td>\n",
       "      <td>3.389467</td>\n",
       "    </tr>\n",
       "    <tr>\n",
       "      <th>...</th>\n",
       "      <td>...</td>\n",
       "      <td>...</td>\n",
       "      <td>...</td>\n",
       "      <td>...</td>\n",
       "    </tr>\n",
       "    <tr>\n",
       "      <th>4687</th>\n",
       "      <td>3.318091</td>\n",
       "      <td>0.428607</td>\n",
       "      <td>2.478037</td>\n",
       "      <td>4.158145</td>\n",
       "    </tr>\n",
       "    <tr>\n",
       "      <th>4688</th>\n",
       "      <td>3.318091</td>\n",
       "      <td>0.428840</td>\n",
       "      <td>2.477580</td>\n",
       "      <td>4.158603</td>\n",
       "    </tr>\n",
       "    <tr>\n",
       "      <th>4689</th>\n",
       "      <td>3.318091</td>\n",
       "      <td>0.429074</td>\n",
       "      <td>2.477122</td>\n",
       "      <td>4.159060</td>\n",
       "    </tr>\n",
       "    <tr>\n",
       "      <th>4690</th>\n",
       "      <td>3.318091</td>\n",
       "      <td>0.429307</td>\n",
       "      <td>2.476665</td>\n",
       "      <td>4.159517</td>\n",
       "    </tr>\n",
       "    <tr>\n",
       "      <th>4691</th>\n",
       "      <td>3.318091</td>\n",
       "      <td>0.429540</td>\n",
       "      <td>2.476208</td>\n",
       "      <td>4.159974</td>\n",
       "    </tr>\n",
       "  </tbody>\n",
       "</table>\n",
       "<p>919 rows × 4 columns</p>\n",
       "</div>"
      ],
      "text/plain": [
       "log_adj_close      mean   mean_se  mean_ci_lower  mean_ci_upper\n",
       "3773           3.316905  0.017241       3.283113       3.350696\n",
       "3774           3.317537  0.024344       3.269823       3.365250\n",
       "3775           3.317453  0.029186       3.260250       3.374656\n",
       "3776           3.317725  0.033225       3.252604       3.382846\n",
       "3777           3.317736  0.036598       3.246005       3.389467\n",
       "...                 ...       ...            ...            ...\n",
       "4687           3.318091  0.428607       2.478037       4.158145\n",
       "4688           3.318091  0.428840       2.477580       4.158603\n",
       "4689           3.318091  0.429074       2.477122       4.159060\n",
       "4690           3.318091  0.429307       2.476665       4.159517\n",
       "4691           3.318091  0.429540       2.476208       4.159974\n",
       "\n",
       "[919 rows x 4 columns]"
      ]
     },
     "execution_count": 87,
     "metadata": {},
     "output_type": "execute_result"
    }
   ],
   "source": [
    "forecast.summary_frame()"
   ]
  },
  {
   "cell_type": "code",
   "execution_count": 102,
   "id": "3ac13ed5",
   "metadata": {},
   "outputs": [
    {
     "data": {
      "text/html": [
       "<div>\n",
       "<style scoped>\n",
       "    .dataframe tbody tr th:only-of-type {\n",
       "        vertical-align: middle;\n",
       "    }\n",
       "\n",
       "    .dataframe tbody tr th {\n",
       "        vertical-align: top;\n",
       "    }\n",
       "\n",
       "    .dataframe thead th {\n",
       "        text-align: right;\n",
       "    }\n",
       "</style>\n",
       "<table border=\"1\" class=\"dataframe\">\n",
       "  <thead>\n",
       "    <tr style=\"text-align: right;\">\n",
       "      <th></th>\n",
       "      <th>ticker</th>\n",
       "      <th>open</th>\n",
       "      <th>close</th>\n",
       "      <th>adj_close</th>\n",
       "      <th>low</th>\n",
       "      <th>high</th>\n",
       "      <th>volume</th>\n",
       "      <th>sector</th>\n",
       "      <th>log_adj_close</th>\n",
       "    </tr>\n",
       "    <tr>\n",
       "      <th>date</th>\n",
       "      <th></th>\n",
       "      <th></th>\n",
       "      <th></th>\n",
       "      <th></th>\n",
       "      <th></th>\n",
       "      <th></th>\n",
       "      <th></th>\n",
       "      <th></th>\n",
       "      <th></th>\n",
       "    </tr>\n",
       "  </thead>\n",
       "  <tbody>\n",
       "    <tr>\n",
       "      <th>2015-01-02</th>\n",
       "      <td>T</td>\n",
       "      <td>33.590000</td>\n",
       "      <td>33.869999</td>\n",
       "      <td>27.816797</td>\n",
       "      <td>33.590000</td>\n",
       "      <td>33.970001</td>\n",
       "      <td>20564000</td>\n",
       "      <td>PUBLIC UTILITIES</td>\n",
       "      <td>3.325640</td>\n",
       "    </tr>\n",
       "    <tr>\n",
       "      <th>2015-01-05</th>\n",
       "      <td>T</td>\n",
       "      <td>33.869999</td>\n",
       "      <td>33.549999</td>\n",
       "      <td>27.553989</td>\n",
       "      <td>33.520000</td>\n",
       "      <td>33.919998</td>\n",
       "      <td>30429100</td>\n",
       "      <td>PUBLIC UTILITIES</td>\n",
       "      <td>3.316147</td>\n",
       "    </tr>\n",
       "    <tr>\n",
       "      <th>2015-01-06</th>\n",
       "      <td>T</td>\n",
       "      <td>33.770000</td>\n",
       "      <td>33.599998</td>\n",
       "      <td>27.595049</td>\n",
       "      <td>33.349998</td>\n",
       "      <td>33.810001</td>\n",
       "      <td>29595800</td>\n",
       "      <td>PUBLIC UTILITIES</td>\n",
       "      <td>3.317636</td>\n",
       "    </tr>\n",
       "    <tr>\n",
       "      <th>2015-01-07</th>\n",
       "      <td>T</td>\n",
       "      <td>33.580002</td>\n",
       "      <td>33.169998</td>\n",
       "      <td>27.628361</td>\n",
       "      <td>32.730000</td>\n",
       "      <td>33.590000</td>\n",
       "      <td>31660000</td>\n",
       "      <td>PUBLIC UTILITIES</td>\n",
       "      <td>3.318843</td>\n",
       "    </tr>\n",
       "    <tr>\n",
       "      <th>2015-01-08</th>\n",
       "      <td>T</td>\n",
       "      <td>33.240002</td>\n",
       "      <td>33.500000</td>\n",
       "      <td>27.903236</td>\n",
       "      <td>33.150002</td>\n",
       "      <td>33.580002</td>\n",
       "      <td>22799800</td>\n",
       "      <td>PUBLIC UTILITIES</td>\n",
       "      <td>3.328743</td>\n",
       "    </tr>\n",
       "  </tbody>\n",
       "</table>\n",
       "</div>"
      ],
      "text/plain": [
       "           ticker       open      close  adj_close        low       high  \\\n",
       "date                                                                       \n",
       "2015-01-02      T  33.590000  33.869999  27.816797  33.590000  33.970001   \n",
       "2015-01-05      T  33.869999  33.549999  27.553989  33.520000  33.919998   \n",
       "2015-01-06      T  33.770000  33.599998  27.595049  33.349998  33.810001   \n",
       "2015-01-07      T  33.580002  33.169998  27.628361  32.730000  33.590000   \n",
       "2015-01-08      T  33.240002  33.500000  27.903236  33.150002  33.580002   \n",
       "\n",
       "              volume            sector  log_adj_close  \n",
       "date                                                   \n",
       "2015-01-02  20564000  PUBLIC UTILITIES       3.325640  \n",
       "2015-01-05  30429100  PUBLIC UTILITIES       3.316147  \n",
       "2015-01-06  29595800  PUBLIC UTILITIES       3.317636  \n",
       "2015-01-07  31660000  PUBLIC UTILITIES       3.318843  \n",
       "2015-01-08  22799800  PUBLIC UTILITIES       3.328743  "
      ]
     },
     "execution_count": 102,
     "metadata": {},
     "output_type": "execute_result"
    }
   ],
   "source": [
    "df_telekom_test.head()"
   ]
  },
  {
   "cell_type": "code",
   "execution_count": 106,
   "id": "c05f296f",
   "metadata": {},
   "outputs": [
    {
     "data": {
      "text/plain": [
       "Timestamp('2000-01-03 00:00:00')"
      ]
     },
     "execution_count": 106,
     "metadata": {},
     "output_type": "execute_result"
    }
   ],
   "source": [
    "df_telekom_train.index[0]"
   ]
  },
  {
   "cell_type": "code",
   "execution_count": 121,
   "id": "3a85773c",
   "metadata": {},
   "outputs": [
    {
     "name": "stderr",
     "output_type": "stream",
     "text": [
      "/home/luis/.pyenv/versions/3.8.6/envs/stock_prices_predictions/lib/python3.8/site-packages/statsmodels/tsa/base/tsa_model.py:376: ValueWarning: No supported index is available. Prediction results will be given with an integer index beginning at `start`.\n",
      "  warnings.warn('No supported index is available.'\n"
     ]
    }
   ],
   "source": [
    "#Forecast\n",
    "n_periods = len(df_telekom_test[\"log_adj_close\"])\n",
    "start = len(df_telekom_train)\n",
    "end = start + len(df_telekom_test) \n",
    "forecast_predict = model_fit.get_prediction(start = start, end = end)\n",
    "index_y_test = df_telekom_test.index "
   ]
  },
  {
   "cell_type": "code",
   "execution_count": 122,
   "id": "8922bcaa",
   "metadata": {},
   "outputs": [
    {
     "data": {
      "text/html": [
       "<div>\n",
       "<style scoped>\n",
       "    .dataframe tbody tr th:only-of-type {\n",
       "        vertical-align: middle;\n",
       "    }\n",
       "\n",
       "    .dataframe tbody tr th {\n",
       "        vertical-align: top;\n",
       "    }\n",
       "\n",
       "    .dataframe thead th {\n",
       "        text-align: right;\n",
       "    }\n",
       "</style>\n",
       "<table border=\"1\" class=\"dataframe\">\n",
       "  <thead>\n",
       "    <tr style=\"text-align: right;\">\n",
       "      <th>log_adj_close</th>\n",
       "      <th>mean</th>\n",
       "      <th>mean_se</th>\n",
       "      <th>mean_ci_lower</th>\n",
       "      <th>mean_ci_upper</th>\n",
       "    </tr>\n",
       "  </thead>\n",
       "  <tbody>\n",
       "    <tr>\n",
       "      <th>3773</th>\n",
       "      <td>3.316905</td>\n",
       "      <td>0.017241</td>\n",
       "      <td>3.283113</td>\n",
       "      <td>3.350696</td>\n",
       "    </tr>\n",
       "    <tr>\n",
       "      <th>3774</th>\n",
       "      <td>3.317537</td>\n",
       "      <td>0.024344</td>\n",
       "      <td>3.269823</td>\n",
       "      <td>3.365250</td>\n",
       "    </tr>\n",
       "    <tr>\n",
       "      <th>3775</th>\n",
       "      <td>3.317453</td>\n",
       "      <td>0.029186</td>\n",
       "      <td>3.260250</td>\n",
       "      <td>3.374656</td>\n",
       "    </tr>\n",
       "    <tr>\n",
       "      <th>3776</th>\n",
       "      <td>3.317725</td>\n",
       "      <td>0.033225</td>\n",
       "      <td>3.252604</td>\n",
       "      <td>3.382846</td>\n",
       "    </tr>\n",
       "    <tr>\n",
       "      <th>3777</th>\n",
       "      <td>3.317736</td>\n",
       "      <td>0.036598</td>\n",
       "      <td>3.246005</td>\n",
       "      <td>3.389467</td>\n",
       "    </tr>\n",
       "    <tr>\n",
       "      <th>...</th>\n",
       "      <td>...</td>\n",
       "      <td>...</td>\n",
       "      <td>...</td>\n",
       "      <td>...</td>\n",
       "    </tr>\n",
       "    <tr>\n",
       "      <th>4688</th>\n",
       "      <td>3.318091</td>\n",
       "      <td>0.428840</td>\n",
       "      <td>2.477580</td>\n",
       "      <td>4.158603</td>\n",
       "    </tr>\n",
       "    <tr>\n",
       "      <th>4689</th>\n",
       "      <td>3.318091</td>\n",
       "      <td>0.429074</td>\n",
       "      <td>2.477122</td>\n",
       "      <td>4.159060</td>\n",
       "    </tr>\n",
       "    <tr>\n",
       "      <th>4690</th>\n",
       "      <td>3.318091</td>\n",
       "      <td>0.429307</td>\n",
       "      <td>2.476665</td>\n",
       "      <td>4.159517</td>\n",
       "    </tr>\n",
       "    <tr>\n",
       "      <th>4691</th>\n",
       "      <td>3.318091</td>\n",
       "      <td>0.429540</td>\n",
       "      <td>2.476208</td>\n",
       "      <td>4.159974</td>\n",
       "    </tr>\n",
       "    <tr>\n",
       "      <th>4692</th>\n",
       "      <td>3.318091</td>\n",
       "      <td>0.429773</td>\n",
       "      <td>2.475751</td>\n",
       "      <td>4.160431</td>\n",
       "    </tr>\n",
       "  </tbody>\n",
       "</table>\n",
       "<p>920 rows × 4 columns</p>\n",
       "</div>"
      ],
      "text/plain": [
       "log_adj_close      mean   mean_se  mean_ci_lower  mean_ci_upper\n",
       "3773           3.316905  0.017241       3.283113       3.350696\n",
       "3774           3.317537  0.024344       3.269823       3.365250\n",
       "3775           3.317453  0.029186       3.260250       3.374656\n",
       "3776           3.317725  0.033225       3.252604       3.382846\n",
       "3777           3.317736  0.036598       3.246005       3.389467\n",
       "...                 ...       ...            ...            ...\n",
       "4688           3.318091  0.428840       2.477580       4.158603\n",
       "4689           3.318091  0.429074       2.477122       4.159060\n",
       "4690           3.318091  0.429307       2.476665       4.159517\n",
       "4691           3.318091  0.429540       2.476208       4.159974\n",
       "4692           3.318091  0.429773       2.475751       4.160431\n",
       "\n",
       "[920 rows x 4 columns]"
      ]
     },
     "execution_count": 122,
     "metadata": {},
     "output_type": "execute_result"
    }
   ],
   "source": [
    "forecast_predict.summary_frame()"
   ]
  },
  {
   "cell_type": "code",
   "execution_count": 123,
   "id": "85d905c3",
   "metadata": {},
   "outputs": [
    {
     "data": {
      "text/html": [
       "<div>\n",
       "<style scoped>\n",
       "    .dataframe tbody tr th:only-of-type {\n",
       "        vertical-align: middle;\n",
       "    }\n",
       "\n",
       "    .dataframe tbody tr th {\n",
       "        vertical-align: top;\n",
       "    }\n",
       "\n",
       "    .dataframe thead th {\n",
       "        text-align: right;\n",
       "    }\n",
       "</style>\n",
       "<table border=\"1\" class=\"dataframe\">\n",
       "  <thead>\n",
       "    <tr style=\"text-align: right;\">\n",
       "      <th>log_adj_close</th>\n",
       "      <th>mean</th>\n",
       "      <th>mean_se</th>\n",
       "      <th>mean_ci_lower</th>\n",
       "      <th>mean_ci_upper</th>\n",
       "    </tr>\n",
       "  </thead>\n",
       "  <tbody>\n",
       "    <tr>\n",
       "      <th>3773</th>\n",
       "      <td>3.316905</td>\n",
       "      <td>0.017241</td>\n",
       "      <td>3.283113</td>\n",
       "      <td>3.350696</td>\n",
       "    </tr>\n",
       "    <tr>\n",
       "      <th>3774</th>\n",
       "      <td>3.317537</td>\n",
       "      <td>0.024344</td>\n",
       "      <td>3.269823</td>\n",
       "      <td>3.365250</td>\n",
       "    </tr>\n",
       "    <tr>\n",
       "      <th>3775</th>\n",
       "      <td>3.317453</td>\n",
       "      <td>0.029186</td>\n",
       "      <td>3.260250</td>\n",
       "      <td>3.374656</td>\n",
       "    </tr>\n",
       "    <tr>\n",
       "      <th>3776</th>\n",
       "      <td>3.317725</td>\n",
       "      <td>0.033225</td>\n",
       "      <td>3.252604</td>\n",
       "      <td>3.382846</td>\n",
       "    </tr>\n",
       "    <tr>\n",
       "      <th>3777</th>\n",
       "      <td>3.317736</td>\n",
       "      <td>0.036598</td>\n",
       "      <td>3.246005</td>\n",
       "      <td>3.389467</td>\n",
       "    </tr>\n",
       "  </tbody>\n",
       "</table>\n",
       "</div>"
      ],
      "text/plain": [
       "log_adj_close      mean   mean_se  mean_ci_lower  mean_ci_upper\n",
       "3773           3.316905  0.017241       3.283113       3.350696\n",
       "3774           3.317537  0.024344       3.269823       3.365250\n",
       "3775           3.317453  0.029186       3.260250       3.374656\n",
       "3776           3.317725  0.033225       3.252604       3.382846\n",
       "3777           3.317736  0.036598       3.246005       3.389467"
      ]
     },
     "execution_count": 123,
     "metadata": {},
     "output_type": "execute_result"
    }
   ],
   "source": [
    "#Putting it into a dataframe\n",
    "forecast_predict_df = forecast_predict.summary_frame()\n",
    "forecast_predict_df.head()"
   ]
  },
  {
   "cell_type": "code",
   "execution_count": 124,
   "id": "1b121b1c",
   "metadata": {},
   "outputs": [
    {
     "data": {
      "text/html": [
       "<div>\n",
       "<style scoped>\n",
       "    .dataframe tbody tr th:only-of-type {\n",
       "        vertical-align: middle;\n",
       "    }\n",
       "\n",
       "    .dataframe tbody tr th {\n",
       "        vertical-align: top;\n",
       "    }\n",
       "\n",
       "    .dataframe thead th {\n",
       "        text-align: right;\n",
       "    }\n",
       "</style>\n",
       "<table border=\"1\" class=\"dataframe\">\n",
       "  <thead>\n",
       "    <tr style=\"text-align: right;\">\n",
       "      <th>log_adj_close</th>\n",
       "      <th>mean</th>\n",
       "      <th>mean_se</th>\n",
       "      <th>mean_ci_lower</th>\n",
       "      <th>mean_ci_upper</th>\n",
       "    </tr>\n",
       "  </thead>\n",
       "  <tbody>\n",
       "    <tr>\n",
       "      <th>count</th>\n",
       "      <td>920.000000</td>\n",
       "      <td>920.000000</td>\n",
       "      <td>920.000000</td>\n",
       "      <td>920.000000</td>\n",
       "    </tr>\n",
       "    <tr>\n",
       "      <th>mean</th>\n",
       "      <td>3.318087</td>\n",
       "      <td>0.287388</td>\n",
       "      <td>2.754815</td>\n",
       "      <td>3.881358</td>\n",
       "    </tr>\n",
       "    <tr>\n",
       "      <th>std</th>\n",
       "      <td>0.000052</td>\n",
       "      <td>0.100496</td>\n",
       "      <td>0.196957</td>\n",
       "      <td>0.196981</td>\n",
       "    </tr>\n",
       "    <tr>\n",
       "      <th>min</th>\n",
       "      <td>3.316905</td>\n",
       "      <td>0.017241</td>\n",
       "      <td>2.475751</td>\n",
       "      <td>3.350696</td>\n",
       "    </tr>\n",
       "    <tr>\n",
       "      <th>25%</th>\n",
       "      <td>3.318091</td>\n",
       "      <td>0.216034</td>\n",
       "      <td>2.588169</td>\n",
       "      <td>3.741511</td>\n",
       "    </tr>\n",
       "    <tr>\n",
       "      <th>50%</th>\n",
       "      <td>3.318091</td>\n",
       "      <td>0.304438</td>\n",
       "      <td>2.721404</td>\n",
       "      <td>3.914778</td>\n",
       "    </tr>\n",
       "    <tr>\n",
       "      <th>75%</th>\n",
       "      <td>3.318091</td>\n",
       "      <td>0.372416</td>\n",
       "      <td>2.894671</td>\n",
       "      <td>4.048013</td>\n",
       "    </tr>\n",
       "    <tr>\n",
       "      <th>max</th>\n",
       "      <td>3.318091</td>\n",
       "      <td>0.429773</td>\n",
       "      <td>3.283113</td>\n",
       "      <td>4.160431</td>\n",
       "    </tr>\n",
       "  </tbody>\n",
       "</table>\n",
       "</div>"
      ],
      "text/plain": [
       "log_adj_close        mean     mean_se  mean_ci_lower  mean_ci_upper\n",
       "count          920.000000  920.000000     920.000000     920.000000\n",
       "mean             3.318087    0.287388       2.754815       3.881358\n",
       "std              0.000052    0.100496       0.196957       0.196981\n",
       "min              3.316905    0.017241       2.475751       3.350696\n",
       "25%              3.318091    0.216034       2.588169       3.741511\n",
       "50%              3.318091    0.304438       2.721404       3.914778\n",
       "75%              3.318091    0.372416       2.894671       4.048013\n",
       "max              3.318091    0.429773       3.283113       4.160431"
      ]
     },
     "execution_count": 124,
     "metadata": {},
     "output_type": "execute_result"
    }
   ],
   "source": [
    "forecast_predict_df.describe()"
   ]
  },
  {
   "cell_type": "code",
   "execution_count": 111,
   "id": "a8c50f34",
   "metadata": {},
   "outputs": [],
   "source": [
    "#forecast_predict_df = forecast_predict_df.iloc[1:] "
   ]
  },
  {
   "cell_type": "code",
   "execution_count": 112,
   "id": "da2cb930",
   "metadata": {},
   "outputs": [
    {
     "data": {
      "text/plain": [
       "pandas.core.frame.DataFrame"
      ]
     },
     "execution_count": 112,
     "metadata": {},
     "output_type": "execute_result"
    }
   ],
   "source": [
    "type(forecast_predict_df)"
   ]
  },
  {
   "cell_type": "code",
   "execution_count": 113,
   "id": "56dadc1b",
   "metadata": {},
   "outputs": [],
   "source": [
    "#I make the log to run the SARIMA Model\n",
    "#forecast_predict_df[\"log_adj_close\"] = forecast_predict_df[\"mean\"].apply(lambda x: math.log(x))\n",
    "#forecast_predict_df[\"log_mean_ci_lower\"] = forecast_predict_df[\"mean_ci_lower\"].apply(lambda x: math.log(x))\n",
    "#forecast_predict_df[\"log_mean_ci_upper\"] = forecast_predict_df[\"mean_ci_upper\"].apply(lambda x: math.log(x))"
   ]
  },
  {
   "cell_type": "code",
   "execution_count": 125,
   "id": "845ee18a",
   "metadata": {},
   "outputs": [
    {
     "data": {
      "text/html": [
       "<div>\n",
       "<style scoped>\n",
       "    .dataframe tbody tr th:only-of-type {\n",
       "        vertical-align: middle;\n",
       "    }\n",
       "\n",
       "    .dataframe tbody tr th {\n",
       "        vertical-align: top;\n",
       "    }\n",
       "\n",
       "    .dataframe thead th {\n",
       "        text-align: right;\n",
       "    }\n",
       "</style>\n",
       "<table border=\"1\" class=\"dataframe\">\n",
       "  <thead>\n",
       "    <tr style=\"text-align: right;\">\n",
       "      <th>log_adj_close</th>\n",
       "      <th>mean</th>\n",
       "      <th>mean_se</th>\n",
       "      <th>mean_ci_lower</th>\n",
       "      <th>mean_ci_upper</th>\n",
       "    </tr>\n",
       "  </thead>\n",
       "  <tbody>\n",
       "    <tr>\n",
       "      <th>3773</th>\n",
       "      <td>3.316905</td>\n",
       "      <td>0.017241</td>\n",
       "      <td>3.283113</td>\n",
       "      <td>3.350696</td>\n",
       "    </tr>\n",
       "    <tr>\n",
       "      <th>3774</th>\n",
       "      <td>3.317537</td>\n",
       "      <td>0.024344</td>\n",
       "      <td>3.269823</td>\n",
       "      <td>3.365250</td>\n",
       "    </tr>\n",
       "    <tr>\n",
       "      <th>3775</th>\n",
       "      <td>3.317453</td>\n",
       "      <td>0.029186</td>\n",
       "      <td>3.260250</td>\n",
       "      <td>3.374656</td>\n",
       "    </tr>\n",
       "    <tr>\n",
       "      <th>3776</th>\n",
       "      <td>3.317725</td>\n",
       "      <td>0.033225</td>\n",
       "      <td>3.252604</td>\n",
       "      <td>3.382846</td>\n",
       "    </tr>\n",
       "    <tr>\n",
       "      <th>3777</th>\n",
       "      <td>3.317736</td>\n",
       "      <td>0.036598</td>\n",
       "      <td>3.246005</td>\n",
       "      <td>3.389467</td>\n",
       "    </tr>\n",
       "  </tbody>\n",
       "</table>\n",
       "</div>"
      ],
      "text/plain": [
       "log_adj_close      mean   mean_se  mean_ci_lower  mean_ci_upper\n",
       "3773           3.316905  0.017241       3.283113       3.350696\n",
       "3774           3.317537  0.024344       3.269823       3.365250\n",
       "3775           3.317453  0.029186       3.260250       3.374656\n",
       "3776           3.317725  0.033225       3.252604       3.382846\n",
       "3777           3.317736  0.036598       3.246005       3.389467"
      ]
     },
     "execution_count": 125,
     "metadata": {},
     "output_type": "execute_result"
    }
   ],
   "source": [
    "forecast_predict_df.head()"
   ]
  },
  {
   "cell_type": "code",
   "execution_count": 126,
   "id": "f2dbe786",
   "metadata": {},
   "outputs": [],
   "source": [
    "#add a column with the exponential form of my predictions (from forecast_predict_df)\n",
    "forecast_predict_df[\"exp_adj_close\"] = forecast_predict_df[\"mean\"].apply(lambda x: math.exp(x))\n",
    "forecast_predict_df[\"exp_mean_ci_lower\"] = forecast_predict_df[\"mean_ci_lower\"].apply(lambda x: math.exp(x))\n",
    "forecast_predict_df[\"exp_mean_ci_upper\"] = forecast_predict_df[\"mean_ci_upper\"].apply(lambda x: math.exp(x))\n"
   ]
  },
  {
   "cell_type": "code",
   "execution_count": 127,
   "id": "7c389d58",
   "metadata": {},
   "outputs": [
    {
     "data": {
      "text/html": [
       "<div>\n",
       "<style scoped>\n",
       "    .dataframe tbody tr th:only-of-type {\n",
       "        vertical-align: middle;\n",
       "    }\n",
       "\n",
       "    .dataframe tbody tr th {\n",
       "        vertical-align: top;\n",
       "    }\n",
       "\n",
       "    .dataframe thead th {\n",
       "        text-align: right;\n",
       "    }\n",
       "</style>\n",
       "<table border=\"1\" class=\"dataframe\">\n",
       "  <thead>\n",
       "    <tr style=\"text-align: right;\">\n",
       "      <th>log_adj_close</th>\n",
       "      <th>mean</th>\n",
       "      <th>mean_se</th>\n",
       "      <th>mean_ci_lower</th>\n",
       "      <th>mean_ci_upper</th>\n",
       "      <th>exp_adj_close</th>\n",
       "      <th>exp_mean_ci_lower</th>\n",
       "      <th>exp_mean_ci_upper</th>\n",
       "    </tr>\n",
       "    <tr>\n",
       "      <th>date</th>\n",
       "      <th></th>\n",
       "      <th></th>\n",
       "      <th></th>\n",
       "      <th></th>\n",
       "      <th></th>\n",
       "      <th></th>\n",
       "      <th></th>\n",
       "    </tr>\n",
       "  </thead>\n",
       "  <tbody>\n",
       "    <tr>\n",
       "      <th>2015-01-02</th>\n",
       "      <td>3.317397</td>\n",
       "      <td>0.017254</td>\n",
       "      <td>3.283580</td>\n",
       "      <td>3.351215</td>\n",
       "      <td>27.588455</td>\n",
       "      <td>26.671078</td>\n",
       "      <td>28.537387</td>\n",
       "    </tr>\n",
       "    <tr>\n",
       "      <th>2015-01-05</th>\n",
       "      <td>3.318314</td>\n",
       "      <td>0.024365</td>\n",
       "      <td>3.270560</td>\n",
       "      <td>3.366068</td>\n",
       "      <td>27.613751</td>\n",
       "      <td>26.326074</td>\n",
       "      <td>28.964412</td>\n",
       "    </tr>\n",
       "    <tr>\n",
       "      <th>2015-01-06</th>\n",
       "      <td>3.318587</td>\n",
       "      <td>0.029211</td>\n",
       "      <td>3.261335</td>\n",
       "      <td>3.375840</td>\n",
       "      <td>27.621300</td>\n",
       "      <td>26.084324</td>\n",
       "      <td>29.248840</td>\n",
       "    </tr>\n",
       "    <tr>\n",
       "      <th>2015-01-07</th>\n",
       "      <td>3.318669</td>\n",
       "      <td>0.033205</td>\n",
       "      <td>3.253588</td>\n",
       "      <td>3.383749</td>\n",
       "      <td>27.623552</td>\n",
       "      <td>25.883045</td>\n",
       "      <td>29.481100</td>\n",
       "    </tr>\n",
       "    <tr>\n",
       "      <th>2015-01-08</th>\n",
       "      <td>3.318693</td>\n",
       "      <td>0.036726</td>\n",
       "      <td>3.246711</td>\n",
       "      <td>3.390675</td>\n",
       "      <td>27.624223</td>\n",
       "      <td>25.705659</td>\n",
       "      <td>29.685981</td>\n",
       "    </tr>\n",
       "  </tbody>\n",
       "</table>\n",
       "</div>"
      ],
      "text/plain": [
       "log_adj_close      mean   mean_se  mean_ci_lower  mean_ci_upper  \\\n",
       "date                                                              \n",
       "2015-01-02     3.317397  0.017254       3.283580       3.351215   \n",
       "2015-01-05     3.318314  0.024365       3.270560       3.366068   \n",
       "2015-01-06     3.318587  0.029211       3.261335       3.375840   \n",
       "2015-01-07     3.318669  0.033205       3.253588       3.383749   \n",
       "2015-01-08     3.318693  0.036726       3.246711       3.390675   \n",
       "\n",
       "log_adj_close  exp_adj_close  exp_mean_ci_lower  exp_mean_ci_upper  \n",
       "date                                                                \n",
       "2015-01-02         27.588455          26.671078          28.537387  \n",
       "2015-01-05         27.613751          26.326074          28.964412  \n",
       "2015-01-06         27.621300          26.084324          29.248840  \n",
       "2015-01-07         27.623552          25.883045          29.481100  \n",
       "2015-01-08         27.624223          25.705659          29.685981  "
      ]
     },
     "execution_count": 127,
     "metadata": {},
     "output_type": "execute_result"
    }
   ],
   "source": [
    "forecast_df.head()"
   ]
  },
  {
   "cell_type": "code",
   "execution_count": null,
   "id": "13fe9326",
   "metadata": {},
   "outputs": [],
   "source": []
  },
  {
   "cell_type": "code",
   "execution_count": 68,
   "id": "7846d94a",
   "metadata": {},
   "outputs": [
    {
     "data": {
      "text/plain": [
       "DatetimeIndex(['2015-01-02', '2015-01-05', '2015-01-06', '2015-01-07',\n",
       "               '2015-01-08', '2015-01-09', '2015-01-12', '2015-01-13',\n",
       "               '2015-01-14', '2015-01-15',\n",
       "               ...\n",
       "               '2018-08-13', '2018-08-14', '2018-08-15', '2018-08-16',\n",
       "               '2018-08-17', '2018-08-20', '2018-08-21', '2018-08-22',\n",
       "               '2018-08-23', '2018-08-24'],\n",
       "              dtype='datetime64[ns]', name='date', length=919, freq=None)"
      ]
     },
     "execution_count": 68,
     "metadata": {},
     "output_type": "execute_result"
    }
   ],
   "source": [
    "central_new.index"
   ]
  },
  {
   "cell_type": "code",
   "execution_count": 70,
   "id": "19491800",
   "metadata": {},
   "outputs": [
    {
     "data": {
      "text/plain": [
       "DatetimeIndex(['2015-01-02', '2015-01-05', '2015-01-06', '2015-01-07',\n",
       "               '2015-01-08', '2015-01-09', '2015-01-12', '2015-01-13',\n",
       "               '2015-01-14', '2015-01-15',\n",
       "               ...\n",
       "               '2018-08-13', '2018-08-14', '2018-08-15', '2018-08-16',\n",
       "               '2018-08-17', '2018-08-20', '2018-08-21', '2018-08-22',\n",
       "               '2018-08-23', '2018-08-24'],\n",
       "              dtype='datetime64[ns]', name='date', length=919, freq=None)"
      ]
     },
     "execution_count": 70,
     "metadata": {},
     "output_type": "execute_result"
    }
   ],
   "source": [
    "central.index"
   ]
  },
  {
   "cell_type": "code",
   "execution_count": null,
   "id": "58fd20dd",
   "metadata": {},
   "outputs": [],
   "source": [
    "forecast_predict_df = forecast_predict_df.iloc[1:] "
   ]
  },
  {
   "cell_type": "code",
   "execution_count": 140,
   "id": "23a1378e",
   "metadata": {},
   "outputs": [],
   "source": [
    "central_new = pd.Series(forecast_predict_df[\"exp_adj_close\"].values, index=df_telekom_test.index)\n",
    "lower_new = pd.Series(forecast_predict_df[\"exp_mean_ci_lower\"], index=df_telekom_test.index)\n",
    "upper_new = pd.Series(forecast_predict_df[\"exp_mean_ci_upper\"], index=df_telekom_test.index)"
   ]
  },
  {
   "cell_type": "code",
   "execution_count": 139,
   "id": "2e2d119f",
   "metadata": {},
   "outputs": [
    {
     "data": {
      "text/plain": [
       "array([27.59229353, 27.58999895, 27.59749034, 27.59779744, 27.60125096,\n",
       "       27.60201164, 27.60371496, 27.60436644, 27.60525621, 27.60571178,\n",
       "       27.6061973 , 27.60649127, 27.60676436, 27.60694682, 27.6071035 ,\n",
       "       27.60721444, 27.60730546, 27.60737215, 27.60742543, 27.60746526,\n",
       "       27.60749659, 27.6075203 , 27.60753877, 27.60755284, 27.60756375,\n",
       "       27.6075721 , 27.60757855, 27.60758349, 27.60758731, 27.60759024,\n",
       "       27.60759249, 27.60759423, 27.60759556, 27.60759659, 27.60759738,\n",
       "       27.60759799, 27.60759846, 27.60759882, 27.60759909, 27.60759931,\n",
       "       27.60759947, 27.6075996 , 27.60759969, 27.60759977, 27.60759983,\n",
       "       27.60759987, 27.6075999 , 27.60759993, 27.60759995, 27.60759997,\n",
       "       27.60759998, 27.60759999, 27.60759999, 27.6076    , 27.6076    ,\n",
       "       27.60760001, 27.60760001, 27.60760001, 27.60760001, 27.60760001,\n",
       "       27.60760001, 27.60760002, 27.60760002, 27.60760002, 27.60760002,\n",
       "       27.60760002, 27.60760002, 27.60760002, 27.60760002, 27.60760002,\n",
       "       27.60760002, 27.60760002, 27.60760002, 27.60760002, 27.60760002,\n",
       "       27.60760002, 27.60760002, 27.60760002, 27.60760002, 27.60760002,\n",
       "       27.60760002, 27.60760002, 27.60760002, 27.60760002, 27.60760002,\n",
       "       27.60760002, 27.60760002, 27.60760002, 27.60760002, 27.60760002,\n",
       "       27.60760002, 27.60760002, 27.60760002, 27.60760002, 27.60760002,\n",
       "       27.60760002, 27.60760002, 27.60760002, 27.60760002, 27.60760002,\n",
       "       27.60760002, 27.60760002, 27.60760002, 27.60760002, 27.60760002,\n",
       "       27.60760002, 27.60760002, 27.60760002, 27.60760002, 27.60760002,\n",
       "       27.60760002, 27.60760002, 27.60760002, 27.60760002, 27.60760002,\n",
       "       27.60760002, 27.60760002, 27.60760002, 27.60760002, 27.60760002,\n",
       "       27.60760002, 27.60760002, 27.60760002, 27.60760002, 27.60760002,\n",
       "       27.60760002, 27.60760002, 27.60760002, 27.60760002, 27.60760002,\n",
       "       27.60760002, 27.60760002, 27.60760002, 27.60760002, 27.60760002,\n",
       "       27.60760002, 27.60760002, 27.60760002, 27.60760002, 27.60760002,\n",
       "       27.60760002, 27.60760002, 27.60760002, 27.60760002, 27.60760002,\n",
       "       27.60760002, 27.60760002, 27.60760002, 27.60760002, 27.60760002,\n",
       "       27.60760002, 27.60760002, 27.60760002, 27.60760002, 27.60760002,\n",
       "       27.60760002, 27.60760002, 27.60760002, 27.60760002, 27.60760002,\n",
       "       27.60760002, 27.60760002, 27.60760002, 27.60760002, 27.60760002,\n",
       "       27.60760002, 27.60760002, 27.60760002, 27.60760002, 27.60760002,\n",
       "       27.60760002, 27.60760002, 27.60760002, 27.60760002, 27.60760002,\n",
       "       27.60760002, 27.60760002, 27.60760002, 27.60760002, 27.60760002,\n",
       "       27.60760002, 27.60760002, 27.60760002, 27.60760002, 27.60760002,\n",
       "       27.60760002, 27.60760002, 27.60760002, 27.60760002, 27.60760002,\n",
       "       27.60760002, 27.60760002, 27.60760002, 27.60760002, 27.60760002,\n",
       "       27.60760002, 27.60760002, 27.60760002, 27.60760002, 27.60760002,\n",
       "       27.60760002, 27.60760002, 27.60760002, 27.60760002, 27.60760002,\n",
       "       27.60760002, 27.60760002, 27.60760002, 27.60760002, 27.60760002,\n",
       "       27.60760002, 27.60760002, 27.60760002, 27.60760002, 27.60760002,\n",
       "       27.60760002, 27.60760002, 27.60760002, 27.60760002, 27.60760002,\n",
       "       27.60760002, 27.60760002, 27.60760002, 27.60760002, 27.60760002,\n",
       "       27.60760002, 27.60760002, 27.60760002, 27.60760002, 27.60760002,\n",
       "       27.60760002, 27.60760002, 27.60760002, 27.60760002, 27.60760002,\n",
       "       27.60760002, 27.60760002, 27.60760002, 27.60760002, 27.60760002,\n",
       "       27.60760002, 27.60760002, 27.60760002, 27.60760002, 27.60760002,\n",
       "       27.60760002, 27.60760002, 27.60760002, 27.60760002, 27.60760002,\n",
       "       27.60760002, 27.60760002, 27.60760002, 27.60760002, 27.60760002,\n",
       "       27.60760002, 27.60760002, 27.60760002, 27.60760002, 27.60760002,\n",
       "       27.60760002, 27.60760002, 27.60760002, 27.60760002, 27.60760002,\n",
       "       27.60760002, 27.60760002, 27.60760002, 27.60760002, 27.60760002,\n",
       "       27.60760002, 27.60760002, 27.60760002, 27.60760002, 27.60760002,\n",
       "       27.60760002, 27.60760002, 27.60760002, 27.60760002, 27.60760002,\n",
       "       27.60760002, 27.60760002, 27.60760002, 27.60760002, 27.60760002,\n",
       "       27.60760002, 27.60760002, 27.60760002, 27.60760002, 27.60760002,\n",
       "       27.60760002, 27.60760002, 27.60760002, 27.60760002, 27.60760002,\n",
       "       27.60760002, 27.60760002, 27.60760002, 27.60760002, 27.60760002,\n",
       "       27.60760002, 27.60760002, 27.60760002, 27.60760002, 27.60760002,\n",
       "       27.60760002, 27.60760002, 27.60760002, 27.60760002, 27.60760002,\n",
       "       27.60760002, 27.60760002, 27.60760002, 27.60760002, 27.60760002,\n",
       "       27.60760002, 27.60760002, 27.60760002, 27.60760002, 27.60760002,\n",
       "       27.60760002, 27.60760002, 27.60760002, 27.60760002, 27.60760002,\n",
       "       27.60760002, 27.60760002, 27.60760002, 27.60760002, 27.60760002,\n",
       "       27.60760002, 27.60760002, 27.60760002, 27.60760002, 27.60760002,\n",
       "       27.60760002, 27.60760002, 27.60760002, 27.60760002, 27.60760002,\n",
       "       27.60760002, 27.60760002, 27.60760002, 27.60760002, 27.60760002,\n",
       "       27.60760002, 27.60760002, 27.60760002, 27.60760002, 27.60760002,\n",
       "       27.60760002, 27.60760002, 27.60760002, 27.60760002, 27.60760002,\n",
       "       27.60760002, 27.60760002, 27.60760002, 27.60760002, 27.60760002,\n",
       "       27.60760002, 27.60760002, 27.60760002, 27.60760002, 27.60760002,\n",
       "       27.60760002, 27.60760002, 27.60760002, 27.60760002, 27.60760002,\n",
       "       27.60760002, 27.60760002, 27.60760002, 27.60760002, 27.60760002,\n",
       "       27.60760002, 27.60760002, 27.60760002, 27.60760002, 27.60760002,\n",
       "       27.60760002, 27.60760002, 27.60760002, 27.60760002, 27.60760002,\n",
       "       27.60760002, 27.60760002, 27.60760002, 27.60760002, 27.60760002,\n",
       "       27.60760002, 27.60760002, 27.60760002, 27.60760002, 27.60760002,\n",
       "       27.60760002, 27.60760002, 27.60760002, 27.60760002, 27.60760002,\n",
       "       27.60760002, 27.60760002, 27.60760002, 27.60760002, 27.60760002,\n",
       "       27.60760002, 27.60760002, 27.60760002, 27.60760002, 27.60760002,\n",
       "       27.60760002, 27.60760002, 27.60760002, 27.60760002, 27.60760002,\n",
       "       27.60760002, 27.60760002, 27.60760002, 27.60760002, 27.60760002,\n",
       "       27.60760002, 27.60760002, 27.60760002, 27.60760002, 27.60760002,\n",
       "       27.60760002, 27.60760002, 27.60760002, 27.60760002, 27.60760002,\n",
       "       27.60760002, 27.60760002, 27.60760002, 27.60760002, 27.60760002,\n",
       "       27.60760002, 27.60760002, 27.60760002, 27.60760002, 27.60760002,\n",
       "       27.60760002, 27.60760002, 27.60760002, 27.60760002, 27.60760002,\n",
       "       27.60760002, 27.60760002, 27.60760002, 27.60760002, 27.60760002,\n",
       "       27.60760002, 27.60760002, 27.60760002, 27.60760002, 27.60760002,\n",
       "       27.60760002, 27.60760002, 27.60760002, 27.60760002, 27.60760002,\n",
       "       27.60760002, 27.60760002, 27.60760002, 27.60760002, 27.60760002,\n",
       "       27.60760002, 27.60760002, 27.60760002, 27.60760002, 27.60760002,\n",
       "       27.60760002, 27.60760002, 27.60760002, 27.60760002, 27.60760002,\n",
       "       27.60760002, 27.60760002, 27.60760002, 27.60760002, 27.60760002,\n",
       "       27.60760002, 27.60760002, 27.60760002, 27.60760002, 27.60760002,\n",
       "       27.60760002, 27.60760002, 27.60760002, 27.60760002, 27.60760002,\n",
       "       27.60760002, 27.60760002, 27.60760002, 27.60760002, 27.60760002,\n",
       "       27.60760002, 27.60760002, 27.60760002, 27.60760002, 27.60760002,\n",
       "       27.60760002, 27.60760002, 27.60760002, 27.60760002, 27.60760002,\n",
       "       27.60760002, 27.60760002, 27.60760002, 27.60760002, 27.60760002,\n",
       "       27.60760002, 27.60760002, 27.60760002, 27.60760002, 27.60760002,\n",
       "       27.60760002, 27.60760002, 27.60760002, 27.60760002, 27.60760002,\n",
       "       27.60760002, 27.60760002, 27.60760002, 27.60760002, 27.60760002,\n",
       "       27.60760002, 27.60760002, 27.60760002, 27.60760002, 27.60760002,\n",
       "       27.60760002, 27.60760002, 27.60760002, 27.60760002, 27.60760002,\n",
       "       27.60760002, 27.60760002, 27.60760002, 27.60760002, 27.60760002,\n",
       "       27.60760002, 27.60760002, 27.60760002, 27.60760002, 27.60760002,\n",
       "       27.60760002, 27.60760002, 27.60760002, 27.60760002, 27.60760002,\n",
       "       27.60760002, 27.60760002, 27.60760002, 27.60760002, 27.60760002,\n",
       "       27.60760002, 27.60760002, 27.60760002, 27.60760002, 27.60760002,\n",
       "       27.60760002, 27.60760002, 27.60760002, 27.60760002, 27.60760002,\n",
       "       27.60760002, 27.60760002, 27.60760002, 27.60760002, 27.60760002,\n",
       "       27.60760002, 27.60760002, 27.60760002, 27.60760002, 27.60760002,\n",
       "       27.60760002, 27.60760002, 27.60760002, 27.60760002, 27.60760002,\n",
       "       27.60760002, 27.60760002, 27.60760002, 27.60760002, 27.60760002,\n",
       "       27.60760002, 27.60760002, 27.60760002, 27.60760002, 27.60760002,\n",
       "       27.60760002, 27.60760002, 27.60760002, 27.60760002, 27.60760002,\n",
       "       27.60760002, 27.60760002, 27.60760002, 27.60760002, 27.60760002,\n",
       "       27.60760002, 27.60760002, 27.60760002, 27.60760002, 27.60760002,\n",
       "       27.60760002, 27.60760002, 27.60760002, 27.60760002, 27.60760002,\n",
       "       27.60760002, 27.60760002, 27.60760002, 27.60760002, 27.60760002,\n",
       "       27.60760002, 27.60760002, 27.60760002, 27.60760002, 27.60760002,\n",
       "       27.60760002, 27.60760002, 27.60760002, 27.60760002, 27.60760002,\n",
       "       27.60760002, 27.60760002, 27.60760002, 27.60760002, 27.60760002,\n",
       "       27.60760002, 27.60760002, 27.60760002, 27.60760002, 27.60760002,\n",
       "       27.60760002, 27.60760002, 27.60760002, 27.60760002, 27.60760002,\n",
       "       27.60760002, 27.60760002, 27.60760002, 27.60760002, 27.60760002,\n",
       "       27.60760002, 27.60760002, 27.60760002, 27.60760002, 27.60760002,\n",
       "       27.60760002, 27.60760002, 27.60760002, 27.60760002, 27.60760002,\n",
       "       27.60760002, 27.60760002, 27.60760002, 27.60760002, 27.60760002,\n",
       "       27.60760002, 27.60760002, 27.60760002, 27.60760002, 27.60760002,\n",
       "       27.60760002, 27.60760002, 27.60760002, 27.60760002, 27.60760002,\n",
       "       27.60760002, 27.60760002, 27.60760002, 27.60760002, 27.60760002,\n",
       "       27.60760002, 27.60760002, 27.60760002, 27.60760002, 27.60760002,\n",
       "       27.60760002, 27.60760002, 27.60760002, 27.60760002, 27.60760002,\n",
       "       27.60760002, 27.60760002, 27.60760002, 27.60760002, 27.60760002,\n",
       "       27.60760002, 27.60760002, 27.60760002, 27.60760002, 27.60760002,\n",
       "       27.60760002, 27.60760002, 27.60760002, 27.60760002, 27.60760002,\n",
       "       27.60760002, 27.60760002, 27.60760002, 27.60760002, 27.60760002,\n",
       "       27.60760002, 27.60760002, 27.60760002, 27.60760002, 27.60760002,\n",
       "       27.60760002, 27.60760002, 27.60760002, 27.60760002, 27.60760002,\n",
       "       27.60760002, 27.60760002, 27.60760002, 27.60760002, 27.60760002,\n",
       "       27.60760002, 27.60760002, 27.60760002, 27.60760002, 27.60760002,\n",
       "       27.60760002, 27.60760002, 27.60760002, 27.60760002, 27.60760002,\n",
       "       27.60760002, 27.60760002, 27.60760002, 27.60760002, 27.60760002,\n",
       "       27.60760002, 27.60760002, 27.60760002, 27.60760002, 27.60760002,\n",
       "       27.60760002, 27.60760002, 27.60760002, 27.60760002, 27.60760002,\n",
       "       27.60760002, 27.60760002, 27.60760002, 27.60760002, 27.60760002,\n",
       "       27.60760002, 27.60760002, 27.60760002, 27.60760002, 27.60760002,\n",
       "       27.60760002, 27.60760002, 27.60760002, 27.60760002, 27.60760002,\n",
       "       27.60760002, 27.60760002, 27.60760002, 27.60760002, 27.60760002,\n",
       "       27.60760002, 27.60760002, 27.60760002, 27.60760002, 27.60760002,\n",
       "       27.60760002, 27.60760002, 27.60760002, 27.60760002, 27.60760002,\n",
       "       27.60760002, 27.60760002, 27.60760002, 27.60760002, 27.60760002,\n",
       "       27.60760002, 27.60760002, 27.60760002, 27.60760002, 27.60760002,\n",
       "       27.60760002, 27.60760002, 27.60760002, 27.60760002, 27.60760002,\n",
       "       27.60760002, 27.60760002, 27.60760002, 27.60760002, 27.60760002,\n",
       "       27.60760002, 27.60760002, 27.60760002, 27.60760002, 27.60760002,\n",
       "       27.60760002, 27.60760002, 27.60760002, 27.60760002, 27.60760002,\n",
       "       27.60760002, 27.60760002, 27.60760002, 27.60760002, 27.60760002,\n",
       "       27.60760002, 27.60760002, 27.60760002, 27.60760002, 27.60760002,\n",
       "       27.60760002, 27.60760002, 27.60760002, 27.60760002, 27.60760002,\n",
       "       27.60760002, 27.60760002, 27.60760002, 27.60760002, 27.60760002,\n",
       "       27.60760002, 27.60760002, 27.60760002, 27.60760002, 27.60760002,\n",
       "       27.60760002, 27.60760002, 27.60760002, 27.60760002, 27.60760002,\n",
       "       27.60760002, 27.60760002, 27.60760002, 27.60760002, 27.60760002,\n",
       "       27.60760002, 27.60760002, 27.60760002, 27.60760002, 27.60760002,\n",
       "       27.60760002, 27.60760002, 27.60760002, 27.60760002, 27.60760002,\n",
       "       27.60760002, 27.60760002, 27.60760002, 27.60760002, 27.60760002,\n",
       "       27.60760002, 27.60760002, 27.60760002, 27.60760002, 27.60760002,\n",
       "       27.60760002, 27.60760002, 27.60760002, 27.60760002, 27.60760002,\n",
       "       27.60760002, 27.60760002, 27.60760002, 27.60760002, 27.60760002,\n",
       "       27.60760002, 27.60760002, 27.60760002, 27.60760002, 27.60760002,\n",
       "       27.60760002, 27.60760002, 27.60760002, 27.60760002, 27.60760002,\n",
       "       27.60760002, 27.60760002, 27.60760002, 27.60760002, 27.60760002,\n",
       "       27.60760002, 27.60760002, 27.60760002, 27.60760002, 27.60760002,\n",
       "       27.60760002, 27.60760002, 27.60760002, 27.60760002, 27.60760002,\n",
       "       27.60760002, 27.60760002, 27.60760002, 27.60760002, 27.60760002,\n",
       "       27.60760002, 27.60760002, 27.60760002, 27.60760002, 27.60760002,\n",
       "       27.60760002, 27.60760002, 27.60760002, 27.60760002, 27.60760002,\n",
       "       27.60760002, 27.60760002, 27.60760002, 27.60760002, 27.60760002,\n",
       "       27.60760002, 27.60760002, 27.60760002, 27.60760002])"
      ]
     },
     "execution_count": 139,
     "metadata": {},
     "output_type": "execute_result"
    }
   ],
   "source": [
    "forecast_predict_df[\"exp_adj_close\"].values"
   ]
  },
  {
   "cell_type": "code",
   "execution_count": 136,
   "id": "92eb64bb",
   "metadata": {},
   "outputs": [
    {
     "data": {
      "text/plain": [
       "DatetimeIndex(['2015-01-02', '2015-01-05', '2015-01-06', '2015-01-07',\n",
       "               '2015-01-08', '2015-01-09', '2015-01-12', '2015-01-13',\n",
       "               '2015-01-14', '2015-01-15',\n",
       "               ...\n",
       "               '2018-08-13', '2018-08-14', '2018-08-15', '2018-08-16',\n",
       "               '2018-08-17', '2018-08-20', '2018-08-21', '2018-08-22',\n",
       "               '2018-08-23', '2018-08-24'],\n",
       "              dtype='datetime64[ns]', name='date', length=919, freq=None)"
      ]
     },
     "execution_count": 136,
     "metadata": {},
     "output_type": "execute_result"
    }
   ],
   "source": [
    "df_telekom_test.index"
   ]
  },
  {
   "cell_type": "code",
   "execution_count": 144,
   "id": "ebfaad33",
   "metadata": {},
   "outputs": [
    {
     "data": {
      "image/png": "[encoded data removed]",
      "text/plain": [
       "<Figure size 2000x800 with 1 Axes>"
      ]
     },
     "metadata": {
      "needs_background": "light"
     },
     "output_type": "display_data"
    }
   ],
   "source": [
    "#Plotting my predictions against reality\n",
    "plt.figure(figsize=(20,8), dpi=100)\n",
    "#plt.plot(df_telekom_train[\"adj_close\"], label=\"train values\")\n",
    "plt.plot(df_telekom_test.iloc[:10][\"adj_close\"], label=\"true test values\")\n",
    "plt.plot(central_new.iloc[:10], color=\"darkgreen\", label=\"forecast\")\n",
    "#plt.fill_between(lower.index, \n",
    "                #lower,\n",
    "                #upper,\n",
    "                #color=\"k\", alpha=0.10)\n",
    "\n",
    "plt.title(\"SARIMA Forecast\")\n",
    "plt.legend()\n",
    "plt.show()"
   ]
  },
  {
   "cell_type": "code",
   "execution_count": 138,
   "id": "acdd0c82",
   "metadata": {},
   "outputs": [
    {
     "data": {
      "text/plain": [
       "date\n",
       "2015-01-02   NaN\n",
       "2015-01-05   NaN\n",
       "2015-01-06   NaN\n",
       "2015-01-07   NaN\n",
       "2015-01-08   NaN\n",
       "Name: exp_adj_close, dtype: float64"
      ]
     },
     "execution_count": 138,
     "metadata": {},
     "output_type": "execute_result"
    }
   ],
   "source": [
    "central_new.head()"
   ]
  },
  {
   "cell_type": "code",
   "execution_count": 34,
   "id": "e25b05a6",
   "metadata": {},
   "outputs": [
    {
     "data": {
      "text/html": [
       "<div>\n",
       "<style scoped>\n",
       "    .dataframe tbody tr th:only-of-type {\n",
       "        vertical-align: middle;\n",
       "    }\n",
       "\n",
       "    .dataframe tbody tr th {\n",
       "        vertical-align: top;\n",
       "    }\n",
       "\n",
       "    .dataframe thead th {\n",
       "        text-align: right;\n",
       "    }\n",
       "</style>\n",
       "<table border=\"1\" class=\"dataframe\">\n",
       "  <thead>\n",
       "    <tr style=\"text-align: right;\">\n",
       "      <th>log_adj_close</th>\n",
       "      <th>mean</th>\n",
       "      <th>mean_se</th>\n",
       "      <th>mean_ci_lower</th>\n",
       "      <th>mean_ci_upper</th>\n",
       "    </tr>\n",
       "  </thead>\n",
       "  <tbody>\n",
       "    <tr>\n",
       "      <th>3773</th>\n",
       "      <td>3.317397</td>\n",
       "      <td>0.017254</td>\n",
       "      <td>3.283580</td>\n",
       "      <td>3.351215</td>\n",
       "    </tr>\n",
       "    <tr>\n",
       "      <th>3774</th>\n",
       "      <td>3.318314</td>\n",
       "      <td>0.024365</td>\n",
       "      <td>3.270560</td>\n",
       "      <td>3.366068</td>\n",
       "    </tr>\n",
       "    <tr>\n",
       "      <th>3775</th>\n",
       "      <td>3.318587</td>\n",
       "      <td>0.029211</td>\n",
       "      <td>3.261335</td>\n",
       "      <td>3.375840</td>\n",
       "    </tr>\n",
       "    <tr>\n",
       "      <th>3776</th>\n",
       "      <td>3.318669</td>\n",
       "      <td>0.033205</td>\n",
       "      <td>3.253588</td>\n",
       "      <td>3.383749</td>\n",
       "    </tr>\n",
       "    <tr>\n",
       "      <th>3777</th>\n",
       "      <td>3.318693</td>\n",
       "      <td>0.036726</td>\n",
       "      <td>3.246711</td>\n",
       "      <td>3.390675</td>\n",
       "    </tr>\n",
       "  </tbody>\n",
       "</table>\n",
       "</div>"
      ],
      "text/plain": [
       "log_adj_close      mean   mean_se  mean_ci_lower  mean_ci_upper\n",
       "3773           3.317397  0.017254       3.283580       3.351215\n",
       "3774           3.318314  0.024365       3.270560       3.366068\n",
       "3775           3.318587  0.029211       3.261335       3.375840\n",
       "3776           3.318669  0.033205       3.253588       3.383749\n",
       "3777           3.318693  0.036726       3.246711       3.390675"
      ]
     },
     "execution_count": 34,
     "metadata": {},
     "output_type": "execute_result"
    }
   ],
   "source": [
    "#Putting my forecast results into a dataframe to work with it\n",
    "forecast_df = forecast.summary_frame()\n",
    "forecast_df.head()"
   ]
  },
  {
   "cell_type": "code",
   "execution_count": 35,
   "id": "30756fea",
   "metadata": {},
   "outputs": [
    {
     "data": {
      "text/html": [
       "<div>\n",
       "<style scoped>\n",
       "    .dataframe tbody tr th:only-of-type {\n",
       "        vertical-align: middle;\n",
       "    }\n",
       "\n",
       "    .dataframe tbody tr th {\n",
       "        vertical-align: top;\n",
       "    }\n",
       "\n",
       "    .dataframe thead th {\n",
       "        text-align: right;\n",
       "    }\n",
       "</style>\n",
       "<table border=\"1\" class=\"dataframe\">\n",
       "  <thead>\n",
       "    <tr style=\"text-align: right;\">\n",
       "      <th>log_adj_close</th>\n",
       "      <th>mean</th>\n",
       "      <th>mean_se</th>\n",
       "      <th>mean_ci_lower</th>\n",
       "      <th>mean_ci_upper</th>\n",
       "      <th>date</th>\n",
       "    </tr>\n",
       "  </thead>\n",
       "  <tbody>\n",
       "    <tr>\n",
       "      <th>3773</th>\n",
       "      <td>3.317397</td>\n",
       "      <td>0.017254</td>\n",
       "      <td>3.283580</td>\n",
       "      <td>3.351215</td>\n",
       "      <td>2015-01-02</td>\n",
       "    </tr>\n",
       "    <tr>\n",
       "      <th>3774</th>\n",
       "      <td>3.318314</td>\n",
       "      <td>0.024365</td>\n",
       "      <td>3.270560</td>\n",
       "      <td>3.366068</td>\n",
       "      <td>2015-01-05</td>\n",
       "    </tr>\n",
       "    <tr>\n",
       "      <th>3775</th>\n",
       "      <td>3.318587</td>\n",
       "      <td>0.029211</td>\n",
       "      <td>3.261335</td>\n",
       "      <td>3.375840</td>\n",
       "      <td>2015-01-06</td>\n",
       "    </tr>\n",
       "    <tr>\n",
       "      <th>3776</th>\n",
       "      <td>3.318669</td>\n",
       "      <td>0.033205</td>\n",
       "      <td>3.253588</td>\n",
       "      <td>3.383749</td>\n",
       "      <td>2015-01-07</td>\n",
       "    </tr>\n",
       "    <tr>\n",
       "      <th>3777</th>\n",
       "      <td>3.318693</td>\n",
       "      <td>0.036726</td>\n",
       "      <td>3.246711</td>\n",
       "      <td>3.390675</td>\n",
       "      <td>2015-01-08</td>\n",
       "    </tr>\n",
       "  </tbody>\n",
       "</table>\n",
       "</div>"
      ],
      "text/plain": [
       "log_adj_close      mean   mean_se  mean_ci_lower  mean_ci_upper       date\n",
       "3773           3.317397  0.017254       3.283580       3.351215 2015-01-02\n",
       "3774           3.318314  0.024365       3.270560       3.366068 2015-01-05\n",
       "3775           3.318587  0.029211       3.261335       3.375840 2015-01-06\n",
       "3776           3.318669  0.033205       3.253588       3.383749 2015-01-07\n",
       "3777           3.318693  0.036726       3.246711       3.390675 2015-01-08"
      ]
     },
     "execution_count": 35,
     "metadata": {},
     "output_type": "execute_result"
    }
   ],
   "source": [
    "#add a column with the date (from df_telekom)\n",
    "forecast_df[\"date\"] = df_telekom_test.index\n",
    "forecast_df.head()"
   ]
  },
  {
   "cell_type": "code",
   "execution_count": 36,
   "id": "d747e90d",
   "metadata": {},
   "outputs": [
    {
     "data": {
      "text/html": [
       "<div>\n",
       "<style scoped>\n",
       "    .dataframe tbody tr th:only-of-type {\n",
       "        vertical-align: middle;\n",
       "    }\n",
       "\n",
       "    .dataframe tbody tr th {\n",
       "        vertical-align: top;\n",
       "    }\n",
       "\n",
       "    .dataframe thead th {\n",
       "        text-align: right;\n",
       "    }\n",
       "</style>\n",
       "<table border=\"1\" class=\"dataframe\">\n",
       "  <thead>\n",
       "    <tr style=\"text-align: right;\">\n",
       "      <th>log_adj_close</th>\n",
       "      <th>mean</th>\n",
       "      <th>mean_se</th>\n",
       "      <th>mean_ci_lower</th>\n",
       "      <th>mean_ci_upper</th>\n",
       "      <th>date</th>\n",
       "      <th>exp_adj_close</th>\n",
       "    </tr>\n",
       "  </thead>\n",
       "  <tbody>\n",
       "    <tr>\n",
       "      <th>3773</th>\n",
       "      <td>3.317397</td>\n",
       "      <td>0.017254</td>\n",
       "      <td>3.283580</td>\n",
       "      <td>3.351215</td>\n",
       "      <td>2015-01-02</td>\n",
       "      <td>27.588455</td>\n",
       "    </tr>\n",
       "    <tr>\n",
       "      <th>3774</th>\n",
       "      <td>3.318314</td>\n",
       "      <td>0.024365</td>\n",
       "      <td>3.270560</td>\n",
       "      <td>3.366068</td>\n",
       "      <td>2015-01-05</td>\n",
       "      <td>27.613751</td>\n",
       "    </tr>\n",
       "    <tr>\n",
       "      <th>3775</th>\n",
       "      <td>3.318587</td>\n",
       "      <td>0.029211</td>\n",
       "      <td>3.261335</td>\n",
       "      <td>3.375840</td>\n",
       "      <td>2015-01-06</td>\n",
       "      <td>27.621300</td>\n",
       "    </tr>\n",
       "    <tr>\n",
       "      <th>3776</th>\n",
       "      <td>3.318669</td>\n",
       "      <td>0.033205</td>\n",
       "      <td>3.253588</td>\n",
       "      <td>3.383749</td>\n",
       "      <td>2015-01-07</td>\n",
       "      <td>27.623552</td>\n",
       "    </tr>\n",
       "    <tr>\n",
       "      <th>3777</th>\n",
       "      <td>3.318693</td>\n",
       "      <td>0.036726</td>\n",
       "      <td>3.246711</td>\n",
       "      <td>3.390675</td>\n",
       "      <td>2015-01-08</td>\n",
       "      <td>27.624223</td>\n",
       "    </tr>\n",
       "  </tbody>\n",
       "</table>\n",
       "</div>"
      ],
      "text/plain": [
       "log_adj_close      mean   mean_se  mean_ci_lower  mean_ci_upper       date  \\\n",
       "3773           3.317397  0.017254       3.283580       3.351215 2015-01-02   \n",
       "3774           3.318314  0.024365       3.270560       3.366068 2015-01-05   \n",
       "3775           3.318587  0.029211       3.261335       3.375840 2015-01-06   \n",
       "3776           3.318669  0.033205       3.253588       3.383749 2015-01-07   \n",
       "3777           3.318693  0.036726       3.246711       3.390675 2015-01-08   \n",
       "\n",
       "log_adj_close  exp_adj_close  \n",
       "3773               27.588455  \n",
       "3774               27.613751  \n",
       "3775               27.621300  \n",
       "3776               27.623552  \n",
       "3777               27.624223  "
      ]
     },
     "execution_count": 36,
     "metadata": {},
     "output_type": "execute_result"
    }
   ],
   "source": [
    "#add a column with the exponential form of my predictions (from df_telekom)\n",
    "forecast_df[\"exp_adj_close\"] = forecast_df[\"mean\"].apply(lambda x: math.exp(x))\n",
    "forecast_df.head()"
   ]
  },
  {
   "cell_type": "code",
   "execution_count": 37,
   "id": "fd1b62f0",
   "metadata": {},
   "outputs": [],
   "source": [
    "#setting my forecast_df with a date index\n",
    "forecast_df.reset_index()\n",
    "forecast_df = forecast_df.set_index(forecast_df[\"date\"])\n",
    "forecast_df = forecast_df.drop(\"date\", axis=1)"
   ]
  },
  {
   "cell_type": "code",
   "execution_count": 38,
   "id": "0eb1e342",
   "metadata": {},
   "outputs": [
    {
     "data": {
      "text/html": [
       "<div>\n",
       "<style scoped>\n",
       "    .dataframe tbody tr th:only-of-type {\n",
       "        vertical-align: middle;\n",
       "    }\n",
       "\n",
       "    .dataframe tbody tr th {\n",
       "        vertical-align: top;\n",
       "    }\n",
       "\n",
       "    .dataframe thead th {\n",
       "        text-align: right;\n",
       "    }\n",
       "</style>\n",
       "<table border=\"1\" class=\"dataframe\">\n",
       "  <thead>\n",
       "    <tr style=\"text-align: right;\">\n",
       "      <th>log_adj_close</th>\n",
       "      <th>mean</th>\n",
       "      <th>mean_se</th>\n",
       "      <th>mean_ci_lower</th>\n",
       "      <th>mean_ci_upper</th>\n",
       "      <th>exp_adj_close</th>\n",
       "    </tr>\n",
       "    <tr>\n",
       "      <th>date</th>\n",
       "      <th></th>\n",
       "      <th></th>\n",
       "      <th></th>\n",
       "      <th></th>\n",
       "      <th></th>\n",
       "    </tr>\n",
       "  </thead>\n",
       "  <tbody>\n",
       "    <tr>\n",
       "      <th>2015-01-02</th>\n",
       "      <td>3.317397</td>\n",
       "      <td>0.017254</td>\n",
       "      <td>3.283580</td>\n",
       "      <td>3.351215</td>\n",
       "      <td>27.588455</td>\n",
       "    </tr>\n",
       "    <tr>\n",
       "      <th>2015-01-05</th>\n",
       "      <td>3.318314</td>\n",
       "      <td>0.024365</td>\n",
       "      <td>3.270560</td>\n",
       "      <td>3.366068</td>\n",
       "      <td>27.613751</td>\n",
       "    </tr>\n",
       "    <tr>\n",
       "      <th>2015-01-06</th>\n",
       "      <td>3.318587</td>\n",
       "      <td>0.029211</td>\n",
       "      <td>3.261335</td>\n",
       "      <td>3.375840</td>\n",
       "      <td>27.621300</td>\n",
       "    </tr>\n",
       "    <tr>\n",
       "      <th>2015-01-07</th>\n",
       "      <td>3.318669</td>\n",
       "      <td>0.033205</td>\n",
       "      <td>3.253588</td>\n",
       "      <td>3.383749</td>\n",
       "      <td>27.623552</td>\n",
       "    </tr>\n",
       "    <tr>\n",
       "      <th>2015-01-08</th>\n",
       "      <td>3.318693</td>\n",
       "      <td>0.036726</td>\n",
       "      <td>3.246711</td>\n",
       "      <td>3.390675</td>\n",
       "      <td>27.624223</td>\n",
       "    </tr>\n",
       "  </tbody>\n",
       "</table>\n",
       "</div>"
      ],
      "text/plain": [
       "log_adj_close      mean   mean_se  mean_ci_lower  mean_ci_upper  exp_adj_close\n",
       "date                                                                          \n",
       "2015-01-02     3.317397  0.017254       3.283580       3.351215      27.588455\n",
       "2015-01-05     3.318314  0.024365       3.270560       3.366068      27.613751\n",
       "2015-01-06     3.318587  0.029211       3.261335       3.375840      27.621300\n",
       "2015-01-07     3.318669  0.033205       3.253588       3.383749      27.623552\n",
       "2015-01-08     3.318693  0.036726       3.246711       3.390675      27.624223"
      ]
     },
     "execution_count": 38,
     "metadata": {},
     "output_type": "execute_result"
    }
   ],
   "source": [
    "#checking the result\n",
    "forecast_df.head()"
   ]
  },
  {
   "cell_type": "code",
   "execution_count": 41,
   "id": "9bca7068",
   "metadata": {},
   "outputs": [
    {
     "data": {
      "text/html": [
       "<div>\n",
       "<style scoped>\n",
       "    .dataframe tbody tr th:only-of-type {\n",
       "        vertical-align: middle;\n",
       "    }\n",
       "\n",
       "    .dataframe tbody tr th {\n",
       "        vertical-align: top;\n",
       "    }\n",
       "\n",
       "    .dataframe thead th {\n",
       "        text-align: right;\n",
       "    }\n",
       "</style>\n",
       "<table border=\"1\" class=\"dataframe\">\n",
       "  <thead>\n",
       "    <tr style=\"text-align: right;\">\n",
       "      <th>log_adj_close</th>\n",
       "      <th>mean</th>\n",
       "      <th>mean_se</th>\n",
       "      <th>mean_ci_lower</th>\n",
       "      <th>mean_ci_upper</th>\n",
       "      <th>exp_adj_close</th>\n",
       "      <th>exp_mean_ci_lower</th>\n",
       "      <th>exp_mean_ci_upper</th>\n",
       "    </tr>\n",
       "    <tr>\n",
       "      <th>date</th>\n",
       "      <th></th>\n",
       "      <th></th>\n",
       "      <th></th>\n",
       "      <th></th>\n",
       "      <th></th>\n",
       "      <th></th>\n",
       "      <th></th>\n",
       "    </tr>\n",
       "  </thead>\n",
       "  <tbody>\n",
       "    <tr>\n",
       "      <th>2015-01-02</th>\n",
       "      <td>3.317397</td>\n",
       "      <td>0.017254</td>\n",
       "      <td>3.283580</td>\n",
       "      <td>3.351215</td>\n",
       "      <td>27.588455</td>\n",
       "      <td>26.671078</td>\n",
       "      <td>28.537387</td>\n",
       "    </tr>\n",
       "    <tr>\n",
       "      <th>2015-01-05</th>\n",
       "      <td>3.318314</td>\n",
       "      <td>0.024365</td>\n",
       "      <td>3.270560</td>\n",
       "      <td>3.366068</td>\n",
       "      <td>27.613751</td>\n",
       "      <td>26.326074</td>\n",
       "      <td>28.964412</td>\n",
       "    </tr>\n",
       "    <tr>\n",
       "      <th>2015-01-06</th>\n",
       "      <td>3.318587</td>\n",
       "      <td>0.029211</td>\n",
       "      <td>3.261335</td>\n",
       "      <td>3.375840</td>\n",
       "      <td>27.621300</td>\n",
       "      <td>26.084324</td>\n",
       "      <td>29.248840</td>\n",
       "    </tr>\n",
       "    <tr>\n",
       "      <th>2015-01-07</th>\n",
       "      <td>3.318669</td>\n",
       "      <td>0.033205</td>\n",
       "      <td>3.253588</td>\n",
       "      <td>3.383749</td>\n",
       "      <td>27.623552</td>\n",
       "      <td>25.883045</td>\n",
       "      <td>29.481100</td>\n",
       "    </tr>\n",
       "    <tr>\n",
       "      <th>2015-01-08</th>\n",
       "      <td>3.318693</td>\n",
       "      <td>0.036726</td>\n",
       "      <td>3.246711</td>\n",
       "      <td>3.390675</td>\n",
       "      <td>27.624223</td>\n",
       "      <td>25.705659</td>\n",
       "      <td>29.685981</td>\n",
       "    </tr>\n",
       "  </tbody>\n",
       "</table>\n",
       "</div>"
      ],
      "text/plain": [
       "log_adj_close      mean   mean_se  mean_ci_lower  mean_ci_upper  \\\n",
       "date                                                              \n",
       "2015-01-02     3.317397  0.017254       3.283580       3.351215   \n",
       "2015-01-05     3.318314  0.024365       3.270560       3.366068   \n",
       "2015-01-06     3.318587  0.029211       3.261335       3.375840   \n",
       "2015-01-07     3.318669  0.033205       3.253588       3.383749   \n",
       "2015-01-08     3.318693  0.036726       3.246711       3.390675   \n",
       "\n",
       "log_adj_close  exp_adj_close  exp_mean_ci_lower  exp_mean_ci_upper  \n",
       "date                                                                \n",
       "2015-01-02         27.588455          26.671078          28.537387  \n",
       "2015-01-05         27.613751          26.326074          28.964412  \n",
       "2015-01-06         27.621300          26.084324          29.248840  \n",
       "2015-01-07         27.623552          25.883045          29.481100  \n",
       "2015-01-08         27.624223          25.705659          29.685981  "
      ]
     },
     "execution_count": 41,
     "metadata": {},
     "output_type": "execute_result"
    }
   ],
   "source": [
    "#add a column with the exponential form of my predictions mean_ci_lower and mean_ci_upper (from df_telekom)\n",
    "forecast_df[\"exp_mean_ci_lower\"] = forecast_df[\"mean_ci_lower\"].apply(lambda x: math.exp(x))\n",
    "forecast_df[\"exp_mean_ci_upper\"] = forecast_df[\"mean_ci_upper\"].apply(lambda x: math.exp(x))\n",
    "forecast_df.head()"
   ]
  },
  {
   "cell_type": "code",
   "execution_count": 44,
   "id": "aa4527c2",
   "metadata": {},
   "outputs": [
    {
     "data": {
      "text/html": [
       "<div>\n",
       "<style scoped>\n",
       "    .dataframe tbody tr th:only-of-type {\n",
       "        vertical-align: middle;\n",
       "    }\n",
       "\n",
       "    .dataframe tbody tr th {\n",
       "        vertical-align: top;\n",
       "    }\n",
       "\n",
       "    .dataframe thead th {\n",
       "        text-align: right;\n",
       "    }\n",
       "</style>\n",
       "<table border=\"1\" class=\"dataframe\">\n",
       "  <thead>\n",
       "    <tr style=\"text-align: right;\">\n",
       "      <th></th>\n",
       "      <th>ticker</th>\n",
       "      <th>open</th>\n",
       "      <th>close</th>\n",
       "      <th>adj_close</th>\n",
       "      <th>low</th>\n",
       "      <th>high</th>\n",
       "      <th>volume</th>\n",
       "      <th>sector</th>\n",
       "      <th>log_adj_close</th>\n",
       "    </tr>\n",
       "    <tr>\n",
       "      <th>date</th>\n",
       "      <th></th>\n",
       "      <th></th>\n",
       "      <th></th>\n",
       "      <th></th>\n",
       "      <th></th>\n",
       "      <th></th>\n",
       "      <th></th>\n",
       "      <th></th>\n",
       "      <th></th>\n",
       "    </tr>\n",
       "  </thead>\n",
       "  <tbody>\n",
       "    <tr>\n",
       "      <th>2015-01-02</th>\n",
       "      <td>T</td>\n",
       "      <td>33.590000</td>\n",
       "      <td>33.869999</td>\n",
       "      <td>27.816797</td>\n",
       "      <td>33.590000</td>\n",
       "      <td>33.970001</td>\n",
       "      <td>20564000</td>\n",
       "      <td>PUBLIC UTILITIES</td>\n",
       "      <td>3.325640</td>\n",
       "    </tr>\n",
       "    <tr>\n",
       "      <th>2015-01-05</th>\n",
       "      <td>T</td>\n",
       "      <td>33.869999</td>\n",
       "      <td>33.549999</td>\n",
       "      <td>27.553989</td>\n",
       "      <td>33.520000</td>\n",
       "      <td>33.919998</td>\n",
       "      <td>30429100</td>\n",
       "      <td>PUBLIC UTILITIES</td>\n",
       "      <td>3.316147</td>\n",
       "    </tr>\n",
       "    <tr>\n",
       "      <th>2015-01-06</th>\n",
       "      <td>T</td>\n",
       "      <td>33.770000</td>\n",
       "      <td>33.599998</td>\n",
       "      <td>27.595049</td>\n",
       "      <td>33.349998</td>\n",
       "      <td>33.810001</td>\n",
       "      <td>29595800</td>\n",
       "      <td>PUBLIC UTILITIES</td>\n",
       "      <td>3.317636</td>\n",
       "    </tr>\n",
       "    <tr>\n",
       "      <th>2015-01-07</th>\n",
       "      <td>T</td>\n",
       "      <td>33.580002</td>\n",
       "      <td>33.169998</td>\n",
       "      <td>27.628361</td>\n",
       "      <td>32.730000</td>\n",
       "      <td>33.590000</td>\n",
       "      <td>31660000</td>\n",
       "      <td>PUBLIC UTILITIES</td>\n",
       "      <td>3.318843</td>\n",
       "    </tr>\n",
       "    <tr>\n",
       "      <th>2015-01-08</th>\n",
       "      <td>T</td>\n",
       "      <td>33.240002</td>\n",
       "      <td>33.500000</td>\n",
       "      <td>27.903236</td>\n",
       "      <td>33.150002</td>\n",
       "      <td>33.580002</td>\n",
       "      <td>22799800</td>\n",
       "      <td>PUBLIC UTILITIES</td>\n",
       "      <td>3.328743</td>\n",
       "    </tr>\n",
       "  </tbody>\n",
       "</table>\n",
       "</div>"
      ],
      "text/plain": [
       "           ticker       open      close  adj_close        low       high  \\\n",
       "date                                                                       \n",
       "2015-01-02      T  33.590000  33.869999  27.816797  33.590000  33.970001   \n",
       "2015-01-05      T  33.869999  33.549999  27.553989  33.520000  33.919998   \n",
       "2015-01-06      T  33.770000  33.599998  27.595049  33.349998  33.810001   \n",
       "2015-01-07      T  33.580002  33.169998  27.628361  32.730000  33.590000   \n",
       "2015-01-08      T  33.240002  33.500000  27.903236  33.150002  33.580002   \n",
       "\n",
       "              volume            sector  log_adj_close  \n",
       "date                                                   \n",
       "2015-01-02  20564000  PUBLIC UTILITIES       3.325640  \n",
       "2015-01-05  30429100  PUBLIC UTILITIES       3.316147  \n",
       "2015-01-06  29595800  PUBLIC UTILITIES       3.317636  \n",
       "2015-01-07  31660000  PUBLIC UTILITIES       3.318843  \n",
       "2015-01-08  22799800  PUBLIC UTILITIES       3.328743  "
      ]
     },
     "execution_count": 44,
     "metadata": {},
     "output_type": "execute_result"
    }
   ],
   "source": [
    "df_telekom_test.head()"
   ]
  },
  {
   "cell_type": "code",
   "execution_count": 46,
   "id": "e83dc85a",
   "metadata": {},
   "outputs": [],
   "source": [
    "#Having a first view of my results\n",
    "#plt.plot(forecast_df[\"exp_adj_close\"])\n",
    "#plt.plot(forecast_df[\"exp_mean_ci_lower\"])\n",
    "#plt.plot(forecast_df[\"exp_mean_ci_upper\"]);"
   ]
  },
  {
   "cell_type": "code",
   "execution_count": 42,
   "id": "609e4bbe",
   "metadata": {},
   "outputs": [],
   "source": [
    "#Make series for plotting purpose\n",
    "central = pd.Series(forecast_df[\"exp_adj_close\"], index=df_telekom_test.index)\n",
    "lower = pd.Series(forecast_df[\"exp_mean_ci_lower\"], index=df_telekom_test.index)\n",
    "upper = pd.Series(forecast_df[\"exp_mean_ci_upper\"], index=df_telekom_test.index)"
   ]
  },
  {
   "cell_type": "code",
   "execution_count": 49,
   "id": "b636259a",
   "metadata": {},
   "outputs": [
    {
     "data": {
      "image/png": "[encoded data removed]",
      "text/plain": [
       "<Figure size 2000x800 with 1 Axes>"
      ]
     },
     "metadata": {
      "needs_background": "light"
     },
     "output_type": "display_data"
    }
   ],
   "source": [
    "#Plotting my predictions against reality\n",
    "plt.figure(figsize=(20,8), dpi=100)\n",
    "plt.plot(df_telekom_train[\"adj_close\"], label=\"train values\")\n",
    "plt.plot(df_telekom_test[\"adj_close\"], label=\"true test values\")\n",
    "plt.plot(central, color=\"darkgreen\", label=\"forecast\")\n",
    "#plt.fill_between(lower.index, \n",
    "                #lower,\n",
    "                #upper,\n",
    "                #color=\"k\", alpha=0.10)\n",
    "\n",
    "plt.title(\"SARIMA Forecast\")\n",
    "plt.legend()\n",
    "plt.show()"
   ]
  },
  {
   "cell_type": "code",
   "execution_count": 51,
   "id": "f0713b65",
   "metadata": {},
   "outputs": [
    {
     "data": {
      "text/plain": [
       "date\n",
       "2015-01-02    27.588455\n",
       "2015-01-05    27.613751\n",
       "2015-01-06    27.621300\n",
       "2015-01-07    27.623552\n",
       "2015-01-08    27.624223\n",
       "                ...    \n",
       "2018-08-20    27.624509\n",
       "2018-08-21    27.624509\n",
       "2018-08-22    27.624509\n",
       "2018-08-23    27.624509\n",
       "2018-08-24    27.624509\n",
       "Name: exp_adj_close, Length: 919, dtype: float64"
      ]
     },
     "execution_count": 51,
     "metadata": {},
     "output_type": "execute_result"
    }
   ],
   "source": [
    "central"
   ]
  },
  {
   "cell_type": "code",
   "execution_count": null,
   "id": "169021fe",
   "metadata": {},
   "outputs": [],
   "source": []
  }
 ],
 "metadata": {
  "kernelspec": {
   "display_name": "Python 3",
   "language": "python",
   "name": "python3"
  },
  "language_info": {
   "codemirror_mode": {
    "name": "ipython",
    "version": 3
   },
   "file_extension": ".py",
   "mimetype": "text/x-python",
   "name": "python",
   "nbconvert_exporter": "python",
   "pygments_lexer": "ipython3",
   "version": "3.8.6"
  },
  "toc": {
   "base_numbering": 1,
   "nav_menu": {},
   "number_sections": true,
   "sideBar": true,
   "skip_h1_title": false,
   "title_cell": "Table of Contents",
   "title_sidebar": "Contents",
   "toc_cell": false,
   "toc_position": {
    "height": "calc(100% - 180px)",
    "left": "10px",
    "top": "150px",
    "width": "165px"
   },
   "toc_section_display": true,
   "toc_window_display": false
  }
 },
 "nbformat": 4,
 "nbformat_minor": 5
}
