{
 "cells": [
  {
   "cell_type": "markdown",
   "id": "3f30b5c2",
   "metadata": {},
   "source": [
    "## Importing Libraries and Data"
   ]
  },
  {
   "cell_type": "code",
   "execution_count": 1,
   "id": "0ae33589",
   "metadata": {},
   "outputs": [],
   "source": [
    "import os \n",
    "import pandas as pd\n",
    "import matplotlib.pyplot as plt\n",
    "import numpy as np\n",
    "import seaborn as sns\n",
    "import statsmodels\n",
    "from statsmodels.tsa.seasonal import seasonal_decompose\n",
    "from statsmodels.tsa.statespace.sarimax import SARIMAX\n",
    "from statsmodels.tsa.stattools import adfuller\n",
    "from statsmodels.graphics.tsaplots import plot_acf, plot_pacf\n",
    "import pmdarima as pm\n",
    "import math"
   ]
  },
  {
   "cell_type": "markdown",
   "id": "432d9060",
   "metadata": {},
   "source": [
    "### Import data"
   ]
  },
  {
   "cell_type": "code",
   "execution_count": 2,
   "id": "2a8fae03",
   "metadata": {},
   "outputs": [],
   "source": [
    "cwd = os.getcwd()\n",
    "simp_path = 'raw_data/df.csv'\n",
    "abs_path = os.path.abspath(os.path.join(cwd,'..',simp_path))\n",
    "df_sarimax = pd.read_csv(abs_path)"
   ]
  },
  {
   "cell_type": "code",
   "execution_count": 3,
   "id": "7ce6d893",
   "metadata": {},
   "outputs": [
    {
     "data": {
      "text/html": [
       "<div>\n",
       "<style scoped>\n",
       "    .dataframe tbody tr th:only-of-type {\n",
       "        vertical-align: middle;\n",
       "    }\n",
       "\n",
       "    .dataframe tbody tr th {\n",
       "        vertical-align: top;\n",
       "    }\n",
       "\n",
       "    .dataframe thead th {\n",
       "        text-align: right;\n",
       "    }\n",
       "</style>\n",
       "<table border=\"1\" class=\"dataframe\">\n",
       "  <thead>\n",
       "    <tr style=\"text-align: right;\">\n",
       "      <th></th>\n",
       "      <th>ticker</th>\n",
       "      <th>open</th>\n",
       "      <th>close</th>\n",
       "      <th>adj_close</th>\n",
       "      <th>low</th>\n",
       "      <th>high</th>\n",
       "      <th>volume</th>\n",
       "      <th>date</th>\n",
       "      <th>sector</th>\n",
       "    </tr>\n",
       "  </thead>\n",
       "  <tbody>\n",
       "    <tr>\n",
       "      <th>0</th>\n",
       "      <td>AAPL</td>\n",
       "      <td>0.513393</td>\n",
       "      <td>0.513393</td>\n",
       "      <td>0.023186</td>\n",
       "      <td>0.513393</td>\n",
       "      <td>0.515625</td>\n",
       "      <td>117258400</td>\n",
       "      <td>1980-12-12</td>\n",
       "      <td>TECHNOLOGY</td>\n",
       "    </tr>\n",
       "    <tr>\n",
       "      <th>1</th>\n",
       "      <td>AAPL</td>\n",
       "      <td>0.488839</td>\n",
       "      <td>0.486607</td>\n",
       "      <td>0.021977</td>\n",
       "      <td>0.486607</td>\n",
       "      <td>0.488839</td>\n",
       "      <td>43971200</td>\n",
       "      <td>1980-12-15</td>\n",
       "      <td>TECHNOLOGY</td>\n",
       "    </tr>\n",
       "    <tr>\n",
       "      <th>2</th>\n",
       "      <td>AAPL</td>\n",
       "      <td>0.453125</td>\n",
       "      <td>0.450893</td>\n",
       "      <td>0.020364</td>\n",
       "      <td>0.450893</td>\n",
       "      <td>0.453125</td>\n",
       "      <td>26432000</td>\n",
       "      <td>1980-12-16</td>\n",
       "      <td>TECHNOLOGY</td>\n",
       "    </tr>\n",
       "    <tr>\n",
       "      <th>3</th>\n",
       "      <td>AAPL</td>\n",
       "      <td>0.462054</td>\n",
       "      <td>0.462054</td>\n",
       "      <td>0.020868</td>\n",
       "      <td>0.462054</td>\n",
       "      <td>0.464286</td>\n",
       "      <td>21610400</td>\n",
       "      <td>1980-12-17</td>\n",
       "      <td>TECHNOLOGY</td>\n",
       "    </tr>\n",
       "    <tr>\n",
       "      <th>4</th>\n",
       "      <td>AAPL</td>\n",
       "      <td>0.475446</td>\n",
       "      <td>0.475446</td>\n",
       "      <td>0.021473</td>\n",
       "      <td>0.475446</td>\n",
       "      <td>0.477679</td>\n",
       "      <td>18362400</td>\n",
       "      <td>1980-12-18</td>\n",
       "      <td>TECHNOLOGY</td>\n",
       "    </tr>\n",
       "  </tbody>\n",
       "</table>\n",
       "</div>"
      ],
      "text/plain": [
       "  ticker      open     close  adj_close       low      high     volume  \\\n",
       "0   AAPL  0.513393  0.513393   0.023186  0.513393  0.515625  117258400   \n",
       "1   AAPL  0.488839  0.486607   0.021977  0.486607  0.488839   43971200   \n",
       "2   AAPL  0.453125  0.450893   0.020364  0.450893  0.453125   26432000   \n",
       "3   AAPL  0.462054  0.462054   0.020868  0.462054  0.464286   21610400   \n",
       "4   AAPL  0.475446  0.475446   0.021473  0.475446  0.477679   18362400   \n",
       "\n",
       "         date      sector  \n",
       "0  1980-12-12  TECHNOLOGY  \n",
       "1  1980-12-15  TECHNOLOGY  \n",
       "2  1980-12-16  TECHNOLOGY  \n",
       "3  1980-12-17  TECHNOLOGY  \n",
       "4  1980-12-18  TECHNOLOGY  "
      ]
     },
     "execution_count": 3,
     "metadata": {},
     "output_type": "execute_result"
    }
   ],
   "source": [
    "#cheking my dataframe\n",
    "df_sarimax.head()"
   ]
  },
  {
   "cell_type": "code",
   "execution_count": 4,
   "id": "15a57821",
   "metadata": {},
   "outputs": [
    {
     "data": {
      "text/html": [
       "<div>\n",
       "<style scoped>\n",
       "    .dataframe tbody tr th:only-of-type {\n",
       "        vertical-align: middle;\n",
       "    }\n",
       "\n",
       "    .dataframe tbody tr th {\n",
       "        vertical-align: top;\n",
       "    }\n",
       "\n",
       "    .dataframe thead th {\n",
       "        text-align: right;\n",
       "    }\n",
       "</style>\n",
       "<table border=\"1\" class=\"dataframe\">\n",
       "  <thead>\n",
       "    <tr style=\"text-align: right;\">\n",
       "      <th></th>\n",
       "      <th>ticker</th>\n",
       "      <th>open</th>\n",
       "      <th>close</th>\n",
       "      <th>adj_close</th>\n",
       "      <th>low</th>\n",
       "      <th>high</th>\n",
       "      <th>volume</th>\n",
       "      <th>date</th>\n",
       "      <th>sector</th>\n",
       "    </tr>\n",
       "  </thead>\n",
       "  <tbody>\n",
       "    <tr>\n",
       "      <th>0</th>\n",
       "      <td>AAPL</td>\n",
       "      <td>0.513393</td>\n",
       "      <td>0.513393</td>\n",
       "      <td>0.023186</td>\n",
       "      <td>0.513393</td>\n",
       "      <td>0.515625</td>\n",
       "      <td>117258400</td>\n",
       "      <td>1980-12-12</td>\n",
       "      <td>TECHNOLOGY</td>\n",
       "    </tr>\n",
       "    <tr>\n",
       "      <th>1</th>\n",
       "      <td>AAPL</td>\n",
       "      <td>0.488839</td>\n",
       "      <td>0.486607</td>\n",
       "      <td>0.021977</td>\n",
       "      <td>0.486607</td>\n",
       "      <td>0.488839</td>\n",
       "      <td>43971200</td>\n",
       "      <td>1980-12-15</td>\n",
       "      <td>TECHNOLOGY</td>\n",
       "    </tr>\n",
       "    <tr>\n",
       "      <th>2</th>\n",
       "      <td>AAPL</td>\n",
       "      <td>0.453125</td>\n",
       "      <td>0.450893</td>\n",
       "      <td>0.020364</td>\n",
       "      <td>0.450893</td>\n",
       "      <td>0.453125</td>\n",
       "      <td>26432000</td>\n",
       "      <td>1980-12-16</td>\n",
       "      <td>TECHNOLOGY</td>\n",
       "    </tr>\n",
       "    <tr>\n",
       "      <th>3</th>\n",
       "      <td>AAPL</td>\n",
       "      <td>0.462054</td>\n",
       "      <td>0.462054</td>\n",
       "      <td>0.020868</td>\n",
       "      <td>0.462054</td>\n",
       "      <td>0.464286</td>\n",
       "      <td>21610400</td>\n",
       "      <td>1980-12-17</td>\n",
       "      <td>TECHNOLOGY</td>\n",
       "    </tr>\n",
       "    <tr>\n",
       "      <th>4</th>\n",
       "      <td>AAPL</td>\n",
       "      <td>0.475446</td>\n",
       "      <td>0.475446</td>\n",
       "      <td>0.021473</td>\n",
       "      <td>0.475446</td>\n",
       "      <td>0.477679</td>\n",
       "      <td>18362400</td>\n",
       "      <td>1980-12-18</td>\n",
       "      <td>TECHNOLOGY</td>\n",
       "    </tr>\n",
       "  </tbody>\n",
       "</table>\n",
       "</div>"
      ],
      "text/plain": [
       "  ticker      open     close  adj_close       low      high     volume  \\\n",
       "0   AAPL  0.513393  0.513393   0.023186  0.513393  0.515625  117258400   \n",
       "1   AAPL  0.488839  0.486607   0.021977  0.486607  0.488839   43971200   \n",
       "2   AAPL  0.453125  0.450893   0.020364  0.450893  0.453125   26432000   \n",
       "3   AAPL  0.462054  0.462054   0.020868  0.462054  0.464286   21610400   \n",
       "4   AAPL  0.475446  0.475446   0.021473  0.475446  0.477679   18362400   \n",
       "\n",
       "        date      sector  \n",
       "0 1980-12-12  TECHNOLOGY  \n",
       "1 1980-12-15  TECHNOLOGY  \n",
       "2 1980-12-16  TECHNOLOGY  \n",
       "3 1980-12-17  TECHNOLOGY  \n",
       "4 1980-12-18  TECHNOLOGY  "
      ]
     },
     "execution_count": 4,
     "metadata": {},
     "output_type": "execute_result"
    }
   ],
   "source": [
    "# Transforming the data into a datetime format\n",
    "df_sarimax[\"date\"] = pd.to_datetime(df_sarimax[\"date\"], infer_datetime_format=True)\n",
    "df_sarimax.head()"
   ]
  },
  {
   "cell_type": "code",
   "execution_count": 5,
   "id": "fb9482af",
   "metadata": {},
   "outputs": [
    {
     "data": {
      "text/html": [
       "<div>\n",
       "<style scoped>\n",
       "    .dataframe tbody tr th:only-of-type {\n",
       "        vertical-align: middle;\n",
       "    }\n",
       "\n",
       "    .dataframe tbody tr th {\n",
       "        vertical-align: top;\n",
       "    }\n",
       "\n",
       "    .dataframe thead th {\n",
       "        text-align: right;\n",
       "    }\n",
       "</style>\n",
       "<table border=\"1\" class=\"dataframe\">\n",
       "  <thead>\n",
       "    <tr style=\"text-align: right;\">\n",
       "      <th></th>\n",
       "      <th>ticker</th>\n",
       "      <th>open</th>\n",
       "      <th>close</th>\n",
       "      <th>adj_close</th>\n",
       "      <th>low</th>\n",
       "      <th>high</th>\n",
       "      <th>volume</th>\n",
       "      <th>sector</th>\n",
       "    </tr>\n",
       "    <tr>\n",
       "      <th>date</th>\n",
       "      <th></th>\n",
       "      <th></th>\n",
       "      <th></th>\n",
       "      <th></th>\n",
       "      <th></th>\n",
       "      <th></th>\n",
       "      <th></th>\n",
       "      <th></th>\n",
       "    </tr>\n",
       "  </thead>\n",
       "  <tbody>\n",
       "    <tr>\n",
       "      <th>1980-12-12</th>\n",
       "      <td>AAPL</td>\n",
       "      <td>0.513393</td>\n",
       "      <td>0.513393</td>\n",
       "      <td>0.023186</td>\n",
       "      <td>0.513393</td>\n",
       "      <td>0.515625</td>\n",
       "      <td>117258400</td>\n",
       "      <td>TECHNOLOGY</td>\n",
       "    </tr>\n",
       "    <tr>\n",
       "      <th>1980-12-15</th>\n",
       "      <td>AAPL</td>\n",
       "      <td>0.488839</td>\n",
       "      <td>0.486607</td>\n",
       "      <td>0.021977</td>\n",
       "      <td>0.486607</td>\n",
       "      <td>0.488839</td>\n",
       "      <td>43971200</td>\n",
       "      <td>TECHNOLOGY</td>\n",
       "    </tr>\n",
       "    <tr>\n",
       "      <th>1980-12-16</th>\n",
       "      <td>AAPL</td>\n",
       "      <td>0.453125</td>\n",
       "      <td>0.450893</td>\n",
       "      <td>0.020364</td>\n",
       "      <td>0.450893</td>\n",
       "      <td>0.453125</td>\n",
       "      <td>26432000</td>\n",
       "      <td>TECHNOLOGY</td>\n",
       "    </tr>\n",
       "    <tr>\n",
       "      <th>1980-12-17</th>\n",
       "      <td>AAPL</td>\n",
       "      <td>0.462054</td>\n",
       "      <td>0.462054</td>\n",
       "      <td>0.020868</td>\n",
       "      <td>0.462054</td>\n",
       "      <td>0.464286</td>\n",
       "      <td>21610400</td>\n",
       "      <td>TECHNOLOGY</td>\n",
       "    </tr>\n",
       "    <tr>\n",
       "      <th>1980-12-18</th>\n",
       "      <td>AAPL</td>\n",
       "      <td>0.475446</td>\n",
       "      <td>0.475446</td>\n",
       "      <td>0.021473</td>\n",
       "      <td>0.475446</td>\n",
       "      <td>0.477679</td>\n",
       "      <td>18362400</td>\n",
       "      <td>TECHNOLOGY</td>\n",
       "    </tr>\n",
       "  </tbody>\n",
       "</table>\n",
       "</div>"
      ],
      "text/plain": [
       "           ticker      open     close  adj_close       low      high  \\\n",
       "date                                                                   \n",
       "1980-12-12   AAPL  0.513393  0.513393   0.023186  0.513393  0.515625   \n",
       "1980-12-15   AAPL  0.488839  0.486607   0.021977  0.486607  0.488839   \n",
       "1980-12-16   AAPL  0.453125  0.450893   0.020364  0.450893  0.453125   \n",
       "1980-12-17   AAPL  0.462054  0.462054   0.020868  0.462054  0.464286   \n",
       "1980-12-18   AAPL  0.475446  0.475446   0.021473  0.475446  0.477679   \n",
       "\n",
       "               volume      sector  \n",
       "date                               \n",
       "1980-12-12  117258400  TECHNOLOGY  \n",
       "1980-12-15   43971200  TECHNOLOGY  \n",
       "1980-12-16   26432000  TECHNOLOGY  \n",
       "1980-12-17   21610400  TECHNOLOGY  \n",
       "1980-12-18   18362400  TECHNOLOGY  "
      ]
     },
     "execution_count": 5,
     "metadata": {},
     "output_type": "execute_result"
    }
   ],
   "source": [
    "#Setting a new data index for my dataframe \n",
    "df_sarimax.reset_index()\n",
    "df_sarimax = df_sarimax.set_index(df_sarimax[\"date\"])\n",
    "df_sarimax = df_sarimax.drop(\"date\", axis=1)\n",
    "df_sarimax.head()"
   ]
  },
  {
   "cell_type": "markdown",
   "id": "2d0c3094",
   "metadata": {},
   "source": [
    "## Decomposition"
   ]
  },
  {
   "cell_type": "code",
   "execution_count": 6,
   "id": "36797033",
   "metadata": {},
   "outputs": [
    {
     "data": {
      "text/html": [
       "<div>\n",
       "<style scoped>\n",
       "    .dataframe tbody tr th:only-of-type {\n",
       "        vertical-align: middle;\n",
       "    }\n",
       "\n",
       "    .dataframe tbody tr th {\n",
       "        vertical-align: top;\n",
       "    }\n",
       "\n",
       "    .dataframe thead th {\n",
       "        text-align: right;\n",
       "    }\n",
       "</style>\n",
       "<table border=\"1\" class=\"dataframe\">\n",
       "  <thead>\n",
       "    <tr style=\"text-align: right;\">\n",
       "      <th></th>\n",
       "      <th>ticker</th>\n",
       "      <th>open</th>\n",
       "      <th>close</th>\n",
       "      <th>adj_close</th>\n",
       "      <th>low</th>\n",
       "      <th>high</th>\n",
       "      <th>volume</th>\n",
       "      <th>sector</th>\n",
       "    </tr>\n",
       "    <tr>\n",
       "      <th>date</th>\n",
       "      <th></th>\n",
       "      <th></th>\n",
       "      <th></th>\n",
       "      <th></th>\n",
       "      <th></th>\n",
       "      <th></th>\n",
       "      <th></th>\n",
       "      <th></th>\n",
       "    </tr>\n",
       "  </thead>\n",
       "  <tbody>\n",
       "    <tr>\n",
       "      <th>2000-01-03</th>\n",
       "      <td>AAPL</td>\n",
       "      <td>3.745536</td>\n",
       "      <td>3.997768</td>\n",
       "      <td>2.686497</td>\n",
       "      <td>3.631696</td>\n",
       "      <td>4.017857</td>\n",
       "      <td>133949200</td>\n",
       "      <td>TECHNOLOGY</td>\n",
       "    </tr>\n",
       "    <tr>\n",
       "      <th>2000-01-04</th>\n",
       "      <td>AAPL</td>\n",
       "      <td>3.866071</td>\n",
       "      <td>3.660714</td>\n",
       "      <td>2.459998</td>\n",
       "      <td>3.613839</td>\n",
       "      <td>3.950893</td>\n",
       "      <td>128094400</td>\n",
       "      <td>TECHNOLOGY</td>\n",
       "    </tr>\n",
       "    <tr>\n",
       "      <th>2000-01-05</th>\n",
       "      <td>AAPL</td>\n",
       "      <td>3.705357</td>\n",
       "      <td>3.714286</td>\n",
       "      <td>2.495997</td>\n",
       "      <td>3.678571</td>\n",
       "      <td>3.948661</td>\n",
       "      <td>194580400</td>\n",
       "      <td>TECHNOLOGY</td>\n",
       "    </tr>\n",
       "    <tr>\n",
       "      <th>2000-01-06</th>\n",
       "      <td>AAPL</td>\n",
       "      <td>3.790179</td>\n",
       "      <td>3.392857</td>\n",
       "      <td>2.279998</td>\n",
       "      <td>3.392857</td>\n",
       "      <td>3.821429</td>\n",
       "      <td>191993200</td>\n",
       "      <td>TECHNOLOGY</td>\n",
       "    </tr>\n",
       "    <tr>\n",
       "      <th>2000-01-07</th>\n",
       "      <td>AAPL</td>\n",
       "      <td>3.446429</td>\n",
       "      <td>3.553571</td>\n",
       "      <td>2.387998</td>\n",
       "      <td>3.410714</td>\n",
       "      <td>3.607143</td>\n",
       "      <td>115183600</td>\n",
       "      <td>TECHNOLOGY</td>\n",
       "    </tr>\n",
       "  </tbody>\n",
       "</table>\n",
       "</div>"
      ],
      "text/plain": [
       "           ticker      open     close  adj_close       low      high  \\\n",
       "date                                                                   \n",
       "2000-01-03   AAPL  3.745536  3.997768   2.686497  3.631696  4.017857   \n",
       "2000-01-04   AAPL  3.866071  3.660714   2.459998  3.613839  3.950893   \n",
       "2000-01-05   AAPL  3.705357  3.714286   2.495997  3.678571  3.948661   \n",
       "2000-01-06   AAPL  3.790179  3.392857   2.279998  3.392857  3.821429   \n",
       "2000-01-07   AAPL  3.446429  3.553571   2.387998  3.410714  3.607143   \n",
       "\n",
       "               volume      sector  \n",
       "date                               \n",
       "2000-01-03  133949200  TECHNOLOGY  \n",
       "2000-01-04  128094400  TECHNOLOGY  \n",
       "2000-01-05  194580400  TECHNOLOGY  \n",
       "2000-01-06  191993200  TECHNOLOGY  \n",
       "2000-01-07  115183600  TECHNOLOGY  "
      ]
     },
     "execution_count": 6,
     "metadata": {},
     "output_type": "execute_result"
    }
   ],
   "source": [
    "df_sarimax = df_sarimax[(df_sarimax.index)>\"1999-12-31\"]\n",
    "df_sarimax.head()"
   ]
  },
  {
   "cell_type": "code",
   "execution_count": 7,
   "id": "222edff6",
   "metadata": {},
   "outputs": [
    {
     "data": {
      "text/html": [
       "<div>\n",
       "<style scoped>\n",
       "    .dataframe tbody tr th:only-of-type {\n",
       "        vertical-align: middle;\n",
       "    }\n",
       "\n",
       "    .dataframe tbody tr th {\n",
       "        vertical-align: top;\n",
       "    }\n",
       "\n",
       "    .dataframe thead th {\n",
       "        text-align: right;\n",
       "    }\n",
       "</style>\n",
       "<table border=\"1\" class=\"dataframe\">\n",
       "  <thead>\n",
       "    <tr style=\"text-align: right;\">\n",
       "      <th></th>\n",
       "      <th>ticker</th>\n",
       "      <th>open</th>\n",
       "      <th>close</th>\n",
       "      <th>adj_close</th>\n",
       "      <th>low</th>\n",
       "      <th>high</th>\n",
       "      <th>volume</th>\n",
       "      <th>sector</th>\n",
       "    </tr>\n",
       "    <tr>\n",
       "      <th>date</th>\n",
       "      <th></th>\n",
       "      <th></th>\n",
       "      <th></th>\n",
       "      <th></th>\n",
       "      <th></th>\n",
       "      <th></th>\n",
       "      <th></th>\n",
       "      <th></th>\n",
       "    </tr>\n",
       "  </thead>\n",
       "  <tbody>\n",
       "    <tr>\n",
       "      <th>2000-01-03</th>\n",
       "      <td>T</td>\n",
       "      <td>48.5625</td>\n",
       "      <td>47.0000</td>\n",
       "      <td>19.225044</td>\n",
       "      <td>46.6250</td>\n",
       "      <td>49.00</td>\n",
       "      <td>5791900</td>\n",
       "      <td>PUBLIC UTILITIES</td>\n",
       "    </tr>\n",
       "    <tr>\n",
       "      <th>2000-01-04</th>\n",
       "      <td>T</td>\n",
       "      <td>47.0625</td>\n",
       "      <td>44.2500</td>\n",
       "      <td>18.100174</td>\n",
       "      <td>43.5000</td>\n",
       "      <td>47.75</td>\n",
       "      <td>7173600</td>\n",
       "      <td>PUBLIC UTILITIES</td>\n",
       "    </tr>\n",
       "    <tr>\n",
       "      <th>2000-01-05</th>\n",
       "      <td>T</td>\n",
       "      <td>45.0000</td>\n",
       "      <td>44.9375</td>\n",
       "      <td>18.381397</td>\n",
       "      <td>44.4375</td>\n",
       "      <td>45.25</td>\n",
       "      <td>9090000</td>\n",
       "      <td>PUBLIC UTILITIES</td>\n",
       "    </tr>\n",
       "    <tr>\n",
       "      <th>2000-01-06</th>\n",
       "      <td>T</td>\n",
       "      <td>44.5625</td>\n",
       "      <td>43.7500</td>\n",
       "      <td>17.993273</td>\n",
       "      <td>43.1250</td>\n",
       "      <td>45.00</td>\n",
       "      <td>7153600</td>\n",
       "      <td>PUBLIC UTILITIES</td>\n",
       "    </tr>\n",
       "    <tr>\n",
       "      <th>2000-01-07</th>\n",
       "      <td>T</td>\n",
       "      <td>44.5625</td>\n",
       "      <td>44.1250</td>\n",
       "      <td>18.147497</td>\n",
       "      <td>43.3750</td>\n",
       "      <td>44.75</td>\n",
       "      <td>5885600</td>\n",
       "      <td>PUBLIC UTILITIES</td>\n",
       "    </tr>\n",
       "  </tbody>\n",
       "</table>\n",
       "</div>"
      ],
      "text/plain": [
       "           ticker     open    close  adj_close      low   high   volume  \\\n",
       "date                                                                      \n",
       "2000-01-03      T  48.5625  47.0000  19.225044  46.6250  49.00  5791900   \n",
       "2000-01-04      T  47.0625  44.2500  18.100174  43.5000  47.75  7173600   \n",
       "2000-01-05      T  45.0000  44.9375  18.381397  44.4375  45.25  9090000   \n",
       "2000-01-06      T  44.5625  43.7500  17.993273  43.1250  45.00  7153600   \n",
       "2000-01-07      T  44.5625  44.1250  18.147497  43.3750  44.75  5885600   \n",
       "\n",
       "                      sector  \n",
       "date                          \n",
       "2000-01-03  PUBLIC UTILITIES  \n",
       "2000-01-04  PUBLIC UTILITIES  \n",
       "2000-01-05  PUBLIC UTILITIES  \n",
       "2000-01-06  PUBLIC UTILITIES  \n",
       "2000-01-07  PUBLIC UTILITIES  "
      ]
     },
     "execution_count": 7,
     "metadata": {},
     "output_type": "execute_result"
    }
   ],
   "source": [
    "#Selecting the stock \"T\": Telekom to work with it \n",
    "df_telekom = df_sarimax[df_sarimax[\"ticker\"]== \"T\"]\n",
    "df_telekom.head()"
   ]
  },
  {
   "cell_type": "code",
   "execution_count": 21,
   "id": "52cb2866",
   "metadata": {},
   "outputs": [
    {
     "data": {
      "image/png": "[encoded data removed]",
      "text/plain": [
       "<Figure size 432x288 with 4 Axes>"
      ]
     },
     "metadata": {
      "needs_background": "light"
     },
     "output_type": "display_data"
    }
   ],
   "source": [
    "#Checking the additive decomposition (y = Trend * Seasonal * Residuals)\n",
    "#periods 5(weekly), 20(monthly), 253(yearly)\n",
    "result_add_T = seasonal_decompose(df_telekom['adj_close'], model='additive', period=253)\n",
    "result_add_T.plot();"
   ]
  },
  {
   "cell_type": "code",
   "execution_count": 22,
   "id": "1fa1a3c2",
   "metadata": {},
   "outputs": [
    {
     "data": {
      "image/png": "[encoded data removed]",
      "text/plain": [
       "<Figure size 432x288 with 4 Axes>"
      ]
     },
     "metadata": {
      "needs_background": "light"
     },
     "output_type": "display_data"
    }
   ],
   "source": [
    "#Multiplicative Decomposition\n",
    "result_mult_T = seasonal_decompose(df_telekom['adj_close'], model='multiplicative', period=253)\n",
    "result_mult_T.plot();"
   ]
  },
  {
   "cell_type": "markdown",
   "id": "e3bab8b2",
   "metadata": {},
   "source": [
    "### checking stationality"
   ]
  },
  {
   "cell_type": "code",
   "execution_count": 23,
   "id": "f8a07e49",
   "metadata": {},
   "outputs": [
    {
     "data": {
      "image/png": "[encoded data removed]",
      "text/plain": [
       "<Figure size 432x288 with 1 Axes>"
      ]
     },
     "metadata": {
      "needs_background": "light"
     },
     "output_type": "display_data"
    }
   ],
   "source": [
    "#Plot the residuals from multiplicative\n",
    "plt.plot(result_mult_T._resid);"
   ]
  },
  {
   "cell_type": "code",
   "execution_count": 24,
   "id": "c6fe8dd5",
   "metadata": {},
   "outputs": [
    {
     "data": {
      "image/png": "[encoded data removed]",
      "text/plain": [
       "<Figure size 432x288 with 1 Axes>"
      ]
     },
     "metadata": {
      "needs_background": "light"
     },
     "output_type": "display_data"
    }
   ],
   "source": [
    "#Plot the residuals from additive\n",
    "plt.plot(result_add_T._resid);"
   ]
  },
  {
   "cell_type": "code",
   "execution_count": 25,
   "id": "508af60c",
   "metadata": {},
   "outputs": [],
   "source": [
    "#Removing nan values from additive\n",
    "result_observed_add=result_add_T.resid.dropna()"
   ]
  },
  {
   "cell_type": "code",
   "execution_count": 26,
   "id": "62bad341",
   "metadata": {},
   "outputs": [],
   "source": [
    "#Removing nan values from multiplicative\n",
    "result_observed_mult=result_mult_T.resid.dropna()"
   ]
  },
  {
   "cell_type": "code",
   "execution_count": 27,
   "id": "79aaa14a",
   "metadata": {},
   "outputs": [
    {
     "data": {
      "text/plain": [
       "1.1473483148038672e-14"
      ]
     },
     "execution_count": 27,
     "metadata": {},
     "output_type": "execute_result"
    }
   ],
   "source": [
    "#Test with dickey fuller test additive\n",
    "adfuller(result_observed_add)[1]"
   ]
  },
  {
   "cell_type": "code",
   "execution_count": 28,
   "id": "03085eb0",
   "metadata": {},
   "outputs": [
    {
     "data": {
      "text/plain": [
       "1.1976801680390142e-13"
      ]
     },
     "execution_count": 28,
     "metadata": {},
     "output_type": "execute_result"
    }
   ],
   "source": [
    "#Test with dickey fuller test multiplicative\n",
    "adfuller(result_observed_mult)[1]"
   ]
  },
  {
   "cell_type": "markdown",
   "id": "58c6cdc0",
   "metadata": {},
   "source": [
    "### Autocorrelation"
   ]
  },
  {
   "cell_type": "code",
   "execution_count": 29,
   "id": "d60d8213",
   "metadata": {},
   "outputs": [
    {
     "data": {
      "image/png": "[encoded data removed]",
      "text/plain": [
       "<Figure size 432x288 with 1 Axes>"
      ]
     },
     "metadata": {
      "needs_background": "light"
     },
     "output_type": "display_data"
    }
   ],
   "source": [
    "#Plotting autocorrelation \"adj_close\"\n",
    "y = df_telekom.adj_close\n",
    "plot_acf(y);"
   ]
  },
  {
   "cell_type": "code",
   "execution_count": 30,
   "id": "e10507b2",
   "metadata": {},
   "outputs": [
    {
     "data": {
      "image/png": "[encoded data removed]",
      "text/plain": [
       "<Figure size 432x288 with 1 Axes>"
      ]
     },
     "metadata": {
      "needs_background": "light"
     },
     "output_type": "display_data"
    }
   ],
   "source": [
    "#plot the multiplicative residuals with acf \n",
    "plot_acf(result_observed_mult);"
   ]
  },
  {
   "cell_type": "code",
   "execution_count": 31,
   "id": "5a01b5c0",
   "metadata": {},
   "outputs": [
    {
     "data": {
      "image/png": "[encoded data removed]",
      "text/plain": [
       "<Figure size 432x288 with 1 Axes>"
      ]
     },
     "metadata": {
      "needs_background": "light"
     },
     "output_type": "display_data"
    }
   ],
   "source": [
    "#plot the additive residuals with acf \n",
    "plot_acf(result_observed_add);"
   ]
  },
  {
   "cell_type": "code",
   "execution_count": 32,
   "id": "adae9cd9",
   "metadata": {},
   "outputs": [
    {
     "data": {
      "image/png": "[encoded data removed]",
      "text/plain": [
       "<Figure size 432x288 with 1 Axes>"
      ]
     },
     "metadata": {
      "needs_background": "light"
     },
     "output_type": "display_data"
    }
   ],
   "source": [
    "#plot the multiplicative residuals with pacf \n",
    "plot_pacf(result_observed_mult);"
   ]
  },
  {
   "cell_type": "code",
   "execution_count": 33,
   "id": "e333c83c",
   "metadata": {},
   "outputs": [
    {
     "data": {
      "image/png": "[encoded data removed]",
      "text/plain": [
       "<Figure size 432x288 with 1 Axes>"
      ]
     },
     "metadata": {
      "needs_background": "light"
     },
     "output_type": "display_data"
    }
   ],
   "source": [
    "#plot the additive residuals with pacf \n",
    "plot_pacf(result_observed_add);"
   ]
  },
  {
   "cell_type": "markdown",
   "id": "9ff31cd6",
   "metadata": {},
   "source": [
    "## Building the Model (SARIMAX)"
   ]
  },
  {
   "cell_type": "markdown",
   "id": "c461b37b",
   "metadata": {},
   "source": [
    "### Splitting the data (train/test)"
   ]
  },
  {
   "cell_type": "code",
   "execution_count": 34,
   "id": "5baae1de",
   "metadata": {},
   "outputs": [
    {
     "name": "stdout",
     "output_type": "stream",
     "text": [
      "(3773, 8)\n",
      "(919, 8)\n"
     ]
    }
   ],
   "source": [
    "#Split the data in train / test \n",
    "df_telekom_train = df_telekom[:\"2014\"]\n",
    "df_telekom_test = df_telekom[\"2015\":]\n",
    "print(df_telekom_train.shape)\n",
    "print(df_telekom_test.shape)"
   ]
  },
  {
   "cell_type": "code",
   "execution_count": 35,
   "id": "fba98add",
   "metadata": {},
   "outputs": [
    {
     "name": "stdout",
     "output_type": "stream",
     "text": [
      "Performing stepwise search to minimize aic\n",
      " ARIMA(0,1,0)(0,0,0)[5] intercept   : AIC=1490.191, Time=0.40 sec\n",
      " ARIMA(1,1,0)(1,0,0)[5] intercept   : AIC=1493.197, Time=2.64 sec\n",
      " ARIMA(0,1,1)(0,0,1)[5] intercept   : AIC=1493.192, Time=3.59 sec\n",
      " ARIMA(0,1,0)(0,0,0)[5]             : AIC=1488.405, Time=0.20 sec\n",
      " ARIMA(0,1,0)(1,0,0)[5] intercept   : AIC=1491.501, Time=0.83 sec\n",
      " ARIMA(0,1,0)(0,0,1)[5] intercept   : AIC=1491.536, Time=2.13 sec\n",
      " ARIMA(0,1,0)(1,0,1)[5] intercept   : AIC=1493.931, Time=2.05 sec\n",
      " ARIMA(1,1,0)(0,0,0)[5] intercept   : AIC=1491.939, Time=0.38 sec\n",
      " ARIMA(0,1,1)(0,0,0)[5] intercept   : AIC=1491.904, Time=0.52 sec\n",
      " ARIMA(1,1,1)(0,0,0)[5] intercept   : AIC=1477.361, Time=1.93 sec\n",
      " ARIMA(1,1,1)(1,0,0)[5] intercept   : AIC=1479.349, Time=10.53 sec\n",
      " ARIMA(1,1,1)(0,0,1)[5] intercept   : AIC=1479.349, Time=7.55 sec\n",
      " ARIMA(1,1,1)(1,0,1)[5] intercept   : AIC=1481.224, Time=12.32 sec\n",
      " ARIMA(2,1,1)(0,0,0)[5] intercept   : AIC=1473.300, Time=2.27 sec\n",
      " ARIMA(2,1,1)(1,0,0)[5] intercept   : AIC=1475.272, Time=7.10 sec\n",
      " ARIMA(2,1,1)(0,0,1)[5] intercept   : AIC=1475.274, Time=9.52 sec\n",
      " ARIMA(2,1,1)(1,0,1)[5] intercept   : AIC=1477.134, Time=9.86 sec\n",
      " ARIMA(2,1,0)(0,0,0)[5] intercept   : AIC=1479.963, Time=0.74 sec\n",
      " ARIMA(2,1,2)(0,0,0)[5] intercept   : AIC=1474.481, Time=5.45 sec\n",
      " ARIMA(1,1,2)(0,0,0)[5] intercept   : AIC=1473.069, Time=4.52 sec\n",
      " ARIMA(1,1,2)(1,0,0)[5] intercept   : AIC=1475.043, Time=7.86 sec\n",
      " ARIMA(1,1,2)(0,0,1)[5] intercept   : AIC=1475.044, Time=9.34 sec\n",
      " ARIMA(1,1,2)(1,0,1)[5] intercept   : AIC=1476.525, Time=17.22 sec\n",
      " ARIMA(0,1,2)(0,0,0)[5] intercept   : AIC=1478.887, Time=1.00 sec\n",
      " ARIMA(1,1,2)(0,0,0)[5]             : AIC=1471.407, Time=0.84 sec\n",
      " ARIMA(1,1,2)(1,0,0)[5]             : AIC=1473.382, Time=2.18 sec\n",
      " ARIMA(1,1,2)(0,0,1)[5]             : AIC=1473.384, Time=2.90 sec\n",
      " ARIMA(1,1,2)(1,0,1)[5]             : AIC=1474.862, Time=6.07 sec\n",
      " ARIMA(0,1,2)(0,0,0)[5]             : AIC=1477.145, Time=0.43 sec\n",
      " ARIMA(1,1,1)(0,0,0)[5]             : AIC=1475.733, Time=0.67 sec\n",
      " ARIMA(2,1,2)(0,0,0)[5]             : AIC=1472.829, Time=1.12 sec\n",
      " ARIMA(0,1,1)(0,0,0)[5]             : AIC=1490.122, Time=0.39 sec\n",
      " ARIMA(2,1,1)(0,0,0)[5]             : AIC=1471.637, Time=0.90 sec\n",
      "\n",
      "Best model:  ARIMA(1,1,2)(0,0,0)[5]          \n",
      "Total fit time: 135.672 seconds\n",
      "                               SARIMAX Results                                \n",
      "==============================================================================\n",
      "Dep. Variable:                      y   No. Observations:                 3773\n",
      "Model:               SARIMAX(1, 1, 2)   Log Likelihood                -731.703\n",
      "Date:                Thu, 03 Jun 2021   AIC                           1471.407\n",
      "Time:                        17:02:27   BIC                           1496.348\n",
      "Sample:                             0   HQIC                          1480.274\n",
      "                               - 3773                                         \n",
      "Covariance Type:                  opg                                         \n",
      "==============================================================================\n",
      "                 coef    std err          z      P>|z|      [0.025      0.975]\n",
      "------------------------------------------------------------------------------\n",
      "ar.L1          0.6381      0.084      7.559      0.000       0.473       0.803\n",
      "ma.L1         -0.6500      0.085     -7.659      0.000      -0.816      -0.484\n",
      "ma.L2         -0.0523      0.014     -3.805      0.000      -0.079      -0.025\n",
      "sigma2         0.0863      0.001     86.587      0.000       0.084       0.088\n",
      "===================================================================================\n",
      "Ljung-Box (L1) (Q):                   0.00   Jarque-Bera (JB):              6043.49\n",
      "Prob(Q):                              0.98   Prob(JB):                         0.00\n",
      "Heteroskedasticity (H):               0.42   Skew:                            -0.18\n",
      "Prob(H) (two-sided):                  0.00   Kurtosis:                         9.19\n",
      "===================================================================================\n",
      "\n",
      "Warnings:\n",
      "[1] Covariance matrix calculated using the outer product of gradients (complex-step).\n"
     ]
    }
   ],
   "source": [
    "#use the auto arima and train data to get the parameters\n",
    "model = pm.auto_arima(df_telekom_train[\"adj_close\"],\n",
    "                      m=5, # frequency of series. Important to choose manually\n",
    "                      seasonal=True,\n",
    "                      stepwise=True,  # only check most interesting combination. False will take way longer.\n",
    "                      start_p=0, max_p=2,\n",
    "                      start_d=0, max_d=1,\n",
    "                      start_q=0, max_q=2,\n",
    "                      start_P=0, max_P=2,\n",
    "                      start_D=0, max_D=2,\n",
    "                      start_Q=0, max_Q=2,\n",
    "                      njobs=-1, trace=True, error_action=\"ignore\",  suppress_warnings=True)\n",
    "print(model.summary())"
   ]
  },
  {
   "cell_type": "code",
   "execution_count": 36,
   "id": "aea7d0af",
   "metadata": {},
   "outputs": [],
   "source": [
    "#Best model params\n",
    "#ARIMA(1,1,2)(0,0,0)[5] m=5"
   ]
  },
  {
   "cell_type": "markdown",
   "id": "43a972f9",
   "metadata": {},
   "source": [
    "### Define the model"
   ]
  },
  {
   "cell_type": "code",
   "execution_count": 47,
   "id": "744ab0b6",
   "metadata": {},
   "outputs": [
    {
     "name": "stderr",
     "output_type": "stream",
     "text": [
      "/home/luis/.pyenv/versions/3.8.6/envs/stock_prices_predictions/lib/python3.8/site-packages/statsmodels/tsa/base/tsa_model.py:581: ValueWarning: A date index has been provided, but it has no associated frequency information and so will be ignored when e.g. forecasting.\n",
      "  warnings.warn('A date index has been provided, but it has no'\n",
      "/home/luis/.pyenv/versions/3.8.6/envs/stock_prices_predictions/lib/python3.8/site-packages/statsmodels/tsa/base/tsa_model.py:581: ValueWarning: A date index has been provided, but it has no associated frequency information and so will be ignored when e.g. forecasting.\n",
      "  warnings.warn('A date index has been provided, but it has no'\n"
     ]
    }
   ],
   "source": [
    "#Specify training data\n",
    "data = df_telekom_train[\"adj_close\"]\n",
    "#Define the model configuration\n",
    "my_order = (1, 1, 2)\n",
    "my_seasonal_order = (0, 0, 0, 5)\n",
    "#Define the model \n",
    "model_sarimax = SARIMAX(df_telekom_train[\"adj_close\"], order=my_order, seasonal_order=my_seasonal_order)\n",
    "#Fit the model \n",
    "model_fit = model_sarimax.fit()"
   ]
  },
  {
   "cell_type": "markdown",
   "id": "210bddfb",
   "metadata": {},
   "source": [
    "### First prediction"
   ]
  },
  {
   "cell_type": "code",
   "execution_count": 42,
   "id": "1c8aa431",
   "metadata": {},
   "outputs": [
    {
     "data": {
      "text/plain": [
       "DatetimeIndex(['2015-01-02', '2015-01-05', '2015-01-06', '2015-01-07',\n",
       "               '2015-01-08', '2015-01-09', '2015-01-12', '2015-01-13',\n",
       "               '2015-01-14', '2015-01-15',\n",
       "               ...\n",
       "               '2018-08-13', '2018-08-14', '2018-08-15', '2018-08-16',\n",
       "               '2018-08-17', '2018-08-20', '2018-08-21', '2018-08-22',\n",
       "               '2018-08-23', '2018-08-24'],\n",
       "              dtype='datetime64[ns]', name='date', length=919, freq=None)"
      ]
     },
     "execution_count": 42,
     "metadata": {},
     "output_type": "execute_result"
    }
   ],
   "source": [
    "df_telekom_test.index"
   ]
  },
  {
   "cell_type": "code",
   "execution_count": 43,
   "id": "f94d1637",
   "metadata": {},
   "outputs": [
    {
     "name": "stderr",
     "output_type": "stream",
     "text": [
      "/home/luis/.pyenv/versions/3.8.6/envs/stock_prices_predictions/lib/python3.8/site-packages/statsmodels/tsa/base/tsa_model.py:376: ValueWarning: No supported index is available. Prediction results will be given with an integer index beginning at `start`.\n",
      "  warnings.warn('No supported index is available.'\n"
     ]
    }
   ],
   "source": [
    "#Forecast\n",
    "n_periods = len(df_telekom_test[\"adj_close\"])\n",
    "forecast = model_fit.get_forecast(steps = n_periods)\n",
    "index_y_test = df_telekom_test.index "
   ]
  },
  {
   "cell_type": "code",
   "execution_count": 48,
   "id": "180fa583",
   "metadata": {},
   "outputs": [
    {
     "data": {
      "text/html": [
       "<div>\n",
       "<style scoped>\n",
       "    .dataframe tbody tr th:only-of-type {\n",
       "        vertical-align: middle;\n",
       "    }\n",
       "\n",
       "    .dataframe tbody tr th {\n",
       "        vertical-align: top;\n",
       "    }\n",
       "\n",
       "    .dataframe thead th {\n",
       "        text-align: right;\n",
       "    }\n",
       "</style>\n",
       "<table border=\"1\" class=\"dataframe\">\n",
       "  <thead>\n",
       "    <tr style=\"text-align: right;\">\n",
       "      <th>adj_close</th>\n",
       "      <th>mean</th>\n",
       "      <th>mean_se</th>\n",
       "      <th>mean_ci_lower</th>\n",
       "      <th>mean_ci_upper</th>\n",
       "    </tr>\n",
       "  </thead>\n",
       "  <tbody>\n",
       "    <tr>\n",
       "      <th>3773</th>\n",
       "      <td>27.581877</td>\n",
       "      <td>0.293761</td>\n",
       "      <td>27.006117</td>\n",
       "      <td>28.157638</td>\n",
       "    </tr>\n",
       "    <tr>\n",
       "      <th>3774</th>\n",
       "      <td>27.598977</td>\n",
       "      <td>0.412969</td>\n",
       "      <td>26.789571</td>\n",
       "      <td>28.408382</td>\n",
       "    </tr>\n",
       "    <tr>\n",
       "      <th>3775</th>\n",
       "      <td>27.609887</td>\n",
       "      <td>0.494858</td>\n",
       "      <td>26.639983</td>\n",
       "      <td>28.579791</td>\n",
       "    </tr>\n",
       "    <tr>\n",
       "      <th>3776</th>\n",
       "      <td>27.616848</td>\n",
       "      <td>0.559668</td>\n",
       "      <td>26.519920</td>\n",
       "      <td>28.713777</td>\n",
       "    </tr>\n",
       "    <tr>\n",
       "      <th>3777</th>\n",
       "      <td>27.621290</td>\n",
       "      <td>0.614716</td>\n",
       "      <td>26.416468</td>\n",
       "      <td>28.826112</td>\n",
       "    </tr>\n",
       "    <tr>\n",
       "      <th>...</th>\n",
       "      <td>...</td>\n",
       "      <td>...</td>\n",
       "      <td>...</td>\n",
       "      <td>...</td>\n",
       "    </tr>\n",
       "    <tr>\n",
       "      <th>4687</th>\n",
       "      <td>27.629120</td>\n",
       "      <td>7.315642</td>\n",
       "      <td>13.290725</td>\n",
       "      <td>41.967515</td>\n",
       "    </tr>\n",
       "    <tr>\n",
       "      <th>4688</th>\n",
       "      <td>27.629120</td>\n",
       "      <td>7.319631</td>\n",
       "      <td>13.282907</td>\n",
       "      <td>41.975334</td>\n",
       "    </tr>\n",
       "    <tr>\n",
       "      <th>4689</th>\n",
       "      <td>27.629120</td>\n",
       "      <td>7.323618</td>\n",
       "      <td>13.275092</td>\n",
       "      <td>41.983149</td>\n",
       "    </tr>\n",
       "    <tr>\n",
       "      <th>4690</th>\n",
       "      <td>27.629120</td>\n",
       "      <td>7.327603</td>\n",
       "      <td>13.267282</td>\n",
       "      <td>41.990959</td>\n",
       "    </tr>\n",
       "    <tr>\n",
       "      <th>4691</th>\n",
       "      <td>27.629120</td>\n",
       "      <td>7.331586</td>\n",
       "      <td>13.259475</td>\n",
       "      <td>41.998765</td>\n",
       "    </tr>\n",
       "  </tbody>\n",
       "</table>\n",
       "<p>919 rows × 4 columns</p>\n",
       "</div>"
      ],
      "text/plain": [
       "adj_close       mean   mean_se  mean_ci_lower  mean_ci_upper\n",
       "3773       27.581877  0.293761      27.006117      28.157638\n",
       "3774       27.598977  0.412969      26.789571      28.408382\n",
       "3775       27.609887  0.494858      26.639983      28.579791\n",
       "3776       27.616848  0.559668      26.519920      28.713777\n",
       "3777       27.621290  0.614716      26.416468      28.826112\n",
       "...              ...       ...            ...            ...\n",
       "4687       27.629120  7.315642      13.290725      41.967515\n",
       "4688       27.629120  7.319631      13.282907      41.975334\n",
       "4689       27.629120  7.323618      13.275092      41.983149\n",
       "4690       27.629120  7.327603      13.267282      41.990959\n",
       "4691       27.629120  7.331586      13.259475      41.998765\n",
       "\n",
       "[919 rows x 4 columns]"
      ]
     },
     "execution_count": 48,
     "metadata": {},
     "output_type": "execute_result"
    }
   ],
   "source": [
    "forecast.summary_frame()"
   ]
  },
  {
   "cell_type": "code",
   "execution_count": 49,
   "id": "e25b05a6",
   "metadata": {},
   "outputs": [
    {
     "data": {
      "text/html": [
       "<div>\n",
       "<style scoped>\n",
       "    .dataframe tbody tr th:only-of-type {\n",
       "        vertical-align: middle;\n",
       "    }\n",
       "\n",
       "    .dataframe tbody tr th {\n",
       "        vertical-align: top;\n",
       "    }\n",
       "\n",
       "    .dataframe thead th {\n",
       "        text-align: right;\n",
       "    }\n",
       "</style>\n",
       "<table border=\"1\" class=\"dataframe\">\n",
       "  <thead>\n",
       "    <tr style=\"text-align: right;\">\n",
       "      <th>adj_close</th>\n",
       "      <th>mean</th>\n",
       "      <th>mean_se</th>\n",
       "      <th>mean_ci_lower</th>\n",
       "      <th>mean_ci_upper</th>\n",
       "    </tr>\n",
       "  </thead>\n",
       "  <tbody>\n",
       "    <tr>\n",
       "      <th>3773</th>\n",
       "      <td>27.581877</td>\n",
       "      <td>0.293761</td>\n",
       "      <td>27.006117</td>\n",
       "      <td>28.157638</td>\n",
       "    </tr>\n",
       "    <tr>\n",
       "      <th>3774</th>\n",
       "      <td>27.598977</td>\n",
       "      <td>0.412969</td>\n",
       "      <td>26.789571</td>\n",
       "      <td>28.408382</td>\n",
       "    </tr>\n",
       "    <tr>\n",
       "      <th>3775</th>\n",
       "      <td>27.609887</td>\n",
       "      <td>0.494858</td>\n",
       "      <td>26.639983</td>\n",
       "      <td>28.579791</td>\n",
       "    </tr>\n",
       "    <tr>\n",
       "      <th>3776</th>\n",
       "      <td>27.616848</td>\n",
       "      <td>0.559668</td>\n",
       "      <td>26.519920</td>\n",
       "      <td>28.713777</td>\n",
       "    </tr>\n",
       "    <tr>\n",
       "      <th>3777</th>\n",
       "      <td>27.621290</td>\n",
       "      <td>0.614716</td>\n",
       "      <td>26.416468</td>\n",
       "      <td>28.826112</td>\n",
       "    </tr>\n",
       "  </tbody>\n",
       "</table>\n",
       "</div>"
      ],
      "text/plain": [
       "adj_close       mean   mean_se  mean_ci_lower  mean_ci_upper\n",
       "3773       27.581877  0.293761      27.006117      28.157638\n",
       "3774       27.598977  0.412969      26.789571      28.408382\n",
       "3775       27.609887  0.494858      26.639983      28.579791\n",
       "3776       27.616848  0.559668      26.519920      28.713777\n",
       "3777       27.621290  0.614716      26.416468      28.826112"
      ]
     },
     "execution_count": 49,
     "metadata": {},
     "output_type": "execute_result"
    }
   ],
   "source": [
    "#Putting my forecast results into a dataframe to work with it\n",
    "forecast_df = forecast.summary_frame()\n",
    "forecast_df.head()"
   ]
  },
  {
   "cell_type": "code",
   "execution_count": 50,
   "id": "30756fea",
   "metadata": {},
   "outputs": [
    {
     "data": {
      "text/html": [
       "<div>\n",
       "<style scoped>\n",
       "    .dataframe tbody tr th:only-of-type {\n",
       "        vertical-align: middle;\n",
       "    }\n",
       "\n",
       "    .dataframe tbody tr th {\n",
       "        vertical-align: top;\n",
       "    }\n",
       "\n",
       "    .dataframe thead th {\n",
       "        text-align: right;\n",
       "    }\n",
       "</style>\n",
       "<table border=\"1\" class=\"dataframe\">\n",
       "  <thead>\n",
       "    <tr style=\"text-align: right;\">\n",
       "      <th>adj_close</th>\n",
       "      <th>mean</th>\n",
       "      <th>mean_se</th>\n",
       "      <th>mean_ci_lower</th>\n",
       "      <th>mean_ci_upper</th>\n",
       "      <th>date</th>\n",
       "    </tr>\n",
       "  </thead>\n",
       "  <tbody>\n",
       "    <tr>\n",
       "      <th>3773</th>\n",
       "      <td>27.581877</td>\n",
       "      <td>0.293761</td>\n",
       "      <td>27.006117</td>\n",
       "      <td>28.157638</td>\n",
       "      <td>2015-01-02</td>\n",
       "    </tr>\n",
       "    <tr>\n",
       "      <th>3774</th>\n",
       "      <td>27.598977</td>\n",
       "      <td>0.412969</td>\n",
       "      <td>26.789571</td>\n",
       "      <td>28.408382</td>\n",
       "      <td>2015-01-05</td>\n",
       "    </tr>\n",
       "    <tr>\n",
       "      <th>3775</th>\n",
       "      <td>27.609887</td>\n",
       "      <td>0.494858</td>\n",
       "      <td>26.639983</td>\n",
       "      <td>28.579791</td>\n",
       "      <td>2015-01-06</td>\n",
       "    </tr>\n",
       "    <tr>\n",
       "      <th>3776</th>\n",
       "      <td>27.616848</td>\n",
       "      <td>0.559668</td>\n",
       "      <td>26.519920</td>\n",
       "      <td>28.713777</td>\n",
       "      <td>2015-01-07</td>\n",
       "    </tr>\n",
       "    <tr>\n",
       "      <th>3777</th>\n",
       "      <td>27.621290</td>\n",
       "      <td>0.614716</td>\n",
       "      <td>26.416468</td>\n",
       "      <td>28.826112</td>\n",
       "      <td>2015-01-08</td>\n",
       "    </tr>\n",
       "  </tbody>\n",
       "</table>\n",
       "</div>"
      ],
      "text/plain": [
       "adj_close       mean   mean_se  mean_ci_lower  mean_ci_upper       date\n",
       "3773       27.581877  0.293761      27.006117      28.157638 2015-01-02\n",
       "3774       27.598977  0.412969      26.789571      28.408382 2015-01-05\n",
       "3775       27.609887  0.494858      26.639983      28.579791 2015-01-06\n",
       "3776       27.616848  0.559668      26.519920      28.713777 2015-01-07\n",
       "3777       27.621290  0.614716      26.416468      28.826112 2015-01-08"
      ]
     },
     "execution_count": 50,
     "metadata": {},
     "output_type": "execute_result"
    }
   ],
   "source": [
    "#add a column with the date (from df_telekom)\n",
    "forecast_df[\"date\"] = df_telekom_test.index\n",
    "forecast_df.head()"
   ]
  },
  {
   "cell_type": "code",
   "execution_count": 54,
   "id": "fd1b62f0",
   "metadata": {},
   "outputs": [],
   "source": [
    "#setting my forecast_df with a date index\n",
    "forecast_df.reset_index()\n",
    "forecast_df = forecast_df.set_index(forecast_df[\"date\"])\n",
    "forecast_df = forecast_df.drop(\"date\", axis=1)"
   ]
  },
  {
   "cell_type": "code",
   "execution_count": 55,
   "id": "0eb1e342",
   "metadata": {},
   "outputs": [
    {
     "data": {
      "text/html": [
       "<div>\n",
       "<style scoped>\n",
       "    .dataframe tbody tr th:only-of-type {\n",
       "        vertical-align: middle;\n",
       "    }\n",
       "\n",
       "    .dataframe tbody tr th {\n",
       "        vertical-align: top;\n",
       "    }\n",
       "\n",
       "    .dataframe thead th {\n",
       "        text-align: right;\n",
       "    }\n",
       "</style>\n",
       "<table border=\"1\" class=\"dataframe\">\n",
       "  <thead>\n",
       "    <tr style=\"text-align: right;\">\n",
       "      <th>adj_close</th>\n",
       "      <th>mean</th>\n",
       "      <th>mean_se</th>\n",
       "      <th>mean_ci_lower</th>\n",
       "      <th>mean_ci_upper</th>\n",
       "    </tr>\n",
       "    <tr>\n",
       "      <th>date</th>\n",
       "      <th></th>\n",
       "      <th></th>\n",
       "      <th></th>\n",
       "      <th></th>\n",
       "    </tr>\n",
       "  </thead>\n",
       "  <tbody>\n",
       "    <tr>\n",
       "      <th>2015-01-02</th>\n",
       "      <td>27.581877</td>\n",
       "      <td>0.293761</td>\n",
       "      <td>27.006117</td>\n",
       "      <td>28.157638</td>\n",
       "    </tr>\n",
       "    <tr>\n",
       "      <th>2015-01-05</th>\n",
       "      <td>27.598977</td>\n",
       "      <td>0.412969</td>\n",
       "      <td>26.789571</td>\n",
       "      <td>28.408382</td>\n",
       "    </tr>\n",
       "    <tr>\n",
       "      <th>2015-01-06</th>\n",
       "      <td>27.609887</td>\n",
       "      <td>0.494858</td>\n",
       "      <td>26.639983</td>\n",
       "      <td>28.579791</td>\n",
       "    </tr>\n",
       "    <tr>\n",
       "      <th>2015-01-07</th>\n",
       "      <td>27.616848</td>\n",
       "      <td>0.559668</td>\n",
       "      <td>26.519920</td>\n",
       "      <td>28.713777</td>\n",
       "    </tr>\n",
       "    <tr>\n",
       "      <th>2015-01-08</th>\n",
       "      <td>27.621290</td>\n",
       "      <td>0.614716</td>\n",
       "      <td>26.416468</td>\n",
       "      <td>28.826112</td>\n",
       "    </tr>\n",
       "  </tbody>\n",
       "</table>\n",
       "</div>"
      ],
      "text/plain": [
       "adj_close        mean   mean_se  mean_ci_lower  mean_ci_upper\n",
       "date                                                         \n",
       "2015-01-02  27.581877  0.293761      27.006117      28.157638\n",
       "2015-01-05  27.598977  0.412969      26.789571      28.408382\n",
       "2015-01-06  27.609887  0.494858      26.639983      28.579791\n",
       "2015-01-07  27.616848  0.559668      26.519920      28.713777\n",
       "2015-01-08  27.621290  0.614716      26.416468      28.826112"
      ]
     },
     "execution_count": 55,
     "metadata": {},
     "output_type": "execute_result"
    }
   ],
   "source": [
    "#checking the result\n",
    "forecast_df.head()"
   ]
  },
  {
   "cell_type": "code",
   "execution_count": 52,
   "id": "e83dc85a",
   "metadata": {},
   "outputs": [
    {
     "data": {
      "image/png": "[encoded data removed]",
      "text/plain": [
       "<Figure size 432x288 with 1 Axes>"
      ]
     },
     "metadata": {
      "needs_background": "light"
     },
     "output_type": "display_data"
    }
   ],
   "source": [
    "#Having a first view of my results\n",
    "plt.plot(forecast_df[\"mean\"])\n",
    "plt.plot(forecast_df[\"mean_ci_lower\"])\n",
    "plt.plot(forecast_df[\"mean_ci_upper\"]);"
   ]
  },
  {
   "cell_type": "code",
   "execution_count": 61,
   "id": "de336000",
   "metadata": {},
   "outputs": [
    {
     "data": {
      "text/plain": [
       "DatetimeIndex(['2015-01-02', '2015-01-05', '2015-01-06', '2015-01-07',\n",
       "               '2015-01-08', '2015-01-09', '2015-01-12', '2015-01-13',\n",
       "               '2015-01-14', '2015-01-15',\n",
       "               ...\n",
       "               '2018-08-13', '2018-08-14', '2018-08-15', '2018-08-16',\n",
       "               '2018-08-17', '2018-08-20', '2018-08-21', '2018-08-22',\n",
       "               '2018-08-23', '2018-08-24'],\n",
       "              dtype='datetime64[ns]', name='date', length=919, freq=None)"
      ]
     },
     "execution_count": 61,
     "metadata": {},
     "output_type": "execute_result"
    }
   ],
   "source": [
    "df_telekom_test.index"
   ]
  },
  {
   "cell_type": "code",
   "execution_count": 63,
   "id": "609e4bbe",
   "metadata": {},
   "outputs": [],
   "source": [
    "#Make series for plotting purpose\n",
    "central = pd.Series(forecast_df[\"mean\"], index=df_telekom_test.index)\n",
    "lower = pd.Series(forecast_df[\"mean_ci_lower\"], index=df_telekom_test.index)\n",
    "upper = pd.Series(forecast_df[\"mean_ci_upper\"], index=df_telekom_test.index)"
   ]
  },
  {
   "cell_type": "code",
   "execution_count": 64,
   "id": "b636259a",
   "metadata": {},
   "outputs": [
    {
     "data": {
      "image/png": "[encoded data removed]",
      "text/plain": [
       "<Figure size 1400x600 with 1 Axes>"
      ]
     },
     "metadata": {
      "needs_background": "light"
     },
     "output_type": "display_data"
    }
   ],
   "source": [
    "#Plotting my predictions against reality\n",
    "plt.figure(figsize=(14,6), dpi=100)\n",
    "plt.plot(df_telekom_train[\"adj_close\"], label=\"train values\")\n",
    "plt.plot(df_telekom_test[\"adj_close\"], label=\"true test values\")\n",
    "plt.plot(central, color=\"darkgreen\", label=\"forecast\")\n",
    "plt.fill_between(lower.index, \n",
    "                lower,\n",
    "                upper,\n",
    "                color=\"k\", alpha=.15)\n",
    "\n",
    "plt.title(\"SARIMA Forecast\")\n",
    "plt.legend()\n",
    "plt.show()"
   ]
  },
  {
   "cell_type": "code",
   "execution_count": null,
   "id": "f0713b65",
   "metadata": {},
   "outputs": [],
   "source": []
  }
 ],
 "metadata": {
  "kernelspec": {
   "display_name": "Python 3",
   "language": "python",
   "name": "python3"
  },
  "language_info": {
   "codemirror_mode": {
    "name": "ipython",
    "version": 3
   },
   "file_extension": ".py",
   "mimetype": "text/x-python",
   "name": "python",
   "nbconvert_exporter": "python",
   "pygments_lexer": "ipython3",
   "version": "3.8.6"
  },
  "toc": {
   "base_numbering": 1,
   "nav_menu": {},
   "number_sections": true,
   "sideBar": true,
   "skip_h1_title": false,
   "title_cell": "Table of Contents",
   "title_sidebar": "Contents",
   "toc_cell": false,
   "toc_position": {},
   "toc_section_display": true,
   "toc_window_display": false
  }
 },
 "nbformat": 4,
 "nbformat_minor": 5
}
