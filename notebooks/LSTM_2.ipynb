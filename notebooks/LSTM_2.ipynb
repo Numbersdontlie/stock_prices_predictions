{
 "cells": [
  {
   "cell_type": "markdown",
   "id": "1f900ad4",
   "metadata": {},
   "source": [
    "# Import Libraries"
   ]
  },
  {
   "cell_type": "code",
   "execution_count": 1,
   "id": "9c828a39",
   "metadata": {},
   "outputs": [],
   "source": [
    "%load_ext autoreload\n",
    "%autoreload 2\n",
    "import os\n",
    "import pandas as pd\n",
    "import numpy as np\n",
    "from stock_prices_predictions.get_data import *\n",
    "from tensorflow.keras.models import Sequential\n",
    "from tensorflow.keras.layers import LSTM, Dropout, Dense\n",
    "from tensorflow.keras import layers\n",
    "from sklearn.preprocessing import RobustScaler\n",
    "import matplotlib.pyplot as plt\n",
    "import seaborn as sns\n",
    "from tensorflow.keras.callbacks import EarlyStopping\n",
    "from tensorflow.keras.losses import mean_absolute_percentage_error"
   ]
  },
  {
   "cell_type": "markdown",
   "id": "eb2a0b15",
   "metadata": {},
   "source": [
    "# Fetch data"
   ]
  },
  {
   "cell_type": "markdown",
   "id": "78b41ece",
   "metadata": {},
   "source": [
    "define company:"
   ]
  },
  {
   "cell_type": "code",
   "execution_count": 2,
   "id": "d8967dd4",
   "metadata": {},
   "outputs": [],
   "source": [
    "company = \"T\"\n",
    "days_ahead = 1"
   ]
  },
  {
   "cell_type": "code",
   "execution_count": 3,
   "id": "ff25ae50",
   "metadata": {},
   "outputs": [],
   "source": [
    "X_train, X_test = get_lstm_data(company)"
   ]
  },
  {
   "cell_type": "code",
   "execution_count": 4,
   "id": "bafa7534",
   "metadata": {},
   "outputs": [
    {
     "data": {
      "text/plain": [
       "(3773, 1)"
      ]
     },
     "execution_count": 4,
     "metadata": {},
     "output_type": "execute_result"
    }
   ],
   "source": [
    "X_train.shape"
   ]
  },
  {
   "cell_type": "code",
   "execution_count": 5,
   "id": "b218cb76",
   "metadata": {
    "scrolled": true
   },
   "outputs": [
    {
     "data": {
      "text/plain": [
       "(919, 1)"
      ]
     },
     "execution_count": 5,
     "metadata": {},
     "output_type": "execute_result"
    }
   ],
   "source": [
    "X_test.shape"
   ]
  },
  {
   "cell_type": "markdown",
   "id": "0d8bfa02",
   "metadata": {},
   "source": [
    "# Scale data"
   ]
  },
  {
   "cell_type": "code",
   "execution_count": 6,
   "id": "f024f32f",
   "metadata": {},
   "outputs": [],
   "source": [
    "#try differente scalers\n",
    "scaler = RobustScaler()\n",
    "scaler.fit(X_train)\n",
    "X_train_sc = scaler.transform(X_train)\n",
    "\n",
    "X_test_sc = scaler.transform(X_test)"
   ]
  },
  {
   "cell_type": "code",
   "execution_count": 7,
   "id": "2edc95d0",
   "metadata": {},
   "outputs": [
    {
     "data": {
      "text/plain": [
       "(3773, 1)"
      ]
     },
     "execution_count": 7,
     "metadata": {},
     "output_type": "execute_result"
    }
   ],
   "source": [
    "X_train_sc.shape"
   ]
  },
  {
   "cell_type": "code",
   "execution_count": 8,
   "id": "4fad9a50",
   "metadata": {},
   "outputs": [
    {
     "data": {
      "text/plain": [
       "(919, 1)"
      ]
     },
     "execution_count": 8,
     "metadata": {},
     "output_type": "execute_result"
    }
   ],
   "source": [
    "X_test_sc.shape"
   ]
  },
  {
   "cell_type": "markdown",
   "id": "2820d651",
   "metadata": {},
   "source": [
    "# Create Sequences"
   ]
  },
  {
   "cell_type": "code",
   "execution_count": 9,
   "id": "64c734e9",
   "metadata": {},
   "outputs": [],
   "source": [
    "#X_train, y_train = create_sequences(pd.DataFrame(X_train_sc),pd.DataFrame(X_train), days_ahead)\n",
    "#X_test, y_test = create_sequences(pd.DataFrame(X_test_sc),pd.DataFrame(X_test), days_ahead)"
   ]
  },
  {
   "cell_type": "code",
   "execution_count": 10,
   "id": "9bc0d5ca",
   "metadata": {},
   "outputs": [],
   "source": [
    "#X_train, y_train = create_sequences_scaled(pd.DataFrame(X_train_sc), days_ahead)\n",
    "#X_test, y_test = create_sequences_scaled(pd.DataFrame(X_test_sc), days_ahead)"
   ]
  },
  {
   "cell_type": "code",
   "execution_count": 11,
   "id": "e75a4813",
   "metadata": {},
   "outputs": [],
   "source": [
    "X_train, y_train, y_train_simple = create_sequences_scaled_plus(pd.DataFrame(X_train_sc),pd.DataFrame(X_train), days_ahead)\n",
    "X_test, y_test, y_test_simple = create_sequences_scaled_plus(pd.DataFrame(X_test_sc), pd.DataFrame(X_test), days_ahead)"
   ]
  },
  {
   "cell_type": "code",
   "execution_count": 12,
   "id": "d1da664d",
   "metadata": {},
   "outputs": [
    {
     "data": {
      "text/plain": [
       "(919, 19, 1)"
      ]
     },
     "execution_count": 12,
     "metadata": {},
     "output_type": "execute_result"
    }
   ],
   "source": [
    "X_train.shape"
   ]
  },
  {
   "cell_type": "code",
   "execution_count": 13,
   "id": "358c432f",
   "metadata": {
    "scrolled": true
   },
   "outputs": [
    {
     "data": {
      "text/plain": [
       "(205, 19, 1)"
      ]
     },
     "execution_count": 13,
     "metadata": {},
     "output_type": "execute_result"
    }
   ],
   "source": [
    "X_test.shape"
   ]
  },
  {
   "cell_type": "code",
   "execution_count": 14,
   "id": "98bc7974",
   "metadata": {},
   "outputs": [
    {
     "data": {
      "text/plain": [
       "(919,)"
      ]
     },
     "execution_count": 14,
     "metadata": {},
     "output_type": "execute_result"
    }
   ],
   "source": [
    "y_train.shape"
   ]
  },
  {
   "cell_type": "code",
   "execution_count": 15,
   "id": "15564ec8",
   "metadata": {},
   "outputs": [
    {
     "data": {
      "text/plain": [
       "(205,)"
      ]
     },
     "execution_count": 15,
     "metadata": {},
     "output_type": "execute_result"
    }
   ],
   "source": [
    "y_test.shape"
   ]
  },
  {
   "cell_type": "code",
   "execution_count": 16,
   "id": "761d2e36",
   "metadata": {
    "scrolled": true
   },
   "outputs": [
    {
     "data": {
      "text/plain": [
       "205"
      ]
     },
     "execution_count": 16,
     "metadata": {},
     "output_type": "execute_result"
    }
   ],
   "source": [
    "len(y_test_simple)"
   ]
  },
  {
   "cell_type": "code",
   "execution_count": 17,
   "id": "389ebd70",
   "metadata": {
    "scrolled": true
   },
   "outputs": [],
   "source": [
    "#X_train"
   ]
  },
  {
   "cell_type": "markdown",
   "id": "40262e91",
   "metadata": {},
   "source": [
    "# Create model"
   ]
  },
  {
   "cell_type": "code",
   "execution_count": 18,
   "id": "efdd863b",
   "metadata": {},
   "outputs": [],
   "source": [
    "model = Sequential()\n",
    "#model.add(LSTM(units=72, activation='tanh', input_shape= (19, 1), return_sequences=True))\n",
    "model.add(LSTM(units=18, activation='tanh', input_shape= (19, 1)))\n",
    "#model.add(Dense(units=36, activation=\"tanh\"))\n",
    "#model.add(Dense(units=10, activation=\"tanh\"))\n",
    "model.add(Dense(units=1, activation=\"linear\"))"
   ]
  },
  {
   "cell_type": "markdown",
   "id": "8c2b7570",
   "metadata": {},
   "source": [
    "# Fit model\n"
   ]
  },
  {
   "cell_type": "code",
   "execution_count": 19,
   "id": "862bd0ec",
   "metadata": {
    "scrolled": true
   },
   "outputs": [
    {
     "name": "stdout",
     "output_type": "stream",
     "text": [
      "Epoch 1/200\n",
      "46/46 [==============================] - 3s 23ms/step - loss: 0.2640 - mae: 0.4276 - mape: 57666.6016 - val_loss: 1.2995 - val_mae: 1.0919 - val_mape: 110.8284\n",
      "Epoch 2/200\n",
      "46/46 [==============================] - 1s 12ms/step - loss: 0.0690 - mae: 0.2016 - mape: 186373.2031 - val_loss: 0.8270 - val_mae: 0.8526 - val_mape: 82.9869\n",
      "Epoch 3/200\n",
      "46/46 [==============================] - 1s 13ms/step - loss: 0.0169 - mae: 0.0866 - mape: 4964.3828 - val_loss: 0.5631 - val_mae: 0.6830 - val_mape: 63.0605\n",
      "Epoch 4/200\n",
      "46/46 [==============================] - 1s 13ms/step - loss: 0.0096 - mae: 0.0711 - mape: 104268.7891 - val_loss: 0.4336 - val_mae: 0.5908 - val_mape: 53.5339\n",
      "Epoch 5/200\n",
      "46/46 [==============================] - 1s 13ms/step - loss: 0.0073 - mae: 0.0628 - mape: 92204.4297 - val_loss: 0.3543 - val_mae: 0.5291 - val_mape: 47.5123\n",
      "Epoch 6/200\n",
      "46/46 [==============================] - 1s 13ms/step - loss: 0.0063 - mae: 0.0584 - mape: 75182.0547 - val_loss: 0.2997 - val_mae: 0.4833 - val_mape: 43.2132\n",
      "Epoch 7/200\n",
      "46/46 [==============================] - 1s 13ms/step - loss: 0.0056 - mae: 0.0554 - mape: 70173.9453 - val_loss: 0.2694 - val_mae: 0.4574 - val_mape: 40.8579\n",
      "Epoch 8/200\n",
      "46/46 [==============================] - 1s 13ms/step - loss: 0.0051 - mae: 0.0529 - mape: 36700.0859 - val_loss: 0.2414 - val_mae: 0.4315 - val_mape: 38.4977\n",
      "Epoch 9/200\n",
      "46/46 [==============================] - 1s 13ms/step - loss: 0.0048 - mae: 0.0509 - mape: 39351.4258 - val_loss: 0.2169 - val_mae: 0.4077 - val_mape: 36.3197\n",
      "Epoch 10/200\n",
      "46/46 [==============================] - 1s 13ms/step - loss: 0.0045 - mae: 0.0495 - mape: 22911.5508 - val_loss: 0.2004 - val_mae: 0.3920 - val_mape: 34.9700\n",
      "Epoch 11/200\n",
      "46/46 [==============================] - 1s 13ms/step - loss: 0.0042 - mae: 0.0479 - mape: 22812.7773 - val_loss: 0.1795 - val_mae: 0.3690 - val_mape: 32.8336\n",
      "Epoch 12/200\n",
      "46/46 [==============================] - 1s 13ms/step - loss: 0.0040 - mae: 0.0467 - mape: 26691.7324 - val_loss: 0.1678 - val_mae: 0.3571 - val_mape: 31.8513\n",
      "Epoch 13/200\n",
      "46/46 [==============================] - 1s 12ms/step - loss: 0.0039 - mae: 0.0453 - mape: 15099.2676 - val_loss: 0.1463 - val_mae: 0.3307 - val_mape: 29.3730\n",
      "Epoch 14/200\n",
      "46/46 [==============================] - 1s 13ms/step - loss: 0.0037 - mae: 0.0446 - mape: 24067.4336 - val_loss: 0.1336 - val_mae: 0.3153 - val_mape: 28.0022\n",
      "Epoch 15/200\n",
      "46/46 [==============================] - 1s 13ms/step - loss: 0.0036 - mae: 0.0441 - mape: 6080.8096 - val_loss: 0.1254 - val_mae: 0.3059 - val_mape: 27.2224\n",
      "Epoch 16/200\n",
      "46/46 [==============================] - 1s 13ms/step - loss: 0.0035 - mae: 0.0430 - mape: 6004.1821 - val_loss: 0.1152 - val_mae: 0.2925 - val_mape: 26.0411\n",
      "Epoch 17/200\n",
      "46/46 [==============================] - 1s 13ms/step - loss: 0.0034 - mae: 0.0425 - mape: 7184.2563 - val_loss: 0.1055 - val_mae: 0.2794 - val_mape: 24.8894\n",
      "Epoch 18/200\n",
      "46/46 [==============================] - 1s 13ms/step - loss: 0.0033 - mae: 0.0419 - mape: 4616.2554 - val_loss: 0.0940 - val_mae: 0.2623 - val_mape: 23.3312\n",
      "Epoch 19/200\n",
      "46/46 [==============================] - 1s 13ms/step - loss: 0.0032 - mae: 0.0414 - mape: 123.1053 - val_loss: 0.0847 - val_mae: 0.2477 - val_mape: 22.0138\n",
      "Epoch 20/200\n",
      "46/46 [==============================] - 1s 13ms/step - loss: 0.0032 - mae: 0.0408 - mape: 197.9431 - val_loss: 0.0785 - val_mae: 0.2380 - val_mape: 21.1714\n",
      "Epoch 21/200\n",
      "46/46 [==============================] - 1s 13ms/step - loss: 0.0031 - mae: 0.0405 - mape: 2539.3289 - val_loss: 0.0747 - val_mae: 0.2329 - val_mape: 20.7963\n",
      "Epoch 22/200\n",
      "46/46 [==============================] - 1s 13ms/step - loss: 0.0030 - mae: 0.0399 - mape: 2044.5254 - val_loss: 0.0641 - val_mae: 0.2132 - val_mape: 18.9772\n",
      "Epoch 23/200\n",
      "46/46 [==============================] - 1s 13ms/step - loss: 0.0030 - mae: 0.0395 - mape: 4819.8916 - val_loss: 0.0614 - val_mae: 0.2095 - val_mape: 18.6989\n",
      "Epoch 24/200\n",
      "46/46 [==============================] - 1s 13ms/step - loss: 0.0029 - mae: 0.0391 - mape: 2794.8496 - val_loss: 0.0574 - val_mae: 0.2026 - val_mape: 18.1256\n",
      "Epoch 25/200\n",
      "46/46 [==============================] - 1s 14ms/step - loss: 0.0029 - mae: 0.0386 - mape: 5337.1406 - val_loss: 0.0536 - val_mae: 0.1957 - val_mape: 17.5470\n",
      "Epoch 26/200\n",
      "46/46 [==============================] - 1s 14ms/step - loss: 0.0028 - mae: 0.0381 - mape: 1554.7799 - val_loss: 0.0472 - val_mae: 0.1822 - val_mape: 16.3136\n",
      "Epoch 27/200\n",
      "46/46 [==============================] - 1s 13ms/step - loss: 0.0028 - mae: 0.0379 - mape: 3325.3833 - val_loss: 0.0465 - val_mae: 0.1825 - val_mape: 16.4516\n",
      "Epoch 28/200\n",
      "46/46 [==============================] - 1s 14ms/step - loss: 0.0027 - mae: 0.0377 - mape: 9569.6426 - val_loss: 0.0368 - val_mae: 0.1584 - val_mape: 14.1848\n",
      "Epoch 29/200\n",
      "46/46 [==============================] - 1s 14ms/step - loss: 0.0027 - mae: 0.0373 - mape: 6702.8618 - val_loss: 0.0359 - val_mae: 0.1572 - val_mape: 14.1212\n",
      "Epoch 30/200\n",
      "46/46 [==============================] - 1s 13ms/step - loss: 0.0026 - mae: 0.0368 - mape: 11362.2891 - val_loss: 0.0360 - val_mae: 0.1590 - val_mape: 14.3614\n",
      "Epoch 31/200\n",
      "46/46 [==============================] - 1s 13ms/step - loss: 0.0026 - mae: 0.0365 - mape: 15127.8926 - val_loss: 0.0293 - val_mae: 0.1406 - val_mape: 12.6626\n",
      "Epoch 32/200\n",
      "46/46 [==============================] - 1s 13ms/step - loss: 0.0025 - mae: 0.0365 - mape: 14449.0840 - val_loss: 0.0294 - val_mae: 0.1421 - val_mape: 12.8477\n",
      "Epoch 33/200\n",
      "46/46 [==============================] - 1s 14ms/step - loss: 0.0025 - mae: 0.0360 - mape: 866.4136 - val_loss: 0.0241 - val_mae: 0.1264 - val_mape: 11.4272\n",
      "Epoch 34/200\n",
      "46/46 [==============================] - 1s 14ms/step - loss: 0.0024 - mae: 0.0358 - mape: 9225.0527 - val_loss: 0.0250 - val_mae: 0.1306 - val_mape: 11.8518\n",
      "Epoch 35/200\n",
      "46/46 [==============================] - 1s 15ms/step - loss: 0.0024 - mae: 0.0358 - mape: 1053.3925 - val_loss: 0.0234 - val_mae: 0.1263 - val_mape: 11.5105\n",
      "Epoch 36/200\n",
      "46/46 [==============================] - 1s 15ms/step - loss: 0.0024 - mae: 0.0354 - mape: 9798.1758 - val_loss: 0.0206 - val_mae: 0.1175 - val_mape: 10.7117\n",
      "Epoch 37/200\n",
      "46/46 [==============================] - 1s 14ms/step - loss: 0.0023 - mae: 0.0348 - mape: 10945.8066 - val_loss: 0.0197 - val_mae: 0.1149 - val_mape: 10.5046\n",
      "Epoch 38/200\n",
      "46/46 [==============================] - 1s 13ms/step - loss: 0.0023 - mae: 0.0348 - mape: 14932.8408 - val_loss: 0.0200 - val_mae: 0.1175 - val_mape: 10.8094\n",
      "Epoch 39/200\n",
      "46/46 [==============================] - 1s 13ms/step - loss: 0.0023 - mae: 0.0346 - mape: 6183.5400 - val_loss: 0.0185 - val_mae: 0.1127 - val_mape: 10.4005\n",
      "Epoch 40/200\n",
      "46/46 [==============================] - 1s 13ms/step - loss: 0.0022 - mae: 0.0342 - mape: 16109.1973 - val_loss: 0.0157 - val_mae: 0.1019 - val_mape: 9.3973\n",
      "Epoch 41/200\n",
      "46/46 [==============================] - 1s 14ms/step - loss: 0.0022 - mae: 0.0340 - mape: 13145.3037 - val_loss: 0.0142 - val_mae: 0.0968 - val_mape: 8.9535\n",
      "Epoch 42/200\n",
      "46/46 [==============================] - 1s 14ms/step - loss: 0.0022 - mae: 0.0339 - mape: 18350.4805 - val_loss: 0.0143 - val_mae: 0.0979 - val_mape: 9.0917\n",
      "Epoch 43/200\n",
      "46/46 [==============================] - 1s 13ms/step - loss: 0.0021 - mae: 0.0336 - mape: 12841.9238 - val_loss: 0.0117 - val_mae: 0.0869 - val_mape: 8.0934\n",
      "Epoch 44/200\n",
      "46/46 [==============================] - 1s 13ms/step - loss: 0.0021 - mae: 0.0334 - mape: 27394.4082 - val_loss: 0.0131 - val_mae: 0.0938 - val_mape: 8.7727\n",
      "Epoch 45/200\n",
      "46/46 [==============================] - 1s 13ms/step - loss: 0.0021 - mae: 0.0333 - mape: 17274.4258 - val_loss: 0.0122 - val_mae: 0.0905 - val_mape: 8.4892\n",
      "Epoch 46/200\n",
      "46/46 [==============================] - 1s 13ms/step - loss: 0.0021 - mae: 0.0331 - mape: 16522.1602 - val_loss: 0.0090 - val_mae: 0.0749 - val_mape: 7.0398\n",
      "Epoch 47/200\n",
      "46/46 [==============================] - 1s 14ms/step - loss: 0.0020 - mae: 0.0327 - mape: 17850.4141 - val_loss: 0.0116 - val_mae: 0.0887 - val_mape: 8.4328\n",
      "Epoch 48/200\n",
      "46/46 [==============================] - 1s 13ms/step - loss: 0.0020 - mae: 0.0328 - mape: 22970.7539 - val_loss: 0.0094 - val_mae: 0.0780 - val_mape: 7.3905\n"
     ]
    },
    {
     "name": "stdout",
     "output_type": "stream",
     "text": [
      "Epoch 49/200\n",
      "46/46 [==============================] - 1s 13ms/step - loss: 0.0020 - mae: 0.0324 - mape: 19110.7754 - val_loss: 0.0088 - val_mae: 0.0756 - val_mape: 7.2081\n",
      "Epoch 50/200\n",
      "46/46 [==============================] - 1s 13ms/step - loss: 0.0020 - mae: 0.0325 - mape: 23278.2227 - val_loss: 0.0089 - val_mae: 0.0761 - val_mape: 7.2215\n",
      "Epoch 51/200\n",
      "46/46 [==============================] - 1s 13ms/step - loss: 0.0020 - mae: 0.0320 - mape: 28761.8887 - val_loss: 0.0076 - val_mae: 0.0693 - val_mape: 6.6203\n",
      "Epoch 52/200\n",
      "46/46 [==============================] - 1s 13ms/step - loss: 0.0019 - mae: 0.0321 - mape: 17594.9336 - val_loss: 0.0081 - val_mae: 0.0728 - val_mape: 6.9718\n",
      "Epoch 53/200\n",
      "46/46 [==============================] - 1s 13ms/step - loss: 0.0019 - mae: 0.0319 - mape: 23464.7637 - val_loss: 0.0088 - val_mae: 0.0767 - val_mape: 7.3965\n",
      "Epoch 54/200\n",
      "46/46 [==============================] - 1s 13ms/step - loss: 0.0019 - mae: 0.0316 - mape: 23445.7070 - val_loss: 0.0081 - val_mae: 0.0736 - val_mape: 7.0927\n",
      "Epoch 55/200\n",
      "46/46 [==============================] - 1s 13ms/step - loss: 0.0019 - mae: 0.0317 - mape: 23830.7480 - val_loss: 0.0067 - val_mae: 0.0655 - val_mape: 6.3293\n",
      "Epoch 56/200\n",
      "46/46 [==============================] - 1s 13ms/step - loss: 0.0019 - mae: 0.0313 - mape: 17774.6289 - val_loss: 0.0070 - val_mae: 0.0680 - val_mape: 6.6024\n",
      "Epoch 57/200\n",
      "46/46 [==============================] - 1s 13ms/step - loss: 0.0019 - mae: 0.0313 - mape: 15180.4453 - val_loss: 0.0088 - val_mae: 0.0775 - val_mape: 7.5112\n",
      "Epoch 58/200\n",
      "46/46 [==============================] - 1s 13ms/step - loss: 0.0018 - mae: 0.0312 - mape: 28487.7969 - val_loss: 0.0055 - val_mae: 0.0591 - val_mape: 5.7711\n",
      "Epoch 59/200\n",
      "46/46 [==============================] - 1s 13ms/step - loss: 0.0018 - mae: 0.0310 - mape: 25119.4453 - val_loss: 0.0065 - val_mae: 0.0651 - val_mape: 6.3226\n",
      "Epoch 60/200\n",
      "46/46 [==============================] - 1s 13ms/step - loss: 0.0018 - mae: 0.0308 - mape: 26749.7207 - val_loss: 0.0059 - val_mae: 0.0618 - val_mape: 6.0166\n",
      "Epoch 61/200\n",
      "46/46 [==============================] - 1s 13ms/step - loss: 0.0018 - mae: 0.0307 - mape: 26393.8730 - val_loss: 0.0074 - val_mae: 0.0704 - val_mape: 6.8502\n",
      "Epoch 62/200\n",
      "46/46 [==============================] - 1s 13ms/step - loss: 0.0018 - mae: 0.0308 - mape: 20426.2227 - val_loss: 0.0074 - val_mae: 0.0705 - val_mape: 6.8357\n",
      "Epoch 63/200\n",
      "46/46 [==============================] - 1s 13ms/step - loss: 0.0018 - mae: 0.0305 - mape: 35599.8789 - val_loss: 0.0071 - val_mae: 0.0687 - val_mape: 6.6347\n",
      "Epoch 64/200\n",
      "46/46 [==============================] - 1s 13ms/step - loss: 0.0018 - mae: 0.0304 - mape: 28479.4961 - val_loss: 0.0064 - val_mae: 0.0648 - val_mape: 6.2709\n",
      "Epoch 65/200\n",
      "46/46 [==============================] - 1s 13ms/step - loss: 0.0018 - mae: 0.0305 - mape: 22381.0566 - val_loss: 0.0067 - val_mae: 0.0668 - val_mape: 6.4832\n",
      "Epoch 66/200\n",
      "46/46 [==============================] - 1s 15ms/step - loss: 0.0017 - mae: 0.0299 - mape: 22751.0703 - val_loss: 0.0080 - val_mae: 0.0748 - val_mape: 7.3158\n",
      "Epoch 67/200\n",
      "46/46 [==============================] - 1s 14ms/step - loss: 0.0018 - mae: 0.0303 - mape: 30971.6934 - val_loss: 0.0062 - val_mae: 0.0642 - val_mape: 6.2792\n",
      "Epoch 68/200\n",
      "46/46 [==============================] - 1s 14ms/step - loss: 0.0017 - mae: 0.0302 - mape: 33217.0273 - val_loss: 0.0061 - val_mae: 0.0634 - val_mape: 6.1928\n",
      "Epoch 69/200\n",
      "46/46 [==============================] - 1s 13ms/step - loss: 0.0017 - mae: 0.0301 - mape: 35328.3867 - val_loss: 0.0069 - val_mae: 0.0682 - val_mape: 6.6290\n",
      "Epoch 70/200\n",
      "46/46 [==============================] - 1s 13ms/step - loss: 0.0017 - mae: 0.0298 - mape: 27422.4219 - val_loss: 0.0063 - val_mae: 0.0650 - val_mape: 6.3431\n",
      "Epoch 71/200\n",
      "46/46 [==============================] - 1s 14ms/step - loss: 0.0017 - mae: 0.0296 - mape: 29196.7051 - val_loss: 0.0059 - val_mae: 0.0627 - val_mape: 6.1199\n",
      "Epoch 72/200\n",
      "46/46 [==============================] - 1s 13ms/step - loss: 0.0017 - mae: 0.0293 - mape: 25785.6934 - val_loss: 0.0061 - val_mae: 0.0632 - val_mape: 6.1139\n",
      "Epoch 73/200\n",
      "46/46 [==============================] - 1s 13ms/step - loss: 0.0017 - mae: 0.0292 - mape: 32321.9375 - val_loss: 0.0064 - val_mae: 0.0655 - val_mape: 6.3720\n",
      "Epoch 74/200\n",
      "46/46 [==============================] - 1s 13ms/step - loss: 0.0017 - mae: 0.0294 - mape: 20828.9844 - val_loss: 0.0049 - val_mae: 0.0557 - val_mape: 5.4439\n",
      "Epoch 75/200\n",
      "46/46 [==============================] - 1s 13ms/step - loss: 0.0017 - mae: 0.0292 - mape: 35307.4805 - val_loss: 0.0041 - val_mae: 0.0505 - val_mape: 4.9755\n",
      "Epoch 76/200\n",
      "46/46 [==============================] - 1s 13ms/step - loss: 0.0017 - mae: 0.0292 - mape: 26699.0723 - val_loss: 0.0067 - val_mae: 0.0677 - val_mape: 6.5778\n",
      "Epoch 77/200\n",
      "46/46 [==============================] - 1s 13ms/step - loss: 0.0017 - mae: 0.0292 - mape: 32257.0645 - val_loss: 0.0068 - val_mae: 0.0681 - val_mape: 6.6329\n",
      "Epoch 78/200\n",
      "46/46 [==============================] - 1s 13ms/step - loss: 0.0017 - mae: 0.0293 - mape: 24904.9062 - val_loss: 0.0055 - val_mae: 0.0600 - val_mape: 5.8367\n",
      "Epoch 79/200\n",
      "46/46 [==============================] - 1s 13ms/step - loss: 0.0016 - mae: 0.0291 - mape: 39237.6836 - val_loss: 0.0067 - val_mae: 0.0677 - val_mape: 6.6034\n",
      "Epoch 80/200\n",
      "46/46 [==============================] - 1s 14ms/step - loss: 0.0016 - mae: 0.0291 - mape: 38597.2422 - val_loss: 0.0063 - val_mae: 0.0652 - val_mape: 6.3437\n",
      "Epoch 81/200\n",
      "46/46 [==============================] - 1s 14ms/step - loss: 0.0016 - mae: 0.0287 - mape: 26635.8086 - val_loss: 0.0045 - val_mae: 0.0531 - val_mape: 5.1952\n",
      "Epoch 82/200\n",
      "46/46 [==============================] - 1s 14ms/step - loss: 0.0016 - mae: 0.0289 - mape: 26805.5215 - val_loss: 0.0059 - val_mae: 0.0629 - val_mape: 6.1244\n",
      "Epoch 83/200\n",
      "46/46 [==============================] - 1s 14ms/step - loss: 0.0016 - mae: 0.0285 - mape: 31903.6973 - val_loss: 0.0057 - val_mae: 0.0616 - val_mape: 6.0230\n",
      "Epoch 84/200\n",
      "46/46 [==============================] - 1s 14ms/step - loss: 0.0016 - mae: 0.0288 - mape: 34050.8555 - val_loss: 0.0052 - val_mae: 0.0584 - val_mape: 5.6759\n",
      "Epoch 85/200\n",
      "46/46 [==============================] - 1s 15ms/step - loss: 0.0016 - mae: 0.0286 - mape: 29220.0293 - val_loss: 0.0061 - val_mae: 0.0639 - val_mape: 6.2002\n",
      "Epoch 86/200\n",
      "46/46 [==============================] - 1s 15ms/step - loss: 0.0016 - mae: 0.0285 - mape: 35356.0547 - val_loss: 0.0042 - val_mae: 0.0516 - val_mape: 5.0544\n",
      "Epoch 87/200\n",
      "46/46 [==============================] - 1s 15ms/step - loss: 0.0016 - mae: 0.0283 - mape: 31210.8848 - val_loss: 0.0053 - val_mae: 0.0589 - val_mape: 5.6985\n",
      "Epoch 88/200\n",
      "46/46 [==============================] - 1s 15ms/step - loss: 0.0016 - mae: 0.0280 - mape: 40924.3828 - val_loss: 0.0058 - val_mae: 0.0623 - val_mape: 6.0847\n",
      "Epoch 89/200\n",
      "46/46 [==============================] - 1s 15ms/step - loss: 0.0016 - mae: 0.0283 - mape: 41484.5234 - val_loss: 0.0039 - val_mae: 0.0498 - val_mape: 4.9030\n",
      "Epoch 90/200\n",
      "46/46 [==============================] - 1s 15ms/step - loss: 0.0015 - mae: 0.0278 - mape: 36435.7617 - val_loss: 0.0042 - val_mae: 0.0520 - val_mape: 5.0869\n",
      "Epoch 91/200\n",
      "46/46 [==============================] - 1s 15ms/step - loss: 0.0016 - mae: 0.0282 - mape: 34025.0469 - val_loss: 0.0046 - val_mae: 0.0543 - val_mape: 5.2740\n",
      "Epoch 92/200\n",
      "46/46 [==============================] - 1s 15ms/step - loss: 0.0015 - mae: 0.0279 - mape: 28113.9707 - val_loss: 0.0058 - val_mae: 0.0625 - val_mape: 6.0470\n",
      "Epoch 93/200\n",
      "46/46 [==============================] - 1s 15ms/step - loss: 0.0015 - mae: 0.0280 - mape: 32194.6348 - val_loss: 0.0051 - val_mae: 0.0580 - val_mape: 5.6240\n",
      "Epoch 94/200\n",
      "46/46 [==============================] - 1s 15ms/step - loss: 0.0015 - mae: 0.0276 - mape: 35471.3750 - val_loss: 0.0061 - val_mae: 0.0644 - val_mape: 6.2462\n",
      "Epoch 95/200\n",
      "46/46 [==============================] - 1s 15ms/step - loss: 0.0015 - mae: 0.0277 - mape: 37068.0508 - val_loss: 0.0077 - val_mae: 0.0742 - val_mape: 7.2055\n",
      "Epoch 96/200\n",
      "46/46 [==============================] - 1s 15ms/step - loss: 0.0015 - mae: 0.0281 - mape: 30550.9980 - val_loss: 0.0049 - val_mae: 0.0569 - val_mape: 5.5217\n"
     ]
    },
    {
     "name": "stdout",
     "output_type": "stream",
     "text": [
      "Epoch 97/200\n",
      "46/46 [==============================] - 1s 16ms/step - loss: 0.0015 - mae: 0.0278 - mape: 21366.1230 - val_loss: 0.0055 - val_mae: 0.0610 - val_mape: 5.9123\n",
      "Epoch 98/200\n",
      "46/46 [==============================] - 1s 16ms/step - loss: 0.0015 - mae: 0.0277 - mape: 39128.0391 - val_loss: 0.0071 - val_mae: 0.0708 - val_mape: 6.8630\n",
      "Epoch 99/200\n",
      "46/46 [==============================] - 1s 15ms/step - loss: 0.0015 - mae: 0.0274 - mape: 29829.4141 - val_loss: 0.0059 - val_mae: 0.0633 - val_mape: 6.1283\n",
      "Epoch 100/200\n",
      "46/46 [==============================] - 1s 15ms/step - loss: 0.0015 - mae: 0.0275 - mape: 31272.1016 - val_loss: 0.0076 - val_mae: 0.0738 - val_mape: 7.1252\n",
      "Epoch 101/200\n",
      "46/46 [==============================] - 1s 15ms/step - loss: 0.0015 - mae: 0.0275 - mape: 31632.2070 - val_loss: 0.0054 - val_mae: 0.0595 - val_mape: 5.7295\n",
      "Epoch 102/200\n",
      "46/46 [==============================] - 1s 15ms/step - loss: 0.0015 - mae: 0.0274 - mape: 32188.7539 - val_loss: 0.0079 - val_mae: 0.0758 - val_mape: 7.3744\n",
      "Epoch 103/200\n",
      "46/46 [==============================] - 1s 15ms/step - loss: 0.0015 - mae: 0.0273 - mape: 37864.4570 - val_loss: 0.0038 - val_mae: 0.0490 - val_mape: 4.8038\n",
      "Epoch 104/200\n",
      "46/46 [==============================] - 1s 15ms/step - loss: 0.0015 - mae: 0.0280 - mape: 30954.1094 - val_loss: 0.0055 - val_mae: 0.0611 - val_mape: 5.9424\n",
      "Epoch 105/200\n",
      "46/46 [==============================] - 1s 15ms/step - loss: 0.0015 - mae: 0.0272 - mape: 27551.5371 - val_loss: 0.0058 - val_mae: 0.0630 - val_mape: 6.1057\n",
      "Epoch 106/200\n",
      "46/46 [==============================] - 1s 15ms/step - loss: 0.0015 - mae: 0.0272 - mape: 33420.3945 - val_loss: 0.0056 - val_mae: 0.0615 - val_mape: 5.9652\n",
      "Epoch 107/200\n",
      "46/46 [==============================] - 1s 14ms/step - loss: 0.0015 - mae: 0.0270 - mape: 35970.2344 - val_loss: 0.0061 - val_mae: 0.0647 - val_mape: 6.2775\n",
      "Epoch 108/200\n",
      "46/46 [==============================] - 1s 14ms/step - loss: 0.0015 - mae: 0.0269 - mape: 14426.9023 - val_loss: 0.0047 - val_mae: 0.0553 - val_mape: 5.3533\n",
      "Epoch 109/200\n",
      "46/46 [==============================] - 1s 13ms/step - loss: 0.0015 - mae: 0.0269 - mape: 24417.6035 - val_loss: 0.0048 - val_mae: 0.0564 - val_mape: 5.4672\n",
      "Epoch 110/200\n",
      "46/46 [==============================] - 1s 13ms/step - loss: 0.0015 - mae: 0.0268 - mape: 35212.5703 - val_loss: 0.0058 - val_mae: 0.0631 - val_mape: 6.1073\n",
      "Epoch 111/200\n",
      "46/46 [==============================] - 1s 13ms/step - loss: 0.0015 - mae: 0.0269 - mape: 33931.5273 - val_loss: 0.0064 - val_mae: 0.0674 - val_mape: 6.5262\n",
      "Epoch 112/200\n",
      "46/46 [==============================] - 1s 13ms/step - loss: 0.0015 - mae: 0.0270 - mape: 26080.3457 - val_loss: 0.0053 - val_mae: 0.0598 - val_mape: 5.7542\n",
      "Epoch 113/200\n",
      "46/46 [==============================] - 1s 13ms/step - loss: 0.0014 - mae: 0.0269 - mape: 30414.6016 - val_loss: 0.0046 - val_mae: 0.0547 - val_mape: 5.3094\n",
      "Epoch 114/200\n",
      "46/46 [==============================] - 1s 14ms/step - loss: 0.0015 - mae: 0.0268 - mape: 29360.0137 - val_loss: 0.0040 - val_mae: 0.0507 - val_mape: 4.9475\n",
      "Epoch 115/200\n",
      "46/46 [==============================] - 1s 13ms/step - loss: 0.0015 - mae: 0.0269 - mape: 31830.8535 - val_loss: 0.0057 - val_mae: 0.0631 - val_mape: 6.1535\n",
      "Epoch 116/200\n",
      "46/46 [==============================] - 1s 13ms/step - loss: 0.0014 - mae: 0.0265 - mape: 22555.2480 - val_loss: 0.0060 - val_mae: 0.0646 - val_mape: 6.2534\n",
      "Epoch 117/200\n",
      "46/46 [==============================] - 1s 13ms/step - loss: 0.0014 - mae: 0.0268 - mape: 18344.8398 - val_loss: 0.0057 - val_mae: 0.0631 - val_mape: 6.1246\n",
      "Epoch 118/200\n",
      "46/46 [==============================] - 1s 13ms/step - loss: 0.0014 - mae: 0.0267 - mape: 27402.6660 - val_loss: 0.0034 - val_mae: 0.0465 - val_mape: 4.5665\n",
      "Epoch 119/200\n",
      "46/46 [==============================] - 1s 13ms/step - loss: 0.0014 - mae: 0.0266 - mape: 26787.0293 - val_loss: 0.0037 - val_mae: 0.0487 - val_mape: 4.7646\n",
      "Epoch 120/200\n",
      "46/46 [==============================] - 1s 14ms/step - loss: 0.0014 - mae: 0.0264 - mape: 20938.3164 - val_loss: 0.0052 - val_mae: 0.0599 - val_mape: 5.8284\n",
      "Epoch 121/200\n",
      "46/46 [==============================] - 1s 13ms/step - loss: 0.0014 - mae: 0.0266 - mape: 28383.6484 - val_loss: 0.0067 - val_mae: 0.0692 - val_mape: 6.6881\n",
      "Epoch 122/200\n",
      "46/46 [==============================] - 1s 14ms/step - loss: 0.0014 - mae: 0.0266 - mape: 23120.1035 - val_loss: 0.0044 - val_mae: 0.0535 - val_mape: 5.1993\n",
      "Epoch 123/200\n",
      "46/46 [==============================] - 1s 13ms/step - loss: 0.0014 - mae: 0.0264 - mape: 17570.7109 - val_loss: 0.0055 - val_mae: 0.0615 - val_mape: 5.9445\n",
      "Epoch 124/200\n",
      "46/46 [==============================] - 1s 14ms/step - loss: 0.0014 - mae: 0.0264 - mape: 26207.5781 - val_loss: 0.0052 - val_mae: 0.0596 - val_mape: 5.7985\n",
      "Epoch 125/200\n",
      "46/46 [==============================] - 1s 13ms/step - loss: 0.0014 - mae: 0.0263 - mape: 32949.0273 - val_loss: 0.0037 - val_mae: 0.0485 - val_mape: 4.7467\n",
      "Epoch 126/200\n",
      "46/46 [==============================] - 1s 14ms/step - loss: 0.0014 - mae: 0.0264 - mape: 23871.8750 - val_loss: 0.0052 - val_mae: 0.0595 - val_mape: 5.7368\n",
      "Epoch 127/200\n",
      "46/46 [==============================] - 1s 14ms/step - loss: 0.0014 - mae: 0.0267 - mape: 26150.1504 - val_loss: 0.0062 - val_mae: 0.0665 - val_mape: 6.4310\n",
      "Epoch 128/200\n",
      "46/46 [==============================] - 1s 15ms/step - loss: 0.0014 - mae: 0.0266 - mape: 20137.2324 - val_loss: 0.0055 - val_mae: 0.0617 - val_mape: 6.0028\n",
      "Epoch 129/200\n",
      "46/46 [==============================] - 1s 14ms/step - loss: 0.0014 - mae: 0.0263 - mape: 17624.0078 - val_loss: 0.0042 - val_mae: 0.0525 - val_mape: 5.1153\n",
      "Epoch 130/200\n",
      "46/46 [==============================] - 1s 15ms/step - loss: 0.0014 - mae: 0.0266 - mape: 24804.2891 - val_loss: 0.0043 - val_mae: 0.0535 - val_mape: 5.2085\n",
      "Epoch 131/200\n",
      "46/46 [==============================] - 1s 14ms/step - loss: 0.0014 - mae: 0.0263 - mape: 21698.1992 - val_loss: 0.0048 - val_mae: 0.0570 - val_mape: 5.5474\n",
      "Epoch 132/200\n",
      "46/46 [==============================] - 1s 14ms/step - loss: 0.0014 - mae: 0.0263 - mape: 19083.6250 - val_loss: 0.0031 - val_mae: 0.0442 - val_mape: 4.3674\n",
      "Epoch 133/200\n",
      "46/46 [==============================] - 1s 15ms/step - loss: 0.0014 - mae: 0.0264 - mape: 14029.3154 - val_loss: 0.0043 - val_mae: 0.0534 - val_mape: 5.1922\n",
      "Epoch 134/200\n",
      "46/46 [==============================] - 1s 14ms/step - loss: 0.0014 - mae: 0.0266 - mape: 12652.4160 - val_loss: 0.0043 - val_mae: 0.0531 - val_mape: 5.1598\n",
      "Epoch 135/200\n",
      "46/46 [==============================] - 1s 14ms/step - loss: 0.0014 - mae: 0.0258 - mape: 17904.0742 - val_loss: 0.0054 - val_mae: 0.0614 - val_mape: 5.9706\n",
      "Epoch 136/200\n",
      "46/46 [==============================] - 1s 15ms/step - loss: 0.0014 - mae: 0.0261 - mape: 28516.5449 - val_loss: 0.0075 - val_mae: 0.0745 - val_mape: 7.2234\n",
      "Epoch 137/200\n",
      "46/46 [==============================] - 1s 15ms/step - loss: 0.0014 - mae: 0.0262 - mape: 25728.2969 - val_loss: 0.0043 - val_mae: 0.0540 - val_mape: 5.2611\n",
      "Epoch 138/200\n",
      "46/46 [==============================] - 1s 15ms/step - loss: 0.0014 - mae: 0.0263 - mape: 17094.9609 - val_loss: 0.0051 - val_mae: 0.0595 - val_mape: 5.8116\n",
      "Epoch 139/200\n",
      "46/46 [==============================] - 1s 15ms/step - loss: 0.0014 - mae: 0.0259 - mape: 11365.8535 - val_loss: 0.0046 - val_mae: 0.0560 - val_mape: 5.4115\n",
      "Epoch 140/200\n",
      "46/46 [==============================] - 1s 15ms/step - loss: 0.0014 - mae: 0.0262 - mape: 24345.8281 - val_loss: 0.0050 - val_mae: 0.0588 - val_mape: 5.6979\n",
      "Epoch 141/200\n",
      "46/46 [==============================] - 1s 15ms/step - loss: 0.0014 - mae: 0.0262 - mape: 17950.7109 - val_loss: 0.0058 - val_mae: 0.0644 - val_mape: 6.2547\n",
      "Epoch 142/200\n",
      "46/46 [==============================] - 1s 15ms/step - loss: 0.0014 - mae: 0.0263 - mape: 22742.4531 - val_loss: 0.0052 - val_mae: 0.0603 - val_mape: 5.8474\n",
      "Epoch 143/200\n",
      "46/46 [==============================] - 1s 15ms/step - loss: 0.0014 - mae: 0.0260 - mape: 16604.0781 - val_loss: 0.0040 - val_mae: 0.0517 - val_mape: 5.0393\n",
      "Epoch 144/200\n",
      "46/46 [==============================] - 1s 15ms/step - loss: 0.0014 - mae: 0.0260 - mape: 9097.5781 - val_loss: 0.0064 - val_mae: 0.0683 - val_mape: 6.6580\n"
     ]
    },
    {
     "name": "stdout",
     "output_type": "stream",
     "text": [
      "Epoch 145/200\n",
      "46/46 [==============================] - 1s 15ms/step - loss: 0.0014 - mae: 0.0261 - mape: 17160.5176 - val_loss: 0.0046 - val_mae: 0.0559 - val_mape: 5.4304\n",
      "Epoch 146/200\n",
      "46/46 [==============================] - 1s 14ms/step - loss: 0.0014 - mae: 0.0260 - mape: 15145.6943 - val_loss: 0.0047 - val_mae: 0.0566 - val_mape: 5.5091\n",
      "Epoch 147/200\n",
      "46/46 [==============================] - 1s 15ms/step - loss: 0.0014 - mae: 0.0260 - mape: 15054.4541 - val_loss: 0.0043 - val_mae: 0.0537 - val_mape: 5.2335\n",
      "Epoch 148/200\n",
      "46/46 [==============================] - 1s 15ms/step - loss: 0.0014 - mae: 0.0257 - mape: 14270.1875 - val_loss: 0.0073 - val_mae: 0.0740 - val_mape: 7.2200\n",
      "Epoch 149/200\n",
      "46/46 [==============================] - 1s 15ms/step - loss: 0.0014 - mae: 0.0263 - mape: 2710.7913 - val_loss: 0.0051 - val_mae: 0.0600 - val_mape: 5.8426\n",
      "Epoch 150/200\n",
      "46/46 [==============================] - 1s 15ms/step - loss: 0.0014 - mae: 0.0261 - mape: 22605.5840 - val_loss: 0.0031 - val_mae: 0.0449 - val_mape: 4.4448\n",
      "Epoch 151/200\n",
      "46/46 [==============================] - 1s 16ms/step - loss: 0.0014 - mae: 0.0260 - mape: 21911.0957 - val_loss: 0.0037 - val_mae: 0.0495 - val_mape: 4.8504\n",
      "Epoch 152/200\n",
      "46/46 [==============================] - 1s 15ms/step - loss: 0.0014 - mae: 0.0262 - mape: 23220.4902 - val_loss: 0.0039 - val_mae: 0.0512 - val_mape: 5.0207\n"
     ]
    }
   ],
   "source": [
    "es = EarlyStopping(patience=20, restore_best_weights=True)\n",
    "\n",
    "#try different losses: mae, mape, mse\n",
    "\n",
    "#rmsprop optimizer\n",
    "model.compile(optimizer=\"nadam\", loss=\"mse\", metrics=[\"mae\", \"mape\"])\n",
    "#validation_split=0.2,\n",
    "history_LSTM = model.fit(X_train, y_train, epochs=200, batch_size=16, workers=-1, validation_split=0.2, callbacks=[es])"
   ]
  },
  {
   "cell_type": "code",
   "execution_count": 20,
   "id": "a42ee21d",
   "metadata": {},
   "outputs": [
    {
     "name": "stdout",
     "output_type": "stream",
     "text": [
      "7/7 [==============================] - 0s 4ms/step - loss: 0.2207 - mae: 0.4034 - mape: 18.5533\n"
     ]
    },
    {
     "data": {
      "text/plain": [
       "[0.22067120671272278, 0.403436541557312, 18.553264617919922]"
      ]
     },
     "execution_count": 20,
     "metadata": {},
     "output_type": "execute_result"
    }
   ],
   "source": [
    "model.evaluate(X_test, y_test)"
   ]
  },
  {
   "cell_type": "code",
   "execution_count": 21,
   "id": "03e6b738",
   "metadata": {},
   "outputs": [
    {
     "data": {
      "text/plain": [
       "[<matplotlib.lines.Line2D at 0x7f62d85dd0a0>]"
      ]
     },
     "execution_count": 21,
     "metadata": {},
     "output_type": "execute_result"
    },
    {
     "data": {
      "image/png": "[encoded data removed]",
      "text/plain": [
       "<Figure size 432x288 with 1 Axes>"
      ]
     },
     "metadata": {
      "needs_background": "light"
     },
     "output_type": "display_data"
    }
   ],
   "source": [
    "plt.plot(history_LSTM.history[\"mae\"])\n",
    "plt.plot(history_LSTM.history[\"val_mae\"])"
   ]
  },
  {
   "cell_type": "markdown",
   "id": "e22606c4",
   "metadata": {},
   "source": [
    "# Test Model"
   ]
  },
  {
   "cell_type": "code",
   "execution_count": 22,
   "id": "e7f7c624",
   "metadata": {},
   "outputs": [
    {
     "name": "stdout",
     "output_type": "stream",
     "text": [
      "Model: \"sequential\"\n",
      "_________________________________________________________________\n",
      "Layer (type)                 Output Shape              Param #   \n",
      "=================================================================\n",
      "lstm (LSTM)                  (None, 9)                 396       \n",
      "_________________________________________________________________\n",
      "dense (Dense)                (None, 1)                 10        \n",
      "=================================================================\n",
      "Total params: 406\n",
      "Trainable params: 406\n",
      "Non-trainable params: 0\n",
      "_________________________________________________________________\n"
     ]
    }
   ],
   "source": [
    "model.summary()"
   ]
  },
  {
   "cell_type": "code",
   "execution_count": 23,
   "id": "d2667cc9",
   "metadata": {},
   "outputs": [],
   "source": [
    "prediction = model.predict(X_test)"
   ]
  },
  {
   "cell_type": "code",
   "execution_count": 24,
   "id": "36353dd0",
   "metadata": {
    "scrolled": true
   },
   "outputs": [
    {
     "data": {
      "text/plain": [
       "array([[1.1486349],\n",
       "       [1.236015 ],\n",
       "       [1.2786595],\n",
       "       [1.2761974],\n",
       "       [1.2307552],\n",
       "       [1.2624094],\n",
       "       [1.2373307],\n",
       "       [1.1445869],\n",
       "       [1.1480763],\n",
       "       [1.171561 ],\n",
       "       [1.1357908],\n",
       "       [1.1514355],\n",
       "       [1.1620567],\n",
       "       [1.1740463],\n",
       "       [1.1637926],\n",
       "       [1.2553107],\n",
       "       [1.2953761],\n",
       "       [1.2323856],\n",
       "       [1.2499174],\n",
       "       [1.2927812],\n",
       "       [1.3128322],\n",
       "       [1.2999829],\n",
       "       [1.317225 ],\n",
       "       [1.3216089],\n",
       "       [1.3172866],\n",
       "       [1.367907 ],\n",
       "       [1.3887262],\n",
       "       [1.3779707],\n",
       "       [1.3477551],\n",
       "       [1.3693253],\n",
       "       [1.333324 ],\n",
       "       [1.3225569],\n",
       "       [1.3443886],\n",
       "       [1.3204288],\n",
       "       [1.3009409],\n",
       "       [1.3206314],\n",
       "       [1.1764293],\n",
       "       [1.2379293],\n",
       "       [1.2013075],\n",
       "       [1.2044244],\n",
       "       [1.2075909],\n",
       "       [1.1691788],\n",
       "       [1.1508265],\n",
       "       [1.2245203],\n",
       "       [1.264514 ],\n",
       "       [1.2848868],\n",
       "       [1.3033792],\n",
       "       [1.290213 ],\n",
       "       [1.3014641],\n",
       "       [1.2810216],\n",
       "       [1.245723 ],\n",
       "       [1.2828294],\n",
       "       [1.2900726],\n",
       "       [1.308834 ],\n",
       "       [1.3333228],\n",
       "       [1.2894061],\n",
       "       [1.3324169],\n",
       "       [1.3657517],\n",
       "       [1.3809423],\n",
       "       [1.3688873],\n",
       "       [1.3567699],\n",
       "       [1.3846302],\n",
       "       [1.4196396],\n",
       "       [1.4726163],\n",
       "       [1.5102248],\n",
       "       [1.5184126],\n",
       "       [1.5230122],\n",
       "       [1.5312177],\n",
       "       [1.5449061],\n",
       "       [1.583516 ],\n",
       "       [1.5998317],\n",
       "       [1.6196238],\n",
       "       [1.6245598],\n",
       "       [1.6465671],\n",
       "       [1.6487937],\n",
       "       [1.6407104],\n",
       "       [1.6351954],\n",
       "       [1.647552 ],\n",
       "       [1.623822 ],\n",
       "       [1.6546267],\n",
       "       [1.6546847],\n",
       "       [1.6724547],\n",
       "       [1.649291 ],\n",
       "       [1.6391066],\n",
       "       [1.65968  ],\n",
       "       [1.6669751],\n",
       "       [1.6998684],\n",
       "       [1.7099056],\n",
       "       [1.734364 ],\n",
       "       [1.7593539],\n",
       "       [1.7958819],\n",
       "       [1.793721 ],\n",
       "       [1.801161 ],\n",
       "       [1.797863 ],\n",
       "       [1.8002559],\n",
       "       [1.8105465],\n",
       "       [1.808717 ],\n",
       "       [1.8149775],\n",
       "       [1.7762511],\n",
       "       [1.7521458],\n",
       "       [1.7493773],\n",
       "       [1.7537282],\n",
       "       [1.7363191],\n",
       "       [1.7254701],\n",
       "       [1.7414718],\n",
       "       [1.7487178],\n",
       "       [1.7255905],\n",
       "       [1.7006923],\n",
       "       [1.7065896],\n",
       "       [1.6946368],\n",
       "       [1.6047171],\n",
       "       [1.597276 ],\n",
       "       [1.5982387],\n",
       "       [1.5935228],\n",
       "       [1.6174469],\n",
       "       [1.6679268],\n",
       "       [1.6869215],\n",
       "       [1.6958066],\n",
       "       [1.7498562],\n",
       "       [1.7748307],\n",
       "       [1.8028388],\n",
       "       [1.8084624],\n",
       "       [1.8127408],\n",
       "       [1.7771076],\n",
       "       [1.7791532],\n",
       "       [1.7937386],\n",
       "       [1.8023432],\n",
       "       [1.7912221],\n",
       "       [1.7887318],\n",
       "       [1.7815664],\n",
       "       [1.7957151],\n",
       "       [1.8027408],\n",
       "       [1.8070221],\n",
       "       [1.8115958],\n",
       "       [1.8186654],\n",
       "       [1.8069663],\n",
       "       [1.7987146],\n",
       "       [1.7979293],\n",
       "       [1.7868999],\n",
       "       [1.7777085],\n",
       "       [1.775183 ],\n",
       "       [1.7724946],\n",
       "       [1.7384466],\n",
       "       [1.7171047],\n",
       "       [1.7121173],\n",
       "       [1.6913265],\n",
       "       [1.699655 ],\n",
       "       [1.7090527],\n",
       "       [1.7189842],\n",
       "       [1.7253859],\n",
       "       [1.7249464],\n",
       "       [1.7028307],\n",
       "       [1.691157 ],\n",
       "       [1.6946217],\n",
       "       [1.6629932],\n",
       "       [1.647157 ],\n",
       "       [1.6476978],\n",
       "       [1.7210579],\n",
       "       [1.7242706],\n",
       "       [1.7240679],\n",
       "       [1.7241251],\n",
       "       [1.6971707],\n",
       "       [1.7027586],\n",
       "       [1.7020894],\n",
       "       [1.6680677],\n",
       "       [1.6353118],\n",
       "       [1.6749856],\n",
       "       [1.7197553],\n",
       "       [1.7390041],\n",
       "       [1.7567177],\n",
       "       [1.7463309],\n",
       "       [1.665906 ],\n",
       "       [1.6378893],\n",
       "       [1.5511851],\n",
       "       [1.5302706],\n",
       "       [1.4962933],\n",
       "       [1.5470837],\n",
       "       [1.5627794],\n",
       "       [1.5815846],\n",
       "       [1.6450907],\n",
       "       [1.6558945],\n",
       "       [1.7037293],\n",
       "       [1.7318443],\n",
       "       [1.752236 ],\n",
       "       [1.7590755],\n",
       "       [1.7349173],\n",
       "       [1.7021427],\n",
       "       [1.7121524],\n",
       "       [1.7151399],\n",
       "       [1.7247919],\n",
       "       [1.7187599],\n",
       "       [1.6782172],\n",
       "       [1.7009823],\n",
       "       [1.6904696],\n",
       "       [1.6919922],\n",
       "       [1.6984235],\n",
       "       [1.7156101],\n",
       "       [1.7102755],\n",
       "       [1.6599851],\n",
       "       [1.6414282],\n",
       "       [1.6532532],\n",
       "       [1.6690887],\n",
       "       [1.6649836],\n",
       "       [1.6380527],\n",
       "       [1.5927602]], dtype=float32)"
      ]
     },
     "execution_count": 24,
     "metadata": {},
     "output_type": "execute_result"
    }
   ],
   "source": [
    "prediction"
   ]
  },
  {
   "cell_type": "markdown",
   "id": "60cf4023",
   "metadata": {},
   "source": [
    "# Visualizing Model"
   ]
  },
  {
   "cell_type": "code",
   "execution_count": 25,
   "id": "c1d45b5b",
   "metadata": {},
   "outputs": [],
   "source": [
    "y_test_back = scaler.inverse_transform(y_test.reshape(-1, 1))\n",
    "prediction_back = scaler.inverse_transform(prediction.reshape(-1, 1))"
   ]
  },
  {
   "cell_type": "code",
   "execution_count": 26,
   "id": "d130a9e5",
   "metadata": {},
   "outputs": [
    {
     "data": {
      "image/png": "[encoded data removed]",
      "text/plain": [
       "<Figure size 432x288 with 1 Axes>"
      ]
     },
     "metadata": {
      "needs_background": "light"
     },
     "output_type": "display_data"
    }
   ],
   "source": [
    "plt.scatter(range(len(y_test_back)), y_test_simple,  color=\"black\", label=f\"Actual {company} Price\")\n",
    "plt.scatter(range(len(y_test_back)),prediction_back, color=\"green\", label=f\"Predicted {company} Price\")\n",
    "plt.xlabel(\"\")\n",
    "plt.ylabel(f\"{company} Share Price\")\n",
    "plt.title(f\"{company} Share Price\")\n",
    "plt.legend()\n",
    "plt.show()"
   ]
  },
  {
   "cell_type": "code",
   "execution_count": 27,
   "id": "85558a0b",
   "metadata": {},
   "outputs": [
    {
     "data": {
      "image/png": "[encoded data removed]",
      "text/plain": [
       "<Figure size 432x288 with 1 Axes>"
      ]
     },
     "metadata": {
      "needs_background": "light"
     },
     "output_type": "display_data"
    }
   ],
   "source": [
    "plt.plot(y_test_simple,  color=\"black\", label=f\"Actual {company} Price\")\n",
    "plt.plot(prediction_back, color=\"green\", label=f\"Predicted {company} Price\")\n",
    "plt.xlabel(\"\")\n",
    "plt.ylabel(f\"{company} Share Price\")\n",
    "plt.title(f\"{company} Share Price\")\n",
    "plt.legend()\n",
    "plt.show()"
   ]
  },
  {
   "cell_type": "code",
   "execution_count": 28,
   "id": "e1641134",
   "metadata": {},
   "outputs": [
    {
     "data": {
      "text/plain": [
       "9.182118"
      ]
     },
     "execution_count": 28,
     "metadata": {},
     "output_type": "execute_result"
    }
   ],
   "source": [
    "mape = mean_absolute_percentage_error(y_test_back, prediction_back)\n",
    "np.mean(mape)"
   ]
  },
  {
   "cell_type": "code",
   "execution_count": 29,
   "id": "c3ff14ca",
   "metadata": {},
   "outputs": [
    {
     "data": {
      "text/plain": [
       "12.462072569098806"
      ]
     },
     "execution_count": 29,
     "metadata": {},
     "output_type": "execute_result"
    }
   ],
   "source": [
    "mape2 = mean_absolute_percentage_error(y_test_back, y_test_simple)\n",
    "np.mean(mape2)"
   ]
  },
  {
   "cell_type": "code",
   "execution_count": null,
   "id": "7b9f7723",
   "metadata": {},
   "outputs": [],
   "source": []
  }
 ],
 "metadata": {
  "kernelspec": {
   "display_name": "Python 3",
   "language": "python",
   "name": "python3"
  },
  "language_info": {
   "codemirror_mode": {
    "name": "ipython",
    "version": 3
   },
   "file_extension": ".py",
   "mimetype": "text/x-python",
   "name": "python",
   "nbconvert_exporter": "python",
   "pygments_lexer": "ipython3",
   "version": "3.8.6"
  },
  "toc": {
   "base_numbering": 1,
   "nav_menu": {},
   "number_sections": true,
   "sideBar": true,
   "skip_h1_title": false,
   "title_cell": "Table of Contents",
   "title_sidebar": "Contents",
   "toc_cell": false,
   "toc_position": {},
   "toc_section_display": true,
   "toc_window_display": true
  }
 },
 "nbformat": 4,
 "nbformat_minor": 5
}
