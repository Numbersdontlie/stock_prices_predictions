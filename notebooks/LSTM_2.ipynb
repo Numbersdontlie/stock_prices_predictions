{
 "cells": [
  {
   "cell_type": "markdown",
   "id": "1f900ad4",
   "metadata": {},
   "source": [
    "# Import Libraries"
   ]
  },
  {
   "cell_type": "code",
   "execution_count": 8,
   "id": "9c828a39",
   "metadata": {},
   "outputs": [
    {
     "name": "stdout",
     "output_type": "stream",
     "text": [
      "The autoreload extension is already loaded. To reload it, use:\n",
      "  %reload_ext autoreload\n"
     ]
    }
   ],
   "source": [
    "%load_ext autoreload\n",
    "%autoreload 2\n",
    "import os\n",
    "import pandas as pd\n",
    "import numpy as np\n",
    "from stock_prices_predictions.get_data import *\n",
    "from tensorflow.keras.models import Sequential\n",
    "from tensorflow.keras.layers import LSTM, Dropout, Dense\n",
    "from tensorflow.keras import layers\n",
    "from sklearn.preprocessing import RobustScaler\n",
    "import matplotlib.pyplot as plt\n",
    "import seaborn as sns\n",
    "from tensorflow.keras.callbacks import EarlyStopping\n",
    "from tensorflow.keras.losses import mean_absolute_percentage_error"
   ]
  },
  {
   "cell_type": "markdown",
   "id": "eb2a0b15",
   "metadata": {},
   "source": [
    "# Fetch data"
   ]
  },
  {
   "cell_type": "markdown",
   "id": "78b41ece",
   "metadata": {},
   "source": [
    "define company:"
   ]
  },
  {
   "cell_type": "code",
   "execution_count": 77,
   "id": "d8967dd4",
   "metadata": {},
   "outputs": [],
   "source": [
    "company = \"NVDA\"\n",
    "days_ahead = 1"
   ]
  },
  {
   "cell_type": "code",
   "execution_count": 78,
   "id": "ff25ae50",
   "metadata": {},
   "outputs": [],
   "source": [
    "X_train, X_test = get_lstm_data(company)"
   ]
  },
  {
   "cell_type": "code",
   "execution_count": 79,
   "id": "bafa7534",
   "metadata": {},
   "outputs": [
    {
     "data": {
      "text/plain": [
       "(3773, 1)"
      ]
     },
     "execution_count": 79,
     "metadata": {},
     "output_type": "execute_result"
    }
   ],
   "source": [
    "X_train.shape"
   ]
  },
  {
   "cell_type": "code",
   "execution_count": 80,
   "id": "b218cb76",
   "metadata": {},
   "outputs": [
    {
     "data": {
      "text/plain": [
       "(919, 1)"
      ]
     },
     "execution_count": 80,
     "metadata": {},
     "output_type": "execute_result"
    }
   ],
   "source": [
    "X_test.shape"
   ]
  },
  {
   "cell_type": "markdown",
   "id": "0d8bfa02",
   "metadata": {},
   "source": [
    "# Scale data"
   ]
  },
  {
   "cell_type": "code",
   "execution_count": 81,
   "id": "f024f32f",
   "metadata": {},
   "outputs": [],
   "source": [
    "#try differente scalers\n",
    "scaler = RobustScaler()\n",
    "scaler.fit(X_train)\n",
    "X_train_sc = scaler.transform(X_train)\n",
    "\n",
    "X_test_sc = scaler.transform(X_test)"
   ]
  },
  {
   "cell_type": "code",
   "execution_count": 82,
   "id": "2edc95d0",
   "metadata": {},
   "outputs": [
    {
     "data": {
      "text/plain": [
       "(3773, 1)"
      ]
     },
     "execution_count": 82,
     "metadata": {},
     "output_type": "execute_result"
    }
   ],
   "source": [
    "X_train.shape"
   ]
  },
  {
   "cell_type": "markdown",
   "id": "2820d651",
   "metadata": {},
   "source": [
    "# Create Sequences"
   ]
  },
  {
   "cell_type": "code",
   "execution_count": null,
   "id": "64c734e9",
   "metadata": {},
   "outputs": [],
   "source": [
    "X_train, y_train = create_sequences(pd.DataFrame(X_train_sc),pd.DataFrame(X_train), days_ahead)\n",
    "X_test, y_test = create_sequences(pd.DataFrame(X_test_sc),pd.DataFrame(X_test), days_ahead)"
   ]
  },
  {
   "cell_type": "code",
   "execution_count": null,
   "id": "9bc0d5ca",
   "metadata": {},
   "outputs": [],
   "source": [
    "X_train, y_train = create_sequences_scaled(pd.DataFrame(X_train_sc), days_ahead)\n",
    "X_test, y_test = create_sequences_scaled(pd.DataFrame(X_test_sc), days_ahead)"
   ]
  },
  {
   "cell_type": "code",
   "execution_count": 83,
   "id": "e75a4813",
   "metadata": {},
   "outputs": [],
   "source": [
    "X_train, y_train, y_train_simple = create_sequences_scaled_plus(pd.DataFrame(X_train_sc),pd.DataFrame(X_train), days_ahead)\n",
    "X_test, y_test, y_test_simple = create_sequences_scaled_plus(pd.DataFrame(X_test_sc), pd.DataFrame(X_test), days_ahead)"
   ]
  },
  {
   "cell_type": "code",
   "execution_count": 84,
   "id": "d058fb7d",
   "metadata": {
    "scrolled": true
   },
   "outputs": [
    {
     "data": {
      "text/plain": [
       "(409, 19, 1)"
      ]
     },
     "execution_count": 84,
     "metadata": {},
     "output_type": "execute_result"
    }
   ],
   "source": [
    "X_train.shape"
   ]
  },
  {
   "cell_type": "code",
   "execution_count": 85,
   "id": "358c432f",
   "metadata": {
    "scrolled": true
   },
   "outputs": [
    {
     "data": {
      "text/plain": [
       "(91, 19, 1)"
      ]
     },
     "execution_count": 85,
     "metadata": {},
     "output_type": "execute_result"
    }
   ],
   "source": [
    "X_test.shape"
   ]
  },
  {
   "cell_type": "code",
   "execution_count": 86,
   "id": "761d2e36",
   "metadata": {
    "scrolled": true
   },
   "outputs": [
    {
     "data": {
      "text/plain": [
       "(91,)"
      ]
     },
     "execution_count": 86,
     "metadata": {},
     "output_type": "execute_result"
    }
   ],
   "source": [
    "y_test_simple.shape"
   ]
  },
  {
   "cell_type": "markdown",
   "id": "40262e91",
   "metadata": {},
   "source": [
    "# Create model"
   ]
  },
  {
   "cell_type": "code",
   "execution_count": 88,
   "id": "efdd863b",
   "metadata": {},
   "outputs": [],
   "source": [
    "model = Sequential()\n",
    "#model.add(LSTM(units=72, activation='relu', input_shape= (36, 4), return_sequences=True))\n",
    "model.add(LSTM(units=72, activation='tanh', input_shape= (19, 1)))\n",
    "model.add(Dense(units=36, activation=\"tanh\"))\n",
    "model.add(Dense(units=10, activation=\"tanh\"))\n",
    "model.add(Dense(units=1, activation=\"linear\"))"
   ]
  },
  {
   "cell_type": "markdown",
   "id": "8c2b7570",
   "metadata": {},
   "source": [
    "# Fit model\n"
   ]
  },
  {
   "cell_type": "code",
   "execution_count": 89,
   "id": "862bd0ec",
   "metadata": {
    "scrolled": true
   },
   "outputs": [
    {
     "name": "stdout",
     "output_type": "stream",
     "text": [
      "Epoch 1/200\n",
      "21/21 [==============================] - 2s 25ms/step - loss: 0.2132 - mae: 0.2132 - mape: 412222.6250 - val_loss: 0.0388 - val_mae: 0.0388 - val_mape: 47.7929\n",
      "Epoch 2/200\n",
      "21/21 [==============================] - 0s 9ms/step - loss: 0.1004 - mae: 0.1004 - mape: 35772.7383 - val_loss: 0.0370 - val_mae: 0.0370 - val_mape: 47.7756\n",
      "Epoch 3/200\n",
      "21/21 [==============================] - 0s 9ms/step - loss: 0.0833 - mae: 0.0833 - mape: 50751.2891 - val_loss: 0.0429 - val_mae: 0.0429 - val_mape: 40.8552\n",
      "Epoch 4/200\n",
      "21/21 [==============================] - 0s 9ms/step - loss: 0.0698 - mae: 0.0698 - mape: 80475.5625 - val_loss: 0.0817 - val_mae: 0.0817 - val_mape: 64.9787\n",
      "Epoch 5/200\n",
      "21/21 [==============================] - 0s 9ms/step - loss: 0.0766 - mae: 0.0766 - mape: 143572.0625 - val_loss: 0.0451 - val_mae: 0.0451 - val_mape: 54.1278\n",
      "Epoch 6/200\n",
      "21/21 [==============================] - 0s 9ms/step - loss: 0.0692 - mae: 0.0692 - mape: 4900.3809 - val_loss: 0.0339 - val_mae: 0.0339 - val_mape: 42.1414\n",
      "Epoch 7/200\n",
      "21/21 [==============================] - 0s 10ms/step - loss: 0.0640 - mae: 0.0640 - mape: 28647.8867 - val_loss: 0.0334 - val_mae: 0.0334 - val_mape: 38.1045\n",
      "Epoch 8/200\n",
      "21/21 [==============================] - 0s 10ms/step - loss: 0.0606 - mae: 0.0606 - mape: 75294.8594 - val_loss: 0.0378 - val_mae: 0.0378 - val_mape: 50.2158\n",
      "Epoch 9/200\n",
      "21/21 [==============================] - 0s 9ms/step - loss: 0.0579 - mae: 0.0579 - mape: 109257.5781 - val_loss: 0.0295 - val_mae: 0.0295 - val_mape: 28.6760\n",
      "Epoch 10/200\n",
      "21/21 [==============================] - 0s 9ms/step - loss: 0.0596 - mae: 0.0596 - mape: 10240.6992 - val_loss: 0.0289 - val_mae: 0.0289 - val_mape: 25.7137\n",
      "Epoch 11/200\n",
      "21/21 [==============================] - 0s 9ms/step - loss: 0.0554 - mae: 0.0554 - mape: 100227.8516 - val_loss: 0.0255 - val_mae: 0.0255 - val_mape: 24.2484\n",
      "Epoch 12/200\n",
      "21/21 [==============================] - 0s 9ms/step - loss: 0.0515 - mae: 0.0515 - mape: 98706.2578 - val_loss: 0.0277 - val_mae: 0.0277 - val_mape: 27.1196\n",
      "Epoch 13/200\n",
      "21/21 [==============================] - 0s 9ms/step - loss: 0.0525 - mae: 0.0525 - mape: 56892.5547 - val_loss: 0.0282 - val_mae: 0.0282 - val_mape: 33.5594\n",
      "Epoch 14/200\n",
      "21/21 [==============================] - 0s 9ms/step - loss: 0.0508 - mae: 0.0508 - mape: 5144.9346 - val_loss: 0.0304 - val_mae: 0.0304 - val_mape: 32.6721\n",
      "Epoch 15/200\n",
      "21/21 [==============================] - 0s 9ms/step - loss: 0.0509 - mae: 0.0509 - mape: 1430.2366 - val_loss: 0.0259 - val_mae: 0.0259 - val_mape: 29.7113\n",
      "Epoch 16/200\n",
      "21/21 [==============================] - 0s 9ms/step - loss: 0.0589 - mae: 0.0589 - mape: 18990.3945 - val_loss: 0.0245 - val_mae: 0.0245 - val_mape: 25.4237\n",
      "Epoch 17/200\n",
      "21/21 [==============================] - 0s 10ms/step - loss: 0.0494 - mae: 0.0494 - mape: 5260.6475 - val_loss: 0.0254 - val_mae: 0.0254 - val_mape: 29.8872\n",
      "Epoch 18/200\n",
      "21/21 [==============================] - 0s 10ms/step - loss: 0.0497 - mae: 0.0497 - mape: 66154.6719 - val_loss: 0.0253 - val_mae: 0.0253 - val_mape: 25.0958\n",
      "Epoch 19/200\n",
      "21/21 [==============================] - 0s 10ms/step - loss: 0.0534 - mae: 0.0534 - mape: 51261.3320 - val_loss: 0.0274 - val_mae: 0.0274 - val_mape: 25.9072\n",
      "Epoch 20/200\n",
      "21/21 [==============================] - 0s 9ms/step - loss: 0.0479 - mae: 0.0479 - mape: 59046.1211 - val_loss: 0.0285 - val_mae: 0.0285 - val_mape: 24.6552\n",
      "Epoch 21/200\n",
      "21/21 [==============================] - 0s 9ms/step - loss: 0.0505 - mae: 0.0505 - mape: 48037.6484 - val_loss: 0.0242 - val_mae: 0.0242 - val_mape: 25.2260\n",
      "Epoch 22/200\n",
      "21/21 [==============================] - 0s 11ms/step - loss: 0.0550 - mae: 0.0550 - mape: 110879.4141 - val_loss: 0.0231 - val_mae: 0.0231 - val_mape: 23.9314\n",
      "Epoch 23/200\n",
      "21/21 [==============================] - 0s 10ms/step - loss: 0.0499 - mae: 0.0499 - mape: 88513.3438 - val_loss: 0.0295 - val_mae: 0.0295 - val_mape: 25.5278\n",
      "Epoch 24/200\n",
      "21/21 [==============================] - 0s 9ms/step - loss: 0.0469 - mae: 0.0469 - mape: 89834.0391 - val_loss: 0.0239 - val_mae: 0.0239 - val_mape: 26.9203\n",
      "Epoch 25/200\n",
      "21/21 [==============================] - 0s 9ms/step - loss: 0.0459 - mae: 0.0459 - mape: 92358.6484 - val_loss: 0.0234 - val_mae: 0.0234 - val_mape: 27.8612\n",
      "Epoch 26/200\n",
      "21/21 [==============================] - 0s 10ms/step - loss: 0.0492 - mae: 0.0492 - mape: 67929.7109 - val_loss: 0.0230 - val_mae: 0.0230 - val_mape: 26.7654\n",
      "Epoch 27/200\n",
      "21/21 [==============================] - 0s 10ms/step - loss: 0.0462 - mae: 0.0462 - mape: 91699.5391 - val_loss: 0.0276 - val_mae: 0.0276 - val_mape: 34.1915\n",
      "Epoch 28/200\n",
      "21/21 [==============================] - 0s 9ms/step - loss: 0.0466 - mae: 0.0466 - mape: 55283.0938 - val_loss: 0.0226 - val_mae: 0.0226 - val_mape: 25.2378\n",
      "Epoch 29/200\n",
      "21/21 [==============================] - 0s 9ms/step - loss: 0.0490 - mae: 0.0490 - mape: 50234.3438 - val_loss: 0.0230 - val_mae: 0.0230 - val_mape: 25.8549\n",
      "Epoch 30/200\n",
      "21/21 [==============================] - 0s 9ms/step - loss: 0.0458 - mae: 0.0458 - mape: 108105.3672 - val_loss: 0.0281 - val_mae: 0.0281 - val_mape: 25.6604\n",
      "Epoch 31/200\n",
      "21/21 [==============================] - 0s 9ms/step - loss: 0.0479 - mae: 0.0479 - mape: 85770.3828 - val_loss: 0.0339 - val_mae: 0.0339 - val_mape: 31.8309\n",
      "Epoch 32/200\n",
      "21/21 [==============================] - 0s 9ms/step - loss: 0.0506 - mae: 0.0506 - mape: 155162.2500 - val_loss: 0.0222 - val_mae: 0.0222 - val_mape: 25.8372\n",
      "Epoch 33/200\n",
      "21/21 [==============================] - 0s 10ms/step - loss: 0.0456 - mae: 0.0456 - mape: 95428.7656 - val_loss: 0.0248 - val_mae: 0.0248 - val_mape: 29.4540\n",
      "Epoch 34/200\n",
      "21/21 [==============================] - 0s 9ms/step - loss: 0.0457 - mae: 0.0457 - mape: 161304.8906 - val_loss: 0.0284 - val_mae: 0.0284 - val_mape: 41.5533\n",
      "Epoch 35/200\n",
      "21/21 [==============================] - 0s 10ms/step - loss: 0.0499 - mae: 0.0499 - mape: 150094.2188 - val_loss: 0.0333 - val_mae: 0.0333 - val_mape: 29.2796\n",
      "Epoch 36/200\n",
      "21/21 [==============================] - 0s 9ms/step - loss: 0.0467 - mae: 0.0467 - mape: 114132.8828 - val_loss: 0.0341 - val_mae: 0.0341 - val_mape: 27.4152\n",
      "Epoch 37/200\n",
      "21/21 [==============================] - 0s 9ms/step - loss: 0.0439 - mae: 0.0439 - mape: 77858.4531 - val_loss: 0.0350 - val_mae: 0.0350 - val_mape: 39.6296\n",
      "Epoch 38/200\n",
      "21/21 [==============================] - 0s 9ms/step - loss: 0.0472 - mae: 0.0472 - mape: 173661.1875 - val_loss: 0.0233 - val_mae: 0.0233 - val_mape: 29.9583\n",
      "Epoch 39/200\n",
      "21/21 [==============================] - 0s 10ms/step - loss: 0.0461 - mae: 0.0461 - mape: 118509.9219 - val_loss: 0.0408 - val_mae: 0.0408 - val_mape: 43.4585\n",
      "Epoch 40/200\n",
      "21/21 [==============================] - 0s 9ms/step - loss: 0.0526 - mae: 0.0526 - mape: 193315.8125 - val_loss: 0.0218 - val_mae: 0.0218 - val_mape: 24.9056\n",
      "Epoch 41/200\n",
      "21/21 [==============================] - 0s 10ms/step - loss: 0.0454 - mae: 0.0454 - mape: 90300.1562 - val_loss: 0.0312 - val_mae: 0.0312 - val_mape: 39.6683\n",
      "Epoch 42/200\n",
      "21/21 [==============================] - 0s 9ms/step - loss: 0.0451 - mae: 0.0451 - mape: 183272.4375 - val_loss: 0.0311 - val_mae: 0.0311 - val_mape: 26.5385\n",
      "Epoch 43/200\n",
      "21/21 [==============================] - 0s 10ms/step - loss: 0.0494 - mae: 0.0494 - mape: 68861.0859 - val_loss: 0.0355 - val_mae: 0.0355 - val_mape: 33.5724\n",
      "Epoch 44/200\n",
      "21/21 [==============================] - 0s 9ms/step - loss: 0.0485 - mae: 0.0485 - mape: 98570.7578 - val_loss: 0.0264 - val_mae: 0.0264 - val_mape: 26.9387\n",
      "Epoch 45/200\n",
      "21/21 [==============================] - 0s 10ms/step - loss: 0.0435 - mae: 0.0435 - mape: 132150.3438 - val_loss: 0.0215 - val_mae: 0.0215 - val_mape: 24.3161\n",
      "Epoch 46/200\n",
      "21/21 [==============================] - 0s 9ms/step - loss: 0.0449 - mae: 0.0449 - mape: 124928.3047 - val_loss: 0.0237 - val_mae: 0.0237 - val_mape: 25.3249\n",
      "Epoch 47/200\n",
      "21/21 [==============================] - 0s 9ms/step - loss: 0.0450 - mae: 0.0450 - mape: 148576.2969 - val_loss: 0.0277 - val_mae: 0.0277 - val_mape: 28.1870\n",
      "Epoch 48/200\n",
      "21/21 [==============================] - 0s 9ms/step - loss: 0.0464 - mae: 0.0464 - mape: 141745.9688 - val_loss: 0.0210 - val_mae: 0.0210 - val_mape: 24.4058\n"
     ]
    },
    {
     "name": "stdout",
     "output_type": "stream",
     "text": [
      "Epoch 49/200\n",
      "21/21 [==============================] - 0s 9ms/step - loss: 0.0479 - mae: 0.0479 - mape: 220228.6406 - val_loss: 0.0247 - val_mae: 0.0247 - val_mape: 24.4539\n",
      "Epoch 50/200\n",
      "21/21 [==============================] - 0s 9ms/step - loss: 0.0498 - mae: 0.0498 - mape: 99598.3672 - val_loss: 0.0346 - val_mae: 0.0346 - val_mape: 48.8286\n",
      "Epoch 51/200\n",
      "21/21 [==============================] - 0s 9ms/step - loss: 0.0430 - mae: 0.0430 - mape: 211404.3125 - val_loss: 0.0341 - val_mae: 0.0341 - val_mape: 37.4324\n",
      "Epoch 52/200\n",
      "21/21 [==============================] - 0s 9ms/step - loss: 0.0544 - mae: 0.0544 - mape: 148165.2969 - val_loss: 0.0557 - val_mae: 0.0557 - val_mape: 69.9043\n",
      "Epoch 53/200\n",
      "21/21 [==============================] - 0s 9ms/step - loss: 0.0457 - mae: 0.0457 - mape: 204698.9531 - val_loss: 0.0228 - val_mae: 0.0228 - val_mape: 32.5643\n",
      "Epoch 54/200\n",
      "21/21 [==============================] - 0s 9ms/step - loss: 0.0451 - mae: 0.0451 - mape: 206247.9531 - val_loss: 0.0205 - val_mae: 0.0205 - val_mape: 23.5502\n",
      "Epoch 55/200\n",
      "21/21 [==============================] - 0s 9ms/step - loss: 0.0447 - mae: 0.0447 - mape: 58849.5859 - val_loss: 0.0237 - val_mae: 0.0237 - val_mape: 33.9128\n",
      "Epoch 56/200\n",
      "21/21 [==============================] - 0s 9ms/step - loss: 0.0470 - mae: 0.0470 - mape: 121650.1172 - val_loss: 0.0320 - val_mae: 0.0320 - val_mape: 41.9085\n",
      "Epoch 57/200\n",
      "21/21 [==============================] - 0s 9ms/step - loss: 0.0430 - mae: 0.0430 - mape: 215993.2656 - val_loss: 0.0276 - val_mae: 0.0276 - val_mape: 37.1400\n",
      "Epoch 58/200\n",
      "21/21 [==============================] - 0s 9ms/step - loss: 0.0419 - mae: 0.0419 - mape: 203235.1406 - val_loss: 0.0211 - val_mae: 0.0211 - val_mape: 27.6013\n",
      "Epoch 59/200\n",
      "21/21 [==============================] - 0s 9ms/step - loss: 0.0461 - mae: 0.0461 - mape: 110315.1094 - val_loss: 0.0236 - val_mae: 0.0236 - val_mape: 25.1850\n",
      "Epoch 60/200\n",
      "21/21 [==============================] - 0s 9ms/step - loss: 0.0449 - mae: 0.0449 - mape: 178924.2031 - val_loss: 0.0225 - val_mae: 0.0225 - val_mape: 30.2547\n",
      "Epoch 61/200\n",
      "21/21 [==============================] - 0s 9ms/step - loss: 0.0463 - mae: 0.0463 - mape: 197529.0625 - val_loss: 0.0237 - val_mae: 0.0237 - val_mape: 26.0739\n",
      "Epoch 62/200\n",
      "21/21 [==============================] - 0s 9ms/step - loss: 0.0441 - mae: 0.0441 - mape: 219728.2969 - val_loss: 0.0212 - val_mae: 0.0212 - val_mape: 23.6547\n",
      "Epoch 63/200\n",
      "21/21 [==============================] - 0s 9ms/step - loss: 0.0433 - mae: 0.0433 - mape: 136419.7500 - val_loss: 0.0204 - val_mae: 0.0204 - val_mape: 25.2910\n",
      "Epoch 64/200\n",
      "21/21 [==============================] - 0s 9ms/step - loss: 0.0433 - mae: 0.0433 - mape: 180701.2031 - val_loss: 0.0202 - val_mae: 0.0202 - val_mape: 23.7461\n",
      "Epoch 65/200\n",
      "21/21 [==============================] - 0s 9ms/step - loss: 0.0421 - mae: 0.0421 - mape: 236491.9375 - val_loss: 0.0212 - val_mae: 0.0212 - val_mape: 28.6067\n",
      "Epoch 66/200\n",
      "21/21 [==============================] - 0s 9ms/step - loss: 0.0442 - mae: 0.0442 - mape: 211417.4688 - val_loss: 0.0222 - val_mae: 0.0222 - val_mape: 25.3318\n",
      "Epoch 67/200\n",
      "21/21 [==============================] - 0s 9ms/step - loss: 0.0446 - mae: 0.0446 - mape: 184883.9219 - val_loss: 0.0243 - val_mae: 0.0243 - val_mape: 36.4636\n",
      "Epoch 68/200\n",
      "21/21 [==============================] - 0s 9ms/step - loss: 0.0433 - mae: 0.0433 - mape: 143786.6719 - val_loss: 0.0208 - val_mae: 0.0208 - val_mape: 25.5555\n",
      "Epoch 69/200\n",
      "21/21 [==============================] - 0s 9ms/step - loss: 0.0443 - mae: 0.0443 - mape: 222402.6875 - val_loss: 0.0224 - val_mae: 0.0224 - val_mape: 28.9927\n",
      "Epoch 70/200\n",
      "21/21 [==============================] - 0s 9ms/step - loss: 0.0437 - mae: 0.0437 - mape: 186019.2969 - val_loss: 0.0258 - val_mae: 0.0258 - val_mape: 39.3114\n",
      "Epoch 71/200\n",
      "21/21 [==============================] - 0s 9ms/step - loss: 0.0433 - mae: 0.0433 - mape: 127947.4375 - val_loss: 0.0229 - val_mae: 0.0229 - val_mape: 25.1694\n",
      "Epoch 72/200\n",
      "21/21 [==============================] - 0s 9ms/step - loss: 0.0447 - mae: 0.0447 - mape: 140783.7188 - val_loss: 0.0213 - val_mae: 0.0213 - val_mape: 24.9492\n",
      "Epoch 73/200\n",
      "21/21 [==============================] - 0s 9ms/step - loss: 0.0418 - mae: 0.0418 - mape: 199358.0625 - val_loss: 0.0202 - val_mae: 0.0202 - val_mape: 25.8718\n",
      "Epoch 74/200\n",
      "21/21 [==============================] - 0s 9ms/step - loss: 0.0439 - mae: 0.0439 - mape: 228588.4219 - val_loss: 0.0224 - val_mae: 0.0224 - val_mape: 27.1302\n",
      "Epoch 75/200\n",
      "21/21 [==============================] - 0s 9ms/step - loss: 0.0438 - mae: 0.0438 - mape: 185779.0156 - val_loss: 0.0315 - val_mae: 0.0315 - val_mape: 30.5710\n",
      "Epoch 76/200\n",
      "21/21 [==============================] - 0s 9ms/step - loss: 0.0412 - mae: 0.0412 - mape: 222478.9531 - val_loss: 0.0265 - val_mae: 0.0265 - val_mape: 25.2384\n",
      "Epoch 77/200\n",
      "21/21 [==============================] - 0s 9ms/step - loss: 0.0439 - mae: 0.0439 - mape: 243678.3906 - val_loss: 0.0253 - val_mae: 0.0253 - val_mape: 25.0109\n",
      "Epoch 78/200\n",
      "21/21 [==============================] - 0s 9ms/step - loss: 0.0446 - mae: 0.0446 - mape: 144481.6250 - val_loss: 0.0266 - val_mae: 0.0266 - val_mape: 27.2211\n",
      "Epoch 79/200\n",
      "21/21 [==============================] - 0s 9ms/step - loss: 0.0431 - mae: 0.0431 - mape: 158762.2344 - val_loss: 0.0215 - val_mae: 0.0215 - val_mape: 25.4055\n",
      "Epoch 80/200\n",
      "21/21 [==============================] - 0s 9ms/step - loss: 0.0418 - mae: 0.0418 - mape: 212132.8750 - val_loss: 0.0217 - val_mae: 0.0217 - val_mape: 29.2056\n",
      "Epoch 81/200\n",
      "21/21 [==============================] - 0s 9ms/step - loss: 0.0429 - mae: 0.0429 - mape: 253306.4688 - val_loss: 0.0209 - val_mae: 0.0209 - val_mape: 24.1008\n",
      "Epoch 82/200\n",
      "21/21 [==============================] - 0s 10ms/step - loss: 0.0433 - mae: 0.0433 - mape: 166150.3281 - val_loss: 0.0291 - val_mae: 0.0291 - val_mape: 35.7756\n",
      "Epoch 83/200\n",
      "21/21 [==============================] - 0s 9ms/step - loss: 0.0480 - mae: 0.0480 - mape: 245450.9375 - val_loss: 0.0331 - val_mae: 0.0331 - val_mape: 51.6086\n",
      "Epoch 84/200\n",
      "21/21 [==============================] - 0s 9ms/step - loss: 0.0461 - mae: 0.0461 - mape: 148771.6250 - val_loss: 0.0288 - val_mae: 0.0288 - val_mape: 33.1719\n",
      "Epoch 85/200\n",
      "21/21 [==============================] - 0s 9ms/step - loss: 0.0458 - mae: 0.0458 - mape: 191655.5469 - val_loss: 0.0267 - val_mae: 0.0267 - val_mape: 37.0282\n",
      "Epoch 86/200\n",
      "21/21 [==============================] - 0s 9ms/step - loss: 0.0436 - mae: 0.0436 - mape: 218619.5938 - val_loss: 0.0256 - val_mae: 0.0256 - val_mape: 30.3112\n",
      "Epoch 87/200\n",
      "21/21 [==============================] - 0s 9ms/step - loss: 0.0479 - mae: 0.0479 - mape: 233875.9844 - val_loss: 0.0256 - val_mae: 0.0256 - val_mape: 41.5067\n",
      "Epoch 88/200\n",
      "21/21 [==============================] - 0s 9ms/step - loss: 0.0422 - mae: 0.0422 - mape: 251946.7656 - val_loss: 0.0340 - val_mae: 0.0340 - val_mape: 44.5839\n",
      "Epoch 89/200\n",
      "21/21 [==============================] - 0s 9ms/step - loss: 0.0428 - mae: 0.0428 - mape: 242426.2031 - val_loss: 0.0246 - val_mae: 0.0246 - val_mape: 36.7990\n",
      "Epoch 90/200\n",
      "21/21 [==============================] - 0s 9ms/step - loss: 0.0432 - mae: 0.0432 - mape: 194205.0625 - val_loss: 0.0199 - val_mae: 0.0199 - val_mape: 27.1310\n",
      "Epoch 91/200\n",
      "21/21 [==============================] - 0s 9ms/step - loss: 0.0447 - mae: 0.0447 - mape: 240086.2656 - val_loss: 0.0207 - val_mae: 0.0207 - val_mape: 27.5610\n",
      "Epoch 92/200\n",
      "21/21 [==============================] - 0s 9ms/step - loss: 0.0419 - mae: 0.0419 - mape: 184884.8750 - val_loss: 0.0215 - val_mae: 0.0215 - val_mape: 30.3604\n",
      "Epoch 93/200\n",
      "21/21 [==============================] - 0s 9ms/step - loss: 0.0413 - mae: 0.0413 - mape: 214188.4531 - val_loss: 0.0302 - val_mae: 0.0302 - val_mape: 35.3471\n",
      "Epoch 94/200\n",
      "21/21 [==============================] - 0s 9ms/step - loss: 0.0436 - mae: 0.0436 - mape: 272714.6562 - val_loss: 0.0199 - val_mae: 0.0199 - val_mape: 26.8893\n",
      "Epoch 95/200\n",
      "21/21 [==============================] - 0s 9ms/step - loss: 0.0469 - mae: 0.0469 - mape: 245262.0156 - val_loss: 0.0270 - val_mae: 0.0270 - val_mape: 25.7833\n",
      "Epoch 96/200\n"
     ]
    },
    {
     "name": "stdout",
     "output_type": "stream",
     "text": [
      "21/21 [==============================] - 0s 9ms/step - loss: 0.0427 - mae: 0.0427 - mape: 221426.2031 - val_loss: 0.0254 - val_mae: 0.0254 - val_mape: 41.6786\n",
      "Epoch 97/200\n",
      "21/21 [==============================] - 0s 9ms/step - loss: 0.0450 - mae: 0.0450 - mape: 196037.2031 - val_loss: 0.0196 - val_mae: 0.0196 - val_mape: 25.9420\n",
      "Epoch 98/200\n",
      "21/21 [==============================] - 0s 9ms/step - loss: 0.0428 - mae: 0.0428 - mape: 207678.2188 - val_loss: 0.0232 - val_mae: 0.0232 - val_mape: 24.3488\n",
      "Epoch 99/200\n",
      "21/21 [==============================] - 0s 9ms/step - loss: 0.0429 - mae: 0.0429 - mape: 176535.0469 - val_loss: 0.0284 - val_mae: 0.0284 - val_mape: 26.0453\n",
      "Epoch 100/200\n",
      "21/21 [==============================] - 0s 9ms/step - loss: 0.0439 - mae: 0.0439 - mape: 250851.6719 - val_loss: 0.0208 - val_mae: 0.0208 - val_mape: 29.8202\n",
      "Epoch 101/200\n",
      "21/21 [==============================] - 0s 9ms/step - loss: 0.0425 - mae: 0.0425 - mape: 260476.6719 - val_loss: 0.0319 - val_mae: 0.0319 - val_mape: 44.8053\n",
      "Epoch 102/200\n",
      "21/21 [==============================] - 0s 9ms/step - loss: 0.0440 - mae: 0.0440 - mape: 226032.4375 - val_loss: 0.0216 - val_mae: 0.0216 - val_mape: 24.8237\n",
      "Epoch 103/200\n",
      "21/21 [==============================] - 0s 9ms/step - loss: 0.0428 - mae: 0.0428 - mape: 151022.5625 - val_loss: 0.0330 - val_mae: 0.0330 - val_mape: 43.2235\n",
      "Epoch 104/200\n",
      "21/21 [==============================] - 0s 9ms/step - loss: 0.0432 - mae: 0.0432 - mape: 245081.2969 - val_loss: 0.0198 - val_mae: 0.0198 - val_mape: 26.6304\n",
      "Epoch 105/200\n",
      "21/21 [==============================] - 0s 9ms/step - loss: 0.0424 - mae: 0.0424 - mape: 183858.9062 - val_loss: 0.0211 - val_mae: 0.0211 - val_mape: 24.4778\n",
      "Epoch 106/200\n",
      "21/21 [==============================] - 0s 9ms/step - loss: 0.0431 - mae: 0.0431 - mape: 297577.0312 - val_loss: 0.0219 - val_mae: 0.0219 - val_mape: 31.1935\n",
      "Epoch 107/200\n",
      "21/21 [==============================] - 0s 9ms/step - loss: 0.0486 - mae: 0.0486 - mape: 222249.4219 - val_loss: 0.0218 - val_mae: 0.0218 - val_mape: 24.2427\n",
      "Epoch 108/200\n",
      "21/21 [==============================] - 0s 9ms/step - loss: 0.0441 - mae: 0.0441 - mape: 169296.8438 - val_loss: 0.0207 - val_mae: 0.0207 - val_mape: 28.2688\n",
      "Epoch 109/200\n",
      "21/21 [==============================] - 0s 9ms/step - loss: 0.0413 - mae: 0.0413 - mape: 263371.0625 - val_loss: 0.0197 - val_mae: 0.0197 - val_mape: 25.8544\n",
      "Epoch 110/200\n",
      "21/21 [==============================] - 0s 10ms/step - loss: 0.0425 - mae: 0.0425 - mape: 258526.6719 - val_loss: 0.0259 - val_mae: 0.0259 - val_mape: 33.1161\n",
      "Epoch 111/200\n",
      "21/21 [==============================] - 0s 9ms/step - loss: 0.0480 - mae: 0.0480 - mape: 207477.1562 - val_loss: 0.0204 - val_mae: 0.0204 - val_mape: 23.2721\n",
      "Epoch 112/200\n",
      "21/21 [==============================] - 0s 9ms/step - loss: 0.0427 - mae: 0.0427 - mape: 214676.4531 - val_loss: 0.0220 - val_mae: 0.0220 - val_mape: 23.8901\n",
      "Epoch 113/200\n",
      "21/21 [==============================] - 0s 9ms/step - loss: 0.0420 - mae: 0.0420 - mape: 255037.3594 - val_loss: 0.0197 - val_mae: 0.0197 - val_mape: 27.4062\n",
      "Epoch 114/200\n",
      "21/21 [==============================] - 0s 9ms/step - loss: 0.0396 - mae: 0.0396 - mape: 204260.3281 - val_loss: 0.0203 - val_mae: 0.0203 - val_mape: 26.9788\n",
      "Epoch 115/200\n",
      "21/21 [==============================] - 0s 9ms/step - loss: 0.0404 - mae: 0.0404 - mape: 195873.0781 - val_loss: 0.0213 - val_mae: 0.0213 - val_mape: 29.2504\n",
      "Epoch 116/200\n",
      "21/21 [==============================] - 0s 9ms/step - loss: 0.0429 - mae: 0.0429 - mape: 230333.7969 - val_loss: 0.0219 - val_mae: 0.0219 - val_mape: 24.4132\n",
      "Epoch 117/200\n",
      "21/21 [==============================] - 0s 10ms/step - loss: 0.0453 - mae: 0.0453 - mape: 157355.7969 - val_loss: 0.0213 - val_mae: 0.0213 - val_mape: 28.1546\n"
     ]
    }
   ],
   "source": [
    "es = EarlyStopping(patience=20, restore_best_weights=True)\n",
    "\n",
    "#try different losses: mae, mape, mse\n",
    "\n",
    "#rmsprop optimizer\n",
    "model.compile(optimizer=\"adam\", loss=\"mae\", metrics=[\"mae\", \"mape\"])\n",
    "#validation_split=0.2,\n",
    "history_LSTM = model.fit(X_train, y_train, epochs=200, batch_size=16, workers=-1, validation_split=0.2, callbacks=[es])"
   ]
  },
  {
   "cell_type": "code",
   "execution_count": 62,
   "id": "a42ee21d",
   "metadata": {},
   "outputs": [
    {
     "name": "stdout",
     "output_type": "stream",
     "text": [
      "3/3 [==============================] - 0s 8ms/step - loss: 0.3555 - mae: 0.3555 - mape: 16.4730\n"
     ]
    },
    {
     "data": {
      "text/plain": [
       "[0.3555030822753906, 0.3555030822753906, 16.47296142578125]"
      ]
     },
     "execution_count": 62,
     "metadata": {},
     "output_type": "execute_result"
    }
   ],
   "source": [
    "model.evaluate(X_test, y_test)"
   ]
  },
  {
   "cell_type": "code",
   "execution_count": 66,
   "id": "03e6b738",
   "metadata": {},
   "outputs": [
    {
     "data": {
      "text/plain": [
       "[<matplotlib.lines.Line2D at 0x7f99084ec100>]"
      ]
     },
     "execution_count": 66,
     "metadata": {},
     "output_type": "execute_result"
    },
    {
     "data": {
      "image/png": "[encoded data removed]",
      "text/plain": [
       "<Figure size 432x288 with 1 Axes>"
      ]
     },
     "metadata": {
      "needs_background": "light"
     },
     "output_type": "display_data"
    }
   ],
   "source": [
    "plt.plot(history_LSTM.history[\"mae\"])\n",
    "plt.plot(history_LSTM.history[\"val_mae\"])"
   ]
  },
  {
   "cell_type": "markdown",
   "id": "e22606c4",
   "metadata": {},
   "source": [
    "# Test Model"
   ]
  },
  {
   "cell_type": "code",
   "execution_count": null,
   "id": "e7f7c624",
   "metadata": {},
   "outputs": [],
   "source": [
    "model.summary()"
   ]
  },
  {
   "cell_type": "code",
   "execution_count": null,
   "id": "098a6fd2",
   "metadata": {},
   "outputs": [],
   "source": [
    "X_test"
   ]
  },
  {
   "cell_type": "code",
   "execution_count": 67,
   "id": "d2667cc9",
   "metadata": {},
   "outputs": [],
   "source": [
    "prediction = model.predict(X_test)"
   ]
  },
  {
   "cell_type": "code",
   "execution_count": 68,
   "id": "36353dd0",
   "metadata": {
    "scrolled": true
   },
   "outputs": [
    {
     "data": {
      "text/plain": [
       "array([[1.1493303],\n",
       "       [1.3057617],\n",
       "       [1.2502916],\n",
       "       [1.1794459],\n",
       "       [1.189925 ],\n",
       "       [1.1735655],\n",
       "       [1.1770421],\n",
       "       [1.3482018],\n",
       "       [1.2582622],\n",
       "       [1.3558935],\n",
       "       [1.3391029],\n",
       "       [1.3666812],\n",
       "       [1.4160562],\n",
       "       [1.4039601],\n",
       "       [1.3710496],\n",
       "       [1.3526108],\n",
       "       [1.1992075],\n",
       "       [1.2323923],\n",
       "       [1.2104838],\n",
       "       [1.200444 ],\n",
       "       [1.3116953],\n",
       "       [1.3178608],\n",
       "       [1.2748039],\n",
       "       [1.3311644],\n",
       "       [1.3565304],\n",
       "       [1.3548331],\n",
       "       [1.4060681],\n",
       "       [1.402896 ],\n",
       "       [1.5365117],\n",
       "       [1.5912384],\n",
       "       [1.633206 ],\n",
       "       [1.6993196],\n",
       "       [1.7452155],\n",
       "       [1.7744163],\n",
       "       [1.757519 ],\n",
       "       [1.7652572],\n",
       "       [1.8075109],\n",
       "       [1.7545618],\n",
       "       [1.8281848],\n",
       "       [1.8984901],\n",
       "       [2.0257847],\n",
       "       [2.0275764],\n",
       "       [2.032083 ],\n",
       "       [2.0494072],\n",
       "       [1.9252231],\n",
       "       [1.9417037],\n",
       "       [1.8792689],\n",
       "       [1.9220093],\n",
       "       [1.8588665],\n",
       "       [1.6827998],\n",
       "       [1.7209123],\n",
       "       [1.779766 ],\n",
       "       [1.840694 ],\n",
       "       [2.0021365],\n",
       "       [2.052263 ],\n",
       "       [1.9821407],\n",
       "       [2.0302095],\n",
       "       [1.9999545],\n",
       "       [2.0380824],\n",
       "       [2.0335648],\n",
       "       [2.0445337],\n",
       "       [2.0191774],\n",
       "       [1.9740102],\n",
       "       [1.9352932],\n",
       "       [1.8648531],\n",
       "       [1.8522782],\n",
       "       [1.8821511],\n",
       "       [1.8743122],\n",
       "       [1.8362135],\n",
       "       [1.7517446],\n",
       "       [1.9222716],\n",
       "       [1.8820155],\n",
       "       [1.8541772],\n",
       "       [1.7686542],\n",
       "       [1.8679504],\n",
       "       [1.9440303],\n",
       "       [1.7872865],\n",
       "       [1.6160965],\n",
       "       [1.5865383],\n",
       "       [1.6732061],\n",
       "       [1.8104811],\n",
       "       [1.913234 ],\n",
       "       [1.9233589],\n",
       "       [1.850639 ],\n",
       "       [1.8960171],\n",
       "       [1.8115458],\n",
       "       [1.862216 ],\n",
       "       [1.8669852],\n",
       "       [1.7969313],\n",
       "       [1.7884631],\n",
       "       [1.7899255]], dtype=float32)"
      ]
     },
     "execution_count": 68,
     "metadata": {},
     "output_type": "execute_result"
    }
   ],
   "source": [
    "prediction"
   ]
  },
  {
   "cell_type": "markdown",
   "id": "60cf4023",
   "metadata": {},
   "source": [
    "# Visualizing Model"
   ]
  },
  {
   "cell_type": "code",
   "execution_count": null,
   "id": "a600b014",
   "metadata": {
    "scrolled": true
   },
   "outputs": [],
   "source": [
    "y_test.reshape(-1, 1).shape"
   ]
  },
  {
   "cell_type": "code",
   "execution_count": 69,
   "id": "c1d45b5b",
   "metadata": {},
   "outputs": [],
   "source": [
    "y_test_back = scaler.inverse_transform(y_test.reshape(-1, 1))\n",
    "prediction_back = scaler.inverse_transform(prediction.reshape(-1, 1))"
   ]
  },
  {
   "cell_type": "code",
   "execution_count": 53,
   "id": "7ce2a13c",
   "metadata": {
    "scrolled": true
   },
   "outputs": [
    {
     "data": {
      "text/plain": [
       "array([1.19491688, 1.36850923, 1.35721001, 1.16410169, 1.21032459,\n",
       "       1.21956921, 1.23415579, 1.39982472, 1.36960862, 1.43941857,\n",
       "       1.43108258, 1.55507365, 1.54048708, 1.49825436, 1.4813608 ,\n",
       "       1.38317037, 1.26491899, 1.27442188, 1.22057499, 1.34304941,\n",
       "       1.43640124, 1.40641542, 1.33894704, 1.38928006, 1.43854287,\n",
       "       1.46424496, 1.51779149, 1.56123133, 1.74259234, 1.77408565,\n",
       "       1.84576202, 1.97390862, 1.99888697, 2.06177997, 2.09256481,\n",
       "       2.11235573, 2.11785269, 2.0837692 , 2.2212016 , 2.3542369 ,\n",
       "       2.6051964 , 2.56850862, 2.61409126, 2.62520843, 2.37950691,\n",
       "       2.39284826, 2.32391873, 2.24943013, 2.23254975, 1.92196485,\n",
       "       1.92871738, 2.1717845 , 2.36533713, 2.59264913, 2.62640896,\n",
       "       2.458084  , 2.61290437, 2.44100838, 2.57419987, 2.63453326,\n",
       "       2.55484738, 2.53890926, 2.4502062 , 2.30044905, 2.25897748,\n",
       "       2.20483351, 2.28201672, 2.20252935, 2.15231911, 2.02978565,\n",
       "       2.35070728, 2.30636139, 2.24684513, 1.96676893, 2.2736859 ,\n",
       "       2.42306012, 2.09454954, 1.77668806, 1.85704007, 1.92675616,\n",
       "       2.08745925, 2.36869035, 2.30369971, 2.26140348, 2.29732258,\n",
       "       2.19555196, 2.22787886, 2.28654694, 1.96806684, 2.07941539,\n",
       "       2.04177076])"
      ]
     },
     "execution_count": 53,
     "metadata": {},
     "output_type": "execute_result"
    }
   ],
   "source": [
    "y_test"
   ]
  },
  {
   "cell_type": "code",
   "execution_count": 70,
   "id": "d130a9e5",
   "metadata": {},
   "outputs": [
    {
     "data": {
      "image/png": "[encoded data removed]",
      "text/plain": [
       "<Figure size 432x288 with 1 Axes>"
      ]
     },
     "metadata": {
      "needs_background": "light"
     },
     "output_type": "display_data"
    }
   ],
   "source": [
    "plt.plot(y_test_back, color=\"black\", label=f\"Actual {company} Price\")\n",
    "plt.plot(prediction_back,color=\"green\", label=f\"Predicted {company} Price\")\n",
    "plt.xlabel(\"\")\n",
    "plt.ylabel(f\"{company} Share Price\")\n",
    "plt.title(f\"{company} Share Price\")\n",
    "plt.legend()\n",
    "plt.show()"
   ]
  },
  {
   "cell_type": "code",
   "execution_count": 71,
   "id": "e1641134",
   "metadata": {},
   "outputs": [
    {
     "data": {
      "text/plain": [
       "6.6192527"
      ]
     },
     "execution_count": 71,
     "metadata": {},
     "output_type": "execute_result"
    }
   ],
   "source": [
    "mape = mean_absolute_percentage_error(y_test_back, prediction_back)\n",
    "np.mean(mape)"
   ]
  },
  {
   "cell_type": "code",
   "execution_count": null,
   "id": "fdf14d0b",
   "metadata": {},
   "outputs": [],
   "source": [
    "y_train.mean()"
   ]
  },
  {
   "cell_type": "code",
   "execution_count": null,
   "id": "9ed77586",
   "metadata": {
    "scrolled": true
   },
   "outputs": [],
   "source": [
    "y_test_back"
   ]
  },
  {
   "cell_type": "code",
   "execution_count": 35,
   "id": "c3ff14ca",
   "metadata": {},
   "outputs": [
    {
     "data": {
      "text/plain": [
       "12.386865683560508"
      ]
     },
     "execution_count": 35,
     "metadata": {},
     "output_type": "execute_result"
    }
   ],
   "source": [
    "mape2 = mean_absolute_percentage_error(y_test_back, y_test_simple)\n",
    "np.mean(mape2)"
   ]
  },
  {
   "cell_type": "code",
   "execution_count": 36,
   "id": "678ce10e",
   "metadata": {},
   "outputs": [
    {
     "data": {
      "text/plain": [
       "array([27.45345116, 28.736166  , 27.17025375, 27.76367378, 29.03948402,\n",
       "       29.29294968, 30.06824493, 29.77714729, 27.87648201, 27.9449749 ,\n",
       "       29.13517189, 29.04833031, 30.20331383, 30.94536591, 32.20467377,\n",
       "       34.45027924, 34.25337219, 34.93095398, 35.53720856, 38.85606766,\n",
       "       38.91016388, 36.96284866, 37.08906937, 34.21001434, 34.13702011,\n",
       "       37.8691864 , 37.81082916, 38.19853973, 39.09395981, 37.92620468,\n",
       "       35.50677872, 36.3101387 , 35.44138718, 35.98805618, 35.94074249,\n",
       "       36.15839005, 34.65774536, 32.78927994, 35.19433594, 36.65078735,\n",
       "       35.56339645, 35.63136292, 34.07794952, 32.53449249])"
      ]
     },
     "execution_count": 36,
     "metadata": {},
     "output_type": "execute_result"
    }
   ],
   "source": [
    "y_test_simple"
   ]
  },
  {
   "cell_type": "code",
   "execution_count": 76,
   "id": "9a8d2593",
   "metadata": {},
   "outputs": [
    {
     "data": {
      "text/plain": [
       "array([[-0.05636086],\n",
       "       [-0.10073944],\n",
       "       [-0.12926859],\n",
       "       [-0.10707917],\n",
       "       [-0.00564303],\n",
       "       [-0.05636086],\n",
       "       [-0.15779842],\n",
       "       [-0.15779842],\n",
       "       [-0.20851626],\n",
       "       [-0.19583562],\n",
       "       [-0.01198205],\n",
       "       [-0.03734097],\n",
       "       [-0.03100124],\n",
       "       [-0.05636086],\n",
       "       [-0.05636086],\n",
       "       [-0.06270036],\n",
       "       [-0.05318994],\n",
       "       [-0.02466104],\n",
       "       [-0.05002113]], dtype=float32)"
      ]
     },
     "execution_count": 76,
     "metadata": {},
     "output_type": "execute_result"
    }
   ],
   "source": [
    "X_train[1]"
   ]
  },
  {
   "cell_type": "code",
   "execution_count": 73,
   "id": "016bb055",
   "metadata": {},
   "outputs": [
    {
     "data": {
      "text/plain": [
       "-0.011982049388878042"
      ]
     },
     "execution_count": 73,
     "metadata": {},
     "output_type": "execute_result"
    }
   ],
   "source": [
    "y_train[0]"
   ]
  },
  {
   "cell_type": "code",
   "execution_count": null,
   "id": "bcba64db",
   "metadata": {},
   "outputs": [],
   "source": []
  }
 ],
 "metadata": {
  "kernelspec": {
   "display_name": "Python 3",
   "language": "python",
   "name": "python3"
  },
  "language_info": {
   "codemirror_mode": {
    "name": "ipython",
    "version": 3
   },
   "file_extension": ".py",
   "mimetype": "text/x-python",
   "name": "python",
   "nbconvert_exporter": "python",
   "pygments_lexer": "ipython3",
   "version": "3.8.6"
  },
  "toc": {
   "base_numbering": 1,
   "nav_menu": {},
   "number_sections": true,
   "sideBar": true,
   "skip_h1_title": false,
   "title_cell": "Table of Contents",
   "title_sidebar": "Contents",
   "toc_cell": false,
   "toc_position": {},
   "toc_section_display": true,
   "toc_window_display": true
  }
 },
 "nbformat": 4,
 "nbformat_minor": 5
}
