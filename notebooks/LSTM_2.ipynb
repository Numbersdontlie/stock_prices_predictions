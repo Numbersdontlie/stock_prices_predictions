{
 "cells": [
  {
   "cell_type": "markdown",
   "id": "1f900ad4",
   "metadata": {},
   "source": [
    "# Import Libraries"
   ]
  },
  {
   "cell_type": "code",
   "execution_count": 1,
   "id": "9c828a39",
   "metadata": {},
   "outputs": [],
   "source": [
    "%load_ext autoreload\n",
    "%autoreload 2\n",
    "import os\n",
    "import pandas as pd\n",
    "import numpy as np\n",
    "from stock_prices_predictions.get_data import *\n",
    "from tensorflow.keras.models import Sequential\n",
    "from tensorflow.keras.layers import LSTM, Dropout, Dense\n",
    "from tensorflow.keras import layers\n",
    "from sklearn.preprocessing import RobustScaler\n",
    "import matplotlib.pyplot as plt\n",
    "import seaborn as sns\n",
    "from tensorflow.keras.callbacks import EarlyStopping\n",
    "from tensorflow.keras.losses import mean_absolute_percentage_error"
   ]
  },
  {
   "cell_type": "markdown",
   "id": "eb2a0b15",
   "metadata": {},
   "source": [
    "# Fetch data"
   ]
  },
  {
   "cell_type": "markdown",
   "id": "78b41ece",
   "metadata": {},
   "source": [
    "define company:"
   ]
  },
  {
   "cell_type": "code",
   "execution_count": 2,
   "id": "d8967dd4",
   "metadata": {},
   "outputs": [],
   "source": [
    "company = \"T\"\n",
    "days_ahead = 1"
   ]
  },
  {
   "cell_type": "code",
   "execution_count": 3,
   "id": "ff25ae50",
   "metadata": {},
   "outputs": [],
   "source": [
    "X_train, X_test = get_lstm_data(company)"
   ]
  },
  {
   "cell_type": "code",
   "execution_count": 4,
   "id": "bafa7534",
   "metadata": {},
   "outputs": [
    {
     "data": {
      "text/plain": [
       "(3773, 1)"
      ]
     },
     "execution_count": 4,
     "metadata": {},
     "output_type": "execute_result"
    }
   ],
   "source": [
    "X_train.shape"
   ]
  },
  {
   "cell_type": "code",
   "execution_count": 5,
   "id": "b218cb76",
   "metadata": {
    "scrolled": true
   },
   "outputs": [
    {
     "data": {
      "text/plain": [
       "(919, 1)"
      ]
     },
     "execution_count": 5,
     "metadata": {},
     "output_type": "execute_result"
    }
   ],
   "source": [
    "X_test.shape"
   ]
  },
  {
   "cell_type": "markdown",
   "id": "0d8bfa02",
   "metadata": {},
   "source": [
    "# Scale data"
   ]
  },
  {
   "cell_type": "code",
   "execution_count": 6,
   "id": "f024f32f",
   "metadata": {},
   "outputs": [],
   "source": [
    "#try differente scalers\n",
    "scaler = RobustScaler()\n",
    "scaler.fit(X_train)\n",
    "X_train_sc = scaler.transform(X_train)\n",
    "\n",
    "X_test_sc = scaler.transform(X_test)"
   ]
  },
  {
   "cell_type": "code",
   "execution_count": 7,
   "id": "2edc95d0",
   "metadata": {},
   "outputs": [
    {
     "data": {
      "text/plain": [
       "(3773, 1)"
      ]
     },
     "execution_count": 7,
     "metadata": {},
     "output_type": "execute_result"
    }
   ],
   "source": [
    "X_train_sc.shape"
   ]
  },
  {
   "cell_type": "code",
   "execution_count": 8,
   "id": "db7e60b6",
   "metadata": {
    "scrolled": true
   },
   "outputs": [
    {
     "data": {
      "text/plain": [
       "(919, 1)"
      ]
     },
     "execution_count": 8,
     "metadata": {},
     "output_type": "execute_result"
    }
   ],
   "source": [
    "X_test_sc.shape"
   ]
  },
  {
   "cell_type": "code",
   "execution_count": 9,
   "id": "61a859d5",
   "metadata": {},
   "outputs": [
    {
     "data": {
      "text/html": [
       "<div>\n",
       "<style scoped>\n",
       "    .dataframe tbody tr th:only-of-type {\n",
       "        vertical-align: middle;\n",
       "    }\n",
       "\n",
       "    .dataframe tbody tr th {\n",
       "        vertical-align: top;\n",
       "    }\n",
       "\n",
       "    .dataframe thead th {\n",
       "        text-align: right;\n",
       "    }\n",
       "</style>\n",
       "<table border=\"1\" class=\"dataframe\">\n",
       "  <thead>\n",
       "    <tr style=\"text-align: right;\">\n",
       "      <th></th>\n",
       "      <th>adj_close</th>\n",
       "    </tr>\n",
       "  </thead>\n",
       "  <tbody>\n",
       "    <tr>\n",
       "      <th>2435450</th>\n",
       "      <td>27.816797</td>\n",
       "    </tr>\n",
       "    <tr>\n",
       "      <th>2435451</th>\n",
       "      <td>27.553989</td>\n",
       "    </tr>\n",
       "    <tr>\n",
       "      <th>2435452</th>\n",
       "      <td>27.595049</td>\n",
       "    </tr>\n",
       "    <tr>\n",
       "      <th>2435453</th>\n",
       "      <td>27.628361</td>\n",
       "    </tr>\n",
       "    <tr>\n",
       "      <th>2435454</th>\n",
       "      <td>27.903236</td>\n",
       "    </tr>\n",
       "    <tr>\n",
       "      <th>...</th>\n",
       "      <td>...</td>\n",
       "    </tr>\n",
       "    <tr>\n",
       "      <th>2436364</th>\n",
       "      <td>33.110001</td>\n",
       "    </tr>\n",
       "    <tr>\n",
       "      <th>2436365</th>\n",
       "      <td>33.400002</td>\n",
       "    </tr>\n",
       "    <tr>\n",
       "      <th>2436366</th>\n",
       "      <td>32.680000</td>\n",
       "    </tr>\n",
       "    <tr>\n",
       "      <th>2436367</th>\n",
       "      <td>32.490002</td>\n",
       "    </tr>\n",
       "    <tr>\n",
       "      <th>2436368</th>\n",
       "      <td>32.639999</td>\n",
       "    </tr>\n",
       "  </tbody>\n",
       "</table>\n",
       "<p>919 rows × 1 columns</p>\n",
       "</div>"
      ],
      "text/plain": [
       "         adj_close\n",
       "2435450  27.816797\n",
       "2435451  27.553989\n",
       "2435452  27.595049\n",
       "2435453  27.628361\n",
       "2435454  27.903236\n",
       "...            ...\n",
       "2436364  33.110001\n",
       "2436365  33.400002\n",
       "2436366  32.680000\n",
       "2436367  32.490002\n",
       "2436368  32.639999\n",
       "\n",
       "[919 rows x 1 columns]"
      ]
     },
     "execution_count": 9,
     "metadata": {},
     "output_type": "execute_result"
    }
   ],
   "source": [
    "X_test"
   ]
  },
  {
   "cell_type": "markdown",
   "id": "2820d651",
   "metadata": {},
   "source": [
    "# Create Sequences"
   ]
  },
  {
   "cell_type": "code",
   "execution_count": null,
   "id": "64c734e9",
   "metadata": {},
   "outputs": [],
   "source": [
    "#X_train, y_train = create_sequences(pd.DataFrame(X_train_sc),pd.DataFrame(X_train), days_ahead)\n",
    "#X_test, y_test = create_sequences(pd.DataFrame(X_test_sc),pd.DataFrame(X_test), days_ahead)"
   ]
  },
  {
   "cell_type": "code",
   "execution_count": null,
   "id": "9bc0d5ca",
   "metadata": {},
   "outputs": [],
   "source": [
    "#X_train, y_train = create_sequences_scaled(pd.DataFrame(X_train_sc), days_ahead)\n",
    "#X_test, y_test = create_sequences_scaled(pd.DataFrame(X_test_sc), days_ahead)"
   ]
  },
  {
   "cell_type": "code",
   "execution_count": 10,
   "id": "e75a4813",
   "metadata": {},
   "outputs": [],
   "source": [
    "X_train, y_train, y_train_simple = create_sequences_scaled_plus(pd.DataFrame(X_train_sc),pd.DataFrame(X_train), days_ahead)\n",
    "X_test, y_test, y_test_simple = create_sequences_scaled_plus(pd.DataFrame(X_test_sc), pd.DataFrame(X_test), days_ahead)"
   ]
  },
  {
   "cell_type": "code",
   "execution_count": 11,
   "id": "ca9bd40e",
   "metadata": {},
   "outputs": [
    {
     "data": {
      "text/plain": [
       "(919, 19, 1)"
      ]
     },
     "execution_count": 11,
     "metadata": {},
     "output_type": "execute_result"
    }
   ],
   "source": [
    "X_train.shape"
   ]
  },
  {
   "cell_type": "code",
   "execution_count": 12,
   "id": "358c432f",
   "metadata": {
    "scrolled": true
   },
   "outputs": [
    {
     "data": {
      "text/plain": [
       "(205, 19, 1)"
      ]
     },
     "execution_count": 12,
     "metadata": {},
     "output_type": "execute_result"
    }
   ],
   "source": [
    "X_test.shape"
   ]
  },
  {
   "cell_type": "code",
   "execution_count": 13,
   "id": "5b14c266",
   "metadata": {},
   "outputs": [
    {
     "data": {
      "text/plain": [
       "(919,)"
      ]
     },
     "execution_count": 13,
     "metadata": {},
     "output_type": "execute_result"
    }
   ],
   "source": [
    "y_train.shape"
   ]
  },
  {
   "cell_type": "code",
   "execution_count": 14,
   "id": "8196fcf5",
   "metadata": {},
   "outputs": [
    {
     "data": {
      "text/plain": [
       "(205,)"
      ]
     },
     "execution_count": 14,
     "metadata": {},
     "output_type": "execute_result"
    }
   ],
   "source": [
    "y_test.shape"
   ]
  },
  {
   "cell_type": "code",
   "execution_count": 15,
   "id": "761d2e36",
   "metadata": {
    "scrolled": true
   },
   "outputs": [
    {
     "data": {
      "text/plain": [
       "205"
      ]
     },
     "execution_count": 15,
     "metadata": {},
     "output_type": "execute_result"
    }
   ],
   "source": [
    "len(y_test_simple)"
   ]
  },
  {
   "cell_type": "code",
   "execution_count": null,
   "id": "43fa31a9",
   "metadata": {
    "scrolled": true
   },
   "outputs": [],
   "source": [
    "#X_train"
   ]
  },
  {
   "cell_type": "markdown",
   "id": "40262e91",
   "metadata": {},
   "source": [
    "# Create model"
   ]
  },
  {
   "cell_type": "code",
   "execution_count": 16,
   "id": "efdd863b",
   "metadata": {},
   "outputs": [],
   "source": [
    "model = Sequential()\n",
    "#model.add(LSTM(units=72, activation='tanh', input_shape= (19, 1), return_sequences=True))\n",
    "model.add(LSTM(units=18, activation='tanh', input_shape= (19, 1)))\n",
    "#model.add(Dense(units=36, activation=\"tanh\"))\n",
    "#model.add(Dense(units=10, activation=\"tanh\"))\n",
    "model.add(Dense(units=1, activation=\"linear\"))"
   ]
  },
  {
   "cell_type": "markdown",
   "id": "8c2b7570",
   "metadata": {},
   "source": [
    "# Fit model\n"
   ]
  },
  {
   "cell_type": "code",
   "execution_count": 17,
   "id": "862bd0ec",
   "metadata": {
    "scrolled": true
   },
   "outputs": [
    {
     "name": "stdout",
     "output_type": "stream",
     "text": [
      "Epoch 1/200\n",
      "46/46 [==============================] - 2s 16ms/step - loss: 0.0486 - mae: 0.1605 - mape: 65134.8906 - val_loss: 0.3393 - val_mae: 0.5252 - val_mape: 47.9888\n",
      "Epoch 2/200\n",
      "46/46 [==============================] - 0s 8ms/step - loss: 0.0080 - mae: 0.0669 - mape: 101940.4375 - val_loss: 0.2495 - val_mae: 0.4443 - val_mape: 40.0438\n",
      "Epoch 3/200\n",
      "46/46 [==============================] - 0s 8ms/step - loss: 0.0068 - mae: 0.0615 - mape: 79329.5156 - val_loss: 0.2037 - val_mae: 0.4005 - val_mape: 36.0942\n",
      "Epoch 4/200\n",
      "46/46 [==============================] - 0s 8ms/step - loss: 0.0060 - mae: 0.0582 - mape: 55153.2422 - val_loss: 0.1558 - val_mae: 0.3468 - val_mape: 31.1349\n",
      "Epoch 5/200\n",
      "46/46 [==============================] - 0s 8ms/step - loss: 0.0054 - mae: 0.0549 - mape: 49894.2734 - val_loss: 0.1427 - val_mae: 0.3339 - val_mape: 30.1448\n",
      "Epoch 6/200\n",
      "46/46 [==============================] - 0s 8ms/step - loss: 0.0050 - mae: 0.0523 - mape: 25605.7695 - val_loss: 0.1123 - val_mae: 0.2940 - val_mape: 26.4755\n",
      "Epoch 7/200\n",
      "46/46 [==============================] - 0s 8ms/step - loss: 0.0046 - mae: 0.0500 - mape: 28867.9434 - val_loss: 0.0858 - val_mae: 0.2550 - val_mape: 22.9416\n",
      "Epoch 8/200\n",
      "46/46 [==============================] - 0s 8ms/step - loss: 0.0043 - mae: 0.0483 - mape: 11947.2139 - val_loss: 0.0843 - val_mae: 0.2557 - val_mape: 23.2473\n",
      "Epoch 9/200\n",
      "46/46 [==============================] - 0s 10ms/step - loss: 0.0040 - mae: 0.0462 - mape: 10876.0713 - val_loss: 0.0624 - val_mae: 0.2174 - val_mape: 19.7077\n",
      "Epoch 10/200\n",
      "46/46 [==============================] - 1s 14ms/step - loss: 0.0038 - mae: 0.0453 - mape: 16531.0859 - val_loss: 0.0490 - val_mae: 0.1917 - val_mape: 17.4220\n",
      "Epoch 11/200\n",
      "46/46 [==============================] - 1s 16ms/step - loss: 0.0036 - mae: 0.0438 - mape: 2532.3765 - val_loss: 0.0399 - val_mae: 0.1719 - val_mape: 15.6648\n",
      "Epoch 12/200\n",
      "46/46 [==============================] - 1s 15ms/step - loss: 0.0034 - mae: 0.0426 - mape: 4261.4746 - val_loss: 0.0348 - val_mae: 0.1609 - val_mape: 14.7545\n",
      "Epoch 13/200\n",
      "46/46 [==============================] - 1s 15ms/step - loss: 0.0032 - mae: 0.0416 - mape: 728.1943 - val_loss: 0.0297 - val_mae: 0.1487 - val_mape: 13.7323\n",
      "Epoch 14/200\n",
      "46/46 [==============================] - 1s 15ms/step - loss: 0.0031 - mae: 0.0410 - mape: 3650.3157 - val_loss: 0.0244 - val_mae: 0.1338 - val_mape: 12.3875\n",
      "Epoch 15/200\n",
      "46/46 [==============================] - 1s 18ms/step - loss: 0.0030 - mae: 0.0401 - mape: 11987.5576 - val_loss: 0.0179 - val_mae: 0.1132 - val_mape: 10.5712\n",
      "Epoch 16/200\n",
      "46/46 [==============================] - 1s 18ms/step - loss: 0.0029 - mae: 0.0398 - mape: 7227.6631 - val_loss: 0.0138 - val_mae: 0.0973 - val_mape: 9.1476\n",
      "Epoch 17/200\n",
      "46/46 [==============================] - 1s 19ms/step - loss: 0.0029 - mae: 0.0393 - mape: 6042.9839 - val_loss: 0.0132 - val_mae: 0.0958 - val_mape: 9.0499\n",
      "Epoch 18/200\n",
      "46/46 [==============================] - 1s 19ms/step - loss: 0.0028 - mae: 0.0388 - mape: 12170.7852 - val_loss: 0.0118 - val_mae: 0.0907 - val_mape: 8.6455\n",
      "Epoch 19/200\n",
      "46/46 [==============================] - 1s 16ms/step - loss: 0.0027 - mae: 0.0383 - mape: 6331.9341 - val_loss: 0.0107 - val_mae: 0.0865 - val_mape: 8.2876\n",
      "Epoch 20/200\n",
      "46/46 [==============================] - 1s 16ms/step - loss: 0.0027 - mae: 0.0380 - mape: 12256.5029 - val_loss: 0.0135 - val_mae: 0.0998 - val_mape: 9.5928\n",
      "Epoch 21/200\n",
      "46/46 [==============================] - 1s 17ms/step - loss: 0.0026 - mae: 0.0375 - mape: 7842.3770 - val_loss: 0.0108 - val_mae: 0.0879 - val_mape: 8.4999\n",
      "Epoch 22/200\n",
      "46/46 [==============================] - 1s 16ms/step - loss: 0.0026 - mae: 0.0372 - mape: 16369.4854 - val_loss: 0.0072 - val_mae: 0.0691 - val_mape: 6.7082\n",
      "Epoch 23/200\n",
      "46/46 [==============================] - 1s 15ms/step - loss: 0.0025 - mae: 0.0368 - mape: 18318.5488 - val_loss: 0.0074 - val_mae: 0.0710 - val_mape: 6.9040\n",
      "Epoch 24/200\n",
      "46/46 [==============================] - 1s 15ms/step - loss: 0.0024 - mae: 0.0360 - mape: 17161.9883 - val_loss: 0.0049 - val_mae: 0.0562 - val_mape: 5.5960\n",
      "Epoch 25/200\n",
      "46/46 [==============================] - 1s 15ms/step - loss: 0.0024 - mae: 0.0360 - mape: 16763.0605 - val_loss: 0.0069 - val_mae: 0.0687 - val_mape: 6.7332\n",
      "Epoch 26/200\n",
      "46/46 [==============================] - 1s 16ms/step - loss: 0.0024 - mae: 0.0358 - mape: 15647.5215 - val_loss: 0.0071 - val_mae: 0.0696 - val_mape: 6.7962\n",
      "Epoch 27/200\n",
      "46/46 [==============================] - 1s 16ms/step - loss: 0.0023 - mae: 0.0354 - mape: 10857.9092 - val_loss: 0.0063 - val_mae: 0.0653 - val_mape: 6.4069\n",
      "Epoch 28/200\n",
      "46/46 [==============================] - 1s 16ms/step - loss: 0.0023 - mae: 0.0353 - mape: 16897.7363 - val_loss: 0.0039 - val_mae: 0.0502 - val_mape: 5.0654\n",
      "Epoch 29/200\n",
      "46/46 [==============================] - 1s 16ms/step - loss: 0.0022 - mae: 0.0349 - mape: 12982.3936 - val_loss: 0.0112 - val_mae: 0.0919 - val_mape: 9.0192\n",
      "Epoch 30/200\n",
      "46/46 [==============================] - 1s 19ms/step - loss: 0.0022 - mae: 0.0348 - mape: 24362.6777 - val_loss: 0.0065 - val_mae: 0.0666 - val_mape: 6.5100\n",
      "Epoch 31/200\n",
      "46/46 [==============================] - 1s 18ms/step - loss: 0.0022 - mae: 0.0342 - mape: 23770.2539 - val_loss: 0.0056 - val_mae: 0.0616 - val_mape: 6.0599\n",
      "Epoch 32/200\n",
      "46/46 [==============================] - 1s 18ms/step - loss: 0.0022 - mae: 0.0345 - mape: 2941.7261 - val_loss: 0.0078 - val_mae: 0.0742 - val_mape: 7.2301\n",
      "Epoch 33/200\n",
      "46/46 [==============================] - 1s 17ms/step - loss: 0.0021 - mae: 0.0337 - mape: 18760.1309 - val_loss: 0.0088 - val_mae: 0.0799 - val_mape: 7.7940\n",
      "Epoch 34/200\n",
      "46/46 [==============================] - 1s 16ms/step - loss: 0.0021 - mae: 0.0332 - mape: 26171.7578 - val_loss: 0.0087 - val_mae: 0.0801 - val_mape: 7.8783\n",
      "Epoch 35/200\n",
      "46/46 [==============================] - 1s 17ms/step - loss: 0.0021 - mae: 0.0331 - mape: 25903.3203 - val_loss: 0.0055 - val_mae: 0.0612 - val_mape: 6.0430\n",
      "Epoch 36/200\n",
      "46/46 [==============================] - 1s 16ms/step - loss: 0.0020 - mae: 0.0330 - mape: 14513.3262 - val_loss: 0.0066 - val_mae: 0.0676 - val_mape: 6.5686\n",
      "Epoch 37/200\n",
      "46/46 [==============================] - 1s 16ms/step - loss: 0.0020 - mae: 0.0329 - mape: 18970.1484 - val_loss: 0.0046 - val_mae: 0.0553 - val_mape: 5.4741\n",
      "Epoch 38/200\n",
      "46/46 [==============================] - 1s 16ms/step - loss: 0.0020 - mae: 0.0322 - mape: 12829.1484 - val_loss: 0.0036 - val_mae: 0.0486 - val_mape: 4.8803\n",
      "Epoch 39/200\n",
      "46/46 [==============================] - 1s 16ms/step - loss: 0.0020 - mae: 0.0322 - mape: 21347.0059 - val_loss: 0.0036 - val_mae: 0.0487 - val_mape: 4.8943\n",
      "Epoch 40/200\n",
      "46/46 [==============================] - 1s 16ms/step - loss: 0.0019 - mae: 0.0319 - mape: 26434.5449 - val_loss: 0.0037 - val_mae: 0.0490 - val_mape: 4.9071\n",
      "Epoch 41/200\n",
      "46/46 [==============================] - 1s 16ms/step - loss: 0.0019 - mae: 0.0317 - mape: 44934.3359 - val_loss: 0.0072 - val_mae: 0.0720 - val_mape: 7.0688\n",
      "Epoch 42/200\n",
      "46/46 [==============================] - 1s 16ms/step - loss: 0.0019 - mae: 0.0310 - mape: 36091.2188 - val_loss: 0.0045 - val_mae: 0.0548 - val_mape: 5.4086\n",
      "Epoch 43/200\n",
      "46/46 [==============================] - 1s 16ms/step - loss: 0.0019 - mae: 0.0312 - mape: 15789.3633 - val_loss: 0.0058 - val_mae: 0.0636 - val_mape: 6.2333\n",
      "Epoch 44/200\n",
      "46/46 [==============================] - 1s 16ms/step - loss: 0.0018 - mae: 0.0310 - mape: 40782.5234 - val_loss: 0.0037 - val_mae: 0.0493 - val_mape: 4.9169\n",
      "Epoch 45/200\n",
      "46/46 [==============================] - 1s 16ms/step - loss: 0.0018 - mae: 0.0310 - mape: 15785.6133 - val_loss: 0.0046 - val_mae: 0.0549 - val_mape: 5.3740\n",
      "Epoch 46/200\n",
      "46/46 [==============================] - 1s 16ms/step - loss: 0.0018 - mae: 0.0306 - mape: 42840.0234 - val_loss: 0.0065 - val_mae: 0.0678 - val_mape: 6.5524\n",
      "Epoch 47/200\n",
      "46/46 [==============================] - 1s 16ms/step - loss: 0.0017 - mae: 0.0299 - mape: 33800.4727 - val_loss: 0.0055 - val_mae: 0.0614 - val_mape: 6.0082\n",
      "Epoch 48/200\n",
      "46/46 [==============================] - 1s 16ms/step - loss: 0.0018 - mae: 0.0305 - mape: 54559.4023 - val_loss: 0.0046 - val_mae: 0.0553 - val_mape: 5.4071\n"
     ]
    },
    {
     "name": "stdout",
     "output_type": "stream",
     "text": [
      "Epoch 49/200\n",
      "46/46 [==============================] - 1s 15ms/step - loss: 0.0017 - mae: 0.0300 - mape: 32200.0684 - val_loss: 0.0059 - val_mae: 0.0640 - val_mape: 6.2131\n",
      "Epoch 50/200\n",
      "46/46 [==============================] - 1s 15ms/step - loss: 0.0017 - mae: 0.0297 - mape: 36679.9062 - val_loss: 0.0056 - val_mae: 0.0621 - val_mape: 6.0481\n",
      "Epoch 51/200\n",
      "46/46 [==============================] - 1s 15ms/step - loss: 0.0017 - mae: 0.0294 - mape: 42349.5039 - val_loss: 0.0071 - val_mae: 0.0721 - val_mape: 7.0095\n",
      "Epoch 52/200\n",
      "46/46 [==============================] - 1s 17ms/step - loss: 0.0017 - mae: 0.0298 - mape: 37128.9297 - val_loss: 0.0055 - val_mae: 0.0614 - val_mape: 5.9448\n",
      "Epoch 53/200\n",
      "46/46 [==============================] - 1s 16ms/step - loss: 0.0017 - mae: 0.0295 - mape: 46822.5195 - val_loss: 0.0061 - val_mae: 0.0657 - val_mape: 6.3852\n",
      "Epoch 54/200\n",
      "46/46 [==============================] - 1s 17ms/step - loss: 0.0016 - mae: 0.0291 - mape: 29149.3750 - val_loss: 0.0057 - val_mae: 0.0631 - val_mape: 6.1637\n",
      "Epoch 55/200\n",
      "46/46 [==============================] - 1s 18ms/step - loss: 0.0016 - mae: 0.0289 - mape: 42813.8594 - val_loss: 0.0061 - val_mae: 0.0661 - val_mape: 6.4508\n",
      "Epoch 56/200\n",
      "46/46 [==============================] - 1s 21ms/step - loss: 0.0016 - mae: 0.0286 - mape: 51982.8672 - val_loss: 0.0047 - val_mae: 0.0564 - val_mape: 5.5090\n",
      "Epoch 57/200\n",
      "46/46 [==============================] - 1s 18ms/step - loss: 0.0016 - mae: 0.0283 - mape: 26816.3477 - val_loss: 0.0081 - val_mae: 0.0782 - val_mape: 7.6470\n",
      "Epoch 58/200\n",
      "46/46 [==============================] - 1s 16ms/step - loss: 0.0016 - mae: 0.0285 - mape: 24862.1738 - val_loss: 0.0068 - val_mae: 0.0705 - val_mape: 6.8357\n"
     ]
    }
   ],
   "source": [
    "es = EarlyStopping(patience=20, restore_best_weights=True)\n",
    "\n",
    "#try different losses: mae, mape, mse\n",
    "\n",
    "#rmsprop optimizer\n",
    "model.compile(optimizer=\"nadam\", loss=\"mse\", metrics=[\"mae\", \"mape\"])\n",
    "#validation_split=0.2,\n",
    "history_LSTM = model.fit(X_train, y_train, epochs=200, batch_size=16, workers=-1, validation_split=0.2, callbacks=[es])"
   ]
  },
  {
   "cell_type": "code",
   "execution_count": 18,
   "id": "a42ee21d",
   "metadata": {},
   "outputs": [
    {
     "name": "stdout",
     "output_type": "stream",
     "text": [
      "7/7 [==============================] - 0s 3ms/step - loss: 0.1885 - mae: 0.3720 - mape: 17.1189\n"
     ]
    },
    {
     "data": {
      "text/plain": [
       "[0.18847253918647766, 0.3720262050628662, 17.118906021118164]"
      ]
     },
     "execution_count": 18,
     "metadata": {},
     "output_type": "execute_result"
    }
   ],
   "source": [
    "model.evaluate(X_test, y_test)"
   ]
  },
  {
   "cell_type": "code",
   "execution_count": 19,
   "id": "03e6b738",
   "metadata": {},
   "outputs": [
    {
     "data": {
      "text/plain": [
       "[<matplotlib.lines.Line2D at 0x7febc5cae100>]"
      ]
     },
     "execution_count": 19,
     "metadata": {},
     "output_type": "execute_result"
    },
    {
     "data": {
      "image/png": "[encoded data removed]",
      "text/plain": [
       "<Figure size 432x288 with 1 Axes>"
      ]
     },
     "metadata": {
      "needs_background": "light"
     },
     "output_type": "display_data"
    }
   ],
   "source": [
    "plt.plot(history_LSTM.history[\"mae\"])\n",
    "plt.plot(history_LSTM.history[\"val_mae\"])"
   ]
  },
  {
   "cell_type": "markdown",
   "id": "e22606c4",
   "metadata": {},
   "source": [
    "# Test Model"
   ]
  },
  {
   "cell_type": "code",
   "execution_count": 20,
   "id": "e7f7c624",
   "metadata": {},
   "outputs": [
    {
     "name": "stdout",
     "output_type": "stream",
     "text": [
      "Model: \"sequential\"\n",
      "_________________________________________________________________\n",
      "Layer (type)                 Output Shape              Param #   \n",
      "=================================================================\n",
      "lstm (LSTM)                  (None, 18)                1440      \n",
      "_________________________________________________________________\n",
      "dense (Dense)                (None, 1)                 19        \n",
      "=================================================================\n",
      "Total params: 1,459\n",
      "Trainable params: 1,459\n",
      "Non-trainable params: 0\n",
      "_________________________________________________________________\n"
     ]
    }
   ],
   "source": [
    "model.summary()"
   ]
  },
  {
   "cell_type": "code",
   "execution_count": 21,
   "id": "d2667cc9",
   "metadata": {},
   "outputs": [],
   "source": [
    "prediction = model.predict(X_test)"
   ]
  },
  {
   "cell_type": "code",
   "execution_count": 25,
   "id": "1a3ef7bd",
   "metadata": {},
   "outputs": [
    {
     "data": {
      "text/plain": [
       "(205, 19, 1)"
      ]
     },
     "execution_count": 25,
     "metadata": {},
     "output_type": "execute_result"
    }
   ],
   "source": [
    "X_test.shape"
   ]
  },
  {
   "cell_type": "code",
   "execution_count": 24,
   "id": "cf994586",
   "metadata": {},
   "outputs": [
    {
     "data": {
      "text/plain": [
       "array([[[1.2438334],\n",
       "        [1.211424 ],\n",
       "        [1.2164874],\n",
       "        ...,\n",
       "        [1.1836183],\n",
       "        [1.1702647],\n",
       "        [1.1990256]],\n",
       "\n",
       "       [[1.2544931],\n",
       "        [1.2442216],\n",
       "        [1.2534659],\n",
       "        ...,\n",
       "        [1.2606565],\n",
       "        [1.3407758],\n",
       "        [1.3479656]],\n",
       "\n",
       "       [[1.2370316],\n",
       "        [1.2298403],\n",
       "        [1.2853084],\n",
       "        ...,\n",
       "        [1.395216 ],\n",
       "        [1.3715905],\n",
       "        [1.3931608]],\n",
       "\n",
       "       ...,\n",
       "\n",
       "       [[2.1644228],\n",
       "        [2.1237152],\n",
       "        [2.0482852],\n",
       "        ...,\n",
       "        [2.0830579],\n",
       "        [2.0806296],\n",
       "        [2.141346 ]],\n",
       "\n",
       "       [[1.9668696],\n",
       "        [1.9920131],\n",
       "        [2.0710342],\n",
       "        ...,\n",
       "        [2.0891297],\n",
       "        [2.0417707],\n",
       "        [2.0235558]],\n",
       "\n",
       "       [[2.0159588],\n",
       "        [2.0482852],\n",
       "        [2.1093473],\n",
       "        ...,\n",
       "        [2.0636287],\n",
       "        [2.0879157],\n",
       "        [1.8329057]]], dtype=float32)"
      ]
     },
     "execution_count": 24,
     "metadata": {},
     "output_type": "execute_result"
    }
   ],
   "source": [
    "X_test"
   ]
  },
  {
   "cell_type": "code",
   "execution_count": 23,
   "id": "36353dd0",
   "metadata": {
    "scrolled": true
   },
   "outputs": [
    {
     "data": {
      "text/plain": [
       "array([[1.1502556],\n",
       "       [1.2105246],\n",
       "       [1.2764347],\n",
       "       [1.281037 ],\n",
       "       [1.2448518],\n",
       "       [1.2546166],\n",
       "       [1.2471632],\n",
       "       [1.1628373],\n",
       "       [1.1422483],\n",
       "       [1.1656203],\n",
       "       [1.1378374],\n",
       "       [1.1401428],\n",
       "       [1.1590441],\n",
       "       [1.1700495],\n",
       "       [1.1638671],\n",
       "       [1.2417574],\n",
       "       [1.3051734],\n",
       "       [1.2541842],\n",
       "       [1.2434274],\n",
       "       [1.2916791],\n",
       "       [1.3207324],\n",
       "       [1.3160876],\n",
       "       [1.3277339],\n",
       "       [1.3230639],\n",
       "       [1.3190665],\n",
       "       [1.3561329],\n",
       "       [1.4023327],\n",
       "       [1.3926244],\n",
       "       [1.3632824],\n",
       "       [1.3712883],\n",
       "       [1.3539052],\n",
       "       [1.3272648],\n",
       "       [1.3496706],\n",
       "       [1.3343872],\n",
       "       [1.3204659],\n",
       "       [1.3214062],\n",
       "       [1.2188495],\n",
       "       [1.2284222],\n",
       "       [1.2057916],\n",
       "       [1.2059344],\n",
       "       [1.2067987],\n",
       "       [1.1763195],\n",
       "       [1.1497201],\n",
       "       [1.1993849],\n",
       "       [1.2634946],\n",
       "       [1.2862898],\n",
       "       [1.3109394],\n",
       "       [1.3083534],\n",
       "       [1.3037726],\n",
       "       [1.2924379],\n",
       "       [1.2536288],\n",
       "       [1.2679989],\n",
       "       [1.2964152],\n",
       "       [1.309981 ],\n",
       "       [1.3255146],\n",
       "       [1.308506 ],\n",
       "       [1.3330468],\n",
       "       [1.3588551],\n",
       "       [1.3912933],\n",
       "       [1.3806078],\n",
       "       [1.362843 ],\n",
       "       [1.382901 ],\n",
       "       [1.4211445],\n",
       "       [1.4771818],\n",
       "       [1.5269182],\n",
       "       [1.5510092],\n",
       "       [1.5468197],\n",
       "       [1.5567476],\n",
       "       [1.5742294],\n",
       "       [1.6070205],\n",
       "       [1.6286336],\n",
       "       [1.648703 ],\n",
       "       [1.6635697],\n",
       "       [1.6757408],\n",
       "       [1.6857522],\n",
       "       [1.6828078],\n",
       "       [1.6749784],\n",
       "       [1.6840364],\n",
       "       [1.6638023],\n",
       "       [1.6848063],\n",
       "       [1.6926131],\n",
       "       [1.707025 ],\n",
       "       [1.7017404],\n",
       "       [1.6794616],\n",
       "       [1.692239 ],\n",
       "       [1.7013966],\n",
       "       [1.7344882],\n",
       "       [1.7525111],\n",
       "       [1.7748628],\n",
       "       [1.8035101],\n",
       "       [1.8405129],\n",
       "       [1.8485997],\n",
       "       [1.8514057],\n",
       "       [1.8532008],\n",
       "       [1.8532171],\n",
       "       [1.860808 ],\n",
       "       [1.8633493],\n",
       "       [1.8667922],\n",
       "       [1.8425719],\n",
       "       [1.8076254],\n",
       "       [1.7981313],\n",
       "       [1.798414 ],\n",
       "       [1.7877382],\n",
       "       [1.7737302],\n",
       "       [1.777555 ],\n",
       "       [1.7991347],\n",
       "       [1.7860327],\n",
       "       [1.752161 ],\n",
       "       [1.7509468],\n",
       "       [1.7477766],\n",
       "       [1.6644207],\n",
       "       [1.6321577],\n",
       "       [1.6249436],\n",
       "       [1.6326926],\n",
       "       [1.6405644],\n",
       "       [1.6909578],\n",
       "       [1.7360737],\n",
       "       [1.7347785],\n",
       "       [1.7842156],\n",
       "       [1.8188946],\n",
       "       [1.8489515],\n",
       "       [1.8617072],\n",
       "       [1.8673342],\n",
       "       [1.8392789],\n",
       "       [1.8322827],\n",
       "       [1.8432821],\n",
       "       [1.8520684],\n",
       "       [1.8505383],\n",
       "       [1.8406925],\n",
       "       [1.8322581],\n",
       "       [1.8438295],\n",
       "       [1.8560237],\n",
       "       [1.8604028],\n",
       "       [1.8605349],\n",
       "       [1.8694803],\n",
       "       [1.8677232],\n",
       "       [1.8540683],\n",
       "       [1.8505685],\n",
       "       [1.8435   ],\n",
       "       [1.8319389],\n",
       "       [1.8256351],\n",
       "       [1.819133 ],\n",
       "       [1.7987517],\n",
       "       [1.7651336],\n",
       "       [1.7563224],\n",
       "       [1.7396033],\n",
       "       [1.7439635],\n",
       "       [1.7501969],\n",
       "       [1.7649065],\n",
       "       [1.7680315],\n",
       "       [1.7700016],\n",
       "       [1.757459 ],\n",
       "       [1.7380718],\n",
       "       [1.7341708],\n",
       "       [1.7135596],\n",
       "       [1.6899151],\n",
       "       [1.682047 ],\n",
       "       [1.7259986],\n",
       "       [1.7755235],\n",
       "       [1.7748468],\n",
       "       [1.769926 ],\n",
       "       [1.7540269],\n",
       "       [1.7492082],\n",
       "       [1.749797 ],\n",
       "       [1.7255929],\n",
       "       [1.6716604],\n",
       "       [1.6983517],\n",
       "       [1.7539746],\n",
       "       [1.783466 ],\n",
       "       [1.8029188],\n",
       "       [1.7998571],\n",
       "       [1.7281569],\n",
       "       [1.6853083],\n",
       "       [1.6062945],\n",
       "       [1.5604488],\n",
       "       [1.5215663],\n",
       "       [1.560425 ],\n",
       "       [1.581558 ],\n",
       "       [1.6075253],\n",
       "       [1.6635512],\n",
       "       [1.7036241],\n",
       "       [1.72758  ],\n",
       "       [1.7699635],\n",
       "       [1.7948344],\n",
       "       [1.8103968],\n",
       "       [1.787787 ],\n",
       "       [1.7631159],\n",
       "       [1.7530372],\n",
       "       [1.7642362],\n",
       "       [1.7717935],\n",
       "       [1.7850412],\n",
       "       [1.7365905],\n",
       "       [1.7360268],\n",
       "       [1.7376727],\n",
       "       [1.7445909],\n",
       "       [1.7370145],\n",
       "       [1.7545503],\n",
       "       [1.7586385],\n",
       "       [1.7227399],\n",
       "       [1.673637 ],\n",
       "       [1.6811786],\n",
       "       [1.699684 ],\n",
       "       [1.7007246],\n",
       "       [1.6873348],\n",
       "       [1.662974 ]], dtype=float32)"
      ]
     },
     "execution_count": 23,
     "metadata": {},
     "output_type": "execute_result"
    }
   ],
   "source": [
    "prediction"
   ]
  },
  {
   "cell_type": "markdown",
   "id": "60cf4023",
   "metadata": {},
   "source": [
    "# Visualizing Model"
   ]
  },
  {
   "cell_type": "code",
   "execution_count": null,
   "id": "c1d45b5b",
   "metadata": {},
   "outputs": [],
   "source": [
    "y_test_back = scaler.inverse_transform(y_test.reshape(-1, 1))\n",
    "prediction_back = scaler.inverse_transform(prediction.reshape(-1, 1))"
   ]
  },
  {
   "cell_type": "code",
   "execution_count": null,
   "id": "d130a9e5",
   "metadata": {},
   "outputs": [],
   "source": [
    "plt.scatter(range(len(y_test_back)), y_test_simple,  color=\"black\", label=f\"Actual {company} Price\")\n",
    "plt.scatter(range(len(y_test_back)),prediction_back, color=\"green\", label=f\"Predicted {company} Price\")\n",
    "plt.xlabel(\"\")\n",
    "plt.ylabel(f\"{company} Share Price\")\n",
    "plt.title(f\"{company} Share Price\")\n",
    "plt.legend()\n",
    "plt.show()"
   ]
  },
  {
   "cell_type": "code",
   "execution_count": null,
   "id": "59e43a12",
   "metadata": {},
   "outputs": [],
   "source": [
    "plt.plot(y_test_simple,  color=\"black\", label=f\"Actual {company} Price\")\n",
    "plt.plot(prediction_back, color=\"green\", label=f\"Predicted {company} Price\")\n",
    "plt.xlabel(\"\")\n",
    "plt.ylabel(f\"{company} Share Price\")\n",
    "plt.title(f\"{company} Share Price\")\n",
    "plt.legend()\n",
    "plt.show()"
   ]
  },
  {
   "cell_type": "code",
   "execution_count": null,
   "id": "e1641134",
   "metadata": {},
   "outputs": [],
   "source": [
    "mape = mean_absolute_percentage_error(y_test_back, prediction_back)\n",
    "np.mean(mape)"
   ]
  },
  {
   "cell_type": "code",
   "execution_count": null,
   "id": "c3ff14ca",
   "metadata": {},
   "outputs": [],
   "source": [
    "mape2 = mean_absolute_percentage_error(y_test_back, y_test_simple)\n",
    "np.mean(mape2)"
   ]
  },
  {
   "cell_type": "code",
   "execution_count": null,
   "id": "77ddbfb5",
   "metadata": {},
   "outputs": [],
   "source": []
  }
 ],
 "metadata": {
  "kernelspec": {
   "display_name": "Python 3",
   "language": "python",
   "name": "python3"
  },
  "language_info": {
   "codemirror_mode": {
    "name": "ipython",
    "version": 3
   },
   "file_extension": ".py",
   "mimetype": "text/x-python",
   "name": "python",
   "nbconvert_exporter": "python",
   "pygments_lexer": "ipython3",
   "version": "3.8.6"
  },
  "toc": {
   "base_numbering": 1,
   "nav_menu": {},
   "number_sections": true,
   "sideBar": true,
   "skip_h1_title": false,
   "title_cell": "Table of Contents",
   "title_sidebar": "Contents",
   "toc_cell": false,
   "toc_position": {},
   "toc_section_display": true,
   "toc_window_display": true
  }
 },
 "nbformat": 4,
 "nbformat_minor": 5
}
