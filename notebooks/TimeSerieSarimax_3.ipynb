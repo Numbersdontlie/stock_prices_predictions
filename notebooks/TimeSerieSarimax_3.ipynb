{
 "cells": [
  {
   "cell_type": "markdown",
   "id": "8667718e",
   "metadata": {},
   "source": [
    "## Import libraries and data"
   ]
  },
  {
   "cell_type": "code",
   "execution_count": 39,
   "id": "77944c46",
   "metadata": {},
   "outputs": [],
   "source": [
    "import os \n",
    "import pandas as pd\n",
    "import matplotlib.pyplot as plt\n",
    "import numpy as np\n",
    "import seaborn as sns\n",
    "import statsmodels\n",
    "from statsmodels.tsa.seasonal import seasonal_decompose\n",
    "from statsmodels.tsa.statespace.sarimax import SARIMAX\n",
    "from statsmodels.tsa.stattools import adfuller\n",
    "from statsmodels.graphics.tsaplots import plot_acf, plot_pacf\n",
    "from sklearn.metrics import r2_score\n",
    "import pmdarima as pm\n",
    "import math"
   ]
  },
  {
   "cell_type": "markdown",
   "id": "3ffab6ef",
   "metadata": {},
   "source": [
    "### Import data"
   ]
  },
  {
   "cell_type": "code",
   "execution_count": 3,
   "id": "e9f1e010",
   "metadata": {},
   "outputs": [],
   "source": [
    "cwd = os.getcwd()\n",
    "simp_path = 'raw_data/df.csv'\n",
    "abs_path = os.path.abspath(os.path.join(cwd,'..',simp_path))\n",
    "df_sarimax = pd.read_csv(abs_path)"
   ]
  },
  {
   "cell_type": "code",
   "execution_count": 4,
   "id": "d26d6a86",
   "metadata": {},
   "outputs": [
    {
     "data": {
      "text/html": [
       "<div>\n",
       "<style scoped>\n",
       "    .dataframe tbody tr th:only-of-type {\n",
       "        vertical-align: middle;\n",
       "    }\n",
       "\n",
       "    .dataframe tbody tr th {\n",
       "        vertical-align: top;\n",
       "    }\n",
       "\n",
       "    .dataframe thead th {\n",
       "        text-align: right;\n",
       "    }\n",
       "</style>\n",
       "<table border=\"1\" class=\"dataframe\">\n",
       "  <thead>\n",
       "    <tr style=\"text-align: right;\">\n",
       "      <th></th>\n",
       "      <th>ticker</th>\n",
       "      <th>open</th>\n",
       "      <th>close</th>\n",
       "      <th>adj_close</th>\n",
       "      <th>low</th>\n",
       "      <th>high</th>\n",
       "      <th>volume</th>\n",
       "      <th>date</th>\n",
       "      <th>sector</th>\n",
       "    </tr>\n",
       "  </thead>\n",
       "  <tbody>\n",
       "    <tr>\n",
       "      <th>0</th>\n",
       "      <td>AAPL</td>\n",
       "      <td>0.513393</td>\n",
       "      <td>0.513393</td>\n",
       "      <td>0.023186</td>\n",
       "      <td>0.513393</td>\n",
       "      <td>0.515625</td>\n",
       "      <td>117258400</td>\n",
       "      <td>1980-12-12</td>\n",
       "      <td>TECHNOLOGY</td>\n",
       "    </tr>\n",
       "    <tr>\n",
       "      <th>1</th>\n",
       "      <td>AAPL</td>\n",
       "      <td>0.488839</td>\n",
       "      <td>0.486607</td>\n",
       "      <td>0.021977</td>\n",
       "      <td>0.486607</td>\n",
       "      <td>0.488839</td>\n",
       "      <td>43971200</td>\n",
       "      <td>1980-12-15</td>\n",
       "      <td>TECHNOLOGY</td>\n",
       "    </tr>\n",
       "    <tr>\n",
       "      <th>2</th>\n",
       "      <td>AAPL</td>\n",
       "      <td>0.453125</td>\n",
       "      <td>0.450893</td>\n",
       "      <td>0.020364</td>\n",
       "      <td>0.450893</td>\n",
       "      <td>0.453125</td>\n",
       "      <td>26432000</td>\n",
       "      <td>1980-12-16</td>\n",
       "      <td>TECHNOLOGY</td>\n",
       "    </tr>\n",
       "    <tr>\n",
       "      <th>3</th>\n",
       "      <td>AAPL</td>\n",
       "      <td>0.462054</td>\n",
       "      <td>0.462054</td>\n",
       "      <td>0.020868</td>\n",
       "      <td>0.462054</td>\n",
       "      <td>0.464286</td>\n",
       "      <td>21610400</td>\n",
       "      <td>1980-12-17</td>\n",
       "      <td>TECHNOLOGY</td>\n",
       "    </tr>\n",
       "    <tr>\n",
       "      <th>4</th>\n",
       "      <td>AAPL</td>\n",
       "      <td>0.475446</td>\n",
       "      <td>0.475446</td>\n",
       "      <td>0.021473</td>\n",
       "      <td>0.475446</td>\n",
       "      <td>0.477679</td>\n",
       "      <td>18362400</td>\n",
       "      <td>1980-12-18</td>\n",
       "      <td>TECHNOLOGY</td>\n",
       "    </tr>\n",
       "  </tbody>\n",
       "</table>\n",
       "</div>"
      ],
      "text/plain": [
       "  ticker      open     close  adj_close       low      high     volume  \\\n",
       "0   AAPL  0.513393  0.513393   0.023186  0.513393  0.515625  117258400   \n",
       "1   AAPL  0.488839  0.486607   0.021977  0.486607  0.488839   43971200   \n",
       "2   AAPL  0.453125  0.450893   0.020364  0.450893  0.453125   26432000   \n",
       "3   AAPL  0.462054  0.462054   0.020868  0.462054  0.464286   21610400   \n",
       "4   AAPL  0.475446  0.475446   0.021473  0.475446  0.477679   18362400   \n",
       "\n",
       "         date      sector  \n",
       "0  1980-12-12  TECHNOLOGY  \n",
       "1  1980-12-15  TECHNOLOGY  \n",
       "2  1980-12-16  TECHNOLOGY  \n",
       "3  1980-12-17  TECHNOLOGY  \n",
       "4  1980-12-18  TECHNOLOGY  "
      ]
     },
     "execution_count": 4,
     "metadata": {},
     "output_type": "execute_result"
    }
   ],
   "source": [
    "#cheking my dataframe\n",
    "df_sarimax.head()"
   ]
  },
  {
   "cell_type": "markdown",
   "id": "06ade9ca",
   "metadata": {},
   "source": [
    "### Transforming the data into a datetime format"
   ]
  },
  {
   "cell_type": "code",
   "execution_count": 5,
   "id": "fc8b8b26",
   "metadata": {},
   "outputs": [
    {
     "data": {
      "text/html": [
       "<div>\n",
       "<style scoped>\n",
       "    .dataframe tbody tr th:only-of-type {\n",
       "        vertical-align: middle;\n",
       "    }\n",
       "\n",
       "    .dataframe tbody tr th {\n",
       "        vertical-align: top;\n",
       "    }\n",
       "\n",
       "    .dataframe thead th {\n",
       "        text-align: right;\n",
       "    }\n",
       "</style>\n",
       "<table border=\"1\" class=\"dataframe\">\n",
       "  <thead>\n",
       "    <tr style=\"text-align: right;\">\n",
       "      <th></th>\n",
       "      <th>ticker</th>\n",
       "      <th>open</th>\n",
       "      <th>close</th>\n",
       "      <th>adj_close</th>\n",
       "      <th>low</th>\n",
       "      <th>high</th>\n",
       "      <th>volume</th>\n",
       "      <th>date</th>\n",
       "      <th>sector</th>\n",
       "    </tr>\n",
       "  </thead>\n",
       "  <tbody>\n",
       "    <tr>\n",
       "      <th>0</th>\n",
       "      <td>AAPL</td>\n",
       "      <td>0.513393</td>\n",
       "      <td>0.513393</td>\n",
       "      <td>0.023186</td>\n",
       "      <td>0.513393</td>\n",
       "      <td>0.515625</td>\n",
       "      <td>117258400</td>\n",
       "      <td>1980-12-12</td>\n",
       "      <td>TECHNOLOGY</td>\n",
       "    </tr>\n",
       "    <tr>\n",
       "      <th>1</th>\n",
       "      <td>AAPL</td>\n",
       "      <td>0.488839</td>\n",
       "      <td>0.486607</td>\n",
       "      <td>0.021977</td>\n",
       "      <td>0.486607</td>\n",
       "      <td>0.488839</td>\n",
       "      <td>43971200</td>\n",
       "      <td>1980-12-15</td>\n",
       "      <td>TECHNOLOGY</td>\n",
       "    </tr>\n",
       "    <tr>\n",
       "      <th>2</th>\n",
       "      <td>AAPL</td>\n",
       "      <td>0.453125</td>\n",
       "      <td>0.450893</td>\n",
       "      <td>0.020364</td>\n",
       "      <td>0.450893</td>\n",
       "      <td>0.453125</td>\n",
       "      <td>26432000</td>\n",
       "      <td>1980-12-16</td>\n",
       "      <td>TECHNOLOGY</td>\n",
       "    </tr>\n",
       "    <tr>\n",
       "      <th>3</th>\n",
       "      <td>AAPL</td>\n",
       "      <td>0.462054</td>\n",
       "      <td>0.462054</td>\n",
       "      <td>0.020868</td>\n",
       "      <td>0.462054</td>\n",
       "      <td>0.464286</td>\n",
       "      <td>21610400</td>\n",
       "      <td>1980-12-17</td>\n",
       "      <td>TECHNOLOGY</td>\n",
       "    </tr>\n",
       "    <tr>\n",
       "      <th>4</th>\n",
       "      <td>AAPL</td>\n",
       "      <td>0.475446</td>\n",
       "      <td>0.475446</td>\n",
       "      <td>0.021473</td>\n",
       "      <td>0.475446</td>\n",
       "      <td>0.477679</td>\n",
       "      <td>18362400</td>\n",
       "      <td>1980-12-18</td>\n",
       "      <td>TECHNOLOGY</td>\n",
       "    </tr>\n",
       "  </tbody>\n",
       "</table>\n",
       "</div>"
      ],
      "text/plain": [
       "  ticker      open     close  adj_close       low      high     volume  \\\n",
       "0   AAPL  0.513393  0.513393   0.023186  0.513393  0.515625  117258400   \n",
       "1   AAPL  0.488839  0.486607   0.021977  0.486607  0.488839   43971200   \n",
       "2   AAPL  0.453125  0.450893   0.020364  0.450893  0.453125   26432000   \n",
       "3   AAPL  0.462054  0.462054   0.020868  0.462054  0.464286   21610400   \n",
       "4   AAPL  0.475446  0.475446   0.021473  0.475446  0.477679   18362400   \n",
       "\n",
       "        date      sector  \n",
       "0 1980-12-12  TECHNOLOGY  \n",
       "1 1980-12-15  TECHNOLOGY  \n",
       "2 1980-12-16  TECHNOLOGY  \n",
       "3 1980-12-17  TECHNOLOGY  \n",
       "4 1980-12-18  TECHNOLOGY  "
      ]
     },
     "execution_count": 5,
     "metadata": {},
     "output_type": "execute_result"
    }
   ],
   "source": [
    "# Transforming the data into a datetime format\n",
    "df_sarimax[\"date\"] = pd.to_datetime(df_sarimax[\"date\"], infer_datetime_format=True)\n",
    "df_sarimax.head()"
   ]
  },
  {
   "cell_type": "markdown",
   "id": "1ef5edb3",
   "metadata": {},
   "source": [
    "### Setting a new data index for my dataframe"
   ]
  },
  {
   "cell_type": "code",
   "execution_count": 6,
   "id": "6bb29547",
   "metadata": {},
   "outputs": [
    {
     "data": {
      "text/html": [
       "<div>\n",
       "<style scoped>\n",
       "    .dataframe tbody tr th:only-of-type {\n",
       "        vertical-align: middle;\n",
       "    }\n",
       "\n",
       "    .dataframe tbody tr th {\n",
       "        vertical-align: top;\n",
       "    }\n",
       "\n",
       "    .dataframe thead th {\n",
       "        text-align: right;\n",
       "    }\n",
       "</style>\n",
       "<table border=\"1\" class=\"dataframe\">\n",
       "  <thead>\n",
       "    <tr style=\"text-align: right;\">\n",
       "      <th></th>\n",
       "      <th>ticker</th>\n",
       "      <th>open</th>\n",
       "      <th>close</th>\n",
       "      <th>adj_close</th>\n",
       "      <th>low</th>\n",
       "      <th>high</th>\n",
       "      <th>volume</th>\n",
       "      <th>sector</th>\n",
       "    </tr>\n",
       "    <tr>\n",
       "      <th>date</th>\n",
       "      <th></th>\n",
       "      <th></th>\n",
       "      <th></th>\n",
       "      <th></th>\n",
       "      <th></th>\n",
       "      <th></th>\n",
       "      <th></th>\n",
       "      <th></th>\n",
       "    </tr>\n",
       "  </thead>\n",
       "  <tbody>\n",
       "    <tr>\n",
       "      <th>1980-12-12</th>\n",
       "      <td>AAPL</td>\n",
       "      <td>0.513393</td>\n",
       "      <td>0.513393</td>\n",
       "      <td>0.023186</td>\n",
       "      <td>0.513393</td>\n",
       "      <td>0.515625</td>\n",
       "      <td>117258400</td>\n",
       "      <td>TECHNOLOGY</td>\n",
       "    </tr>\n",
       "    <tr>\n",
       "      <th>1980-12-15</th>\n",
       "      <td>AAPL</td>\n",
       "      <td>0.488839</td>\n",
       "      <td>0.486607</td>\n",
       "      <td>0.021977</td>\n",
       "      <td>0.486607</td>\n",
       "      <td>0.488839</td>\n",
       "      <td>43971200</td>\n",
       "      <td>TECHNOLOGY</td>\n",
       "    </tr>\n",
       "    <tr>\n",
       "      <th>1980-12-16</th>\n",
       "      <td>AAPL</td>\n",
       "      <td>0.453125</td>\n",
       "      <td>0.450893</td>\n",
       "      <td>0.020364</td>\n",
       "      <td>0.450893</td>\n",
       "      <td>0.453125</td>\n",
       "      <td>26432000</td>\n",
       "      <td>TECHNOLOGY</td>\n",
       "    </tr>\n",
       "    <tr>\n",
       "      <th>1980-12-17</th>\n",
       "      <td>AAPL</td>\n",
       "      <td>0.462054</td>\n",
       "      <td>0.462054</td>\n",
       "      <td>0.020868</td>\n",
       "      <td>0.462054</td>\n",
       "      <td>0.464286</td>\n",
       "      <td>21610400</td>\n",
       "      <td>TECHNOLOGY</td>\n",
       "    </tr>\n",
       "    <tr>\n",
       "      <th>1980-12-18</th>\n",
       "      <td>AAPL</td>\n",
       "      <td>0.475446</td>\n",
       "      <td>0.475446</td>\n",
       "      <td>0.021473</td>\n",
       "      <td>0.475446</td>\n",
       "      <td>0.477679</td>\n",
       "      <td>18362400</td>\n",
       "      <td>TECHNOLOGY</td>\n",
       "    </tr>\n",
       "  </tbody>\n",
       "</table>\n",
       "</div>"
      ],
      "text/plain": [
       "           ticker      open     close  adj_close       low      high  \\\n",
       "date                                                                   \n",
       "1980-12-12   AAPL  0.513393  0.513393   0.023186  0.513393  0.515625   \n",
       "1980-12-15   AAPL  0.488839  0.486607   0.021977  0.486607  0.488839   \n",
       "1980-12-16   AAPL  0.453125  0.450893   0.020364  0.450893  0.453125   \n",
       "1980-12-17   AAPL  0.462054  0.462054   0.020868  0.462054  0.464286   \n",
       "1980-12-18   AAPL  0.475446  0.475446   0.021473  0.475446  0.477679   \n",
       "\n",
       "               volume      sector  \n",
       "date                               \n",
       "1980-12-12  117258400  TECHNOLOGY  \n",
       "1980-12-15   43971200  TECHNOLOGY  \n",
       "1980-12-16   26432000  TECHNOLOGY  \n",
       "1980-12-17   21610400  TECHNOLOGY  \n",
       "1980-12-18   18362400  TECHNOLOGY  "
      ]
     },
     "execution_count": 6,
     "metadata": {},
     "output_type": "execute_result"
    }
   ],
   "source": [
    "#Setting a new data index for my dataframe \n",
    "df_sarimax.reset_index()\n",
    "df_sarimax = df_sarimax.set_index(df_sarimax[\"date\"])\n",
    "df_sarimax = df_sarimax.drop(\"date\", axis=1)\n",
    "df_sarimax.head()"
   ]
  },
  {
   "cell_type": "markdown",
   "id": "15681336",
   "metadata": {},
   "source": [
    "## Decomposition of my selected Stock"
   ]
  },
  {
   "cell_type": "markdown",
   "id": "9f8aa930",
   "metadata": {},
   "source": [
    "### Filtering the date after 2000"
   ]
  },
  {
   "cell_type": "code",
   "execution_count": 7,
   "id": "20f9ef0d",
   "metadata": {},
   "outputs": [
    {
     "data": {
      "text/html": [
       "<div>\n",
       "<style scoped>\n",
       "    .dataframe tbody tr th:only-of-type {\n",
       "        vertical-align: middle;\n",
       "    }\n",
       "\n",
       "    .dataframe tbody tr th {\n",
       "        vertical-align: top;\n",
       "    }\n",
       "\n",
       "    .dataframe thead th {\n",
       "        text-align: right;\n",
       "    }\n",
       "</style>\n",
       "<table border=\"1\" class=\"dataframe\">\n",
       "  <thead>\n",
       "    <tr style=\"text-align: right;\">\n",
       "      <th></th>\n",
       "      <th>ticker</th>\n",
       "      <th>open</th>\n",
       "      <th>close</th>\n",
       "      <th>adj_close</th>\n",
       "      <th>low</th>\n",
       "      <th>high</th>\n",
       "      <th>volume</th>\n",
       "      <th>sector</th>\n",
       "    </tr>\n",
       "    <tr>\n",
       "      <th>date</th>\n",
       "      <th></th>\n",
       "      <th></th>\n",
       "      <th></th>\n",
       "      <th></th>\n",
       "      <th></th>\n",
       "      <th></th>\n",
       "      <th></th>\n",
       "      <th></th>\n",
       "    </tr>\n",
       "  </thead>\n",
       "  <tbody>\n",
       "    <tr>\n",
       "      <th>2000-01-03</th>\n",
       "      <td>AAPL</td>\n",
       "      <td>3.745536</td>\n",
       "      <td>3.997768</td>\n",
       "      <td>2.686497</td>\n",
       "      <td>3.631696</td>\n",
       "      <td>4.017857</td>\n",
       "      <td>133949200</td>\n",
       "      <td>TECHNOLOGY</td>\n",
       "    </tr>\n",
       "    <tr>\n",
       "      <th>2000-01-04</th>\n",
       "      <td>AAPL</td>\n",
       "      <td>3.866071</td>\n",
       "      <td>3.660714</td>\n",
       "      <td>2.459998</td>\n",
       "      <td>3.613839</td>\n",
       "      <td>3.950893</td>\n",
       "      <td>128094400</td>\n",
       "      <td>TECHNOLOGY</td>\n",
       "    </tr>\n",
       "    <tr>\n",
       "      <th>2000-01-05</th>\n",
       "      <td>AAPL</td>\n",
       "      <td>3.705357</td>\n",
       "      <td>3.714286</td>\n",
       "      <td>2.495997</td>\n",
       "      <td>3.678571</td>\n",
       "      <td>3.948661</td>\n",
       "      <td>194580400</td>\n",
       "      <td>TECHNOLOGY</td>\n",
       "    </tr>\n",
       "    <tr>\n",
       "      <th>2000-01-06</th>\n",
       "      <td>AAPL</td>\n",
       "      <td>3.790179</td>\n",
       "      <td>3.392857</td>\n",
       "      <td>2.279998</td>\n",
       "      <td>3.392857</td>\n",
       "      <td>3.821429</td>\n",
       "      <td>191993200</td>\n",
       "      <td>TECHNOLOGY</td>\n",
       "    </tr>\n",
       "    <tr>\n",
       "      <th>2000-01-07</th>\n",
       "      <td>AAPL</td>\n",
       "      <td>3.446429</td>\n",
       "      <td>3.553571</td>\n",
       "      <td>2.387998</td>\n",
       "      <td>3.410714</td>\n",
       "      <td>3.607143</td>\n",
       "      <td>115183600</td>\n",
       "      <td>TECHNOLOGY</td>\n",
       "    </tr>\n",
       "  </tbody>\n",
       "</table>\n",
       "</div>"
      ],
      "text/plain": [
       "           ticker      open     close  adj_close       low      high  \\\n",
       "date                                                                   \n",
       "2000-01-03   AAPL  3.745536  3.997768   2.686497  3.631696  4.017857   \n",
       "2000-01-04   AAPL  3.866071  3.660714   2.459998  3.613839  3.950893   \n",
       "2000-01-05   AAPL  3.705357  3.714286   2.495997  3.678571  3.948661   \n",
       "2000-01-06   AAPL  3.790179  3.392857   2.279998  3.392857  3.821429   \n",
       "2000-01-07   AAPL  3.446429  3.553571   2.387998  3.410714  3.607143   \n",
       "\n",
       "               volume      sector  \n",
       "date                               \n",
       "2000-01-03  133949200  TECHNOLOGY  \n",
       "2000-01-04  128094400  TECHNOLOGY  \n",
       "2000-01-05  194580400  TECHNOLOGY  \n",
       "2000-01-06  191993200  TECHNOLOGY  \n",
       "2000-01-07  115183600  TECHNOLOGY  "
      ]
     },
     "execution_count": 7,
     "metadata": {},
     "output_type": "execute_result"
    }
   ],
   "source": [
    "df_sarimax = df_sarimax[(df_sarimax.index)>\"1999-12-31\"]\n",
    "df_sarimax.head()"
   ]
  },
  {
   "cell_type": "markdown",
   "id": "79a8ac97",
   "metadata": {},
   "source": [
    "### Selecting the stock \"T\": telekom to work with it "
   ]
  },
  {
   "cell_type": "code",
   "execution_count": 8,
   "id": "3f092c78",
   "metadata": {},
   "outputs": [
    {
     "data": {
      "text/html": [
       "<div>\n",
       "<style scoped>\n",
       "    .dataframe tbody tr th:only-of-type {\n",
       "        vertical-align: middle;\n",
       "    }\n",
       "\n",
       "    .dataframe tbody tr th {\n",
       "        vertical-align: top;\n",
       "    }\n",
       "\n",
       "    .dataframe thead th {\n",
       "        text-align: right;\n",
       "    }\n",
       "</style>\n",
       "<table border=\"1\" class=\"dataframe\">\n",
       "  <thead>\n",
       "    <tr style=\"text-align: right;\">\n",
       "      <th></th>\n",
       "      <th>ticker</th>\n",
       "      <th>open</th>\n",
       "      <th>close</th>\n",
       "      <th>adj_close</th>\n",
       "      <th>low</th>\n",
       "      <th>high</th>\n",
       "      <th>volume</th>\n",
       "      <th>sector</th>\n",
       "    </tr>\n",
       "    <tr>\n",
       "      <th>date</th>\n",
       "      <th></th>\n",
       "      <th></th>\n",
       "      <th></th>\n",
       "      <th></th>\n",
       "      <th></th>\n",
       "      <th></th>\n",
       "      <th></th>\n",
       "      <th></th>\n",
       "    </tr>\n",
       "  </thead>\n",
       "  <tbody>\n",
       "    <tr>\n",
       "      <th>2000-01-03</th>\n",
       "      <td>T</td>\n",
       "      <td>48.5625</td>\n",
       "      <td>47.0000</td>\n",
       "      <td>19.225044</td>\n",
       "      <td>46.6250</td>\n",
       "      <td>49.00</td>\n",
       "      <td>5791900</td>\n",
       "      <td>PUBLIC UTILITIES</td>\n",
       "    </tr>\n",
       "    <tr>\n",
       "      <th>2000-01-04</th>\n",
       "      <td>T</td>\n",
       "      <td>47.0625</td>\n",
       "      <td>44.2500</td>\n",
       "      <td>18.100174</td>\n",
       "      <td>43.5000</td>\n",
       "      <td>47.75</td>\n",
       "      <td>7173600</td>\n",
       "      <td>PUBLIC UTILITIES</td>\n",
       "    </tr>\n",
       "    <tr>\n",
       "      <th>2000-01-05</th>\n",
       "      <td>T</td>\n",
       "      <td>45.0000</td>\n",
       "      <td>44.9375</td>\n",
       "      <td>18.381397</td>\n",
       "      <td>44.4375</td>\n",
       "      <td>45.25</td>\n",
       "      <td>9090000</td>\n",
       "      <td>PUBLIC UTILITIES</td>\n",
       "    </tr>\n",
       "    <tr>\n",
       "      <th>2000-01-06</th>\n",
       "      <td>T</td>\n",
       "      <td>44.5625</td>\n",
       "      <td>43.7500</td>\n",
       "      <td>17.993273</td>\n",
       "      <td>43.1250</td>\n",
       "      <td>45.00</td>\n",
       "      <td>7153600</td>\n",
       "      <td>PUBLIC UTILITIES</td>\n",
       "    </tr>\n",
       "    <tr>\n",
       "      <th>2000-01-07</th>\n",
       "      <td>T</td>\n",
       "      <td>44.5625</td>\n",
       "      <td>44.1250</td>\n",
       "      <td>18.147497</td>\n",
       "      <td>43.3750</td>\n",
       "      <td>44.75</td>\n",
       "      <td>5885600</td>\n",
       "      <td>PUBLIC UTILITIES</td>\n",
       "    </tr>\n",
       "  </tbody>\n",
       "</table>\n",
       "</div>"
      ],
      "text/plain": [
       "           ticker     open    close  adj_close      low   high   volume  \\\n",
       "date                                                                      \n",
       "2000-01-03      T  48.5625  47.0000  19.225044  46.6250  49.00  5791900   \n",
       "2000-01-04      T  47.0625  44.2500  18.100174  43.5000  47.75  7173600   \n",
       "2000-01-05      T  45.0000  44.9375  18.381397  44.4375  45.25  9090000   \n",
       "2000-01-06      T  44.5625  43.7500  17.993273  43.1250  45.00  7153600   \n",
       "2000-01-07      T  44.5625  44.1250  18.147497  43.3750  44.75  5885600   \n",
       "\n",
       "                      sector  \n",
       "date                          \n",
       "2000-01-03  PUBLIC UTILITIES  \n",
       "2000-01-04  PUBLIC UTILITIES  \n",
       "2000-01-05  PUBLIC UTILITIES  \n",
       "2000-01-06  PUBLIC UTILITIES  \n",
       "2000-01-07  PUBLIC UTILITIES  "
      ]
     },
     "execution_count": 8,
     "metadata": {},
     "output_type": "execute_result"
    }
   ],
   "source": [
    "#Selecting the stock \"T\": Telekom to work with it \n",
    "df_telekom = df_sarimax[df_sarimax[\"ticker\"]== \"T\"]\n",
    "df_telekom.head()"
   ]
  },
  {
   "cell_type": "markdown",
   "id": "0c2755bf",
   "metadata": {},
   "source": [
    "### Checking the additive decomposition (y = Trend * Seasonal * Residuals) "
   ]
  },
  {
   "cell_type": "code",
   "execution_count": 9,
   "id": "4f3741a8",
   "metadata": {},
   "outputs": [
    {
     "data": {
      "image/png": "[encoded data removed]",
      "text/plain": [
       "<Figure size 432x288 with 4 Axes>"
      ]
     },
     "metadata": {
      "needs_background": "light"
     },
     "output_type": "display_data"
    }
   ],
   "source": [
    "#periods 5(weekly), 20(monthly), 253(yearly)\n",
    "result_add_T = seasonal_decompose(df_telekom['adj_close'], model='additive', period=253)\n",
    "result_add_T.plot();"
   ]
  },
  {
   "cell_type": "markdown",
   "id": "b4aab658",
   "metadata": {},
   "source": [
    "#### Plotting the residuals from additive decomposition"
   ]
  },
  {
   "cell_type": "code",
   "execution_count": 10,
   "id": "5b22da16",
   "metadata": {},
   "outputs": [
    {
     "data": {
      "image/png": "[encoded data removed]",
      "text/plain": [
       "<Figure size 432x288 with 1 Axes>"
      ]
     },
     "metadata": {
      "needs_background": "light"
     },
     "output_type": "display_data"
    }
   ],
   "source": [
    "#Plot the residuals from additive\n",
    "plt.plot(result_add_T._resid);"
   ]
  },
  {
   "cell_type": "code",
   "execution_count": 11,
   "id": "6f2fd832",
   "metadata": {},
   "outputs": [],
   "source": [
    "#Removing nan values from additive\n",
    "result_observed_add=result_add_T.resid.dropna()"
   ]
  },
  {
   "cell_type": "markdown",
   "id": "aeabd636",
   "metadata": {},
   "source": [
    "#### Test with Dickey Fuller the additive"
   ]
  },
  {
   "cell_type": "code",
   "execution_count": 12,
   "id": "8c081204",
   "metadata": {},
   "outputs": [
    {
     "data": {
      "text/plain": [
       "1.1473483148038672e-14"
      ]
     },
     "execution_count": 12,
     "metadata": {},
     "output_type": "execute_result"
    }
   ],
   "source": [
    "#Test with dickey fuller test additive\n",
    "adfuller(result_observed_add)[1]"
   ]
  },
  {
   "cell_type": "markdown",
   "id": "f562472a",
   "metadata": {},
   "source": [
    "### Checking the multiplicative decomposition (y = Trend * Seasonal * Residuals)"
   ]
  },
  {
   "cell_type": "code",
   "execution_count": 13,
   "id": "4c826e08",
   "metadata": {},
   "outputs": [
    {
     "data": {
      "image/png": "[encoded data removed]",
      "text/plain": [
       "<Figure size 432x288 with 4 Axes>"
      ]
     },
     "metadata": {
      "needs_background": "light"
     },
     "output_type": "display_data"
    }
   ],
   "source": [
    "#Multiplicative Decomposition\n",
    "result_mult_T = seasonal_decompose(df_telekom['adj_close'], model='multiplicative', period=253)\n",
    "result_mult_T.plot();"
   ]
  },
  {
   "cell_type": "markdown",
   "id": "c31ce260",
   "metadata": {},
   "source": [
    "#### Plotting the residuals from multiplicative decomposition"
   ]
  },
  {
   "cell_type": "code",
   "execution_count": 14,
   "id": "dc0dfa99",
   "metadata": {},
   "outputs": [
    {
     "data": {
      "image/png": "[encoded data removed]",
      "text/plain": [
       "<Figure size 432x288 with 1 Axes>"
      ]
     },
     "metadata": {
      "needs_background": "light"
     },
     "output_type": "display_data"
    }
   ],
   "source": [
    "#Plot the residuals from multiplicative\n",
    "plt.plot(result_mult_T._resid);"
   ]
  },
  {
   "cell_type": "code",
   "execution_count": 15,
   "id": "d75c3133",
   "metadata": {},
   "outputs": [],
   "source": [
    "#Removing nan values from multiplicative\n",
    "result_observed_mult=result_mult_T.resid.dropna()"
   ]
  },
  {
   "cell_type": "markdown",
   "id": "a74d1eee",
   "metadata": {},
   "source": [
    "#### Test with Dickey Fuller the multiplicative"
   ]
  },
  {
   "cell_type": "code",
   "execution_count": 16,
   "id": "1db9756c",
   "metadata": {},
   "outputs": [
    {
     "data": {
      "text/plain": [
       "1.1976801680390142e-13"
      ]
     },
     "execution_count": 16,
     "metadata": {},
     "output_type": "execute_result"
    }
   ],
   "source": [
    "#Test with dickey fuller test multiplicative\n",
    "adfuller(result_observed_mult)[1]"
   ]
  },
  {
   "cell_type": "markdown",
   "id": "f4723f7e",
   "metadata": {},
   "source": [
    "## Autocorrelation"
   ]
  },
  {
   "cell_type": "markdown",
   "id": "c00cd02a",
   "metadata": {},
   "source": [
    "### Plotting additive autocorrelation"
   ]
  },
  {
   "cell_type": "code",
   "execution_count": 17,
   "id": "c967489a",
   "metadata": {},
   "outputs": [
    {
     "data": {
      "image/png": "[encoded data removed]",
      "text/plain": [
       "<Figure size 432x288 with 1 Axes>"
      ]
     },
     "metadata": {
      "needs_background": "light"
     },
     "output_type": "display_data"
    }
   ],
   "source": [
    "#plot the additive residuals with acf \n",
    "plot_acf(result_observed_add);"
   ]
  },
  {
   "cell_type": "code",
   "execution_count": 18,
   "id": "5caec949",
   "metadata": {},
   "outputs": [
    {
     "data": {
      "image/png": "[encoded data removed]",
      "text/plain": [
       "<Figure size 432x288 with 1 Axes>"
      ]
     },
     "metadata": {
      "needs_background": "light"
     },
     "output_type": "display_data"
    }
   ],
   "source": [
    "#plot the additive residuals with pacf \n",
    "plot_pacf(result_observed_add);"
   ]
  },
  {
   "cell_type": "markdown",
   "id": "2553bdb1",
   "metadata": {},
   "source": [
    "### Plotting multiplicative autocorrelation"
   ]
  },
  {
   "cell_type": "code",
   "execution_count": 19,
   "id": "e17ccb68",
   "metadata": {},
   "outputs": [
    {
     "data": {
      "image/png": "[encoded data removed]",
      "text/plain": [
       "<Figure size 432x288 with 1 Axes>"
      ]
     },
     "metadata": {
      "needs_background": "light"
     },
     "output_type": "display_data"
    }
   ],
   "source": [
    "#plot the multiplicative residuals with acf \n",
    "plot_acf(result_observed_mult);"
   ]
  },
  {
   "cell_type": "code",
   "execution_count": 20,
   "id": "84e031c0",
   "metadata": {},
   "outputs": [
    {
     "data": {
      "image/png": "[encoded data removed]",
      "text/plain": [
       "<Figure size 432x288 with 1 Axes>"
      ]
     },
     "metadata": {
      "needs_background": "light"
     },
     "output_type": "display_data"
    }
   ],
   "source": [
    "#plot the multiplicative residuals with pacf \n",
    "plot_pacf(result_observed_mult);"
   ]
  },
  {
   "cell_type": "markdown",
   "id": "f1dccabf",
   "metadata": {},
   "source": [
    "## Splitting the data (train/test)"
   ]
  },
  {
   "cell_type": "code",
   "execution_count": 21,
   "id": "1e3dbf1a",
   "metadata": {},
   "outputs": [
    {
     "name": "stdout",
     "output_type": "stream",
     "text": [
      "(3773, 8)\n",
      "(919, 8)\n"
     ]
    }
   ],
   "source": [
    "#Split the data in train / test \n",
    "df_telekom_train = df_telekom[:\"2014\"]\n",
    "df_telekom_test = df_telekom[\"2015\":]\n",
    "print(df_telekom_train.shape)\n",
    "print(df_telekom_test.shape)"
   ]
  },
  {
   "cell_type": "markdown",
   "id": "d4ed80a1",
   "metadata": {},
   "source": [
    "### Plotting the data"
   ]
  },
  {
   "cell_type": "code",
   "execution_count": 30,
   "id": "3cdbf46c",
   "metadata": {},
   "outputs": [
    {
     "data": {
      "image/png": "[encoded data removed]",
      "text/plain": [
       "<Figure size 432x288 with 1 Axes>"
      ]
     },
     "metadata": {
      "needs_background": "light"
     },
     "output_type": "display_data"
    }
   ],
   "source": [
    "#plot the data sets\n",
    "plt.plot(df_telekom_train.adj_close)\n",
    "plt.plot(df_telekom_test.adj_close);"
   ]
  },
  {
   "cell_type": "markdown",
   "id": "3bc2073f",
   "metadata": {},
   "source": [
    "## Building Auto ARIMA model"
   ]
  },
  {
   "cell_type": "code",
   "execution_count": 31,
   "id": "370b02ce",
   "metadata": {},
   "outputs": [
    {
     "name": "stderr",
     "output_type": "stream",
     "text": [
      "/home/luis/.pyenv/versions/3.8.6/envs/stock_prices_predictions/lib/python3.8/site-packages/pmdarima/arima/_validation.py:76: UserWarning: stepwise model cannot be fit in parallel (n_jobs=1). Falling back to stepwise parameter search.\n",
      "  warnings.warn('stepwise model cannot be fit in parallel (n_jobs=%i). '\n"
     ]
    },
    {
     "name": "stdout",
     "output_type": "stream",
     "text": [
      "Performing stepwise search to minimize aic\n",
      " ARIMA(0,1,0)(0,0,0)[7] intercept   : AIC=1490.191, Time=0.60 sec\n",
      " ARIMA(1,1,0)(1,0,0)[7] intercept   : AIC=1493.914, Time=2.87 sec\n",
      " ARIMA(0,1,1)(0,0,1)[7] intercept   : AIC=1493.876, Time=3.19 sec\n",
      " ARIMA(0,1,0)(0,0,0)[7]             : AIC=1488.405, Time=0.25 sec\n",
      " ARIMA(0,1,0)(1,0,0)[7] intercept   : AIC=1492.170, Time=1.27 sec\n",
      " ARIMA(0,1,0)(0,0,1)[7] intercept   : AIC=1492.168, Time=2.20 sec\n",
      " ARIMA(0,1,0)(1,0,1)[7] intercept   : AIC=1494.071, Time=2.23 sec\n",
      " ARIMA(1,1,0)(0,0,0)[7] intercept   : AIC=1491.939, Time=0.39 sec\n",
      " ARIMA(0,1,1)(0,0,0)[7] intercept   : AIC=1491.904, Time=0.59 sec\n",
      " ARIMA(1,1,1)(0,0,0)[7] intercept   : AIC=1477.361, Time=2.41 sec\n",
      " ARIMA(1,1,1)(1,0,0)[7] intercept   : AIC=1479.106, Time=10.02 sec\n",
      " ARIMA(1,1,1)(0,0,1)[7] intercept   : AIC=1479.088, Time=21.15 sec\n",
      " ARIMA(1,1,1)(1,0,1)[7] intercept   : AIC=1481.333, Time=37.53 sec\n",
      " ARIMA(2,1,1)(0,0,0)[7] intercept   : AIC=1473.300, Time=12.18 sec\n",
      " ARIMA(2,1,1)(1,0,0)[7] intercept   : AIC=1475.250, Time=26.99 sec\n",
      " ARIMA(2,1,1)(0,0,1)[7] intercept   : AIC=1475.246, Time=12.66 sec\n",
      " ARIMA(2,1,1)(1,0,1)[7] intercept   : AIC=1477.274, Time=12.67 sec\n",
      " ARIMA(2,1,0)(0,0,0)[7] intercept   : AIC=1479.963, Time=1.19 sec\n",
      " ARIMA(3,1,1)(0,0,0)[7] intercept   : AIC=1474.718, Time=6.13 sec\n",
      " ARIMA(2,1,2)(0,0,0)[7] intercept   : AIC=1474.481, Time=6.45 sec\n",
      " ARIMA(1,1,2)(0,0,0)[7] intercept   : AIC=1473.069, Time=4.54 sec\n",
      " ARIMA(1,1,2)(1,0,0)[7] intercept   : AIC=1475.015, Time=12.03 sec\n",
      " ARIMA(1,1,2)(0,0,1)[7] intercept   : AIC=1475.011, Time=12.67 sec\n",
      " ARIMA(1,1,2)(1,0,1)[7] intercept   : AIC=1477.061, Time=24.71 sec\n",
      " ARIMA(0,1,2)(0,0,0)[7] intercept   : AIC=1478.887, Time=1.57 sec\n",
      " ARIMA(1,1,3)(0,0,0)[7] intercept   : AIC=1474.642, Time=10.44 sec\n",
      " ARIMA(0,1,3)(0,0,0)[7] intercept   : AIC=1477.927, Time=3.38 sec\n",
      " ARIMA(2,1,3)(0,0,0)[7] intercept   : AIC=1476.505, Time=8.69 sec\n",
      " ARIMA(1,1,2)(0,0,0)[7]             : AIC=1471.407, Time=1.14 sec\n",
      " ARIMA(1,1,2)(1,0,0)[7]             : AIC=1473.354, Time=3.22 sec\n",
      " ARIMA(1,1,2)(0,0,1)[7]             : AIC=1473.349, Time=3.72 sec\n",
      " ARIMA(1,1,2)(1,0,1)[7]             : AIC=1475.399, Time=4.27 sec\n",
      " ARIMA(0,1,2)(0,0,0)[7]             : AIC=1477.145, Time=0.51 sec\n",
      " ARIMA(1,1,1)(0,0,0)[7]             : AIC=1475.733, Time=0.92 sec\n",
      " ARIMA(2,1,2)(0,0,0)[7]             : AIC=1472.829, Time=1.28 sec\n",
      " ARIMA(1,1,3)(0,0,0)[7]             : AIC=1472.990, Time=2.56 sec\n",
      " ARIMA(0,1,1)(0,0,0)[7]             : AIC=1490.122, Time=0.29 sec\n",
      " ARIMA(0,1,3)(0,0,0)[7]             : AIC=1476.206, Time=1.07 sec\n",
      " ARIMA(2,1,1)(0,0,0)[7]             : AIC=1471.637, Time=0.82 sec\n",
      " ARIMA(2,1,3)(0,0,0)[7]             : AIC=1474.729, Time=4.95 sec\n",
      "\n",
      "Best model:  ARIMA(1,1,2)(0,0,0)[7]          \n",
      "Total fit time: 266.169 seconds\n",
      "                               SARIMAX Results                                \n",
      "==============================================================================\n",
      "Dep. Variable:                      y   No. Observations:                 3773\n",
      "Model:               SARIMAX(1, 1, 2)   Log Likelihood                -731.703\n",
      "Date:                Mon, 07 Jun 2021   AIC                           1471.407\n",
      "Time:                        10:58:48   BIC                           1496.348\n",
      "Sample:                             0   HQIC                          1480.274\n",
      "                               - 3773                                         \n",
      "Covariance Type:                  opg                                         \n",
      "==============================================================================\n",
      "                 coef    std err          z      P>|z|      [0.025      0.975]\n",
      "------------------------------------------------------------------------------\n",
      "ar.L1          0.6381      0.084      7.559      0.000       0.473       0.803\n",
      "ma.L1         -0.6500      0.085     -7.659      0.000      -0.816      -0.484\n",
      "ma.L2         -0.0523      0.014     -3.805      0.000      -0.079      -0.025\n",
      "sigma2         0.0863      0.001     86.587      0.000       0.084       0.088\n",
      "===================================================================================\n",
      "Ljung-Box (L1) (Q):                   0.00   Jarque-Bera (JB):              6043.49\n",
      "Prob(Q):                              0.98   Prob(JB):                         0.00\n",
      "Heteroskedasticity (H):               0.42   Skew:                            -0.18\n",
      "Prob(H) (two-sided):                  0.00   Kurtosis:                         9.19\n",
      "===================================================================================\n",
      "\n",
      "Warnings:\n",
      "[1] Covariance matrix calculated using the outer product of gradients (complex-step).\n"
     ]
    }
   ],
   "source": [
    "arima_model = pm.auto_arima(df_telekom_train.adj_close,\n",
    "                           m=7,\n",
    "                           seasonal=True,\n",
    "                           stepwise=True,\n",
    "                           start_p=0, max_p=5,\n",
    "                           start_d=0, max_d=5,\n",
    "                           start_q=0, max_q=5,\n",
    "                           start_P=0, max_P=5,\n",
    "                           start_D=0, max_D=5,\n",
    "                           start_Q=0, max_Q=5,\n",
    "                           error_action=\"warn\", trace=True,\n",
    "                           supress_warnings=True,\n",
    "                           n_jobs=-1, random_state=20, n_fits=50)\n",
    "print(arima_model.summary())"
   ]
  },
  {
   "cell_type": "markdown",
   "id": "c6c69df2",
   "metadata": {},
   "source": [
    "## Forecasting on the test data"
   ]
  },
  {
   "cell_type": "code",
   "execution_count": 42,
   "id": "c9392e6b",
   "metadata": {},
   "outputs": [
    {
     "name": "stderr",
     "output_type": "stream",
     "text": [
      "/home/luis/.pyenv/versions/3.8.6/envs/stock_prices_predictions/lib/python3.8/site-packages/statsmodels/tsa/base/tsa_model.py:581: ValueWarning: A date index has been provided, but it has no associated frequency information and so will be ignored when e.g. forecasting.\n",
      "  warnings.warn('A date index has been provided, but it has no'\n",
      "/home/luis/.pyenv/versions/3.8.6/envs/stock_prices_predictions/lib/python3.8/site-packages/statsmodels/tsa/base/tsa_model.py:581: ValueWarning: A date index has been provided, but it has no associated frequency information and so will be ignored when e.g. forecasting.\n",
      "  warnings.warn('A date index has been provided, but it has no'\n"
     ]
    }
   ],
   "source": [
    "#Specify training data\n",
    "data = df_telekom_train[\"adj_close\"]\n",
    "#Define the model configuration\n",
    "my_order = (1, 1, 2)\n",
    "my_seasonal_order = (0, 0, 0, 7)\n",
    "#Define the model #replace with data\n",
    "model_sarimax = SARIMAX(data, order=my_order, seasonal_order=my_seasonal_order)\n",
    "#Fit the model \n",
    "model_fit = model_sarimax.fit()"
   ]
  },
  {
   "cell_type": "code",
   "execution_count": null,
   "id": "79d41086",
   "metadata": {},
   "outputs": [],
   "source": [
    "#Forecast\n",
    "n_periods = len(df_telekom_test[\"adj_close\"])\n",
    "forecast = model_fit.get_forecast(steps = n_periods)\n",
    "index_y_test = df_telekom_test.index "
   ]
  }
 ],
 "metadata": {
  "kernelspec": {
   "display_name": "Python 3",
   "language": "python",
   "name": "python3"
  },
  "language_info": {
   "codemirror_mode": {
    "name": "ipython",
    "version": 3
   },
   "file_extension": ".py",
   "mimetype": "text/x-python",
   "name": "python",
   "nbconvert_exporter": "python",
   "pygments_lexer": "ipython3",
   "version": "3.8.6"
  },
  "toc": {
   "base_numbering": 1,
   "nav_menu": {},
   "number_sections": true,
   "sideBar": true,
   "skip_h1_title": false,
   "title_cell": "Table of Contents",
   "title_sidebar": "Contents",
   "toc_cell": false,
   "toc_position": {
    "height": "calc(100% - 180px)",
    "left": "10px",
    "top": "150px",
    "width": "165px"
   },
   "toc_section_display": true,
   "toc_window_display": true
  }
 },
 "nbformat": 4,
 "nbformat_minor": 5
}
