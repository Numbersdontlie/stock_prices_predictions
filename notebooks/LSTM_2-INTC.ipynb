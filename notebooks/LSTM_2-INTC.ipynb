{
 "cells": [
  {
   "cell_type": "markdown",
   "id": "1f900ad4",
   "metadata": {},
   "source": [
    "# Import Libraries"
   ]
  },
  {
   "cell_type": "code",
   "execution_count": 1,
   "id": "9c828a39",
   "metadata": {},
   "outputs": [],
   "source": [
    "%load_ext autoreload\n",
    "%autoreload 2\n",
    "import os\n",
    "import pandas as pd\n",
    "import numpy as np\n",
    "from stock_prices_predictions.get_data import *\n",
    "from tensorflow.keras.models import Sequential\n",
    "from tensorflow.keras.layers import LSTM, Dropout, Dense\n",
    "from tensorflow.keras import layers\n",
    "from sklearn.preprocessing import RobustScaler\n",
    "import matplotlib.pyplot as plt\n",
    "import seaborn as sns\n",
    "from tensorflow.keras.callbacks import EarlyStopping\n",
    "from tensorflow.keras.losses import mean_absolute_percentage_error"
   ]
  },
  {
   "cell_type": "markdown",
   "id": "eb2a0b15",
   "metadata": {},
   "source": [
    "# Fetch data"
   ]
  },
  {
   "cell_type": "markdown",
   "id": "78b41ece",
   "metadata": {},
   "source": [
    "define company:"
   ]
  },
  {
   "cell_type": "code",
   "execution_count": 2,
   "id": "d8967dd4",
   "metadata": {},
   "outputs": [],
   "source": [
    "company = \"INTC\"\n",
    "days_ahead = 1"
   ]
  },
  {
   "cell_type": "code",
   "execution_count": 3,
   "id": "ff25ae50",
   "metadata": {},
   "outputs": [],
   "source": [
    "X_train, X_test = get_lstm_data(company)"
   ]
  },
  {
   "cell_type": "code",
   "execution_count": 4,
   "id": "bafa7534",
   "metadata": {},
   "outputs": [
    {
     "data": {
      "text/plain": [
       "(3773, 1)"
      ]
     },
     "execution_count": 4,
     "metadata": {},
     "output_type": "execute_result"
    }
   ],
   "source": [
    "X_train.shape"
   ]
  },
  {
   "cell_type": "code",
   "execution_count": 5,
   "id": "b218cb76",
   "metadata": {
    "scrolled": true
   },
   "outputs": [
    {
     "data": {
      "text/plain": [
       "(919, 1)"
      ]
     },
     "execution_count": 5,
     "metadata": {},
     "output_type": "execute_result"
    }
   ],
   "source": [
    "X_test.shape"
   ]
  },
  {
   "cell_type": "markdown",
   "id": "0d8bfa02",
   "metadata": {},
   "source": [
    "# Scale data"
   ]
  },
  {
   "cell_type": "code",
   "execution_count": 6,
   "id": "f024f32f",
   "metadata": {},
   "outputs": [],
   "source": [
    "#try differente scalers\n",
    "scaler = RobustScaler()\n",
    "scaler.fit(X_train)\n",
    "X_train_sc = scaler.transform(X_train)\n",
    "\n",
    "X_test_sc = scaler.transform(X_test)"
   ]
  },
  {
   "cell_type": "code",
   "execution_count": 7,
   "id": "2edc95d0",
   "metadata": {},
   "outputs": [
    {
     "data": {
      "text/plain": [
       "(3773, 1)"
      ]
     },
     "execution_count": 7,
     "metadata": {},
     "output_type": "execute_result"
    }
   ],
   "source": [
    "X_train_sc.shape"
   ]
  },
  {
   "cell_type": "code",
   "execution_count": 8,
   "id": "78f21ae0",
   "metadata": {},
   "outputs": [
    {
     "data": {
      "text/plain": [
       "(919, 1)"
      ]
     },
     "execution_count": 8,
     "metadata": {},
     "output_type": "execute_result"
    }
   ],
   "source": [
    "X_test_sc.shape"
   ]
  },
  {
   "cell_type": "markdown",
   "id": "2820d651",
   "metadata": {},
   "source": [
    "# Create Sequences"
   ]
  },
  {
   "cell_type": "code",
   "execution_count": 9,
   "id": "64c734e9",
   "metadata": {},
   "outputs": [],
   "source": [
    "#X_train, y_train = create_sequences(pd.DataFrame(X_train_sc),pd.DataFrame(X_train), days_ahead)\n",
    "#X_test, y_test = create_sequences(pd.DataFrame(X_test_sc),pd.DataFrame(X_test), days_ahead)"
   ]
  },
  {
   "cell_type": "code",
   "execution_count": 10,
   "id": "9bc0d5ca",
   "metadata": {},
   "outputs": [],
   "source": [
    "#X_train, y_train = create_sequences_scaled(pd.DataFrame(X_train_sc), days_ahead)\n",
    "#X_test, y_test = create_sequences_scaled(pd.DataFrame(X_test_sc), days_ahead)"
   ]
  },
  {
   "cell_type": "code",
   "execution_count": 11,
   "id": "e75a4813",
   "metadata": {},
   "outputs": [],
   "source": [
    "X_train, y_train, y_train_simple = create_sequences_scaled_plus(pd.DataFrame(X_train_sc),pd.DataFrame(X_train), days_ahead)\n",
    "X_test, y_test, y_test_simple = create_sequences_scaled_plus(pd.DataFrame(X_test_sc), pd.DataFrame(X_test), days_ahead)"
   ]
  },
  {
   "cell_type": "code",
   "execution_count": 12,
   "id": "da79583e",
   "metadata": {},
   "outputs": [
    {
     "data": {
      "text/plain": [
       "(919, 19, 1)"
      ]
     },
     "execution_count": 12,
     "metadata": {},
     "output_type": "execute_result"
    }
   ],
   "source": [
    "X_train.shape"
   ]
  },
  {
   "cell_type": "code",
   "execution_count": 13,
   "id": "358c432f",
   "metadata": {
    "scrolled": true
   },
   "outputs": [
    {
     "data": {
      "text/plain": [
       "(205, 19, 1)"
      ]
     },
     "execution_count": 13,
     "metadata": {},
     "output_type": "execute_result"
    }
   ],
   "source": [
    "X_test.shape"
   ]
  },
  {
   "cell_type": "code",
   "execution_count": 14,
   "id": "ecf8fd84",
   "metadata": {},
   "outputs": [
    {
     "data": {
      "text/plain": [
       "(919,)"
      ]
     },
     "execution_count": 14,
     "metadata": {},
     "output_type": "execute_result"
    }
   ],
   "source": [
    "y_train.shape"
   ]
  },
  {
   "cell_type": "code",
   "execution_count": 15,
   "id": "ad547b81",
   "metadata": {},
   "outputs": [
    {
     "data": {
      "text/plain": [
       "(205,)"
      ]
     },
     "execution_count": 15,
     "metadata": {},
     "output_type": "execute_result"
    }
   ],
   "source": [
    "y_test.shape"
   ]
  },
  {
   "cell_type": "code",
   "execution_count": 16,
   "id": "b5c89314",
   "metadata": {
    "scrolled": true
   },
   "outputs": [
    {
     "data": {
      "text/plain": [
       "array([30.69074249, 30.35970306, 30.45006371, 31.38977242, 30.50427437,\n",
       "       30.04346085, 30.47716713, 29.212183  , 27.63998222, 28.19115829,\n",
       "       28.91400719, 27.83876228, 28.22729492, 29.66396332, 29.30253601,\n",
       "       29.36578369, 30.19706154, 29.34150887, 29.70554352, 30.16969872,\n",
       "       30.12418938, 30.86136627, 28.9774704 , 28.98656845, 29.07758141,\n",
       "       29.20499611, 27.6578331 , 27.33929825, 26.54751015, 27.21188545,\n",
       "       26.03786278, 26.35639   , 26.43830109, 26.50193024, 26.4927578 ,\n",
       "       26.02474976, 23.73978615, 26.18993187, 26.17157555, 27.04334831,\n",
       "       27.26358986, 26.37346077, 26.83229065, 28.64006805, 29.49349022,\n",
       "       30.05326653, 30.62221336, 31.63163567, 31.30127716, 31.27226257,\n",
       "       29.94152832, 30.64386177, 31.7528019 , 32.42741013, 32.3350029 ,\n",
       "       31.66963387, 32.26107025, 32.3442421 , 32.3350029 , 30.56992912,\n",
       "       30.20027733, 27.53881073, 27.35398674, 28.66624069, 27.75322914,\n",
       "       26.31755638, 27.47355461, 26.8489399 , 27.58542252, 28.55496788,\n",
       "       29.132967  , 29.54315567, 30.13048172, 30.18641663, 29.83215904,\n",
       "       29.48722076, 29.64570236, 29.83215904, 29.27280617, 28.53632355,\n",
       "       28.24684143, 27.98355484, 28.19982719, 29.20595169, 29.70431709,\n",
       "       29.78894806, 30.12745667, 29.79834557, 30.36253357, 29.32819366,\n",
       "       30.72924805, 32.32777405, 32.9765892 , 32.22434235, 32.75091171,\n",
       "       32.49703217, 33.19813919, 32.75283051, 33.13181305, 33.30235291,\n",
       "       33.82344055, 34.64771271, 34.18346405, 35.689888  , 35.57618713,\n",
       "       35.47197723, 35.56671906, 36.02148438, 35.48144913, 33.56763077,\n",
       "       33.08443451, 32.70546341, 33.1153717 , 33.03900146, 33.43040085,\n",
       "       33.60222244, 33.12492371, 33.14401245, 34.33727264, 34.66183853,\n",
       "       35.25369644, 34.99595261, 34.70001984, 35.272789  , 35.09141159,\n",
       "       35.9123764 , 35.72145462, 35.11118317, 34.09207535, 34.65931702,\n",
       "       34.67854309, 34.80353546, 34.19784164, 34.52472305, 33.78442383,\n",
       "       34.00554276, 34.22667694, 34.76507187, 34.64009094, 33.89017487,\n",
       "       34.78429794, 35.50537109, 35.54382706, 35.39127731, 34.41302872,\n",
       "       34.1127739 , 34.98448181, 34.9747963 , 34.99416351, 34.60674286,\n",
       "       34.10308838, 33.27981186, 33.1248436 , 33.26044083, 32.85364532,\n",
       "       33.38635254, 33.63817978, 33.87063599, 35.48813248, 35.52960968,\n",
       "       35.4612999 , 34.16345596, 33.87070847, 34.04636002, 34.89532471,\n",
       "       35.21734238, 36.10533905, 36.2809906 , 36.91527557, 38.3887558 ,\n",
       "       38.69126511, 38.79860306, 39.45240402, 40.35015869, 45.58055115,\n",
       "       45.91888428, 44.90784836, 43.80846405, 43.92625046, 44.01459885,\n",
       "       42.65018463, 42.53239441, 45.4084549 , 45.84035873, 45.31029892,\n",
       "       43.91643906, 42.61091995, 43.66122055, 44.67226028, 47.89188766,\n",
       "       43.70048523, 43.43366241, 45.38051224, 45.26192474, 48.71092606,\n",
       "       50.11423874, 50.91472244, 50.56883621, 50.23283005, 49.01727676,\n",
       "       49.40270233, 50.66765976, 51.78438568, 50.92460251, 52.42675018])"
      ]
     },
     "execution_count": 16,
     "metadata": {},
     "output_type": "execute_result"
    }
   ],
   "source": [
    "y_test_simple"
   ]
  },
  {
   "cell_type": "code",
   "execution_count": 17,
   "id": "761d2e36",
   "metadata": {
    "scrolled": true
   },
   "outputs": [
    {
     "data": {
      "text/plain": [
       "205"
      ]
     },
     "execution_count": 17,
     "metadata": {},
     "output_type": "execute_result"
    }
   ],
   "source": [
    "len(y_test_simple)"
   ]
  },
  {
   "cell_type": "code",
   "execution_count": 18,
   "id": "cfcc51be",
   "metadata": {
    "scrolled": true
   },
   "outputs": [
    {
     "data": {
      "text/plain": [
       "array([[[2.002516 ],\n",
       "        [1.7691798],\n",
       "        [1.8086677],\n",
       "        ...,\n",
       "        [2.5481634],\n",
       "        [2.6414995],\n",
       "        [2.4045734]],\n",
       "\n",
       "       [[1.7153301],\n",
       "        [1.9307187],\n",
       "        [2.1568773],\n",
       "        ...,\n",
       "        [2.8317568],\n",
       "        [2.7527838],\n",
       "        [2.993299 ]],\n",
       "\n",
       "       [[2.2358518],\n",
       "        [2.9250932],\n",
       "        [2.871249 ],\n",
       "        ...,\n",
       "        [3.2088165],\n",
       "        [3.259105 ],\n",
       "        [3.018443 ]],\n",
       "\n",
       "       ...,\n",
       "\n",
       "       [[2.2425778],\n",
       "        [2.2670865],\n",
       "        [2.1966255],\n",
       "        ...,\n",
       "        [2.3252146],\n",
       "        [2.4254417],\n",
       "        [2.3930602]],\n",
       "\n",
       "       [[2.2211344],\n",
       "        [2.066169 ],\n",
       "        [2.0707936],\n",
       "        ...,\n",
       "        [2.3714736],\n",
       "        [2.3699303],\n",
       "        [2.348345 ]],\n",
       "\n",
       "       [[2.0322459],\n",
       "        [2.0970078],\n",
       "        [2.1139686],\n",
       "        ...,\n",
       "        [2.336007 ],\n",
       "        [2.336007 ],\n",
       "        [2.3884346]]], dtype=float32)"
      ]
     },
     "execution_count": 18,
     "metadata": {},
     "output_type": "execute_result"
    }
   ],
   "source": [
    "X_train"
   ]
  },
  {
   "cell_type": "markdown",
   "id": "40262e91",
   "metadata": {},
   "source": [
    "# Create model"
   ]
  },
  {
   "cell_type": "code",
   "execution_count": 19,
   "id": "efdd863b",
   "metadata": {},
   "outputs": [],
   "source": [
    "model = Sequential()\n",
    "#model.add(LSTM(units=72, activation='relu', input_shape= (36, 4), return_sequences=True))\n",
    "model.add(LSTM(units=72, activation='tanh', input_shape= (19, 1)))\n",
    "model.add(Dense(units=36, activation=\"tanh\"))\n",
    "model.add(Dense(units=10, activation=\"tanh\"))\n",
    "model.add(Dense(units=1, activation=\"linear\"))"
   ]
  },
  {
   "cell_type": "markdown",
   "id": "8c2b7570",
   "metadata": {},
   "source": [
    "# Fit model\n"
   ]
  },
  {
   "cell_type": "code",
   "execution_count": 20,
   "id": "862bd0ec",
   "metadata": {
    "scrolled": true
   },
   "outputs": [
    {
     "name": "stdout",
     "output_type": "stream",
     "text": [
      "Epoch 1/200\n",
      "46/46 [==============================] - 4s 45ms/step - loss: 0.2749 - mae: 0.2465 - mape: 197869.3906 - val_loss: 0.0191 - val_mae: 0.1078 - val_mape: 39.3415\n",
      "Epoch 2/200\n",
      "46/46 [==============================] - 2s 36ms/step - loss: 0.0792 - mae: 0.1336 - mape: 92452.7656 - val_loss: 0.0156 - val_mae: 0.0951 - val_mape: 35.6804\n",
      "Epoch 3/200\n",
      "46/46 [==============================] - 1s 32ms/step - loss: 0.0547 - mae: 0.1151 - mape: 118988.0156 - val_loss: 0.0656 - val_mae: 0.2045 - val_mape: 52.5553\n",
      "Epoch 4/200\n",
      "46/46 [==============================] - 1s 22ms/step - loss: 0.0474 - mae: 0.1142 - mape: 127215.7422 - val_loss: 0.0057 - val_mae: 0.0529 - val_mape: 26.4829\n",
      "Epoch 5/200\n",
      "46/46 [==============================] - 1s 19ms/step - loss: 0.0387 - mae: 0.0990 - mape: 133044.4531 - val_loss: 0.0061 - val_mae: 0.0574 - val_mape: 26.6861\n",
      "Epoch 6/200\n",
      "46/46 [==============================] - 1s 18ms/step - loss: 0.0315 - mae: 0.0923 - mape: 140824.7500 - val_loss: 0.0063 - val_mae: 0.0595 - val_mape: 28.2446\n",
      "Epoch 7/200\n",
      "46/46 [==============================] - 1s 22ms/step - loss: 0.0272 - mae: 0.0856 - mape: 115229.6719 - val_loss: 0.0077 - val_mae: 0.0622 - val_mape: 25.6917\n",
      "Epoch 8/200\n",
      "46/46 [==============================] - 1s 31ms/step - loss: 0.0263 - mae: 0.0886 - mape: 88251.6172 - val_loss: 0.0055 - val_mae: 0.0538 - val_mape: 25.3929\n",
      "Epoch 9/200\n",
      "46/46 [==============================] - 1s 28ms/step - loss: 0.0297 - mae: 0.0913 - mape: 112350.1953 - val_loss: 0.0056 - val_mae: 0.0550 - val_mape: 24.2022\n",
      "Epoch 10/200\n",
      "46/46 [==============================] - 1s 24ms/step - loss: 0.0236 - mae: 0.0816 - mape: 145886.3594 - val_loss: 0.0060 - val_mae: 0.0566 - val_mape: 24.9013\n",
      "Epoch 11/200\n",
      "46/46 [==============================] - 1s 20ms/step - loss: 0.0216 - mae: 0.0841 - mape: 133076.3750 - val_loss: 0.0053 - val_mae: 0.0523 - val_mape: 23.6949\n",
      "Epoch 12/200\n",
      "46/46 [==============================] - 1s 27ms/step - loss: 0.0211 - mae: 0.0802 - mape: 123748.4297 - val_loss: 0.0070 - val_mae: 0.0648 - val_mape: 26.7535\n",
      "Epoch 13/200\n",
      "46/46 [==============================] - 1s 26ms/step - loss: 0.0192 - mae: 0.0758 - mape: 59345.6172 - val_loss: 0.0144 - val_mae: 0.0976 - val_mape: 32.5640\n",
      "Epoch 14/200\n",
      "46/46 [==============================] - 1s 21ms/step - loss: 0.0184 - mae: 0.0762 - mape: 124236.1562 - val_loss: 0.0061 - val_mae: 0.0581 - val_mape: 25.0995\n",
      "Epoch 15/200\n",
      "46/46 [==============================] - 1s 23ms/step - loss: 0.0202 - mae: 0.0791 - mape: 145933.0938 - val_loss: 0.0060 - val_mae: 0.0595 - val_mape: 26.4928\n",
      "Epoch 16/200\n",
      "46/46 [==============================] - 1s 28ms/step - loss: 0.0172 - mae: 0.0733 - mape: 80960.0781 - val_loss: 0.0221 - val_mae: 0.1279 - val_mape: 41.2528\n",
      "Epoch 17/200\n",
      "46/46 [==============================] - 1s 29ms/step - loss: 0.0201 - mae: 0.0834 - mape: 61098.9336 - val_loss: 0.0194 - val_mae: 0.1208 - val_mape: 39.2124\n",
      "Epoch 18/200\n",
      "46/46 [==============================] - 1s 28ms/step - loss: 0.0166 - mae: 0.0728 - mape: 98185.9062 - val_loss: 0.0049 - val_mae: 0.0472 - val_mape: 22.9877\n",
      "Epoch 19/200\n",
      "46/46 [==============================] - 1s 22ms/step - loss: 0.0158 - mae: 0.0715 - mape: 135109.0781 - val_loss: 0.0174 - val_mae: 0.1147 - val_mape: 39.2409\n",
      "Epoch 20/200\n",
      "46/46 [==============================] - 1s 20ms/step - loss: 0.0164 - mae: 0.0742 - mape: 81969.0000 - val_loss: 0.0043 - val_mae: 0.0462 - val_mape: 21.7215\n",
      "Epoch 21/200\n",
      "46/46 [==============================] - 1s 19ms/step - loss: 0.0163 - mae: 0.0730 - mape: 41070.0508 - val_loss: 0.0051 - val_mae: 0.0484 - val_mape: 23.2675\n",
      "Epoch 22/200\n",
      "46/46 [==============================] - 1s 26ms/step - loss: 0.0153 - mae: 0.0729 - mape: 75526.7656 - val_loss: 0.0045 - val_mae: 0.0489 - val_mape: 22.6874\n",
      "Epoch 23/200\n",
      "46/46 [==============================] - 1s 21ms/step - loss: 0.0153 - mae: 0.0716 - mape: 79152.1641 - val_loss: 0.0130 - val_mae: 0.0905 - val_mape: 30.5293\n",
      "Epoch 24/200\n",
      "46/46 [==============================] - 1s 18ms/step - loss: 0.0158 - mae: 0.0762 - mape: 138002.4062 - val_loss: 0.0103 - val_mae: 0.0812 - val_mape: 29.5320\n",
      "Epoch 25/200\n",
      "46/46 [==============================] - 1s 19ms/step - loss: 0.0145 - mae: 0.0718 - mape: 110113.5000 - val_loss: 0.0061 - val_mae: 0.0590 - val_mape: 27.0527\n",
      "Epoch 26/200\n",
      "46/46 [==============================] - 1s 19ms/step - loss: 0.0143 - mae: 0.0692 - mape: 102054.3203 - val_loss: 0.0099 - val_mae: 0.0774 - val_mape: 27.9129\n",
      "Epoch 27/200\n",
      "46/46 [==============================] - 1s 17ms/step - loss: 0.0154 - mae: 0.0697 - mape: 128936.4922 - val_loss: 0.0052 - val_mae: 0.0511 - val_mape: 22.1544\n",
      "Epoch 28/200\n",
      "46/46 [==============================] - 1s 18ms/step - loss: 0.0147 - mae: 0.0709 - mape: 93936.1719 - val_loss: 0.0073 - val_mae: 0.0696 - val_mape: 28.1837\n",
      "Epoch 29/200\n",
      "46/46 [==============================] - 1s 18ms/step - loss: 0.0138 - mae: 0.0705 - mape: 203853.3438 - val_loss: 0.0045 - val_mae: 0.0456 - val_mape: 22.4761\n",
      "Epoch 30/200\n",
      "46/46 [==============================] - 1s 17ms/step - loss: 0.0144 - mae: 0.0695 - mape: 170710.5781 - val_loss: 0.0043 - val_mae: 0.0443 - val_mape: 21.9552\n",
      "Epoch 31/200\n",
      "46/46 [==============================] - 1s 19ms/step - loss: 0.0139 - mae: 0.0688 - mape: 25025.6699 - val_loss: 0.0043 - val_mae: 0.0439 - val_mape: 21.9443\n",
      "Epoch 32/200\n",
      "46/46 [==============================] - 1s 18ms/step - loss: 0.0137 - mae: 0.0670 - mape: 150622.9375 - val_loss: 0.0076 - val_mae: 0.0708 - val_mape: 27.9228\n",
      "Epoch 33/200\n",
      "46/46 [==============================] - 1s 18ms/step - loss: 0.0145 - mae: 0.0725 - mape: 99083.0391 - val_loss: 0.0097 - val_mae: 0.0748 - val_mape: 23.6588\n",
      "Epoch 34/200\n",
      "46/46 [==============================] - 1s 24ms/step - loss: 0.0173 - mae: 0.0794 - mape: 99926.1484 - val_loss: 0.0110 - val_mae: 0.0821 - val_mape: 27.0704\n",
      "Epoch 35/200\n",
      "46/46 [==============================] - 1s 30ms/step - loss: 0.0148 - mae: 0.0692 - mape: 86779.5078 - val_loss: 0.0070 - val_mae: 0.0635 - val_mape: 26.1943\n",
      "Epoch 36/200\n",
      "46/46 [==============================] - 1s 28ms/step - loss: 0.0144 - mae: 0.0706 - mape: 106589.6719 - val_loss: 0.0043 - val_mae: 0.0479 - val_mape: 22.2477\n",
      "Epoch 37/200\n",
      "46/46 [==============================] - 1s 22ms/step - loss: 0.0127 - mae: 0.0662 - mape: 54006.5156 - val_loss: 0.0132 - val_mae: 0.0871 - val_mape: 26.2880\n",
      "Epoch 38/200\n",
      "46/46 [==============================] - 1s 18ms/step - loss: 0.0150 - mae: 0.0705 - mape: 42953.1562 - val_loss: 0.0058 - val_mae: 0.0588 - val_mape: 28.1602\n",
      "Epoch 39/200\n",
      "46/46 [==============================] - 1s 17ms/step - loss: 0.0138 - mae: 0.0686 - mape: 84158.2891 - val_loss: 0.0061 - val_mae: 0.0616 - val_mape: 25.0966\n",
      "Epoch 40/200\n",
      "46/46 [==============================] - 1s 17ms/step - loss: 0.0158 - mae: 0.0739 - mape: 226595.0469 - val_loss: 0.0051 - val_mae: 0.0518 - val_mape: 27.4009\n",
      "Epoch 41/200\n",
      "46/46 [==============================] - 1s 17ms/step - loss: 0.0142 - mae: 0.0703 - mape: 219226.0156 - val_loss: 0.0055 - val_mae: 0.0512 - val_mape: 21.2812\n",
      "Epoch 42/200\n",
      "46/46 [==============================] - 1s 18ms/step - loss: 0.0145 - mae: 0.0703 - mape: 134527.5938 - val_loss: 0.0047 - val_mae: 0.0500 - val_mape: 23.7911\n",
      "Epoch 43/200\n",
      "46/46 [==============================] - 1s 20ms/step - loss: 0.0144 - mae: 0.0760 - mape: 157322.4219 - val_loss: 0.0038 - val_mae: 0.0428 - val_mape: 23.0355\n",
      "Epoch 44/200\n",
      "46/46 [==============================] - 1s 19ms/step - loss: 0.0127 - mae: 0.0666 - mape: 142184.0156 - val_loss: 0.0047 - val_mae: 0.0463 - val_mape: 21.6676\n",
      "Epoch 45/200\n",
      "46/46 [==============================] - 1s 19ms/step - loss: 0.0137 - mae: 0.0698 - mape: 85909.4062 - val_loss: 0.0040 - val_mae: 0.0424 - val_mape: 21.0754\n",
      "Epoch 46/200\n",
      "46/46 [==============================] - 1s 19ms/step - loss: 0.0121 - mae: 0.0638 - mape: 107735.4453 - val_loss: 0.0059 - val_mae: 0.0547 - val_mape: 22.6610\n",
      "Epoch 47/200\n",
      "46/46 [==============================] - 1s 18ms/step - loss: 0.0133 - mae: 0.0709 - mape: 53270.3359 - val_loss: 0.0041 - val_mae: 0.0431 - val_mape: 22.1765\n",
      "Epoch 48/200\n"
     ]
    },
    {
     "name": "stdout",
     "output_type": "stream",
     "text": [
      "46/46 [==============================] - 1s 18ms/step - loss: 0.0151 - mae: 0.0777 - mape: 129274.5781 - val_loss: 0.0039 - val_mae: 0.0424 - val_mape: 21.1067\n",
      "Epoch 49/200\n",
      "46/46 [==============================] - 1s 19ms/step - loss: 0.0141 - mae: 0.0694 - mape: 146237.2812 - val_loss: 0.0050 - val_mae: 0.0535 - val_mape: 23.4405\n",
      "Epoch 50/200\n",
      "46/46 [==============================] - 1s 24ms/step - loss: 0.0147 - mae: 0.0732 - mape: 114216.2188 - val_loss: 0.0047 - val_mae: 0.0467 - val_mape: 20.8941\n",
      "Epoch 51/200\n",
      "46/46 [==============================] - 1s 24ms/step - loss: 0.0131 - mae: 0.0657 - mape: 48433.8672 - val_loss: 0.0208 - val_mae: 0.1152 - val_mape: 32.3926\n",
      "Epoch 52/200\n",
      "46/46 [==============================] - 1s 23ms/step - loss: 0.0136 - mae: 0.0715 - mape: 14354.1377 - val_loss: 0.0067 - val_mae: 0.0557 - val_mape: 24.0380\n",
      "Epoch 53/200\n",
      "46/46 [==============================] - 1s 32ms/step - loss: 0.0133 - mae: 0.0689 - mape: 88935.8438 - val_loss: 0.0042 - val_mae: 0.0456 - val_mape: 22.1767\n",
      "Epoch 54/200\n",
      "46/46 [==============================] - 2s 47ms/step - loss: 0.0133 - mae: 0.0693 - mape: 125451.1328 - val_loss: 0.0068 - val_mae: 0.0662 - val_mape: 25.5945\n",
      "Epoch 55/200\n",
      "46/46 [==============================] - 2s 38ms/step - loss: 0.0137 - mae: 0.0728 - mape: 183407.5938 - val_loss: 0.0122 - val_mae: 0.0869 - val_mape: 29.3228\n",
      "Epoch 56/200\n",
      "46/46 [==============================] - 2s 36ms/step - loss: 0.0144 - mae: 0.0719 - mape: 62654.2930 - val_loss: 0.0041 - val_mae: 0.0450 - val_mape: 22.6078\n",
      "Epoch 57/200\n",
      "46/46 [==============================] - 1s 30ms/step - loss: 0.0134 - mae: 0.0683 - mape: 81126.1172 - val_loss: 0.0049 - val_mae: 0.0519 - val_mape: 25.4742\n",
      "Epoch 58/200\n",
      "46/46 [==============================] - 1s 30ms/step - loss: 0.0169 - mae: 0.0752 - mape: 169475.1875 - val_loss: 0.0037 - val_mae: 0.0431 - val_mape: 22.1074\n",
      "Epoch 59/200\n",
      "46/46 [==============================] - 1s 27ms/step - loss: 0.0119 - mae: 0.0626 - mape: 98196.7891 - val_loss: 0.0041 - val_mae: 0.0455 - val_mape: 22.1342\n",
      "Epoch 60/200\n",
      "46/46 [==============================] - 1s 24ms/step - loss: 0.0140 - mae: 0.0721 - mape: 204248.5938 - val_loss: 0.0174 - val_mae: 0.1095 - val_mape: 38.5577\n",
      "Epoch 61/200\n",
      "46/46 [==============================] - 2s 46ms/step - loss: 0.0163 - mae: 0.0782 - mape: 22493.9941 - val_loss: 0.0041 - val_mae: 0.0466 - val_mape: 22.2222\n",
      "Epoch 62/200\n",
      "46/46 [==============================] - 2s 37ms/step - loss: 0.0135 - mae: 0.0705 - mape: 188810.7969 - val_loss: 0.0040 - val_mae: 0.0426 - val_mape: 20.6307\n",
      "Epoch 63/200\n",
      "46/46 [==============================] - 1s 26ms/step - loss: 0.0129 - mae: 0.0680 - mape: 95304.0078 - val_loss: 0.0072 - val_mae: 0.0683 - val_mape: 26.8474\n",
      "Epoch 64/200\n",
      "46/46 [==============================] - 1s 28ms/step - loss: 0.0121 - mae: 0.0662 - mape: 114199.2812 - val_loss: 0.0052 - val_mae: 0.0547 - val_mape: 25.5010\n",
      "Epoch 65/200\n",
      "46/46 [==============================] - 1s 29ms/step - loss: 0.0127 - mae: 0.0651 - mape: 124423.5547 - val_loss: 0.0067 - val_mae: 0.0604 - val_mape: 23.2570\n",
      "Epoch 66/200\n",
      "46/46 [==============================] - 1s 24ms/step - loss: 0.0126 - mae: 0.0666 - mape: 162537.5625 - val_loss: 0.0062 - val_mae: 0.0548 - val_mape: 21.1513\n",
      "Epoch 67/200\n",
      "46/46 [==============================] - 1s 21ms/step - loss: 0.0126 - mae: 0.0653 - mape: 136707.7031 - val_loss: 0.0051 - val_mae: 0.0538 - val_mape: 25.3721\n",
      "Epoch 68/200\n",
      "46/46 [==============================] - 1s 19ms/step - loss: 0.0138 - mae: 0.0691 - mape: 100960.7734 - val_loss: 0.0044 - val_mae: 0.0454 - val_mape: 21.8356\n",
      "Epoch 69/200\n",
      "46/46 [==============================] - 1s 19ms/step - loss: 0.0119 - mae: 0.0634 - mape: 103954.6094 - val_loss: 0.0070 - val_mae: 0.0631 - val_mape: 23.3268\n",
      "Epoch 70/200\n",
      "46/46 [==============================] - 1s 24ms/step - loss: 0.0121 - mae: 0.0647 - mape: 123175.9766 - val_loss: 0.0040 - val_mae: 0.0423 - val_mape: 21.0177\n",
      "Epoch 71/200\n",
      "46/46 [==============================] - 1s 22ms/step - loss: 0.0122 - mae: 0.0657 - mape: 96931.2578 - val_loss: 0.0057 - val_mae: 0.0554 - val_mape: 23.5872\n",
      "Epoch 72/200\n",
      "46/46 [==============================] - 1s 22ms/step - loss: 0.0124 - mae: 0.0625 - mape: 80504.0078 - val_loss: 0.0043 - val_mae: 0.0447 - val_mape: 21.6294\n",
      "Epoch 73/200\n",
      "46/46 [==============================] - 1s 20ms/step - loss: 0.0118 - mae: 0.0629 - mape: 148098.2031 - val_loss: 0.0038 - val_mae: 0.0440 - val_mape: 21.6168\n",
      "Epoch 74/200\n",
      "46/46 [==============================] - 1s 20ms/step - loss: 0.0114 - mae: 0.0618 - mape: 94978.9062 - val_loss: 0.0047 - val_mae: 0.0474 - val_mape: 20.8420\n",
      "Epoch 75/200\n",
      "46/46 [==============================] - 1s 22ms/step - loss: 0.0124 - mae: 0.0664 - mape: 118359.2578 - val_loss: 0.0050 - val_mae: 0.0500 - val_mape: 21.2731\n",
      "Epoch 76/200\n",
      "46/46 [==============================] - 1s 23ms/step - loss: 0.0123 - mae: 0.0680 - mape: 92927.2578 - val_loss: 0.0117 - val_mae: 0.0892 - val_mape: 33.2986\n",
      "Epoch 77/200\n",
      "46/46 [==============================] - 1s 21ms/step - loss: 0.0129 - mae: 0.0688 - mape: 120664.9062 - val_loss: 0.0071 - val_mae: 0.0678 - val_mape: 32.3901\n",
      "Epoch 78/200\n",
      "46/46 [==============================] - 1s 20ms/step - loss: 0.0129 - mae: 0.0688 - mape: 95734.1172 - val_loss: 0.0052 - val_mae: 0.0508 - val_mape: 21.4131\n"
     ]
    }
   ],
   "source": [
    "es = EarlyStopping(patience=20, restore_best_weights=True)\n",
    "\n",
    "#try different losses: mae, mape, mse\n",
    "\n",
    "#rmsprop optimizer\n",
    "model.compile(optimizer=\"adam\", loss=\"mse\", metrics=[\"mae\", \"mape\"])\n",
    "#validation_split=0.2,\n",
    "history_LSTM = model.fit(X_train, y_train, epochs=200, batch_size=16, workers=-1, validation_split=0.2, callbacks=[es])"
   ]
  },
  {
   "cell_type": "code",
   "execution_count": 21,
   "id": "a42ee21d",
   "metadata": {},
   "outputs": [
    {
     "name": "stdout",
     "output_type": "stream",
     "text": [
      "7/7 [==============================] - 0s 8ms/step - loss: 0.0400 - mae: 0.1318 - mape: 4.2902\n"
     ]
    },
    {
     "data": {
      "text/plain": [
       "[0.03996278718113899, 0.1318182796239853, 4.290222644805908]"
      ]
     },
     "execution_count": 21,
     "metadata": {},
     "output_type": "execute_result"
    }
   ],
   "source": [
    "model.evaluate(X_test, y_test)"
   ]
  },
  {
   "cell_type": "code",
   "execution_count": 22,
   "id": "03e6b738",
   "metadata": {},
   "outputs": [
    {
     "data": {
      "text/plain": [
       "[<matplotlib.lines.Line2D at 0x7f7c8a29a280>]"
      ]
     },
     "execution_count": 22,
     "metadata": {},
     "output_type": "execute_result"
    },
    {
     "data": {
      "image/png": "[encoded data removed]",
      "text/plain": [
       "<Figure size 432x288 with 1 Axes>"
      ]
     },
     "metadata": {
      "needs_background": "light"
     },
     "output_type": "display_data"
    }
   ],
   "source": [
    "plt.plot(history_LSTM.history[\"mae\"])\n",
    "plt.plot(history_LSTM.history[\"val_mae\"])"
   ]
  },
  {
   "cell_type": "markdown",
   "id": "e22606c4",
   "metadata": {},
   "source": [
    "# Test Model"
   ]
  },
  {
   "cell_type": "code",
   "execution_count": 23,
   "id": "e7f7c624",
   "metadata": {},
   "outputs": [
    {
     "name": "stdout",
     "output_type": "stream",
     "text": [
      "Model: \"sequential\"\n",
      "_________________________________________________________________\n",
      "Layer (type)                 Output Shape              Param #   \n",
      "=================================================================\n",
      "lstm (LSTM)                  (None, 72)                21312     \n",
      "_________________________________________________________________\n",
      "dense (Dense)                (None, 36)                2628      \n",
      "_________________________________________________________________\n",
      "dense_1 (Dense)              (None, 10)                370       \n",
      "_________________________________________________________________\n",
      "dense_2 (Dense)              (None, 1)                 11        \n",
      "=================================================================\n",
      "Total params: 24,321\n",
      "Trainable params: 24,321\n",
      "Non-trainable params: 0\n",
      "_________________________________________________________________\n"
     ]
    }
   ],
   "source": [
    "model.summary()"
   ]
  },
  {
   "cell_type": "code",
   "execution_count": 24,
   "id": "d2667cc9",
   "metadata": {},
   "outputs": [],
   "source": [
    "prediction = model.predict(X_test)"
   ]
  },
  {
   "cell_type": "code",
   "execution_count": 25,
   "id": "36353dd0",
   "metadata": {
    "scrolled": true
   },
   "outputs": [
    {
     "data": {
      "text/plain": [
       "array([[2.368649 ],\n",
       "       [2.3131483],\n",
       "       [2.2981482],\n",
       "       [2.4827611],\n",
       "       [2.3774865],\n",
       "       [2.2884638],\n",
       "       [2.365346 ],\n",
       "       [2.0836449],\n",
       "       [1.8334401],\n",
       "       [1.9262106],\n",
       "       [1.9524226],\n",
       "       [1.8581867],\n",
       "       [1.930305 ],\n",
       "       [2.125495 ],\n",
       "       [2.133742 ],\n",
       "       [2.1144888],\n",
       "       [2.2490413],\n",
       "       [2.1328738],\n",
       "       [2.184013 ],\n",
       "       [2.2939725],\n",
       "       [2.2936833],\n",
       "       [2.4368036],\n",
       "       [2.0921612],\n",
       "       [2.0627098],\n",
       "       [2.0653896],\n",
       "       [2.1104867],\n",
       "       [1.8589282],\n",
       "       [1.7899613],\n",
       "       [1.613394 ],\n",
       "       [1.737766 ],\n",
       "       [1.5297241],\n",
       "       [1.5612822],\n",
       "       [1.6011932],\n",
       "       [1.6191275],\n",
       "       [1.6347301],\n",
       "       [1.5524509],\n",
       "       [1.1242843],\n",
       "       [1.5760624],\n",
       "       [1.5721037],\n",
       "       [1.6995475],\n",
       "       [1.754853 ],\n",
       "       [1.5862844],\n",
       "       [1.6582568],\n",
       "       [1.9702239],\n",
       "       [2.1706393],\n",
       "       [2.2488024],\n",
       "       [2.3733542],\n",
       "       [2.5654001],\n",
       "       [2.4830234],\n",
       "       [2.504128 ],\n",
       "       [2.273669 ],\n",
       "       [2.3375685],\n",
       "       [2.5877104],\n",
       "       [2.674656 ],\n",
       "       [2.6731942],\n",
       "       [2.597747 ],\n",
       "       [2.695046 ],\n",
       "       [2.6633985],\n",
       "       [2.7084665],\n",
       "       [2.4078305],\n",
       "       [2.2499774],\n",
       "       [1.8287868],\n",
       "       [1.783539 ],\n",
       "       [1.9585645],\n",
       "       [1.8124447],\n",
       "       [1.6044574],\n",
       "       [1.7651443],\n",
       "       [1.6940084],\n",
       "       [1.8204708],\n",
       "       [1.984446 ],\n",
       "       [2.066068 ],\n",
       "       [2.163148 ],\n",
       "       [2.2802134],\n",
       "       [2.2577043],\n",
       "       [2.2472577],\n",
       "       [2.1591182],\n",
       "       [2.203929 ],\n",
       "       [2.1988304],\n",
       "       [2.119982 ],\n",
       "       [1.9739108],\n",
       "       [1.9249125],\n",
       "       [1.899941 ],\n",
       "       [1.9246311],\n",
       "       [2.0629315],\n",
       "       [2.1949608],\n",
       "       [2.2070928],\n",
       "       [2.270167 ],\n",
       "       [2.2173   ],\n",
       "       [2.3200576],\n",
       "       [2.1119127],\n",
       "       [2.395882 ],\n",
       "       [2.6451383],\n",
       "       [2.8093185],\n",
       "       [2.7518346],\n",
       "       [2.779443 ],\n",
       "       [2.7402968],\n",
       "       [2.8373742],\n",
       "       [2.7749207],\n",
       "       [2.8460758],\n",
       "       [2.8882346],\n",
       "       [2.9534855],\n",
       "       [3.0901651],\n",
       "       [3.022338 ],\n",
       "       [3.22021  ],\n",
       "       [3.290209 ],\n",
       "       [3.2608702],\n",
       "       [3.3137076],\n",
       "       [3.394349 ],\n",
       "       [3.2625291],\n",
       "       [2.9852235],\n",
       "       [2.8428893],\n",
       "       [2.7755833],\n",
       "       [2.7690992],\n",
       "       [2.8188324],\n",
       "       [2.8824124],\n",
       "       [2.937608 ],\n",
       "       [2.8875878],\n",
       "       [2.8151665],\n",
       "       [3.0479302],\n",
       "       [3.1598544],\n",
       "       [3.2544384],\n",
       "       [3.2097886],\n",
       "       [3.147784 ],\n",
       "       [3.2150497],\n",
       "       [3.21481  ],\n",
       "       [3.3058908],\n",
       "       [3.3668253],\n",
       "       [3.213671 ],\n",
       "       [3.0900874],\n",
       "       [3.110325 ],\n",
       "       [3.1627805],\n",
       "       [3.1795561],\n",
       "       [3.0709472],\n",
       "       [3.0931997],\n",
       "       [2.9636443],\n",
       "       [2.9892306],\n",
       "       [3.0268261],\n",
       "       [3.1332376],\n",
       "       [3.1346176],\n",
       "       [3.0194786],\n",
       "       [3.1271315],\n",
       "       [3.2769988],\n",
       "       [3.2590518],\n",
       "       [3.2964194],\n",
       "       [3.1119826],\n",
       "       [3.030684 ],\n",
       "       [3.1617131],\n",
       "       [3.1967418],\n",
       "       [3.210496 ],\n",
       "       [3.1415975],\n",
       "       [3.0415022],\n",
       "       [2.8946698],\n",
       "       [2.8088553],\n",
       "       [2.8066797],\n",
       "       [2.7711036],\n",
       "       [2.891297 ],\n",
       "       [2.9329412],\n",
       "       [2.9631717],\n",
       "       [3.238437 ],\n",
       "       [3.2985497],\n",
       "       [3.2657902],\n",
       "       [3.072801 ],\n",
       "       [2.9766984],\n",
       "       [2.9959006],\n",
       "       [3.1178246],\n",
       "       [3.199515 ],\n",
       "       [3.3883529],\n",
       "       [3.4436893],\n",
       "       [3.534382 ],\n",
       "       [3.8090992],\n",
       "       [3.9046566],\n",
       "       [3.8943706],\n",
       "       [3.9892056],\n",
       "       [4.1292896],\n",
       "       [4.76449  ],\n",
       "       [4.926012 ],\n",
       "       [4.8406563],\n",
       "       [4.690794 ],\n",
       "       [4.5917687],\n",
       "       [4.578174 ],\n",
       "       [4.4927583],\n",
       "       [4.44628  ],\n",
       "       [4.6675324],\n",
       "       [4.9026666],\n",
       "       [4.8547564],\n",
       "       [4.664838 ],\n",
       "       [4.3763523],\n",
       "       [4.485065 ],\n",
       "       [4.740086 ],\n",
       "       [5.068418 ],\n",
       "       [4.822215 ],\n",
       "       [4.506553 ],\n",
       "       [4.6327744],\n",
       "       [4.788005 ],\n",
       "       [5.097406 ],\n",
       "       [5.1350822],\n",
       "       [5.18275  ],\n",
       "       [5.130993 ],\n",
       "       [5.0932803],\n",
       "       [5.0376773],\n",
       "       [5.0052023],\n",
       "       [5.035931 ],\n",
       "       [5.169593 ],\n",
       "       [5.1703196],\n",
       "       [5.1256866]], dtype=float32)"
      ]
     },
     "execution_count": 25,
     "metadata": {},
     "output_type": "execute_result"
    }
   ],
   "source": [
    "prediction"
   ]
  },
  {
   "cell_type": "markdown",
   "id": "60cf4023",
   "metadata": {},
   "source": [
    "# Visualizing Model"
   ]
  },
  {
   "cell_type": "code",
   "execution_count": 26,
   "id": "c1d45b5b",
   "metadata": {},
   "outputs": [],
   "source": [
    "y_test_back = scaler.inverse_transform(y_test.reshape(-1, 1))\n",
    "prediction_back = scaler.inverse_transform(prediction.reshape(-1, 1))"
   ]
  },
  {
   "cell_type": "code",
   "execution_count": 27,
   "id": "7ce2a13c",
   "metadata": {
    "scrolled": true
   },
   "outputs": [
    {
     "data": {
      "text/plain": [
       "(19, 1)"
      ]
     },
     "execution_count": 27,
     "metadata": {},
     "output_type": "execute_result"
    }
   ],
   "source": [
    "X_test[0,:,:].shape"
   ]
  },
  {
   "cell_type": "code",
   "execution_count": 28,
   "id": "e4c191ca",
   "metadata": {},
   "outputs": [],
   "source": [
    "X_, X_graph = get_lstm_data(company)"
   ]
  },
  {
   "cell_type": "code",
   "execution_count": 29,
   "id": "b5812156",
   "metadata": {
    "scrolled": true
   },
   "outputs": [
    {
     "data": {
      "text/plain": [
       "1299701    30.188354\n",
       "1299702    30.233212\n",
       "1299703    30.359703\n",
       "1299704    30.666912\n",
       "1299705    30.088638\n",
       "1299706    29.754322\n",
       "1299707    30.450064\n",
       "1299708    30.314524\n",
       "1299709    30.838598\n",
       "1299710    31.046415\n",
       "Name: adj_close, dtype: float64"
      ]
     },
     "execution_count": 29,
     "metadata": {},
     "output_type": "execute_result"
    }
   ],
   "source": [
    "X_graph.iloc[20:30,0]"
   ]
  },
  {
   "cell_type": "code",
   "execution_count": 30,
   "id": "9654af55",
   "metadata": {
    "scrolled": true
   },
   "outputs": [
    {
     "data": {
      "image/png": "[encoded data removed]",
      "text/plain": [
       "<Figure size 432x288 with 1 Axes>"
      ]
     },
     "metadata": {
      "needs_background": "light"
     },
     "output_type": "display_data"
    }
   ],
   "source": [
    "real = [1,0,2,0,4]\n",
    "predict = [0,2,0,4,0]\n",
    "another = [0,2.4, 0, 3, 0]\n",
    "plt.scatter(range(len(real)), real,  color=\"black\", label=f\"Actual {company} Price\")\n",
    "plt.scatter(range(len(real)), predict, color=\"green\", label=f\"Predicted {company} Price\")\n",
    "plt.xlabel(\"\")\n",
    "plt.ylabel(f\"{company} Share Price\")\n",
    "plt.title(f\"{company} Share Price\")\n",
    "plt.legend()\n",
    "plt.show()"
   ]
  },
  {
   "cell_type": "code",
   "execution_count": 31,
   "id": "b53c7aa6",
   "metadata": {},
   "outputs": [
    {
     "name": "stdout",
     "output_type": "stream",
     "text": [
      "last price: 30.4500637054443\n",
      "real next price: 30.3145236968994\n",
      "back next price: [30.66691208]\n",
      "predicted: [30.67954]\n"
     ]
    }
   ],
   "source": [
    "print(f\"last price: {X_graph.iloc[26,0]}\")\n",
    "print(f\"real next price: {X_graph.iloc[27,0]}\")\n",
    "print(f\"back next price: {y_test_back[1]}\")\n",
    "print(f\"predicted: {prediction_back[1]}\")"
   ]
  },
  {
   "cell_type": "code",
   "execution_count": 32,
   "id": "3dd4f7af",
   "metadata": {},
   "outputs": [
    {
     "data": {
      "text/plain": [
       "[<matplotlib.lines.Line2D at 0x7f7c8cce9610>]"
      ]
     },
     "execution_count": 32,
     "metadata": {},
     "output_type": "execute_result"
    },
    {
     "data": {
      "image/png": "[encoded data removed]",
      "text/plain": [
       "<Figure size 432x288 with 1 Axes>"
      ]
     },
     "metadata": {
      "needs_background": "light"
     },
     "output_type": "display_data"
    }
   ],
   "source": [
    "plt.plot(X_graph.iloc[:18,0])\n",
    "#plt.scatter(range(len(y_test_back)), y_test_back,  color=\"black\", label=f\"Actual {company} Price\")\n",
    "#plt.scatter(range(len(y_test_back)),prediction_back, color=\"green\", label=f\"Predicted {company} Price\")"
   ]
  },
  {
   "cell_type": "code",
   "execution_count": 33,
   "id": "d130a9e5",
   "metadata": {},
   "outputs": [
    {
     "data": {
      "image/png": "[encoded data removed]",
      "text/plain": [
       "<Figure size 432x288 with 1 Axes>"
      ]
     },
     "metadata": {
      "needs_background": "light"
     },
     "output_type": "display_data"
    }
   ],
   "source": [
    "plt.scatter(range(len(y_test_back)), y_test_simple,  color=\"black\", label=f\"Actual {company} Price\")\n",
    "plt.scatter(range(len(y_test_back)),prediction_back, color=\"green\", label=f\"Predicted {company} Price\")\n",
    "plt.xlabel(\"\")\n",
    "plt.ylabel(f\"{company} Share Price\")\n",
    "plt.title(f\"{company} Share Price\")\n",
    "plt.legend()\n",
    "plt.show()"
   ]
  },
  {
   "cell_type": "code",
   "execution_count": 34,
   "id": "ae8d0619",
   "metadata": {},
   "outputs": [
    {
     "data": {
      "image/png": "[encoded data removed]",
      "text/plain": [
       "<Figure size 432x288 with 1 Axes>"
      ]
     },
     "metadata": {
      "needs_background": "light"
     },
     "output_type": "display_data"
    }
   ],
   "source": [
    "plt.plot(y_test_simple,  color=\"black\", label=f\"Actual {company} Price\")\n",
    "plt.plot(prediction_back, color=\"green\", label=f\"Predicted {company} Price\")\n",
    "plt.xlabel(\"\")\n",
    "plt.ylabel(f\"{company} Share Price\")\n",
    "plt.title(f\"{company} Share Price\")\n",
    "plt.legend()\n",
    "plt.show()"
   ]
  },
  {
   "cell_type": "code",
   "execution_count": 35,
   "id": "e1641134",
   "metadata": {},
   "outputs": [
    {
     "data": {
      "text/plain": [
       "2.0820882"
      ]
     },
     "execution_count": 35,
     "metadata": {},
     "output_type": "execute_result"
    }
   ],
   "source": [
    "mape = mean_absolute_percentage_error(y_test_back, prediction_back)\n",
    "np.mean(mape)"
   ]
  },
  {
   "cell_type": "code",
   "execution_count": 36,
   "id": "c3ff14ca",
   "metadata": {},
   "outputs": [
    {
     "data": {
      "text/plain": [
       "18.9677448750939"
      ]
     },
     "execution_count": 36,
     "metadata": {},
     "output_type": "execute_result"
    }
   ],
   "source": [
    "mape2 = mean_absolute_percentage_error(y_test_back, y_test_simple)\n",
    "np.mean(mape2)"
   ]
  },
  {
   "cell_type": "code",
   "execution_count": null,
   "id": "42e5343b",
   "metadata": {},
   "outputs": [],
   "source": []
  }
 ],
 "metadata": {
  "kernelspec": {
   "display_name": "Python 3",
   "language": "python",
   "name": "python3"
  },
  "language_info": {
   "codemirror_mode": {
    "name": "ipython",
    "version": 3
   },
   "file_extension": ".py",
   "mimetype": "text/x-python",
   "name": "python",
   "nbconvert_exporter": "python",
   "pygments_lexer": "ipython3",
   "version": "3.8.6"
  },
  "toc": {
   "base_numbering": 1,
   "nav_menu": {},
   "number_sections": true,
   "sideBar": true,
   "skip_h1_title": false,
   "title_cell": "Table of Contents",
   "title_sidebar": "Contents",
   "toc_cell": false,
   "toc_position": {},
   "toc_section_display": true,
   "toc_window_display": true
  }
 },
 "nbformat": 4,
 "nbformat_minor": 5
}
