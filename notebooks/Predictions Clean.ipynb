{
 "cells": [
  {
   "cell_type": "markdown",
   "id": "64cd605a",
   "metadata": {},
   "source": [
    "## Importing the libraries and modules"
   ]
  },
  {
   "cell_type": "code",
   "execution_count": 1,
   "id": "49836a1f",
   "metadata": {},
   "outputs": [],
   "source": [
    "%load_ext autoreload\n",
    "%autoreload 2\n",
    "import os\n",
    "import pandas as pd\n",
    "import numpy as np\n",
    "from stock_prices_predictions.get_data import *\n",
    "from tensorflow.keras.models import Sequential\n",
    "from tensorflow.keras.layers import LSTM, Dropout, Dense\n",
    "from tensorflow.keras import layers\n",
    "from sklearn.preprocessing import RobustScaler\n",
    "import matplotlib.pyplot as plt\n",
    "import seaborn as sns\n",
    "from tensorflow.keras.callbacks import EarlyStopping\n",
    "from tensorflow.keras.losses import mean_absolute_percentage_error\n",
    "import joblib\n",
    "from tensorflow.keras.models import load_model"
   ]
  },
  {
   "cell_type": "code",
   "execution_count": 2,
   "id": "625b9e62",
   "metadata": {},
   "outputs": [],
   "source": [
    "list_of_stocks = ['T', 'INTC', 'ADBE', 'JPM', 'PG', 'NVDA', 'AAPL', 'AMZN', 'UNH', 'MA']"
   ]
  },
  {
   "cell_type": "markdown",
   "id": "712ea5b6",
   "metadata": {},
   "source": [
    "## Models and transformers "
   ]
  },
  {
   "cell_type": "markdown",
   "id": "dd1c1f4d",
   "metadata": {},
   "source": [
    "### Scaler for each stock"
   ]
  },
  {
   "cell_type": "code",
   "execution_count": 3,
   "id": "7fbd9ff0",
   "metadata": {},
   "outputs": [],
   "source": [
    "dict_of_scaler = {}\n",
    "dict_of_model = {}\n",
    "\n",
    "for stock in list_of_stocks:\n",
    "    dict_of_scaler[stock] = joblib.load(f'{stock}_scaler.joblib')\n",
    "    dict_of_model[stock] = load_model(f'{stock}_model.h5')"
   ]
  },
  {
   "cell_type": "markdown",
   "id": "9ea19476",
   "metadata": {},
   "source": [
    "## Load Dataframe"
   ]
  },
  {
   "cell_type": "code",
   "execution_count": 4,
   "id": "f6fc03ad",
   "metadata": {},
   "outputs": [],
   "source": [
    "df = get_portfolio_data()"
   ]
  },
  {
   "cell_type": "markdown",
   "id": "905f2574",
   "metadata": {},
   "source": [
    "## User Input"
   ]
  },
  {
   "cell_type": "code",
   "execution_count": 7,
   "id": "6849a869",
   "metadata": {},
   "outputs": [],
   "source": [
    "prediction_date = '2015-04-15'\n",
    "#final_date = '2015-04-20'\n",
    "#initial_amount = 10000\n",
    "ticker_user = \"T\""
   ]
  },
  {
   "cell_type": "markdown",
   "id": "29790d0a",
   "metadata": {},
   "source": [
    "## Make Predictions"
   ]
  },
  {
   "cell_type": "markdown",
   "id": "e6878dcb",
   "metadata": {},
   "source": [
    "### Getting the data to predict"
   ]
  },
  {
   "cell_type": "code",
   "execution_count": 14,
   "id": "7bf7f298",
   "metadata": {},
   "outputs": [],
   "source": [
    "def data_predict(ticker_user):\n",
    "    df_ticker = df[df[\"ticker\"] == ticker_user]\n",
    "    df_ticker.reset_index(inplace=True)\n",
    "    ind = df_ticker.index[df_ticker[\"date\"] == prediction_date].tolist()\n",
    "    df_ticker = df_ticker[ind[0]-19:ind[0]+1]\n",
    "    df_ticker = df_ticker.adj_close\n",
    "    return df_ticker"
   ]
  },
  {
   "cell_type": "code",
   "execution_count": 15,
   "id": "4aeed5c5",
   "metadata": {},
   "outputs": [
    {
     "data": {
      "text/plain": [
       "51    27.978201\n",
       "52    27.653355\n",
       "53    27.678341\n",
       "54    27.719986\n",
       "55    27.545074\n",
       "56    27.170254\n",
       "57    27.336845\n",
       "58    27.278532\n",
       "59    27.461779\n",
       "60    27.195242\n",
       "61    27.395142\n",
       "62    27.595055\n",
       "63    27.761641\n",
       "64    27.620039\n",
       "65    27.586241\n",
       "66    27.620037\n",
       "67    27.687632\n",
       "68    27.780569\n",
       "69    27.620037\n",
       "70    27.789013\n",
       "Name: adj_close, dtype: float64"
      ]
     },
     "execution_count": 15,
     "metadata": {},
     "output_type": "execute_result"
    }
   ],
   "source": [
    "data_predict(ticker_user)"
   ]
  },
  {
   "cell_type": "markdown",
   "id": "d86c548c",
   "metadata": {},
   "source": [
    "### Making scaling and predictions"
   ]
  },
  {
   "cell_type": "code",
   "execution_count": null,
   "id": "e2488479",
   "metadata": {},
   "outputs": [],
   "source": [
    "type(X_test_T2)"
   ]
  },
  {
   "cell_type": "code",
   "execution_count": 18,
   "id": "5ac47e4c",
   "metadata": {},
   "outputs": [],
   "source": [
    "df_ticker = pd.DataFrame(data_predict(ticker_user)[:-1])"
   ]
  },
  {
   "cell_type": "code",
   "execution_count": 25,
   "id": "7b7dfcf1",
   "metadata": {},
   "outputs": [],
   "source": [
    "X_test_T = dict_of_scaler[ticker_user].transform(df_ticker)\n",
    "\n",
    "#X_test_T2 = create_sequences_scaled(pd.DataFrame(X_test_T))\n",
    "\n",
    "prediction = dict_of_model[ticker_user].predict(X_test_T[np.newaxis,:,:])\n",
    "\n",
    "prediction_back = dict_of_scaler[ticker_user].inverse_transform(prediction.reshape(-1, 1))"
   ]
  },
  {
   "cell_type": "code",
   "execution_count": 22,
   "id": "a0e9a2d3",
   "metadata": {},
   "outputs": [],
   "source": [
    "#Add a new dimension to the model\n",
    "#X_test_2 = X_test_T[np.newaxis,:,:]"
   ]
  },
  {
   "cell_type": "code",
   "execution_count": 26,
   "id": "60de4a6e",
   "metadata": {},
   "outputs": [
    {
     "data": {
      "text/plain": [
       "array([[27.30527]], dtype=float32)"
      ]
     },
     "execution_count": 26,
     "metadata": {},
     "output_type": "execute_result"
    }
   ],
   "source": [
    "prediction_back"
   ]
  },
  {
   "cell_type": "code",
   "execution_count": 28,
   "id": "416a3127",
   "metadata": {},
   "outputs": [
    {
     "data": {
      "text/plain": [
       "51    27.978201\n",
       "52    27.653355\n",
       "53    27.678341\n",
       "54    27.719986\n",
       "55    27.545074\n",
       "56    27.170254\n",
       "57    27.336845\n",
       "58    27.278532\n",
       "59    27.461779\n",
       "60    27.195242\n",
       "61    27.395142\n",
       "62    27.595055\n",
       "63    27.761641\n",
       "64    27.620039\n",
       "65    27.586241\n",
       "66    27.620037\n",
       "67    27.687632\n",
       "68    27.780569\n",
       "69    27.620037\n",
       "70    27.789013\n",
       "Name: adj_close, dtype: float64"
      ]
     },
     "execution_count": 28,
     "metadata": {},
     "output_type": "execute_result"
    }
   ],
   "source": [
    "data_predict(ticker_user)"
   ]
  },
  {
   "cell_type": "code",
   "execution_count": null,
   "id": "e043f372",
   "metadata": {},
   "outputs": [],
   "source": []
  }
 ],
 "metadata": {
  "kernelspec": {
   "display_name": "Python 3",
   "language": "python",
   "name": "python3"
  },
  "language_info": {
   "codemirror_mode": {
    "name": "ipython",
    "version": 3
   },
   "file_extension": ".py",
   "mimetype": "text/x-python",
   "name": "python",
   "nbconvert_exporter": "python",
   "pygments_lexer": "ipython3",
   "version": "3.8.6"
  },
  "toc": {
   "base_numbering": 1,
   "nav_menu": {},
   "number_sections": true,
   "sideBar": true,
   "skip_h1_title": false,
   "title_cell": "Table of Contents",
   "title_sidebar": "Contents",
   "toc_cell": false,
   "toc_position": {},
   "toc_section_display": true,
   "toc_window_display": false
  }
 },
 "nbformat": 4,
 "nbformat_minor": 5
}
