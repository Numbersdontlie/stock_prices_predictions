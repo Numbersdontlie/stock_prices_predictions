{
 "cells": [
  {
   "cell_type": "markdown",
   "id": "64cd605a",
   "metadata": {},
   "source": [
    "## Importing the libraries and modules"
   ]
  },
  {
   "cell_type": "code",
   "execution_count": 1,
   "id": "49836a1f",
   "metadata": {},
   "outputs": [],
   "source": [
    "%load_ext autoreload\n",
    "%autoreload 2\n",
    "import os\n",
    "import pandas as pd\n",
    "import numpy as np\n",
    "from stock_prices_predictions.get_data import *\n",
    "from tensorflow.keras.models import Sequential\n",
    "from tensorflow.keras.layers import LSTM, Dropout, Dense\n",
    "from tensorflow.keras import layers\n",
    "from sklearn.preprocessing import RobustScaler\n",
    "import matplotlib.pyplot as plt\n",
    "import seaborn as sns\n",
    "from tensorflow.keras.callbacks import EarlyStopping\n",
    "from tensorflow.keras.losses import mean_absolute_percentage_error\n",
    "import joblib\n",
    "from tensorflow.keras.models import load_model"
   ]
  },
  {
   "cell_type": "code",
   "execution_count": 2,
   "id": "625b9e62",
   "metadata": {},
   "outputs": [],
   "source": [
    "list_of_stocks = ['T', 'INTC', 'ADBE', 'JPM', 'PG', 'NVDA', 'AAPL', 'AMZN', 'UNH', 'MA']"
   ]
  },
  {
   "cell_type": "markdown",
   "id": "712ea5b6",
   "metadata": {},
   "source": [
    "## Models and transformers "
   ]
  },
  {
   "cell_type": "markdown",
   "id": "dd1c1f4d",
   "metadata": {},
   "source": [
    "### Scaler for each stock"
   ]
  },
  {
   "cell_type": "code",
   "execution_count": 3,
   "id": "7fbd9ff0",
   "metadata": {},
   "outputs": [],
   "source": [
    "dict_of_scaler = {}\n",
    "dict_of_model = {}\n",
    "\n",
    "for stock in list_of_stocks:\n",
    "    dict_of_scaler[stock] = joblib.load(f'../models_scalers/{stock}_scaler.joblib')\n",
    "    dict_of_model[stock] = load_model(f'../models_scalers/{stock}_model.h5')"
   ]
  },
  {
   "cell_type": "markdown",
   "id": "9ea19476",
   "metadata": {},
   "source": [
    "## Load Dataframe"
   ]
  },
  {
   "cell_type": "code",
   "execution_count": 4,
   "id": "f6fc03ad",
   "metadata": {},
   "outputs": [
    {
     "name": "stdout",
     "output_type": "stream",
     "text": [
      "enter get portfolio data\n"
     ]
    }
   ],
   "source": [
    "df = get_portfolio_data()"
   ]
  },
  {
   "cell_type": "code",
   "execution_count": 8,
   "id": "5c841cc8",
   "metadata": {},
   "outputs": [
    {
     "data": {
      "text/html": [
       "<div>\n",
       "<style scoped>\n",
       "    .dataframe tbody tr th:only-of-type {\n",
       "        vertical-align: middle;\n",
       "    }\n",
       "\n",
       "    .dataframe tbody tr th {\n",
       "        vertical-align: top;\n",
       "    }\n",
       "\n",
       "    .dataframe thead th {\n",
       "        text-align: right;\n",
       "    }\n",
       "</style>\n",
       "<table border=\"1\" class=\"dataframe\">\n",
       "  <thead>\n",
       "    <tr style=\"text-align: right;\">\n",
       "      <th></th>\n",
       "      <th>ticker</th>\n",
       "      <th>open</th>\n",
       "      <th>close</th>\n",
       "      <th>adj_close</th>\n",
       "      <th>low</th>\n",
       "      <th>high</th>\n",
       "      <th>volume</th>\n",
       "      <th>date</th>\n",
       "      <th>sector</th>\n",
       "      <th>year</th>\n",
       "      <th>month</th>\n",
       "      <th>day</th>\n",
       "    </tr>\n",
       "  </thead>\n",
       "  <tbody>\n",
       "    <tr>\n",
       "      <th>8336</th>\n",
       "      <td>AAPL</td>\n",
       "      <td>79.382858</td>\n",
       "      <td>79.018570</td>\n",
       "      <td>67.486176</td>\n",
       "      <td>78.860001</td>\n",
       "      <td>79.575714</td>\n",
       "      <td>58671200</td>\n",
       "      <td>2014-01-02</td>\n",
       "      <td>TECHNOLOGY</td>\n",
       "      <td>2014</td>\n",
       "      <td>1</td>\n",
       "      <td>2</td>\n",
       "    </tr>\n",
       "    <tr>\n",
       "      <th>8337</th>\n",
       "      <td>AAPL</td>\n",
       "      <td>78.980003</td>\n",
       "      <td>77.282860</td>\n",
       "      <td>66.003777</td>\n",
       "      <td>77.204285</td>\n",
       "      <td>79.099998</td>\n",
       "      <td>98116900</td>\n",
       "      <td>2014-01-03</td>\n",
       "      <td>TECHNOLOGY</td>\n",
       "      <td>2014</td>\n",
       "      <td>1</td>\n",
       "      <td>3</td>\n",
       "    </tr>\n",
       "    <tr>\n",
       "      <th>8338</th>\n",
       "      <td>AAPL</td>\n",
       "      <td>76.778572</td>\n",
       "      <td>77.704285</td>\n",
       "      <td>66.363701</td>\n",
       "      <td>76.228569</td>\n",
       "      <td>78.114288</td>\n",
       "      <td>103152700</td>\n",
       "      <td>2014-01-06</td>\n",
       "      <td>TECHNOLOGY</td>\n",
       "      <td>2014</td>\n",
       "      <td>1</td>\n",
       "      <td>6</td>\n",
       "    </tr>\n",
       "    <tr>\n",
       "      <th>8339</th>\n",
       "      <td>AAPL</td>\n",
       "      <td>77.760002</td>\n",
       "      <td>77.148575</td>\n",
       "      <td>65.889114</td>\n",
       "      <td>76.845711</td>\n",
       "      <td>77.994286</td>\n",
       "      <td>79302300</td>\n",
       "      <td>2014-01-07</td>\n",
       "      <td>TECHNOLOGY</td>\n",
       "      <td>2014</td>\n",
       "      <td>1</td>\n",
       "      <td>7</td>\n",
       "    </tr>\n",
       "    <tr>\n",
       "      <th>8340</th>\n",
       "      <td>AAPL</td>\n",
       "      <td>76.972855</td>\n",
       "      <td>77.637146</td>\n",
       "      <td>66.306381</td>\n",
       "      <td>76.955711</td>\n",
       "      <td>77.937141</td>\n",
       "      <td>64632400</td>\n",
       "      <td>2014-01-08</td>\n",
       "      <td>TECHNOLOGY</td>\n",
       "      <td>2014</td>\n",
       "      <td>1</td>\n",
       "      <td>8</td>\n",
       "    </tr>\n",
       "  </tbody>\n",
       "</table>\n",
       "</div>"
      ],
      "text/plain": [
       "     ticker       open      close  adj_close        low       high     volume  \\\n",
       "8336   AAPL  79.382858  79.018570  67.486176  78.860001  79.575714   58671200   \n",
       "8337   AAPL  78.980003  77.282860  66.003777  77.204285  79.099998   98116900   \n",
       "8338   AAPL  76.778572  77.704285  66.363701  76.228569  78.114288  103152700   \n",
       "8339   AAPL  77.760002  77.148575  65.889114  76.845711  77.994286   79302300   \n",
       "8340   AAPL  76.972855  77.637146  66.306381  76.955711  77.937141   64632400   \n",
       "\n",
       "           date      sector  year  month  day  \n",
       "8336 2014-01-02  TECHNOLOGY  2014      1    2  \n",
       "8337 2014-01-03  TECHNOLOGY  2014      1    3  \n",
       "8338 2014-01-06  TECHNOLOGY  2014      1    6  \n",
       "8339 2014-01-07  TECHNOLOGY  2014      1    7  \n",
       "8340 2014-01-08  TECHNOLOGY  2014      1    8  "
      ]
     },
     "execution_count": 8,
     "metadata": {},
     "output_type": "execute_result"
    }
   ],
   "source": [
    "df.head()"
   ]
  },
  {
   "cell_type": "markdown",
   "id": "905f2574",
   "metadata": {},
   "source": [
    "## User Input"
   ]
  },
  {
   "cell_type": "code",
   "execution_count": 5,
   "id": "6849a869",
   "metadata": {},
   "outputs": [],
   "source": [
    "prediction_date = '2015-04-15'\n",
    "#final_date = '2015-04-20'\n",
    "#initial_amount = 10000\n",
    "ticker_user = \"T\""
   ]
  },
  {
   "cell_type": "code",
   "execution_count": 13,
   "id": "e9296254",
   "metadata": {},
   "outputs": [
    {
     "data": {
      "text/plain": [
       "str"
      ]
     },
     "execution_count": 13,
     "metadata": {},
     "output_type": "execute_result"
    }
   ],
   "source": [
    "type(prediction_date)"
   ]
  },
  {
   "cell_type": "markdown",
   "id": "29790d0a",
   "metadata": {},
   "source": [
    "## Make Predictions"
   ]
  },
  {
   "cell_type": "markdown",
   "id": "e6878dcb",
   "metadata": {},
   "source": [
    "### Getting the data to predict"
   ]
  },
  {
   "cell_type": "code",
   "execution_count": 16,
   "id": "7bf7f298",
   "metadata": {},
   "outputs": [],
   "source": [
    "def data_predict(ticker_user):\n",
    "    df_ticker = df[df[\"ticker\"] == ticker_user]\n",
    "    df_ticker.reset_index(inplace=True)\n",
    "    ind = df_ticker.index[df_ticker[\"date\"] == '2015-04-15'].tolist()\n",
    "    print(ind)\n",
    "    df_ticker = df_ticker[ind[0]-19:ind[0]+1]\n",
    "    df_ticker = df_ticker.adj_close\n",
    "    return df_ticker"
   ]
  },
  {
   "cell_type": "code",
   "execution_count": 17,
   "id": "4aeed5c5",
   "metadata": {},
   "outputs": [
    {
     "name": "stdout",
     "output_type": "stream",
     "text": [
      "[322]\n"
     ]
    },
    {
     "data": {
      "text/plain": [
       "303    27.978201\n",
       "304    27.653355\n",
       "305    27.678341\n",
       "306    27.719986\n",
       "307    27.545074\n",
       "308    27.170254\n",
       "309    27.336845\n",
       "310    27.278532\n",
       "311    27.461779\n",
       "312    27.195242\n",
       "313    27.395142\n",
       "314    27.595055\n",
       "315    27.761641\n",
       "316    27.620039\n",
       "317    27.586241\n",
       "318    27.620037\n",
       "319    27.687632\n",
       "320    27.780569\n",
       "321    27.620037\n",
       "322    27.789013\n",
       "Name: adj_close, dtype: float64"
      ]
     },
     "execution_count": 17,
     "metadata": {},
     "output_type": "execute_result"
    }
   ],
   "source": [
    "data_predict(ticker_user)"
   ]
  },
  {
   "cell_type": "markdown",
   "id": "d86c548c",
   "metadata": {},
   "source": [
    "### Making scaling and predictions"
   ]
  },
  {
   "cell_type": "code",
   "execution_count": 10,
   "id": "e2488479",
   "metadata": {},
   "outputs": [
    {
     "ename": "NameError",
     "evalue": "name 'X_test_T2' is not defined",
     "output_type": "error",
     "traceback": [
      "\u001b[0;31m---------------------------------------------------------------------------\u001b[0m",
      "\u001b[0;31mNameError\u001b[0m                                 Traceback (most recent call last)",
      "\u001b[0;32m<ipython-input-10-1712058a03ff>\u001b[0m in \u001b[0;36m<module>\u001b[0;34m\u001b[0m\n\u001b[0;32m----> 1\u001b[0;31m \u001b[0mtype\u001b[0m\u001b[0;34m(\u001b[0m\u001b[0mX_test_T2\u001b[0m\u001b[0;34m)\u001b[0m\u001b[0;34m\u001b[0m\u001b[0;34m\u001b[0m\u001b[0m\n\u001b[0m",
      "\u001b[0;31mNameError\u001b[0m: name 'X_test_T2' is not defined"
     ]
    }
   ],
   "source": [
    "type(X_test_T2)"
   ]
  },
  {
   "cell_type": "code",
   "execution_count": 11,
   "id": "5ac47e4c",
   "metadata": {},
   "outputs": [],
   "source": [
    "df_ticker = pd.DataFrame(data_predict(ticker_user)[:-1])"
   ]
  },
  {
   "cell_type": "code",
   "execution_count": 12,
   "id": "7b7dfcf1",
   "metadata": {},
   "outputs": [],
   "source": [
    "X_test_T = dict_of_scaler[ticker_user].transform(df_ticker)\n",
    "\n",
    "#X_test_T2 = create_sequences_scaled(pd.DataFrame(X_test_T))\n",
    "\n",
    "prediction = dict_of_model[ticker_user].predict(X_test_T[np.newaxis,:,:])\n",
    "\n",
    "prediction_back = dict_of_scaler[ticker_user].inverse_transform(prediction.reshape(-1, 1))"
   ]
  },
  {
   "cell_type": "code",
   "execution_count": null,
   "id": "a0e9a2d3",
   "metadata": {},
   "outputs": [],
   "source": [
    "#Add a new dimension to the model\n",
    "#X_test_2 = X_test_T[np.newaxis,:,:]"
   ]
  },
  {
   "cell_type": "code",
   "execution_count": 14,
   "id": "60de4a6e",
   "metadata": {},
   "outputs": [
    {
     "data": {
      "text/plain": [
       "27.30527"
      ]
     },
     "execution_count": 14,
     "metadata": {},
     "output_type": "execute_result"
    }
   ],
   "source": [
    "prediction_back[0][0]"
   ]
  },
  {
   "cell_type": "code",
   "execution_count": null,
   "id": "416a3127",
   "metadata": {},
   "outputs": [],
   "source": [
    "data_predict(ticker_user)"
   ]
  },
  {
   "cell_type": "code",
   "execution_count": null,
   "id": "e043f372",
   "metadata": {},
   "outputs": [],
   "source": []
  }
 ],
 "metadata": {
  "kernelspec": {
   "display_name": "Python 3",
   "language": "python",
   "name": "python3"
  },
  "language_info": {
   "codemirror_mode": {
    "name": "ipython",
    "version": 3
   },
   "file_extension": ".py",
   "mimetype": "text/x-python",
   "name": "python",
   "nbconvert_exporter": "python",
   "pygments_lexer": "ipython3",
   "version": "3.8.6"
  },
  "toc": {
   "base_numbering": 1,
   "nav_menu": {},
   "number_sections": true,
   "sideBar": true,
   "skip_h1_title": false,
   "title_cell": "Table of Contents",
   "title_sidebar": "Contents",
   "toc_cell": false,
   "toc_position": {},
   "toc_section_display": true,
   "toc_window_display": false
  }
 },
 "nbformat": 4,
 "nbformat_minor": 5
}
