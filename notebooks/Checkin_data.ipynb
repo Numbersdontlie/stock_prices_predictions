{
 "cells": [
  {
   "cell_type": "markdown",
   "id": "4663110c",
   "metadata": {},
   "source": [
    "# Data visualization"
   ]
  },
  {
   "cell_type": "markdown",
   "id": "0a9f89dd",
   "metadata": {},
   "source": [
    "### Import libraries"
   ]
  },
  {
   "cell_type": "code",
   "execution_count": 1,
   "id": "436fd4d5",
   "metadata": {},
   "outputs": [
    {
     "data": {
      "text/plain": [
       "<Figure size 1440x360 with 0 Axes>"
      ]
     },
     "metadata": {},
     "output_type": "display_data"
    }
   ],
   "source": [
    "import os\n",
    "import pandas as pd\n",
    "import matplotlib.pyplot as plt\n",
    "import numpy as np\n",
    "import seaborn as sns\n",
    "plt.style.use('fivethirtyeight')\n",
    "plt.rcParams['font.size'] = 14\n",
    "plt.figure(figsize=(20,5))\n",
    "palette = sns.color_palette('Paired', 10)"
   ]
  },
  {
   "cell_type": "markdown",
   "id": "9b036f17",
   "metadata": {},
   "source": [
    "## Import data"
   ]
  },
  {
   "cell_type": "code",
   "execution_count": 5,
   "id": "f957a422",
   "metadata": {},
   "outputs": [],
   "source": [
    "cwd = os.getcwd()\n",
    "simp_path = 'raw_data/historical_stock_prices.csv'\n",
    "abs_path = os.path.abspath(os.path.join(cwd,'..',simp_path))\n",
    "df = pd.read_csv(abs_path)"
   ]
  },
  {
   "cell_type": "code",
   "execution_count": 6,
   "id": "df81f997",
   "metadata": {},
   "outputs": [],
   "source": [
    "simp_path2 = 'raw_data/historical_stocks.csv'\n",
    "abs_path2 = os.path.abspath(os.path.join(cwd,'..',simp_path2))\n",
    "df2 = pd.read_csv(abs_path2)"
   ]
  },
  {
   "cell_type": "code",
   "execution_count": 7,
   "id": "e89f73c7",
   "metadata": {},
   "outputs": [],
   "source": [
    "simp_path3 = 'raw_data/constituents_csv.csv'\n",
    "abs_path3 = os.path.abspath(os.path.join(cwd,'..',simp_path3))\n",
    "df3 = pd.read_csv(abs_path3)"
   ]
  },
  {
   "cell_type": "code",
   "execution_count": 8,
   "id": "f469b513",
   "metadata": {},
   "outputs": [],
   "source": [
    "df3['ticker'] = df3['Symbol']"
   ]
  },
  {
   "cell_type": "code",
   "execution_count": 9,
   "id": "ea8593f5",
   "metadata": {},
   "outputs": [],
   "source": [
    "df3 = df3['ticker']"
   ]
  },
  {
   "cell_type": "code",
   "execution_count": 10,
   "id": "4b112d74",
   "metadata": {},
   "outputs": [],
   "source": [
    "df = df.merge(df3, on=\"ticker\")"
   ]
  },
  {
   "cell_type": "code",
   "execution_count": 11,
   "id": "3e9de9c1",
   "metadata": {},
   "outputs": [
    {
     "data": {
      "text/plain": [
       "(3370001, 8)"
      ]
     },
     "execution_count": 11,
     "metadata": {},
     "output_type": "execute_result"
    }
   ],
   "source": [
    "df.shape"
   ]
  },
  {
   "cell_type": "code",
   "execution_count": 12,
   "id": "cdad9c45",
   "metadata": {},
   "outputs": [
    {
     "name": "stdout",
     "output_type": "stream",
     "text": [
      "We have 482 in the dataframe\n"
     ]
    }
   ],
   "source": [
    "print(f\"We have {df.ticker.nunique()} in the dataframe\")"
   ]
  },
  {
   "cell_type": "code",
   "execution_count": 13,
   "id": "b53eb528",
   "metadata": {},
   "outputs": [
    {
     "data": {
      "text/html": [
       "<div>\n",
       "<style scoped>\n",
       "    .dataframe tbody tr th:only-of-type {\n",
       "        vertical-align: middle;\n",
       "    }\n",
       "\n",
       "    .dataframe tbody tr th {\n",
       "        vertical-align: top;\n",
       "    }\n",
       "\n",
       "    .dataframe thead th {\n",
       "        text-align: right;\n",
       "    }\n",
       "</style>\n",
       "<table border=\"1\" class=\"dataframe\">\n",
       "  <thead>\n",
       "    <tr style=\"text-align: right;\">\n",
       "      <th></th>\n",
       "      <th>ticker</th>\n",
       "      <th>open</th>\n",
       "      <th>close</th>\n",
       "      <th>adj_close</th>\n",
       "      <th>low</th>\n",
       "      <th>high</th>\n",
       "      <th>volume</th>\n",
       "      <th>date</th>\n",
       "    </tr>\n",
       "  </thead>\n",
       "  <tbody>\n",
       "    <tr>\n",
       "      <th>0</th>\n",
       "      <td>AAPL</td>\n",
       "      <td>0.513393</td>\n",
       "      <td>0.513393</td>\n",
       "      <td>0.023186</td>\n",
       "      <td>0.513393</td>\n",
       "      <td>0.515625</td>\n",
       "      <td>117258400</td>\n",
       "      <td>1980-12-12</td>\n",
       "    </tr>\n",
       "    <tr>\n",
       "      <th>1</th>\n",
       "      <td>AAPL</td>\n",
       "      <td>0.488839</td>\n",
       "      <td>0.486607</td>\n",
       "      <td>0.021977</td>\n",
       "      <td>0.486607</td>\n",
       "      <td>0.488839</td>\n",
       "      <td>43971200</td>\n",
       "      <td>1980-12-15</td>\n",
       "    </tr>\n",
       "    <tr>\n",
       "      <th>2</th>\n",
       "      <td>AAPL</td>\n",
       "      <td>0.453125</td>\n",
       "      <td>0.450893</td>\n",
       "      <td>0.020364</td>\n",
       "      <td>0.450893</td>\n",
       "      <td>0.453125</td>\n",
       "      <td>26432000</td>\n",
       "      <td>1980-12-16</td>\n",
       "    </tr>\n",
       "    <tr>\n",
       "      <th>3</th>\n",
       "      <td>AAPL</td>\n",
       "      <td>0.462054</td>\n",
       "      <td>0.462054</td>\n",
       "      <td>0.020868</td>\n",
       "      <td>0.462054</td>\n",
       "      <td>0.464286</td>\n",
       "      <td>21610400</td>\n",
       "      <td>1980-12-17</td>\n",
       "    </tr>\n",
       "    <tr>\n",
       "      <th>4</th>\n",
       "      <td>AAPL</td>\n",
       "      <td>0.475446</td>\n",
       "      <td>0.475446</td>\n",
       "      <td>0.021473</td>\n",
       "      <td>0.475446</td>\n",
       "      <td>0.477679</td>\n",
       "      <td>18362400</td>\n",
       "      <td>1980-12-18</td>\n",
       "    </tr>\n",
       "  </tbody>\n",
       "</table>\n",
       "</div>"
      ],
      "text/plain": [
       "  ticker      open     close  adj_close       low      high     volume  \\\n",
       "0   AAPL  0.513393  0.513393   0.023186  0.513393  0.515625  117258400   \n",
       "1   AAPL  0.488839  0.486607   0.021977  0.486607  0.488839   43971200   \n",
       "2   AAPL  0.453125  0.450893   0.020364  0.450893  0.453125   26432000   \n",
       "3   AAPL  0.462054  0.462054   0.020868  0.462054  0.464286   21610400   \n",
       "4   AAPL  0.475446  0.475446   0.021473  0.475446  0.477679   18362400   \n",
       "\n",
       "         date  \n",
       "0  1980-12-12  \n",
       "1  1980-12-15  \n",
       "2  1980-12-16  \n",
       "3  1980-12-17  \n",
       "4  1980-12-18  "
      ]
     },
     "execution_count": 13,
     "metadata": {},
     "output_type": "execute_result"
    }
   ],
   "source": [
    "df.head()"
   ]
  },
  {
   "cell_type": "code",
   "execution_count": 14,
   "id": "448ab801",
   "metadata": {},
   "outputs": [
    {
     "data": {
      "text/plain": [
       "3370001"
      ]
     },
     "execution_count": 14,
     "metadata": {},
     "output_type": "execute_result"
    }
   ],
   "source": [
    "len(df)"
   ]
  },
  {
   "cell_type": "code",
   "execution_count": 15,
   "id": "e3e73edc",
   "metadata": {},
   "outputs": [
    {
     "data": {
      "text/plain": [
       "9507"
      ]
     },
     "execution_count": 15,
     "metadata": {},
     "output_type": "execute_result"
    }
   ],
   "source": [
    "len(df[df['ticker']=='AAPL'])"
   ]
  },
  {
   "cell_type": "code",
   "execution_count": 16,
   "id": "ab88d9d8",
   "metadata": {},
   "outputs": [
    {
     "data": {
      "text/plain": [
       "Index(['ticker', 'open', 'close', 'adj_close', 'low', 'high', 'volume',\n",
       "       'date'],\n",
       "      dtype='object')"
      ]
     },
     "execution_count": 16,
     "metadata": {},
     "output_type": "execute_result"
    }
   ],
   "source": [
    "df.columns"
   ]
  },
  {
   "cell_type": "code",
   "execution_count": 17,
   "id": "2bb11586",
   "metadata": {},
   "outputs": [],
   "source": [
    "df2 = df2[['ticker', 'sector']]"
   ]
  },
  {
   "cell_type": "code",
   "execution_count": 18,
   "id": "9f8c606f",
   "metadata": {},
   "outputs": [],
   "source": [
    "df = df.merge(df2, on='ticker', how='left')"
   ]
  },
  {
   "cell_type": "code",
   "execution_count": 19,
   "id": "e898521c",
   "metadata": {
    "scrolled": true
   },
   "outputs": [
    {
     "data": {
      "text/plain": [
       "ticker          0\n",
       "open            0\n",
       "close           0\n",
       "adj_close       0\n",
       "low             0\n",
       "high            0\n",
       "volume          0\n",
       "date            0\n",
       "sector       1941\n",
       "dtype: int64"
      ]
     },
     "execution_count": 19,
     "metadata": {},
     "output_type": "execute_result"
    }
   ],
   "source": [
    "df.isnull().sum()"
   ]
  },
  {
   "cell_type": "code",
   "execution_count": 20,
   "id": "3a292fbf",
   "metadata": {},
   "outputs": [
    {
     "data": {
      "text/plain": [
       "array(['TECHNOLOGY', 'FINANCE', 'CONSUMER DURABLES', 'CONSUMER SERVICES',\n",
       "       'HEALTH CARE', 'PUBLIC UTILITIES', 'CONSUMER NON-DURABLES',\n",
       "       'MISCELLANEOUS', 'ENERGY', 'BASIC INDUSTRIES', 'TRANSPORTATION',\n",
       "       'CAPITAL GOODS', nan], dtype=object)"
      ]
     },
     "execution_count": 20,
     "metadata": {},
     "output_type": "execute_result"
    }
   ],
   "source": [
    "df.sector.unique()"
   ]
  },
  {
   "cell_type": "code",
   "execution_count": 21,
   "id": "56e804be",
   "metadata": {},
   "outputs": [],
   "source": [
    "df = df[df.ticker != 'FRC']"
   ]
  },
  {
   "cell_type": "code",
   "execution_count": 22,
   "id": "7fc7add2",
   "metadata": {},
   "outputs": [
    {
     "data": {
      "text/plain": [
       "ticker       0\n",
       "open         0\n",
       "close        0\n",
       "adj_close    0\n",
       "low          0\n",
       "high         0\n",
       "volume       0\n",
       "date         0\n",
       "sector       0\n",
       "dtype: int64"
      ]
     },
     "execution_count": 22,
     "metadata": {},
     "output_type": "execute_result"
    }
   ],
   "source": [
    "df.isnull().sum()"
   ]
  },
  {
   "cell_type": "code",
   "execution_count": 36,
   "id": "a194429c-9706-4af3-9aba-1d5e5cd52482",
   "metadata": {},
   "outputs": [],
   "source": [
    "df.date = pd.to_datetime(df.date)"
   ]
  },
  {
   "cell_type": "code",
   "execution_count": 38,
   "id": "c0862ef3-7cc3-4b30-a5d2-1a9c8f1be46f",
   "metadata": {},
   "outputs": [
    {
     "data": {
      "text/plain": [
       "ticker               object\n",
       "open                float64\n",
       "close               float64\n",
       "adj_close           float64\n",
       "low                 float64\n",
       "high                float64\n",
       "volume                int64\n",
       "date         datetime64[ns]\n",
       "sector               object\n",
       "dtype: object"
      ]
     },
     "execution_count": 38,
     "metadata": {},
     "output_type": "execute_result"
    }
   ],
   "source": [
    "df.dtypes"
   ]
  },
  {
   "cell_type": "code",
   "execution_count": 40,
   "id": "609f8ceb-dc61-41a9-8c07-7eddc0e0c7bd",
   "metadata": {},
   "outputs": [],
   "source": [
    "df['year'] = pd.DatetimeIndex(df['date']).year\n",
    "df['month'] = pd.DatetimeIndex(df['date']).month\n",
    "df['day'] = pd.DatetimeIndex(df['date']).day"
   ]
  },
  {
   "cell_type": "code",
   "execution_count": 41,
   "id": "21463643-5e1b-40ee-9084-d96a3a0b0800",
   "metadata": {},
   "outputs": [
    {
     "data": {
      "text/plain": [
       "ticker               object\n",
       "open                float64\n",
       "close               float64\n",
       "adj_close           float64\n",
       "low                 float64\n",
       "high                float64\n",
       "volume                int64\n",
       "date         datetime64[ns]\n",
       "sector               object\n",
       "year                  int64\n",
       "month                 int64\n",
       "day                   int64\n",
       "dtype: object"
      ]
     },
     "execution_count": 41,
     "metadata": {},
     "output_type": "execute_result"
    }
   ],
   "source": [
    "df.dtypes"
   ]
  },
  {
   "cell_type": "code",
   "execution_count": 42,
   "id": "f910fcd8-d257-4923-b360-d573161fee6c",
   "metadata": {},
   "outputs": [
    {
     "data": {
      "text/plain": [
       "<bound method NDFrame.head of         ticker       open      close  adj_close        low       high  \\\n",
       "0         AAPL   0.513393   0.513393   0.023186   0.513393   0.515625   \n",
       "1         AAPL   0.488839   0.486607   0.021977   0.486607   0.488839   \n",
       "2         AAPL   0.453125   0.450893   0.020364   0.450893   0.453125   \n",
       "3         AAPL   0.462054   0.462054   0.020868   0.462054   0.464286   \n",
       "4         AAPL   0.475446   0.475446   0.021473   0.475446   0.477679   \n",
       "...        ...        ...        ...        ...        ...        ...   \n",
       "3369996   MNST  62.500000  62.090000  62.090000  61.820000  62.639999   \n",
       "3369997   MNST  62.450001  61.860001  61.860001  61.700001  62.500000   \n",
       "3369998   MNST  61.750000  61.009998  61.009998  60.980000  61.750000   \n",
       "3369999   MNST  60.980000  60.680000  60.680000  60.650002  61.180000   \n",
       "3370000   MNST  60.840000  60.650002  60.650002  60.500000  61.119999   \n",
       "\n",
       "            volume       date                 sector  year  month  day  \n",
       "0        117258400 1980-12-12             TECHNOLOGY  1980     12   12  \n",
       "1         43971200 1980-12-15             TECHNOLOGY  1980     12   15  \n",
       "2         26432000 1980-12-16             TECHNOLOGY  1980     12   16  \n",
       "3         21610400 1980-12-17             TECHNOLOGY  1980     12   17  \n",
       "4         18362400 1980-12-18             TECHNOLOGY  1980     12   18  \n",
       "...            ...        ...                    ...   ...    ...  ...  \n",
       "3369996    2536300 2018-08-20  CONSUMER NON-DURABLES  2018      8   20  \n",
       "3369997    2851000 2018-08-21  CONSUMER NON-DURABLES  2018      8   21  \n",
       "3369998    1478200 2018-08-22  CONSUMER NON-DURABLES  2018      8   22  \n",
       "3369999    1754500 2018-08-23  CONSUMER NON-DURABLES  2018      8   23  \n",
       "3370000    1330400 2018-08-24  CONSUMER NON-DURABLES  2018      8   24  \n",
       "\n",
       "[3368060 rows x 12 columns]>"
      ]
     },
     "execution_count": 42,
     "metadata": {},
     "output_type": "execute_result"
    }
   ],
   "source": [
    "df.head"
   ]
  },
  {
   "cell_type": "markdown",
   "id": "6bdf9497-5f9f-4c6f-951f-4b5f87437194",
   "metadata": {},
   "source": [
    "# get rid of years before 2000"
   ]
  },
  {
   "cell_type": "code",
   "execution_count": 43,
   "id": "db91e7e6-8337-4ee6-a886-170f0894d65d",
   "metadata": {},
   "outputs": [],
   "source": [
    "df = df[df.year>1999]"
   ]
  },
  {
   "cell_type": "code",
   "execution_count": 44,
   "id": "93c04b8b-d293-4ad1-a61d-c41c4c23bad0",
   "metadata": {},
   "outputs": [
    {
     "data": {
      "text/plain": [
       "array([2000, 2001, 2002, 2003, 2004, 2005, 2006, 2007, 2008, 2009, 2010,\n",
       "       2011, 2012, 2013, 2014, 2015, 2016, 2017, 2018])"
      ]
     },
     "execution_count": 44,
     "metadata": {},
     "output_type": "execute_result"
    }
   ],
   "source": [
    "df.year.unique()"
   ]
  },
  {
   "cell_type": "code",
   "execution_count": null,
   "id": "06ed8807-1bf7-4f9a-8ae0-be9c9bfc1df9",
   "metadata": {},
   "outputs": [],
   "source": []
  },
  {
   "cell_type": "code",
   "execution_count": null,
   "id": "8b1826f2-5f08-4636-b32f-1e0ef30c58dc",
   "metadata": {},
   "outputs": [],
   "source": []
  },
  {
   "cell_type": "code",
   "execution_count": null,
   "id": "45143abb-c604-4768-aa7b-33c9c228b1b7",
   "metadata": {},
   "outputs": [],
   "source": []
  },
  {
   "cell_type": "code",
   "execution_count": null,
   "id": "46191950-92e2-4889-985a-218623ed55cd",
   "metadata": {},
   "outputs": [],
   "source": []
  },
  {
   "cell_type": "code",
   "execution_count": null,
   "id": "670158bc-3de8-497e-8c2a-374d76452108",
   "metadata": {},
   "outputs": [],
   "source": []
  },
  {
   "cell_type": "markdown",
   "id": "e940cfa5",
   "metadata": {},
   "source": [
    "## Saving new DataFrame"
   ]
  },
  {
   "cell_type": "code",
   "execution_count": 45,
   "id": "b855cb3f",
   "metadata": {},
   "outputs": [],
   "source": [
    "cwd = os.getcwd()\n",
    "save_path = 'raw_data/df.csv'\n",
    "abs_path5 = os.path.abspath(os.path.join(cwd,'..',save_path))\n",
    "df.to_csv(abs_path5, index=False)"
   ]
  },
  {
   "cell_type": "markdown",
   "id": "56c3bbf4",
   "metadata": {},
   "source": [
    "## Data exploration"
   ]
  },
  {
   "cell_type": "code",
   "execution_count": 24,
   "id": "c8ca8dfd",
   "metadata": {},
   "outputs": [
    {
     "data": {
      "text/plain": [
       "<AxesSubplot:title={'center':'sector'}>"
      ]
     },
     "execution_count": 24,
     "metadata": {},
     "output_type": "execute_result"
    },
    {
     "data": {
      "image/png": "[encoded data removed]",
      "text/plain": [
       "<Figure size 432x288 with 1 Axes>"
      ]
     },
     "metadata": {},
     "output_type": "display_data"
    }
   ],
   "source": [
    "df['sector'].value_counts().plot(kind='barh', title='sector')"
   ]
  },
  {
   "cell_type": "markdown",
   "id": "640ae8b3",
   "metadata": {},
   "source": [
    "-Data has no null values"
   ]
  },
  {
   "cell_type": "code",
   "execution_count": 25,
   "id": "72b899cd",
   "metadata": {},
   "outputs": [
    {
     "data": {
      "text/html": [
       "<div>\n",
       "<style scoped>\n",
       "    .dataframe tbody tr th:only-of-type {\n",
       "        vertical-align: middle;\n",
       "    }\n",
       "\n",
       "    .dataframe tbody tr th {\n",
       "        vertical-align: top;\n",
       "    }\n",
       "\n",
       "    .dataframe thead th {\n",
       "        text-align: right;\n",
       "    }\n",
       "</style>\n",
       "<table border=\"1\" class=\"dataframe\">\n",
       "  <thead>\n",
       "    <tr style=\"text-align: right;\">\n",
       "      <th></th>\n",
       "      <th>sector</th>\n",
       "      <th>volume</th>\n",
       "    </tr>\n",
       "  </thead>\n",
       "  <tbody>\n",
       "    <tr>\n",
       "      <th>0</th>\n",
       "      <td>BASIC INDUSTRIES</td>\n",
       "      <td>494234721700</td>\n",
       "    </tr>\n",
       "    <tr>\n",
       "      <th>1</th>\n",
       "      <td>CAPITAL GOODS</td>\n",
       "      <td>750501953986</td>\n",
       "    </tr>\n",
       "    <tr>\n",
       "      <th>2</th>\n",
       "      <td>CONSUMER DURABLES</td>\n",
       "      <td>105777134500</td>\n",
       "    </tr>\n",
       "    <tr>\n",
       "      <th>3</th>\n",
       "      <td>CONSUMER NON-DURABLES</td>\n",
       "      <td>816500721125</td>\n",
       "    </tr>\n",
       "    <tr>\n",
       "      <th>4</th>\n",
       "      <td>CONSUMER SERVICES</td>\n",
       "      <td>1723071350300</td>\n",
       "    </tr>\n",
       "  </tbody>\n",
       "</table>\n",
       "</div>"
      ],
      "text/plain": [
       "                  sector         volume\n",
       "0       BASIC INDUSTRIES   494234721700\n",
       "1          CAPITAL GOODS   750501953986\n",
       "2      CONSUMER DURABLES   105777134500\n",
       "3  CONSUMER NON-DURABLES   816500721125\n",
       "4      CONSUMER SERVICES  1723071350300"
      ]
     },
     "execution_count": 25,
     "metadata": {},
     "output_type": "execute_result"
    }
   ],
   "source": [
    "df_grp_tick = df.groupby(['sector'])['volume'].sum().reset_index()\n",
    "df_grp_tick.head()"
   ]
  },
  {
   "cell_type": "code",
   "execution_count": 26,
   "id": "9311e09e",
   "metadata": {},
   "outputs": [
    {
     "data": {
      "text/plain": [
       "<AxesSubplot:xlabel='sector', ylabel='volume'>"
      ]
     },
     "execution_count": 26,
     "metadata": {},
     "output_type": "execute_result"
    },
    {
     "data": {
      "image/png": "[encoded data removed]",
      "text/plain": [
       "<Figure size 1440x360 with 1 Axes>"
      ]
     },
     "metadata": {},
     "output_type": "display_data"
    }
   ],
   "source": [
    "plt.figure(figsize=(20,5))\n",
    "sns.barplot(x='sector', y='volume', data=df_grp_tick)"
   ]
  },
  {
   "cell_type": "code",
   "execution_count": 27,
   "id": "6bf286eb",
   "metadata": {},
   "outputs": [
    {
     "data": {
      "text/plain": [
       "Text(0, 0.5, '')"
      ]
     },
     "execution_count": 27,
     "metadata": {},
     "output_type": "execute_result"
    },
    {
     "data": {
      "image/png": "[encoded data removed]",
      "text/plain": [
       "<Figure size 432x288 with 1 Axes>"
      ]
     },
     "metadata": {},
     "output_type": "display_data"
    }
   ],
   "source": [
    "ax=df['sector'].value_counts().plot(kind='pie', title='Sectors')\n",
    "ax.set_ylabel('')"
   ]
  },
  {
   "cell_type": "code",
   "execution_count": 28,
   "id": "f7efca4c",
   "metadata": {},
   "outputs": [
    {
     "data": {
      "image/png": "[encoded data removed]",
      "text/plain": [
       "<Figure size 1440x360 with 1 Axes>"
      ]
     },
     "metadata": {},
     "output_type": "display_data"
    }
   ],
   "source": [
    "plt.figure(figsize=(20,5))\n",
    "ax = sns.boxplot(x='sector', y='volume', data=df)\n"
   ]
  },
  {
   "cell_type": "code",
   "execution_count": null,
   "id": "f5bc3e45-f03b-4a74-bebd-5cd7799063b0",
   "metadata": {},
   "outputs": [],
   "source": []
  }
 ],
 "metadata": {
  "kernelspec": {
   "display_name": "Python 3",
   "language": "python",
   "name": "python3"
  },
  "language_info": {
   "codemirror_mode": {
    "name": "ipython",
    "version": 3
   },
   "file_extension": ".py",
   "mimetype": "text/x-python",
   "name": "python",
   "nbconvert_exporter": "python",
   "pygments_lexer": "ipython3",
   "version": "3.8.6"
  },
  "toc": {
   "base_numbering": 1,
   "nav_menu": {},
   "number_sections": true,
   "sideBar": true,
   "skip_h1_title": false,
   "title_cell": "Table of Contents",
   "title_sidebar": "Contents",
   "toc_cell": false,
   "toc_position": {},
   "toc_section_display": true,
   "toc_window_display": false
  }
 },
 "nbformat": 4,
 "nbformat_minor": 5
}
