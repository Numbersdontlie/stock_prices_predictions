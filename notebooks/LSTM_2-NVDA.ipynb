{
 "cells": [
  {
   "cell_type": "markdown",
   "id": "1f900ad4",
   "metadata": {},
   "source": [
    "# Import Libraries"
   ]
  },
  {
   "cell_type": "code",
   "execution_count": 1,
   "id": "9c828a39",
   "metadata": {},
   "outputs": [],
   "source": [
    "%load_ext autoreload\n",
    "%autoreload 2\n",
    "import os\n",
    "import pandas as pd\n",
    "import numpy as np\n",
    "from stock_prices_predictions.get_data import *\n",
    "from tensorflow.keras.models import Sequential\n",
    "from tensorflow.keras.layers import LSTM, Dropout, Dense\n",
    "from tensorflow.keras import layers\n",
    "from sklearn.preprocessing import RobustScaler\n",
    "import matplotlib.pyplot as plt\n",
    "import seaborn as sns\n",
    "from tensorflow.keras.callbacks import EarlyStopping\n",
    "from tensorflow.keras.losses import mean_absolute_percentage_error"
   ]
  },
  {
   "cell_type": "markdown",
   "id": "eb2a0b15",
   "metadata": {},
   "source": [
    "# Fetch data"
   ]
  },
  {
   "cell_type": "markdown",
   "id": "78b41ece",
   "metadata": {},
   "source": [
    "define company:"
   ]
  },
  {
   "cell_type": "code",
   "execution_count": 2,
   "id": "d8967dd4",
   "metadata": {},
   "outputs": [],
   "source": [
    "company = \"NVDA\"\n",
    "days_ahead = 1"
   ]
  },
  {
   "cell_type": "code",
   "execution_count": 3,
   "id": "ff25ae50",
   "metadata": {},
   "outputs": [],
   "source": [
    "X_train, X_test = get_lstm_data(company)"
   ]
  },
  {
   "cell_type": "code",
   "execution_count": 4,
   "id": "bafa7534",
   "metadata": {},
   "outputs": [
    {
     "data": {
      "text/plain": [
       "(3773, 1)"
      ]
     },
     "execution_count": 4,
     "metadata": {},
     "output_type": "execute_result"
    }
   ],
   "source": [
    "X_train.shape"
   ]
  },
  {
   "cell_type": "code",
   "execution_count": 5,
   "id": "b218cb76",
   "metadata": {
    "scrolled": true
   },
   "outputs": [
    {
     "data": {
      "text/plain": [
       "(919, 1)"
      ]
     },
     "execution_count": 5,
     "metadata": {},
     "output_type": "execute_result"
    }
   ],
   "source": [
    "X_test.shape"
   ]
  },
  {
   "cell_type": "markdown",
   "id": "0d8bfa02",
   "metadata": {},
   "source": [
    "# Scale data"
   ]
  },
  {
   "cell_type": "code",
   "execution_count": 6,
   "id": "f024f32f",
   "metadata": {},
   "outputs": [],
   "source": [
    "#try differente scalers\n",
    "scaler = RobustScaler()\n",
    "scaler.fit(X_train)\n",
    "X_train_sc = scaler.transform(X_train)\n",
    "\n",
    "X_test_sc = scaler.transform(X_test)"
   ]
  },
  {
   "cell_type": "code",
   "execution_count": 7,
   "id": "2edc95d0",
   "metadata": {},
   "outputs": [
    {
     "data": {
      "text/plain": [
       "(3773, 1)"
      ]
     },
     "execution_count": 7,
     "metadata": {},
     "output_type": "execute_result"
    }
   ],
   "source": [
    "X_train_sc.shape"
   ]
  },
  {
   "cell_type": "code",
   "execution_count": 8,
   "id": "78f21ae0",
   "metadata": {},
   "outputs": [
    {
     "data": {
      "text/plain": [
       "(919, 1)"
      ]
     },
     "execution_count": 8,
     "metadata": {},
     "output_type": "execute_result"
    }
   ],
   "source": [
    "X_test_sc.shape"
   ]
  },
  {
   "cell_type": "markdown",
   "id": "2820d651",
   "metadata": {},
   "source": [
    "# Create Sequences"
   ]
  },
  {
   "cell_type": "code",
   "execution_count": 9,
   "id": "64c734e9",
   "metadata": {},
   "outputs": [],
   "source": [
    "#X_train, y_train = create_sequences(pd.DataFrame(X_train_sc),pd.DataFrame(X_train), days_ahead)\n",
    "#X_test, y_test = create_sequences(pd.DataFrame(X_test_sc),pd.DataFrame(X_test), days_ahead)"
   ]
  },
  {
   "cell_type": "code",
   "execution_count": 10,
   "id": "9bc0d5ca",
   "metadata": {},
   "outputs": [],
   "source": [
    "#X_train, y_train = create_sequences_scaled(pd.DataFrame(X_train_sc), days_ahead)\n",
    "#X_test, y_test = create_sequences_scaled(pd.DataFrame(X_test_sc), days_ahead)"
   ]
  },
  {
   "cell_type": "code",
   "execution_count": 11,
   "id": "e75a4813",
   "metadata": {},
   "outputs": [],
   "source": [
    "X_train, y_train, y_train_simple = create_sequences_scaled_plus(pd.DataFrame(X_train_sc),pd.DataFrame(X_train), days_ahead)\n",
    "X_test, y_test, y_test_simple = create_sequences_scaled_plus(pd.DataFrame(X_test_sc), pd.DataFrame(X_test), days_ahead)"
   ]
  },
  {
   "cell_type": "code",
   "execution_count": 12,
   "id": "da79583e",
   "metadata": {},
   "outputs": [
    {
     "data": {
      "text/plain": [
       "(919, 19, 1)"
      ]
     },
     "execution_count": 12,
     "metadata": {},
     "output_type": "execute_result"
    }
   ],
   "source": [
    "X_train.shape"
   ]
  },
  {
   "cell_type": "code",
   "execution_count": 13,
   "id": "358c432f",
   "metadata": {
    "scrolled": true
   },
   "outputs": [
    {
     "data": {
      "text/plain": [
       "(205, 19, 1)"
      ]
     },
     "execution_count": 13,
     "metadata": {},
     "output_type": "execute_result"
    }
   ],
   "source": [
    "X_test.shape"
   ]
  },
  {
   "cell_type": "code",
   "execution_count": 14,
   "id": "ecf8fd84",
   "metadata": {},
   "outputs": [
    {
     "data": {
      "text/plain": [
       "(919,)"
      ]
     },
     "execution_count": 14,
     "metadata": {},
     "output_type": "execute_result"
    }
   ],
   "source": [
    "y_train.shape"
   ]
  },
  {
   "cell_type": "code",
   "execution_count": 15,
   "id": "ad547b81",
   "metadata": {},
   "outputs": [
    {
     "data": {
      "text/plain": [
       "(205,)"
      ]
     },
     "execution_count": 15,
     "metadata": {},
     "output_type": "execute_result"
    }
   ],
   "source": [
    "y_test.shape"
   ]
  },
  {
   "cell_type": "code",
   "execution_count": 16,
   "id": "b5c89314",
   "metadata": {
    "scrolled": true
   },
   "outputs": [
    {
     "data": {
      "text/plain": [
       "array([ 19.17476463,  19.54313469,  20.30896378,  21.69520569,\n",
       "        21.48193932,  21.46734047,  22.24584961,  22.26531219,\n",
       "        22.62537003,  22.0998764 ,  20.80561066,  20.49420738,\n",
       "        21.92471313,  22.02202415,  21.46734047,  21.60358047,\n",
       "        22.13880539,  21.88578987,  20.38716316,  20.56854439,\n",
       "        20.26549149,  21.87851715,  21.76120377,  21.21376038,\n",
       "        21.09644318,  20.74451065,  19.66916084,  19.71804047,\n",
       "        19.30745316,  19.7375927 ,  18.97507095,  19.28789902,\n",
       "        19.83535194,  22.46507454,  22.99297523,  22.56893158,\n",
       "        19.90856361,  22.06827354,  21.3516407 ,  22.2351532 ,\n",
       "        22.88306618,  22.57874298,  23.27573967,  24.95442009,\n",
       "        25.59251595,  26.92760658,  26.90797234,  27.91910934,\n",
       "        28.17434883,  30.9721508 ,  29.84320831,  30.57734489,\n",
       "        30.71530151,  32.27225113,  32.62700272,  32.01605225,\n",
       "        32.1934166 ,  32.57772446,  32.90291595,  31.07005119,\n",
       "        29.73974228,  26.93131828,  28.00541687,  28.86272621,\n",
       "        27.79847717,  25.05903625,  27.25650406,  31.13902855,\n",
       "        31.01511574,  32.19202805,  31.33159637,  32.73597717,\n",
       "        33.4777298 ,  35.00079727,  35.40628052,  35.26782608,\n",
       "        36.43484497,  36.04914093,  36.07880402,  35.60408783,\n",
       "        34.94145966,  35.17881393,  42.88314056,  44.97764206,\n",
       "        46.3261795 ,  45.85022736,  45.81056976,  47.14918518,\n",
       "        46.83187866,  45.51309204,  46.95087051,  51.58150101,\n",
       "        52.25577164,  52.77138901,  55.58745193,  55.56762314,\n",
       "        58.2448616 ,  62.5086174 ,  61.5765419 ,  61.53106689,\n",
       "        61.2231102 ,  62.70327377,  60.34892654,  62.42511749,\n",
       "        64.59072876,  66.33911896,  67.84908295,  66.65699768,\n",
       "        65.55432129,  67.28284454,  71.68359375,  68.59411621,\n",
       "        70.79946899,  87.38921356,  91.78003693,  93.48935699,\n",
       "        91.72840881,  92.91233063,  89.13175964,  99.89643097,\n",
       "       106.56214905, 110.86006165, 101.21961975, 104.62213135,\n",
       "       102.4234314 , 106.78102875, 109.45726776, 113.79496765,\n",
       "       115.784729  , 108.44248199, 110.33255768, 101.08837128,\n",
       "        97.2930603 ,  98.73748016, 103.40936279, 107.65293884,\n",
       "       107.2743988 , 107.96172333,  99.94280243,  95.12148285,\n",
       "       100.86921692, 103.61856079, 103.08065033, 102.3733902 ,\n",
       "       127.39644623, 132.55647278, 138.18060303, 143.94436646,\n",
       "       146.9259491 , 149.54856873, 151.19392395, 157.92495728,\n",
       "       151.32356262, 142.64801025, 155.44197083, 163.78845215,\n",
       "       167.62762451, 161.28549194, 163.92803955, 169.82142639,\n",
       "       167.92678833, 161.0461731 , 164.87083435, 165.35987854,\n",
       "       165.48963928, 169.2822876 , 187.18762207, 178.65415955,\n",
       "       175.34056091, 180.52052307, 188.56495667, 197.54756165,\n",
       "       196.51954651, 195.31188965, 206.79963684, 211.62033081,\n",
       "       212.21917725, 210.95161438, 216.69125366, 200.46138   ,\n",
       "       189.02554321, 190.60359192, 197.65484619, 195.02812195,\n",
       "       193.26029968, 215.13316345, 223.8024292 , 224.16197205,\n",
       "       235.50790405, 242.41934204, 213.43527222, 231.79251099,\n",
       "       246.19465637, 242.00033569, 241.85043335, 242.01034546,\n",
       "       249.6056366 , 250.32519531, 241.70053101, 221.2131958 ,\n",
       "       226.10017395, 227.76914978, 231.34693909, 228.56864929,\n",
       "       225.08081055])"
      ]
     },
     "execution_count": 16,
     "metadata": {},
     "output_type": "execute_result"
    }
   ],
   "source": [
    "y_test_simple"
   ]
  },
  {
   "cell_type": "code",
   "execution_count": 17,
   "id": "761d2e36",
   "metadata": {
    "scrolled": true
   },
   "outputs": [
    {
     "data": {
      "text/plain": [
       "205"
      ]
     },
     "execution_count": 17,
     "metadata": {},
     "output_type": "execute_result"
    }
   ],
   "source": [
    "len(y_test_simple)"
   ]
  },
  {
   "cell_type": "code",
   "execution_count": 18,
   "id": "cfcc51be",
   "metadata": {
    "scrolled": true
   },
   "outputs": [
    {
     "data": {
      "text/plain": [
       "array([[[-1.0277746 ],\n",
       "        [-1.0395138 ],\n",
       "        [-1.0536009 ],\n",
       "        ...,\n",
       "        [-1.085884  ],\n",
       "        [-1.1058408 ],\n",
       "        [-1.1164061 ]],\n",
       "\n",
       "       [[-1.0741447 ],\n",
       "        [-1.0612315 ],\n",
       "        [-1.0776665 ],\n",
       "        ...,\n",
       "        [-1.1111234 ],\n",
       "        [-1.101145  ],\n",
       "        [-1.0952755 ]],\n",
       "\n",
       "       [[-1.0717968 ],\n",
       "        [-1.0547749 ],\n",
       "        [-1.0371659 ],\n",
       "        ...,\n",
       "        [-1.1099496 ],\n",
       "        [-1.0929276 ],\n",
       "        [-1.0835361 ]],\n",
       "\n",
       "       ...,\n",
       "\n",
       "       [[ 0.61217344],\n",
       "        [ 0.6472617 ],\n",
       "        [ 0.5794241 ],\n",
       "        ...,\n",
       "        [ 0.7940669 ],\n",
       "        [ 0.77292097],\n",
       "        [ 0.77409554]],\n",
       "\n",
       "       [[ 0.5969681 ],\n",
       "        [ 0.59813803],\n",
       "        [ 0.59579796],\n",
       "        ...,\n",
       "        [ 0.81756306],\n",
       "        [ 0.7917175 ],\n",
       "        [ 0.81051385]],\n",
       "\n",
       "       [[ 0.75486743],\n",
       "        [ 0.7431707 ],\n",
       "        [ 0.7431707 ],\n",
       "        ...,\n",
       "        [ 0.82343674],\n",
       "        [ 0.8445831 ],\n",
       "        [ 0.88570106]]], dtype=float32)"
      ]
     },
     "execution_count": 18,
     "metadata": {},
     "output_type": "execute_result"
    }
   ],
   "source": [
    "X_train"
   ]
  },
  {
   "cell_type": "markdown",
   "id": "40262e91",
   "metadata": {},
   "source": [
    "# Create model"
   ]
  },
  {
   "cell_type": "code",
   "execution_count": 19,
   "id": "efdd863b",
   "metadata": {},
   "outputs": [],
   "source": [
    "model = Sequential()\n",
    "#model.add(LSTM(units=72, activation='relu', input_shape= (36, 4), return_sequences=True))\n",
    "model.add(LSTM(units=36, activation='tanh', input_shape= (19, 1)))\n",
    "#model.add(Dense(units=36, activation=\"tanh\"))\n",
    "#model.add(Dense(units=10, activation=\"tanh\"))\n",
    "model.add(Dense(units=1, activation=\"linear\"))"
   ]
  },
  {
   "cell_type": "markdown",
   "id": "8c2b7570",
   "metadata": {},
   "source": [
    "# Fit model\n"
   ]
  },
  {
   "cell_type": "code",
   "execution_count": 20,
   "id": "862bd0ec",
   "metadata": {
    "scrolled": true
   },
   "outputs": [
    {
     "name": "stdout",
     "output_type": "stream",
     "text": [
      "Epoch 1/200\n",
      "46/46 [==============================] - 3s 25ms/step - loss: 0.3553 - mae: 0.3962 - mape: 93.8137 - val_loss: 0.0105 - val_mae: 0.0808 - val_mape: 163.1580\n",
      "Epoch 2/200\n",
      "46/46 [==============================] - 1s 14ms/step - loss: 0.0396 - mae: 0.1422 - mape: 100.1024 - val_loss: 0.0057 - val_mae: 0.0590 - val_mape: 162.6740\n",
      "Epoch 3/200\n",
      "46/46 [==============================] - 1s 16ms/step - loss: 0.0239 - mae: 0.1145 - mape: 85.4021 - val_loss: 0.0035 - val_mae: 0.0460 - val_mape: 118.8110\n",
      "Epoch 4/200\n",
      "46/46 [==============================] - 1s 16ms/step - loss: 0.0183 - mae: 0.0996 - mape: 71.2021 - val_loss: 0.0031 - val_mae: 0.0431 - val_mape: 100.9791\n",
      "Epoch 5/200\n",
      "46/46 [==============================] - 1s 17ms/step - loss: 0.0160 - mae: 0.0931 - mape: 66.9564 - val_loss: 0.0030 - val_mae: 0.0429 - val_mape: 92.9097\n",
      "Epoch 6/200\n",
      "46/46 [==============================] - 1s 17ms/step - loss: 0.0147 - mae: 0.0889 - mape: 63.3471 - val_loss: 0.0029 - val_mae: 0.0431 - val_mape: 95.3139\n",
      "Epoch 7/200\n",
      "46/46 [==============================] - 1s 16ms/step - loss: 0.0136 - mae: 0.0861 - mape: 64.2155 - val_loss: 0.0028 - val_mae: 0.0418 - val_mape: 90.3203\n",
      "Epoch 8/200\n",
      "46/46 [==============================] - 1s 17ms/step - loss: 0.0137 - mae: 0.0845 - mape: 61.6935 - val_loss: 0.0030 - val_mae: 0.0439 - val_mape: 83.8298\n",
      "Epoch 9/200\n",
      "46/46 [==============================] - 1s 16ms/step - loss: 0.0124 - mae: 0.0814 - mape: 60.5660 - val_loss: 0.0027 - val_mae: 0.0407 - val_mape: 102.0849\n",
      "Epoch 10/200\n",
      "46/46 [==============================] - 1s 16ms/step - loss: 0.0120 - mae: 0.0807 - mape: 61.5877 - val_loss: 0.0027 - val_mae: 0.0407 - val_mape: 87.7016\n",
      "Epoch 11/200\n",
      "46/46 [==============================] - 1s 16ms/step - loss: 0.0118 - mae: 0.0794 - mape: 59.3237 - val_loss: 0.0025 - val_mae: 0.0393 - val_mape: 94.0716\n",
      "Epoch 12/200\n",
      "46/46 [==============================] - 1s 16ms/step - loss: 0.0113 - mae: 0.0778 - mape: 58.1409 - val_loss: 0.0026 - val_mae: 0.0397 - val_mape: 99.6460\n",
      "Epoch 13/200\n",
      "46/46 [==============================] - 1s 17ms/step - loss: 0.0108 - mae: 0.0759 - mape: 60.3223 - val_loss: 0.0024 - val_mae: 0.0388 - val_mape: 88.9137\n",
      "Epoch 14/200\n",
      "46/46 [==============================] - 1s 17ms/step - loss: 0.0104 - mae: 0.0754 - mape: 58.1193 - val_loss: 0.0024 - val_mae: 0.0384 - val_mape: 96.0074\n",
      "Epoch 15/200\n",
      "46/46 [==============================] - 1s 17ms/step - loss: 0.0100 - mae: 0.0740 - mape: 56.2177 - val_loss: 0.0023 - val_mae: 0.0377 - val_mape: 85.2612\n",
      "Epoch 16/200\n",
      "46/46 [==============================] - 1s 16ms/step - loss: 0.0096 - mae: 0.0726 - mape: 58.5873 - val_loss: 0.0025 - val_mae: 0.0387 - val_mape: 99.4864\n",
      "Epoch 17/200\n",
      "46/46 [==============================] - 1s 16ms/step - loss: 0.0093 - mae: 0.0710 - mape: 57.7001 - val_loss: 0.0023 - val_mae: 0.0374 - val_mape: 92.7922\n",
      "Epoch 18/200\n",
      "46/46 [==============================] - 1s 17ms/step - loss: 0.0092 - mae: 0.0709 - mape: 54.2667 - val_loss: 0.0021 - val_mae: 0.0357 - val_mape: 94.7095\n",
      "Epoch 19/200\n",
      "46/46 [==============================] - 1s 17ms/step - loss: 0.0089 - mae: 0.0702 - mape: 55.0608 - val_loss: 0.0020 - val_mae: 0.0348 - val_mape: 86.5510\n",
      "Epoch 20/200\n",
      "46/46 [==============================] - 1s 17ms/step - loss: 0.0083 - mae: 0.0670 - mape: 53.1787 - val_loss: 0.0020 - val_mae: 0.0345 - val_mape: 78.9697\n",
      "Epoch 21/200\n",
      "46/46 [==============================] - 1s 17ms/step - loss: 0.0081 - mae: 0.0663 - mape: 48.8867 - val_loss: 0.0020 - val_mae: 0.0350 - val_mape: 74.8325\n",
      "Epoch 22/200\n",
      "46/46 [==============================] - 1s 17ms/step - loss: 0.0078 - mae: 0.0646 - mape: 49.0701 - val_loss: 0.0021 - val_mae: 0.0347 - val_mape: 101.2920\n",
      "Epoch 23/200\n",
      "46/46 [==============================] - 1s 17ms/step - loss: 0.0078 - mae: 0.0646 - mape: 52.6048 - val_loss: 0.0019 - val_mae: 0.0333 - val_mape: 95.3427\n",
      "Epoch 24/200\n",
      "46/46 [==============================] - 1s 17ms/step - loss: 0.0072 - mae: 0.0619 - mape: 47.7931 - val_loss: 0.0017 - val_mae: 0.0323 - val_mape: 67.9017\n",
      "Epoch 25/200\n",
      "46/46 [==============================] - 1s 17ms/step - loss: 0.0071 - mae: 0.0615 - mape: 44.2298 - val_loss: 0.0016 - val_mae: 0.0303 - val_mape: 80.5594\n",
      "Epoch 26/200\n",
      "46/46 [==============================] - 1s 17ms/step - loss: 0.0068 - mae: 0.0598 - mape: 44.3275 - val_loss: 0.0015 - val_mae: 0.0294 - val_mape: 69.6559\n",
      "Epoch 27/200\n",
      "46/46 [==============================] - 1s 17ms/step - loss: 0.0064 - mae: 0.0589 - mape: 46.0088 - val_loss: 0.0018 - val_mae: 0.0320 - val_mape: 76.8835\n",
      "Epoch 28/200\n",
      "46/46 [==============================] - 1s 16ms/step - loss: 0.0064 - mae: 0.0586 - mape: 42.7990 - val_loss: 0.0019 - val_mae: 0.0335 - val_mape: 85.0075\n",
      "Epoch 29/200\n",
      "46/46 [==============================] - 1s 16ms/step - loss: 0.0061 - mae: 0.0571 - mape: 45.7246 - val_loss: 0.0015 - val_mae: 0.0287 - val_mape: 69.1602\n",
      "Epoch 30/200\n",
      "46/46 [==============================] - 1s 16ms/step - loss: 0.0060 - mae: 0.0565 - mape: 36.7439 - val_loss: 0.0023 - val_mae: 0.0377 - val_mape: 116.0942\n",
      "Epoch 31/200\n",
      "46/46 [==============================] - 1s 16ms/step - loss: 0.0059 - mae: 0.0556 - mape: 39.9709 - val_loss: 0.0022 - val_mae: 0.0367 - val_mape: 98.0490\n",
      "Epoch 32/200\n",
      "46/46 [==============================] - 1s 16ms/step - loss: 0.0059 - mae: 0.0567 - mape: 41.3029 - val_loss: 0.0014 - val_mae: 0.0285 - val_mape: 56.6245\n",
      "Epoch 33/200\n",
      "46/46 [==============================] - 1s 17ms/step - loss: 0.0056 - mae: 0.0542 - mape: 34.7837 - val_loss: 0.0013 - val_mae: 0.0263 - val_mape: 56.4306\n",
      "Epoch 34/200\n",
      "46/46 [==============================] - 1s 16ms/step - loss: 0.0055 - mae: 0.0547 - mape: 36.6066 - val_loss: 0.0017 - val_mae: 0.0314 - val_mape: 67.8455\n",
      "Epoch 35/200\n",
      "46/46 [==============================] - 1s 16ms/step - loss: 0.0056 - mae: 0.0537 - mape: 44.6375 - val_loss: 0.0012 - val_mae: 0.0255 - val_mape: 55.3569\n",
      "Epoch 36/200\n",
      "46/46 [==============================] - 1s 16ms/step - loss: 0.0052 - mae: 0.0522 - mape: 34.3914 - val_loss: 0.0017 - val_mae: 0.0335 - val_mape: 58.2238\n",
      "Epoch 37/200\n",
      "46/46 [==============================] - 1s 17ms/step - loss: 0.0053 - mae: 0.0532 - mape: 36.2950 - val_loss: 0.0012 - val_mae: 0.0259 - val_mape: 52.6277\n",
      "Epoch 38/200\n",
      "46/46 [==============================] - 1s 21ms/step - loss: 0.0052 - mae: 0.0518 - mape: 38.6592 - val_loss: 0.0013 - val_mae: 0.0274 - val_mape: 60.6447\n",
      "Epoch 39/200\n",
      "46/46 [==============================] - 1s 19ms/step - loss: 0.0050 - mae: 0.0509 - mape: 39.4518 - val_loss: 0.0011 - val_mae: 0.0243 - val_mape: 53.6061\n",
      "Epoch 40/200\n",
      "46/46 [==============================] - 1s 17ms/step - loss: 0.0050 - mae: 0.0516 - mape: 34.9562 - val_loss: 0.0012 - val_mae: 0.0271 - val_mape: 53.3259\n",
      "Epoch 41/200\n",
      "46/46 [==============================] - 1s 16ms/step - loss: 0.0049 - mae: 0.0512 - mape: 35.9255 - val_loss: 0.0013 - val_mae: 0.0279 - val_mape: 51.4934\n",
      "Epoch 42/200\n",
      "46/46 [==============================] - 1s 16ms/step - loss: 0.0048 - mae: 0.0491 - mape: 33.3620 - val_loss: 0.0011 - val_mae: 0.0244 - val_mape: 51.1086\n",
      "Epoch 43/200\n",
      "46/46 [==============================] - 1s 16ms/step - loss: 0.0047 - mae: 0.0497 - mape: 36.5082 - val_loss: 0.0013 - val_mae: 0.0271 - val_mape: 63.1296\n",
      "Epoch 44/200\n",
      "46/46 [==============================] - 1s 16ms/step - loss: 0.0048 - mae: 0.0508 - mape: 33.2873 - val_loss: 0.0014 - val_mae: 0.0274 - val_mape: 67.4324\n",
      "Epoch 45/200\n",
      "46/46 [==============================] - 1s 16ms/step - loss: 0.0046 - mae: 0.0493 - mape: 38.2512 - val_loss: 0.0013 - val_mae: 0.0289 - val_mape: 53.5057\n",
      "Epoch 46/200\n",
      "46/46 [==============================] - 1s 16ms/step - loss: 0.0046 - mae: 0.0495 - mape: 33.2268 - val_loss: 0.0011 - val_mae: 0.0249 - val_mape: 49.0007\n",
      "Epoch 47/200\n",
      "46/46 [==============================] - 1s 16ms/step - loss: 0.0046 - mae: 0.0489 - mape: 32.1920 - val_loss: 0.0010 - val_mae: 0.0233 - val_mape: 50.7271\n",
      "Epoch 48/200\n",
      "46/46 [==============================] - 1s 16ms/step - loss: 0.0044 - mae: 0.0486 - mape: 33.9735 - val_loss: 0.0011 - val_mae: 0.0253 - val_mape: 49.1228\n",
      "Epoch 49/200\n"
     ]
    },
    {
     "name": "stdout",
     "output_type": "stream",
     "text": [
      "46/46 [==============================] - 1s 16ms/step - loss: 0.0044 - mae: 0.0473 - mape: 32.8048 - val_loss: 0.0016 - val_mae: 0.0306 - val_mape: 63.5520\n",
      "Epoch 50/200\n",
      "46/46 [==============================] - 1s 15ms/step - loss: 0.0044 - mae: 0.0474 - mape: 32.1383 - val_loss: 0.0023 - val_mae: 0.0396 - val_mape: 84.6720\n",
      "Epoch 51/200\n",
      "46/46 [==============================] - 1s 16ms/step - loss: 0.0044 - mae: 0.0479 - mape: 33.8142 - val_loss: 9.9048e-04 - val_mae: 0.0228 - val_mape: 48.6723\n",
      "Epoch 52/200\n",
      "46/46 [==============================] - 1s 17ms/step - loss: 0.0046 - mae: 0.0490 - mape: 33.6091 - val_loss: 0.0012 - val_mae: 0.0264 - val_mape: 49.5158\n",
      "Epoch 53/200\n",
      "46/46 [==============================] - 1s 18ms/step - loss: 0.0043 - mae: 0.0470 - mape: 32.9497 - val_loss: 0.0018 - val_mae: 0.0339 - val_mape: 62.8083\n",
      "Epoch 54/200\n",
      "46/46 [==============================] - 1s 17ms/step - loss: 0.0043 - mae: 0.0469 - mape: 32.8054 - val_loss: 0.0014 - val_mae: 0.0304 - val_mape: 54.8382\n",
      "Epoch 55/200\n",
      "46/46 [==============================] - 1s 16ms/step - loss: 0.0042 - mae: 0.0465 - mape: 32.7156 - val_loss: 0.0011 - val_mae: 0.0249 - val_mape: 49.9340\n",
      "Epoch 56/200\n",
      "46/46 [==============================] - 1s 17ms/step - loss: 0.0042 - mae: 0.0456 - mape: 32.1726 - val_loss: 0.0011 - val_mae: 0.0248 - val_mape: 46.4851\n",
      "Epoch 57/200\n",
      "46/46 [==============================] - 1s 16ms/step - loss: 0.0044 - mae: 0.0473 - mape: 33.3217 - val_loss: 0.0014 - val_mae: 0.0302 - val_mape: 67.3301\n",
      "Epoch 58/200\n",
      "46/46 [==============================] - 1s 16ms/step - loss: 0.0041 - mae: 0.0459 - mape: 31.5721 - val_loss: 0.0010 - val_mae: 0.0243 - val_mape: 47.0674\n",
      "Epoch 59/200\n",
      "46/46 [==============================] - 1s 17ms/step - loss: 0.0041 - mae: 0.0458 - mape: 29.3158 - val_loss: 0.0011 - val_mae: 0.0250 - val_mape: 47.7900\n",
      "Epoch 60/200\n",
      "46/46 [==============================] - 1s 16ms/step - loss: 0.0041 - mae: 0.0462 - mape: 36.4223 - val_loss: 0.0020 - val_mae: 0.0357 - val_mape: 65.6214\n",
      "Epoch 61/200\n",
      "46/46 [==============================] - 1s 16ms/step - loss: 0.0043 - mae: 0.0464 - mape: 31.8919 - val_loss: 0.0010 - val_mae: 0.0248 - val_mape: 47.3010\n",
      "Epoch 62/200\n",
      "46/46 [==============================] - 1s 16ms/step - loss: 0.0040 - mae: 0.0455 - mape: 37.8975 - val_loss: 0.0011 - val_mae: 0.0253 - val_mape: 45.2906\n",
      "Epoch 63/200\n",
      "46/46 [==============================] - 1s 17ms/step - loss: 0.0039 - mae: 0.0446 - mape: 32.3405 - val_loss: 0.0021 - val_mae: 0.0370 - val_mape: 82.3333\n",
      "Epoch 64/200\n",
      "46/46 [==============================] - 1s 16ms/step - loss: 0.0041 - mae: 0.0457 - mape: 32.1701 - val_loss: 0.0014 - val_mae: 0.0289 - val_mape: 51.4745\n",
      "Epoch 65/200\n",
      "46/46 [==============================] - 1s 17ms/step - loss: 0.0041 - mae: 0.0456 - mape: 31.8674 - val_loss: 0.0013 - val_mae: 0.0272 - val_mape: 48.3887\n",
      "Epoch 66/200\n",
      "46/46 [==============================] - 1s 17ms/step - loss: 0.0040 - mae: 0.0443 - mape: 32.3626 - val_loss: 0.0010 - val_mae: 0.0238 - val_mape: 45.3149\n",
      "Epoch 67/200\n",
      "46/46 [==============================] - 1s 18ms/step - loss: 0.0040 - mae: 0.0453 - mape: 36.8526 - val_loss: 0.0011 - val_mae: 0.0251 - val_mape: 48.5166\n",
      "Epoch 68/200\n",
      "46/46 [==============================] - 1s 19ms/step - loss: 0.0040 - mae: 0.0448 - mape: 32.7938 - val_loss: 9.3884e-04 - val_mae: 0.0224 - val_mape: 45.6129\n",
      "Epoch 69/200\n",
      "46/46 [==============================] - 1s 19ms/step - loss: 0.0040 - mae: 0.0455 - mape: 33.5802 - val_loss: 0.0013 - val_mae: 0.0278 - val_mape: 51.7020\n",
      "Epoch 70/200\n",
      "46/46 [==============================] - 1s 16ms/step - loss: 0.0039 - mae: 0.0438 - mape: 35.9237 - val_loss: 9.2928e-04 - val_mae: 0.0227 - val_mape: 45.0069\n",
      "Epoch 71/200\n",
      "46/46 [==============================] - 1s 16ms/step - loss: 0.0038 - mae: 0.0441 - mape: 30.8232 - val_loss: 0.0010 - val_mae: 0.0243 - val_mape: 44.1518\n",
      "Epoch 72/200\n",
      "46/46 [==============================] - 1s 16ms/step - loss: 0.0040 - mae: 0.0446 - mape: 34.9300 - val_loss: 0.0011 - val_mae: 0.0253 - val_mape: 56.4995\n",
      "Epoch 73/200\n",
      "46/46 [==============================] - 1s 16ms/step - loss: 0.0038 - mae: 0.0439 - mape: 34.8421 - val_loss: 0.0011 - val_mae: 0.0242 - val_mape: 46.1795\n",
      "Epoch 74/200\n",
      "46/46 [==============================] - 1s 17ms/step - loss: 0.0038 - mae: 0.0434 - mape: 36.2697 - val_loss: 0.0010 - val_mae: 0.0244 - val_mape: 48.3247\n",
      "Epoch 75/200\n",
      "46/46 [==============================] - 1s 17ms/step - loss: 0.0038 - mae: 0.0435 - mape: 34.6563 - val_loss: 9.2321e-04 - val_mae: 0.0227 - val_mape: 44.9614\n",
      "Epoch 76/200\n",
      "46/46 [==============================] - 1s 17ms/step - loss: 0.0038 - mae: 0.0440 - mape: 36.4839 - val_loss: 9.7505e-04 - val_mae: 0.0238 - val_mape: 50.1725\n",
      "Epoch 77/200\n",
      "46/46 [==============================] - 1s 17ms/step - loss: 0.0037 - mae: 0.0432 - mape: 37.6071 - val_loss: 0.0011 - val_mae: 0.0246 - val_mape: 44.2598\n",
      "Epoch 78/200\n",
      "46/46 [==============================] - 1s 18ms/step - loss: 0.0037 - mae: 0.0432 - mape: 32.8875 - val_loss: 9.3682e-04 - val_mae: 0.0230 - val_mape: 46.0854\n",
      "Epoch 79/200\n",
      "46/46 [==============================] - 1s 19ms/step - loss: 0.0038 - mae: 0.0443 - mape: 34.7248 - val_loss: 0.0011 - val_mae: 0.0263 - val_mape: 60.3553\n",
      "Epoch 80/200\n",
      "46/46 [==============================] - 1s 21ms/step - loss: 0.0038 - mae: 0.0435 - mape: 34.1436 - val_loss: 9.5388e-04 - val_mae: 0.0229 - val_mape: 43.9097\n",
      "Epoch 81/200\n",
      "46/46 [==============================] - 1s 21ms/step - loss: 0.0037 - mae: 0.0427 - mape: 31.3499 - val_loss: 9.3681e-04 - val_mae: 0.0231 - val_mape: 46.5413\n",
      "Epoch 82/200\n",
      "46/46 [==============================] - 1s 18ms/step - loss: 0.0039 - mae: 0.0440 - mape: 36.5224 - val_loss: 0.0010 - val_mae: 0.0244 - val_mape: 53.6024\n",
      "Epoch 83/200\n",
      "46/46 [==============================] - 1s 20ms/step - loss: 0.0037 - mae: 0.0425 - mape: 33.4390 - val_loss: 9.3387e-04 - val_mae: 0.0231 - val_mape: 45.7759\n",
      "Epoch 84/200\n",
      "46/46 [==============================] - 1s 20ms/step - loss: 0.0037 - mae: 0.0434 - mape: 34.1576 - val_loss: 9.4533e-04 - val_mae: 0.0226 - val_mape: 44.1168\n",
      "Epoch 85/200\n",
      "46/46 [==============================] - 1s 19ms/step - loss: 0.0037 - mae: 0.0427 - mape: 35.4268 - val_loss: 9.8662e-04 - val_mae: 0.0240 - val_mape: 52.8873\n",
      "Epoch 86/200\n",
      "46/46 [==============================] - 1s 21ms/step - loss: 0.0036 - mae: 0.0428 - mape: 35.5525 - val_loss: 9.9441e-04 - val_mae: 0.0231 - val_mape: 44.2444\n",
      "Epoch 87/200\n",
      "46/46 [==============================] - 1s 20ms/step - loss: 0.0037 - mae: 0.0428 - mape: 32.9217 - val_loss: 9.3223e-04 - val_mae: 0.0230 - val_mape: 45.3077\n",
      "Epoch 88/200\n",
      "46/46 [==============================] - 1s 21ms/step - loss: 0.0036 - mae: 0.0427 - mape: 33.8688 - val_loss: 9.3401e-04 - val_mae: 0.0228 - val_mape: 43.8559\n",
      "Epoch 89/200\n",
      "46/46 [==============================] - 1s 22ms/step - loss: 0.0036 - mae: 0.0423 - mape: 34.5340 - val_loss: 0.0015 - val_mae: 0.0317 - val_mape: 77.0566\n",
      "Epoch 90/200\n",
      "46/46 [==============================] - 1s 20ms/step - loss: 0.0036 - mae: 0.0434 - mape: 30.8187 - val_loss: 0.0013 - val_mae: 0.0278 - val_mape: 48.9669\n",
      "Epoch 91/200\n",
      "46/46 [==============================] - 1s 20ms/step - loss: 0.0038 - mae: 0.0429 - mape: 33.7612 - val_loss: 0.0011 - val_mae: 0.0266 - val_mape: 59.2046\n",
      "Epoch 92/200\n",
      "46/46 [==============================] - 1s 19ms/step - loss: 0.0035 - mae: 0.0419 - mape: 35.6679 - val_loss: 0.0024 - val_mae: 0.0438 - val_mape: 91.0426\n",
      "Epoch 93/200\n",
      "46/46 [==============================] - 1s 21ms/step - loss: 0.0037 - mae: 0.0431 - mape: 38.1401 - val_loss: 0.0012 - val_mae: 0.0262 - val_mape: 46.6859\n",
      "Epoch 94/200\n",
      "46/46 [==============================] - 1s 23ms/step - loss: 0.0037 - mae: 0.0427 - mape: 34.6275 - val_loss: 0.0011 - val_mae: 0.0248 - val_mape: 44.0774\n",
      "Epoch 95/200\n",
      "46/46 [==============================] - 1s 20ms/step - loss: 0.0037 - mae: 0.0426 - mape: 32.4330 - val_loss: 0.0014 - val_mae: 0.0292 - val_mape: 49.4956\n"
     ]
    }
   ],
   "source": [
    "es = EarlyStopping(patience=20, restore_best_weights=True)\n",
    "\n",
    "#try different losses: mae, mape, mse\n",
    "\n",
    "#rmsprop optimizer\n",
    "model.compile(optimizer=\"nadam\", loss=\"mse\", metrics=[\"mae\", \"mape\"])\n",
    "#validation_split=0.2,\n",
    "history_LSTM = model.fit(X_train, y_train, epochs=200, batch_size=16, workers=-1, validation_split=0.2, callbacks=[es])"
   ]
  },
  {
   "cell_type": "code",
   "execution_count": 21,
   "id": "a42ee21d",
   "metadata": {},
   "outputs": [
    {
     "name": "stdout",
     "output_type": "stream",
     "text": [
      "7/7 [==============================] - 0s 5ms/step - loss: 115.2306 - mae: 6.5372 - mape: 36.2890\n"
     ]
    },
    {
     "data": {
      "text/plain": [
       "[115.23062896728516, 6.537248611450195, 36.288970947265625]"
      ]
     },
     "execution_count": 21,
     "metadata": {},
     "output_type": "execute_result"
    }
   ],
   "source": [
    "model.evaluate(X_test, y_test)"
   ]
  },
  {
   "cell_type": "code",
   "execution_count": 22,
   "id": "03e6b738",
   "metadata": {},
   "outputs": [
    {
     "data": {
      "text/plain": [
       "[<matplotlib.lines.Line2D at 0x7f425eaeedc0>]"
      ]
     },
     "execution_count": 22,
     "metadata": {},
     "output_type": "execute_result"
    },
    {
     "data": {
      "image/png": "[encoded data removed]",
      "text/plain": [
       "<Figure size 432x288 with 1 Axes>"
      ]
     },
     "metadata": {
      "needs_background": "light"
     },
     "output_type": "display_data"
    }
   ],
   "source": [
    "plt.plot(history_LSTM.history[\"mae\"])\n",
    "plt.plot(history_LSTM.history[\"val_mae\"])"
   ]
  },
  {
   "cell_type": "markdown",
   "id": "e22606c4",
   "metadata": {},
   "source": [
    "# Test Model"
   ]
  },
  {
   "cell_type": "code",
   "execution_count": 23,
   "id": "e7f7c624",
   "metadata": {},
   "outputs": [
    {
     "name": "stdout",
     "output_type": "stream",
     "text": [
      "Model: \"sequential\"\n",
      "_________________________________________________________________\n",
      "Layer (type)                 Output Shape              Param #   \n",
      "=================================================================\n",
      "lstm (LSTM)                  (None, 36)                5472      \n",
      "_________________________________________________________________\n",
      "dense (Dense)                (None, 1)                 37        \n",
      "=================================================================\n",
      "Total params: 5,509\n",
      "Trainable params: 5,509\n",
      "Non-trainable params: 0\n",
      "_________________________________________________________________\n"
     ]
    }
   ],
   "source": [
    "model.summary()"
   ]
  },
  {
   "cell_type": "code",
   "execution_count": 24,
   "id": "d2667cc9",
   "metadata": {},
   "outputs": [],
   "source": [
    "prediction = model.predict(X_test)"
   ]
  },
  {
   "cell_type": "code",
   "execution_count": 25,
   "id": "36353dd0",
   "metadata": {
    "scrolled": true
   },
   "outputs": [
    {
     "data": {
      "text/plain": [
       "array([[0.85926044],\n",
       "       [0.917538  ],\n",
       "       [1.0006666 ],\n",
       "       [1.1836684 ],\n",
       "       [1.1591377 ],\n",
       "       [1.1573712 ],\n",
       "       [1.2416357 ],\n",
       "       [1.2543378 ],\n",
       "       [1.2911232 ],\n",
       "       [1.247059  ],\n",
       "       [1.0629382 ],\n",
       "       [1.032524  ],\n",
       "       [1.2008557 ],\n",
       "       [1.216548  ],\n",
       "       [1.1547929 ],\n",
       "       [1.168355  ],\n",
       "       [1.2260728 ],\n",
       "       [1.1972708 ],\n",
       "       [1.0170187 ],\n",
       "       [1.0460705 ],\n",
       "       [1.0072641 ],\n",
       "       [1.2012386 ],\n",
       "       [1.1859051 ],\n",
       "       [1.1187898 ],\n",
       "       [1.1033162 ],\n",
       "       [1.075498  ],\n",
       "       [0.9435271 ],\n",
       "       [0.9434847 ],\n",
       "       [0.8795682 ],\n",
       "       [0.932467  ],\n",
       "       [0.85241675],\n",
       "       [0.8769444 ],\n",
       "       [0.94729453],\n",
       "       [1.2273843 ],\n",
       "       [1.346088  ],\n",
       "       [1.2925501 ],\n",
       "       [0.97026545],\n",
       "       [1.2356738 ],\n",
       "       [1.1490719 ],\n",
       "       [1.24708   ],\n",
       "       [1.3245355 ],\n",
       "       [1.2902465 ],\n",
       "       [1.3700734 ],\n",
       "       [1.5681665 ],\n",
       "       [1.6620818 ],\n",
       "       [1.8185496 ],\n",
       "       [1.8310348 ],\n",
       "       [1.9467058 ],\n",
       "       [1.9690304 ],\n",
       "       [2.2200449 ],\n",
       "       [2.1808212 ],\n",
       "       [2.2485213 ],\n",
       "       [2.2793798 ],\n",
       "       [2.435941  ],\n",
       "       [2.511321  ],\n",
       "       [2.4521332 ],\n",
       "       [2.4715507 ],\n",
       "       [2.5006351 ],\n",
       "       [2.5445688 ],\n",
       "       [2.3649862 ],\n",
       "       [2.1701584 ],\n",
       "       [1.8428456 ],\n",
       "       [1.9581058 ],\n",
       "       [2.0339181 ],\n",
       "       [1.9350525 ],\n",
       "       [1.6068789 ],\n",
       "       [1.8464282 ],\n",
       "       [2.3090534 ],\n",
       "       [2.3207228 ],\n",
       "       [2.4587986 ],\n",
       "       [2.3646083 ],\n",
       "       [2.4978433 ],\n",
       "       [2.6021793 ],\n",
       "       [2.757709  ],\n",
       "       [2.8281221 ],\n",
       "       [2.8109725 ],\n",
       "       [2.9287205 ],\n",
       "       [2.902996  ],\n",
       "       [2.903829  ],\n",
       "       [2.85133   ],\n",
       "       [2.7745457 ],\n",
       "       [2.8138857 ],\n",
       "       [3.5335379 ],\n",
       "       [3.741876  ],\n",
       "       [3.8733864 ],\n",
       "       [3.8811896 ],\n",
       "       [3.8887143 ],\n",
       "       [3.9679742 ],\n",
       "       [3.9573457 ],\n",
       "       [3.8496275 ],\n",
       "       [3.9472494 ],\n",
       "       [4.240599  ],\n",
       "       [4.350511  ],\n",
       "       [4.3976035 ],\n",
       "       [4.5445747 ],\n",
       "       [4.5655866 ],\n",
       "       [4.664245  ],\n",
       "       [4.798949  ],\n",
       "       [4.8225346 ],\n",
       "       [4.838296  ],\n",
       "       [4.8249483 ],\n",
       "       [4.8633265 ],\n",
       "       [4.7913146 ],\n",
       "       [4.843989  ],\n",
       "       [4.9183397 ],\n",
       "       [4.9692755 ],\n",
       "       [5.020871  ],\n",
       "       [4.998394  ],\n",
       "       [4.966707  ],\n",
       "       [4.997157  ],\n",
       "       [5.0910363 ],\n",
       "       [5.061133  ],\n",
       "       [5.064595  ],\n",
       "       [5.1777406 ],\n",
       "       [5.2660747 ],\n",
       "       [5.276601  ],\n",
       "       [5.2765713 ],\n",
       "       [5.272503  ],\n",
       "       [5.271926  ],\n",
       "       [5.2679315 ],\n",
       "       [5.247998  ],\n",
       "       [5.2230687 ],\n",
       "       [5.2566767 ],\n",
       "       [5.246163  ],\n",
       "       [5.2542315 ],\n",
       "       [5.2415767 ],\n",
       "       [5.226542  ],\n",
       "       [5.203466  ],\n",
       "       [5.1855416 ],\n",
       "       [5.2242503 ],\n",
       "       [5.2192736 ],\n",
       "       [5.2537346 ],\n",
       "       [5.2650833 ],\n",
       "       [5.2652707 ],\n",
       "       [5.255048  ],\n",
       "       [5.2385583 ],\n",
       "       [5.237393  ],\n",
       "       [5.2326083 ],\n",
       "       [5.260012  ],\n",
       "       [5.2692423 ],\n",
       "       [5.261722  ],\n",
       "       [5.2538314 ],\n",
       "       [5.2531343 ],\n",
       "       [5.255398  ],\n",
       "       [5.1300573 ],\n",
       "       [5.074779  ],\n",
       "       [5.0221252 ],\n",
       "       [4.967812  ],\n",
       "       [4.9343786 ],\n",
       "       [4.9015117 ],\n",
       "       [4.8864927 ],\n",
       "       [4.829355  ],\n",
       "       [4.882095  ],\n",
       "       [4.951022  ],\n",
       "       [4.861638  ],\n",
       "       [4.783896  ],\n",
       "       [4.7495527 ],\n",
       "       [4.7790303 ],\n",
       "       [4.7581763 ],\n",
       "       [4.7058477 ],\n",
       "       [4.730557  ],\n",
       "       [4.7694583 ],\n",
       "       [4.7473173 ],\n",
       "       [4.7435794 ],\n",
       "       [4.7383842 ],\n",
       "       [4.7134786 ],\n",
       "       [4.5862565 ],\n",
       "       [4.588247  ],\n",
       "       [4.6002116 ],\n",
       "       [4.5331435 ],\n",
       "       [4.4375753 ],\n",
       "       [4.289786  ],\n",
       "       [4.0819817 ],\n",
       "       [3.8709412 ],\n",
       "       [3.5226307 ],\n",
       "       [3.2605717 ],\n",
       "       [3.1090915 ],\n",
       "       [3.024097  ],\n",
       "       [2.9038575 ],\n",
       "       [2.9939399 ],\n",
       "       [3.3386161 ],\n",
       "       [3.5850422 ],\n",
       "       [3.781416  ],\n",
       "       [3.856381  ],\n",
       "       [3.8209116 ],\n",
       "       [3.408108  ],\n",
       "       [2.9962957 ],\n",
       "       [2.834018  ],\n",
       "       [2.4309304 ],\n",
       "       [1.9228299 ],\n",
       "       [1.9348919 ],\n",
       "       [1.9175345 ],\n",
       "       [1.8680989 ],\n",
       "       [1.8570131 ],\n",
       "       [1.852728  ],\n",
       "       [1.8586046 ],\n",
       "       [1.8350359 ],\n",
       "       [1.8251109 ],\n",
       "       [1.8375493 ],\n",
       "       [1.8940678 ],\n",
       "       [1.90413   ],\n",
       "       [1.9333323 ],\n",
       "       [1.9389393 ],\n",
       "       [1.9697139 ],\n",
       "       [2.016966  ]], dtype=float32)"
      ]
     },
     "execution_count": 25,
     "metadata": {},
     "output_type": "execute_result"
    }
   ],
   "source": [
    "prediction"
   ]
  },
  {
   "cell_type": "markdown",
   "id": "60cf4023",
   "metadata": {},
   "source": [
    "# Visualizing Model"
   ]
  },
  {
   "cell_type": "code",
   "execution_count": 26,
   "id": "c1d45b5b",
   "metadata": {},
   "outputs": [],
   "source": [
    "y_test_back = scaler.inverse_transform(y_test.reshape(-1, 1))\n",
    "prediction_back = scaler.inverse_transform(prediction.reshape(-1, 1))"
   ]
  },
  {
   "cell_type": "code",
   "execution_count": null,
   "id": "3dd4f7af",
   "metadata": {},
   "outputs": [],
   "source": [
    "plt.plot(X_graph.iloc[:18,0])\n",
    "#plt.scatter(range(len(y_test_back)), y_test_back,  color=\"black\", label=f\"Actual {company} Price\")\n",
    "#plt.scatter(range(len(y_test_back)),prediction_back, color=\"green\", label=f\"Predicted {company} Price\")"
   ]
  },
  {
   "cell_type": "code",
   "execution_count": null,
   "id": "d130a9e5",
   "metadata": {},
   "outputs": [],
   "source": [
    "plt.scatter(range(len(y_test_back)), y_test_simple,  color=\"black\", label=f\"Actual {company} Price\")\n",
    "plt.scatter(range(len(y_test_back)),prediction_back, color=\"green\", label=f\"Predicted {company} Price\")\n",
    "plt.xlabel(\"\")\n",
    "plt.ylabel(f\"{company} Share Price\")\n",
    "plt.title(f\"{company} Share Price\")\n",
    "plt.legend()\n",
    "plt.show()"
   ]
  },
  {
   "cell_type": "code",
   "execution_count": 33,
   "id": "ae8d0619",
   "metadata": {},
   "outputs": [
    {
     "data": {
      "image/png": "[encoded data removed]",
      "text/plain": [
       "<Figure size 432x288 with 1 Axes>"
      ]
     },
     "metadata": {
      "needs_background": "light"
     },
     "output_type": "display_data"
    }
   ],
   "source": [
    "plt.plot(y_test_simple[:100],  color=\"black\", label=f\"Actual {company} Price\")\n",
    "plt.plot(prediction_back[:100], color=\"green\", label=f\"Predicted {company} Price\")\n",
    "plt.xlabel(\"\")\n",
    "plt.ylabel(f\"{company} Share Price\")\n",
    "plt.title(f\"{company} Share Price\")\n",
    "plt.legend()\n",
    "plt.show()"
   ]
  },
  {
   "cell_type": "code",
   "execution_count": 29,
   "id": "e1641134",
   "metadata": {},
   "outputs": [
    {
     "data": {
      "text/plain": [
       "32.543056"
      ]
     },
     "execution_count": 29,
     "metadata": {},
     "output_type": "execute_result"
    }
   ],
   "source": [
    "mape = mean_absolute_percentage_error(y_test_back, prediction_back)\n",
    "np.mean(mape)"
   ]
  },
  {
   "cell_type": "code",
   "execution_count": null,
   "id": "c3ff14ca",
   "metadata": {},
   "outputs": [],
   "source": [
    "mape2 = mean_absolute_percentage_error(y_test_back, y_test_simple)\n",
    "np.mean(mape2)"
   ]
  },
  {
   "cell_type": "code",
   "execution_count": null,
   "id": "42e5343b",
   "metadata": {},
   "outputs": [],
   "source": []
  }
 ],
 "metadata": {
  "kernelspec": {
   "display_name": "Python 3",
   "language": "python",
   "name": "python3"
  },
  "language_info": {
   "codemirror_mode": {
    "name": "ipython",
    "version": 3
   },
   "file_extension": ".py",
   "mimetype": "text/x-python",
   "name": "python",
   "nbconvert_exporter": "python",
   "pygments_lexer": "ipython3",
   "version": "3.8.6"
  },
  "toc": {
   "base_numbering": 1,
   "nav_menu": {},
   "number_sections": true,
   "sideBar": true,
   "skip_h1_title": false,
   "title_cell": "Table of Contents",
   "title_sidebar": "Contents",
   "toc_cell": false,
   "toc_position": {},
   "toc_section_display": true,
   "toc_window_display": true
  }
 },
 "nbformat": 4,
 "nbformat_minor": 5
}
