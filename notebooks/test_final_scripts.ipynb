{
 "cells": [
  {
   "cell_type": "code",
   "execution_count": 1,
   "id": "0d5c1497",
   "metadata": {},
   "outputs": [
    {
     "name": "stdout",
     "output_type": "stream",
     "text": [
      "/home/bguima/code/Numbersdontlie/stock_prices_predictions\n"
     ]
    }
   ],
   "source": [
    "%load_ext autoreload\n",
    "%autoreload 2\n",
    "import os\n",
    "import pandas as pd\n",
    "import numpy as np\n",
    "import matplotlib.pyplot as plt\n",
    "from stock_prices_predictions.ai_portfolio import *\n",
    "from stock_prices_predictions.one_day_prediction import *"
   ]
  },
  {
   "cell_type": "code",
   "execution_count": 49,
   "id": "182107a1",
   "metadata": {},
   "outputs": [],
   "source": [
    "data, date,real, prediction = make_prediction('T', \"2015-04-15\")"
   ]
  },
  {
   "cell_type": "code",
   "execution_count": 50,
   "id": "60b19ee5",
   "metadata": {},
   "outputs": [
    {
     "data": {
      "text/plain": [
       "numpy.float32"
      ]
     },
     "execution_count": 50,
     "metadata": {},
     "output_type": "execute_result"
    }
   ],
   "source": [
    "type(prediction)"
   ]
  },
  {
   "cell_type": "code",
   "execution_count": null,
   "id": "7b67794f",
   "metadata": {},
   "outputs": [],
   "source": [
    "graph_ = pd.concat([date, data], axis=1)"
   ]
  },
  {
   "cell_type": "code",
   "execution_count": null,
   "id": "f99cae3a",
   "metadata": {},
   "outputs": [],
   "source": [
    "type(graph_)"
   ]
  },
  {
   "cell_type": "code",
   "execution_count": null,
   "id": "e4aab765",
   "metadata": {},
   "outputs": [],
   "source": [
    "#graph_.reset_index()\n",
    "#graph_.reset_index(inplace=True, drop=True)\n",
    "#graph_.drop(columns=['index'])\n",
    "#graph_.set_index(graph_['date'])\n",
    "#graph_.index = graph_['date']\n",
    "graph_.set_index('date', inplace=True)"
   ]
  },
  {
   "cell_type": "code",
   "execution_count": null,
   "id": "92053518",
   "metadata": {},
   "outputs": [],
   "source": [
    "graph_"
   ]
  },
  {
   "cell_type": "code",
   "execution_count": null,
   "id": "b3bcacca",
   "metadata": {},
   "outputs": [],
   "source": [
    "\n",
    "plt.figure(figsize=(10,3), dpi=100)\n",
    "plt.plot(graph_.index, graph_['adj_close'], label=\"previous days\")\n",
    "plt.plot(graph_.index[-1], real, 'bo', label=\"real\")  # plot x and y using blue circle markers\n",
    "plt.plot(graph_.index[-1], prediction, 'ro', label=\"prediction\")  # plot x and y using blue circle markers\n",
    "plt.legend()\n",
    "plt.show()"
   ]
  },
  {
   "cell_type": "code",
   "execution_count": 37,
   "id": "b544b687",
   "metadata": {},
   "outputs": [],
   "source": [
    "hold_result, ai_result, hold, ai, df_ = ai_trade('2016-02-01','2016-12-30',10000)"
   ]
  },
  {
   "cell_type": "code",
   "execution_count": 4,
   "id": "8db764b8",
   "metadata": {},
   "outputs": [
    {
     "data": {
      "text/plain": [
       "[<matplotlib.lines.Line2D at 0x7f77c0c08880>]"
      ]
     },
     "execution_count": 4,
     "metadata": {},
     "output_type": "execute_result"
    },
    {
     "data": {
      "image/png": "[encoded data removed]",
      "text/plain": [
       "<Figure size 432x288 with 1 Axes>"
      ]
     },
     "metadata": {
      "needs_background": "light"
     },
     "output_type": "display_data"
    }
   ],
   "source": [
    "plt.plot(hold)\n",
    "plt.plot(ai)"
   ]
  },
  {
   "cell_type": "code",
   "execution_count": 38,
   "id": "23b37a2c",
   "metadata": {},
   "outputs": [],
   "source": [
    "hold2 = hold\n",
    "ai2 = ai\n",
    "df_2 = df_"
   ]
  },
  {
   "cell_type": "code",
   "execution_count": 44,
   "id": "f644e6c9",
   "metadata": {},
   "outputs": [
    {
     "data": {
      "text/plain": [
       "523   2016-02-01\n",
       "524   2016-02-02\n",
       "525   2016-02-03\n",
       "526   2016-02-04\n",
       "527   2016-02-05\n",
       "         ...    \n",
       "750   2016-12-22\n",
       "751   2016-12-23\n",
       "752   2016-12-27\n",
       "753   2016-12-28\n",
       "754   2016-12-29\n",
       "Name: date, Length: 232, dtype: datetime64[ns]"
      ]
     },
     "execution_count": 44,
     "metadata": {},
     "output_type": "execute_result"
    }
   ],
   "source": [
    "df_2['date'][:-1]"
   ]
  },
  {
   "cell_type": "code",
   "execution_count": 45,
   "id": "009cd695",
   "metadata": {},
   "outputs": [],
   "source": [
    "frame = { 'index': df_2['date'][:-1], 'hold': hold2, 'ai': ai2 }\n",
    "graph_ = pd.DataFrame(frame)"
   ]
  },
  {
   "cell_type": "code",
   "execution_count": 46,
   "id": "372dba77",
   "metadata": {},
   "outputs": [
    {
     "data": {
      "text/html": [
       "<div>\n",
       "<style scoped>\n",
       "    .dataframe tbody tr th:only-of-type {\n",
       "        vertical-align: middle;\n",
       "    }\n",
       "\n",
       "    .dataframe tbody tr th {\n",
       "        vertical-align: top;\n",
       "    }\n",
       "\n",
       "    .dataframe thead th {\n",
       "        text-align: right;\n",
       "    }\n",
       "</style>\n",
       "<table border=\"1\" class=\"dataframe\">\n",
       "  <thead>\n",
       "    <tr style=\"text-align: right;\">\n",
       "      <th></th>\n",
       "      <th>index</th>\n",
       "      <th>hold</th>\n",
       "      <th>ai</th>\n",
       "    </tr>\n",
       "  </thead>\n",
       "  <tbody>\n",
       "    <tr>\n",
       "      <th>523</th>\n",
       "      <td>2016-02-01</td>\n",
       "      <td>10000.000000</td>\n",
       "      <td>10000.000000</td>\n",
       "    </tr>\n",
       "    <tr>\n",
       "      <th>524</th>\n",
       "      <td>2016-02-02</td>\n",
       "      <td>10000.000000</td>\n",
       "      <td>10000.000000</td>\n",
       "    </tr>\n",
       "    <tr>\n",
       "      <th>525</th>\n",
       "      <td>2016-02-03</td>\n",
       "      <td>9753.018344</td>\n",
       "      <td>10000.000000</td>\n",
       "    </tr>\n",
       "    <tr>\n",
       "      <th>526</th>\n",
       "      <td>2016-02-04</td>\n",
       "      <td>9766.391275</td>\n",
       "      <td>9991.094637</td>\n",
       "    </tr>\n",
       "    <tr>\n",
       "      <th>527</th>\n",
       "      <td>2016-02-05</td>\n",
       "      <td>9797.244040</td>\n",
       "      <td>10066.078782</td>\n",
       "    </tr>\n",
       "    <tr>\n",
       "      <th>...</th>\n",
       "      <td>...</td>\n",
       "      <td>...</td>\n",
       "      <td>...</td>\n",
       "    </tr>\n",
       "    <tr>\n",
       "      <th>750</th>\n",
       "      <td>2016-12-22</td>\n",
       "      <td>15028.083070</td>\n",
       "      <td>23238.414527</td>\n",
       "    </tr>\n",
       "    <tr>\n",
       "      <th>751</th>\n",
       "      <td>2016-12-23</td>\n",
       "      <td>15065.048859</td>\n",
       "      <td>23206.992390</td>\n",
       "    </tr>\n",
       "    <tr>\n",
       "      <th>752</th>\n",
       "      <td>2016-12-27</td>\n",
       "      <td>15180.695083</td>\n",
       "      <td>23232.129095</td>\n",
       "    </tr>\n",
       "    <tr>\n",
       "      <th>753</th>\n",
       "      <td>2016-12-28</td>\n",
       "      <td>15462.215618</td>\n",
       "      <td>23294.965836</td>\n",
       "    </tr>\n",
       "    <tr>\n",
       "      <th>754</th>\n",
       "      <td>2016-12-29</td>\n",
       "      <td>15107.253775</td>\n",
       "      <td>23018.472122</td>\n",
       "    </tr>\n",
       "  </tbody>\n",
       "</table>\n",
       "<p>232 rows × 3 columns</p>\n",
       "</div>"
      ],
      "text/plain": [
       "         index          hold            ai\n",
       "523 2016-02-01  10000.000000  10000.000000\n",
       "524 2016-02-02  10000.000000  10000.000000\n",
       "525 2016-02-03   9753.018344  10000.000000\n",
       "526 2016-02-04   9766.391275   9991.094637\n",
       "527 2016-02-05   9797.244040  10066.078782\n",
       "..         ...           ...           ...\n",
       "750 2016-12-22  15028.083070  23238.414527\n",
       "751 2016-12-23  15065.048859  23206.992390\n",
       "752 2016-12-27  15180.695083  23232.129095\n",
       "753 2016-12-28  15462.215618  23294.965836\n",
       "754 2016-12-29  15107.253775  23018.472122\n",
       "\n",
       "[232 rows x 3 columns]"
      ]
     },
     "execution_count": 46,
     "metadata": {},
     "output_type": "execute_result"
    }
   ],
   "source": [
    "graph_"
   ]
  },
  {
   "cell_type": "code",
   "execution_count": 48,
   "id": "85f6dcaa",
   "metadata": {},
   "outputs": [
    {
     "ename": "NameError",
     "evalue": "name 'st' is not defined",
     "output_type": "error",
     "traceback": [
      "\u001b[0;31m---------------------------------------------------------------------------\u001b[0m",
      "\u001b[0;31mNameError\u001b[0m                                 Traceback (most recent call last)",
      "\u001b[0;32m<ipython-input-48-dcd257645917>\u001b[0m in \u001b[0;36m<module>\u001b[0;34m\u001b[0m\n\u001b[1;32m     11\u001b[0m \u001b[0max\u001b[0m\u001b[0;34m.\u001b[0m\u001b[0mlegend\u001b[0m\u001b[0;34m(\u001b[0m\u001b[0;34m)\u001b[0m\u001b[0;34m\u001b[0m\u001b[0;34m\u001b[0m\u001b[0m\n\u001b[1;32m     12\u001b[0m \u001b[0;31m#plt.show()\u001b[0m\u001b[0;34m\u001b[0m\u001b[0;34m\u001b[0m\u001b[0;34m\u001b[0m\u001b[0m\n\u001b[0;32m---> 13\u001b[0;31m \u001b[0mst\u001b[0m\u001b[0;34m.\u001b[0m\u001b[0mpyplot\u001b[0m\u001b[0;34m(\u001b[0m\u001b[0mfig\u001b[0m\u001b[0;34m)\u001b[0m\u001b[0;34m\u001b[0m\u001b[0;34m\u001b[0m\u001b[0m\n\u001b[0m",
      "\u001b[0;31mNameError\u001b[0m: name 'st' is not defined"
     ]
    },
    {
     "data": {
      "image/png": "[encoded data removed]",
      "text/plain": [
       "<Figure size 700x300 with 1 Axes>"
      ]
     },
     "metadata": {
      "needs_background": "light"
     },
     "output_type": "display_data"
    }
   ],
   "source": [
    "graph_.set_index('index', inplace=True)\n",
    "\n",
    "# GRAPH THE PREDICTION AND PREVIOUS VALUES\n",
    "\n",
    "fig, ax = plt.subplots(figsize=(7, 3), dpi=100)\n",
    "\n",
    "#plt.figure(figsize=(10,3), dpi=100)\n",
    "\n",
    "ax.plot(graph_.index, hold, label=\"buy and hold\")\n",
    "ax.plot(graph_.index, ai, label=\"AI Trader\")\n",
    "ax.legend()\n",
    "#plt.show()\n",
    "plt.pyplot(fig)"
   ]
  },
  {
   "cell_type": "code",
   "execution_count": null,
   "id": "87f1596e",
   "metadata": {},
   "outputs": [],
   "source": []
  }
 ],
 "metadata": {
  "kernelspec": {
   "display_name": "Python 3",
   "language": "python",
   "name": "python3"
  },
  "language_info": {
   "codemirror_mode": {
    "name": "ipython",
    "version": 3
   },
   "file_extension": ".py",
   "mimetype": "text/x-python",
   "name": "python",
   "nbconvert_exporter": "python",
   "pygments_lexer": "ipython3",
   "version": "3.8.6"
  },
  "toc": {
   "base_numbering": 1,
   "nav_menu": {},
   "number_sections": true,
   "sideBar": true,
   "skip_h1_title": false,
   "title_cell": "Table of Contents",
   "title_sidebar": "Contents",
   "toc_cell": false,
   "toc_position": {},
   "toc_section_display": true,
   "toc_window_display": false
  }
 },
 "nbformat": 4,
 "nbformat_minor": 5
}
