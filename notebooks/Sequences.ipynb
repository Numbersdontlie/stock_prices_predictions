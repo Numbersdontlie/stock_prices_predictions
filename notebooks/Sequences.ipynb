{
 "cells": [
  {
   "cell_type": "markdown",
   "id": "a396de3d",
   "metadata": {},
   "source": [
    "# Import Libraries"
   ]
  },
  {
   "cell_type": "code",
   "execution_count": 1,
   "id": "99bfd5a3",
   "metadata": {},
   "outputs": [],
   "source": [
    "import os\n",
    "import pandas as pd\n",
    "import numpy as np"
   ]
  },
  {
   "cell_type": "markdown",
   "id": "2a39ca4e",
   "metadata": {},
   "source": [
    "# Load dataset and filter"
   ]
  },
  {
   "cell_type": "code",
   "execution_count": 2,
   "id": "17479286",
   "metadata": {},
   "outputs": [],
   "source": [
    "cwd = os.getcwd()\n",
    "\n",
    "simp_path4 = 'raw_data/df.csv'\n",
    "abs_path4 = os.path.abspath(os.path.join(cwd,'..',simp_path4))\n",
    "df_500 = pd.read_csv(abs_path4)\n",
    "df_500.date = pd.to_datetime(df_500.date)"
   ]
  },
  {
   "cell_type": "code",
   "execution_count": null,
   "id": "55ec1759",
   "metadata": {},
   "outputs": [],
   "source": [
    "df_500['year'] = pd.DatetimeIndex(df_500['date']).year\n",
    "df_500['month'] = pd.DatetimeIndex(df_500['date']).month\n",
    "df_500['day'] = pd.DatetimeIndex(df_500['date']).day"
   ]
  },
  {
   "cell_type": "code",
   "execution_count": null,
   "id": "388b15e9",
   "metadata": {},
   "outputs": [],
   "source": [
    "df_500 = df_500[df_500.year>1999]"
   ]
  },
  {
   "cell_type": "code",
   "execution_count": null,
   "id": "2f6ac2b6",
   "metadata": {},
   "outputs": [],
   "source": [
    "list_of_10_stocks = ['T', 'INTC', 'ADBE', 'JPM', 'PG', 'NVDA', 'AAPL', 'AMZN', 'UNH', 'MA']"
   ]
  },
  {
   "cell_type": "code",
   "execution_count": null,
   "id": "161fcc2d",
   "metadata": {},
   "outputs": [],
   "source": [
    "df_top10 = df_500[df_500['ticker'].isin(list_of_10_stocks)]"
   ]
  },
  {
   "cell_type": "code",
   "execution_count": null,
   "id": "7f95a106",
   "metadata": {},
   "outputs": [],
   "source": [
    "df_top10"
   ]
  },
  {
   "cell_type": "code",
   "execution_count": null,
   "id": "3255a58f",
   "metadata": {},
   "outputs": [],
   "source": [
    "df_T = df_top10[df_top10['ticker'] == \"T\"]"
   ]
  },
  {
   "cell_type": "code",
   "execution_count": null,
   "id": "ea0cd369",
   "metadata": {},
   "outputs": [],
   "source": [
    "len(df_T)"
   ]
  },
  {
   "cell_type": "markdown",
   "id": "d47248fd",
   "metadata": {},
   "source": [
    "# Create Sequences for LSTM"
   ]
  },
  {
   "cell_type": "markdown",
   "id": "b274b855",
   "metadata": {},
   "source": [
    "-filter only 14 years"
   ]
  },
  {
   "cell_type": "code",
   "execution_count": null,
   "id": "684ef504",
   "metadata": {},
   "outputs": [],
   "source": [
    "df_top10_14y = df_top10[df_top10.year<2015]"
   ]
  },
  {
   "cell_type": "code",
   "execution_count": null,
   "id": "61de1435",
   "metadata": {},
   "outputs": [],
   "source": [
    "df_top10_14y['ticker'].unique()"
   ]
  },
  {
   "cell_type": "code",
   "execution_count": null,
   "id": "489e8f7f",
   "metadata": {},
   "outputs": [],
   "source": [
    "df_T = df_top10_14y[df_top10_14y['ticker'] == \"T\"]"
   ]
  },
  {
   "cell_type": "code",
   "execution_count": null,
   "id": "0f0c2fdb",
   "metadata": {},
   "outputs": [],
   "source": [
    "len(df_T)"
   ]
  },
  {
   "cell_type": "markdown",
   "id": "56359720",
   "metadata": {},
   "source": [
    "-each day"
   ]
  },
  {
   "cell_type": "code",
   "execution_count": null,
   "id": "f04a4ec1",
   "metadata": {},
   "outputs": [],
   "source": [
    "df_T"
   ]
  },
  {
   "cell_type": "code",
   "execution_count": null,
   "id": "76a2cbd4",
   "metadata": {},
   "outputs": [],
   "source": [
    "stock = 'T'\n",
    "sequence_a = []\n",
    "y = []\n",
    "for i in range(0, 3600, 36):\n",
    "    day = []\n",
    "    df_ = df_top10_14y[df_top10_14y['ticker'] == stock]\n",
    "    df_ = df_.iloc[i:i+37,3:6]\n",
    "    for p in range(36):\n",
    "        day.append(df_.iloc[p,:])       \n",
    "    sequence_a.append(day)\n",
    "    y.append(df_.iloc[36,0])"
   ]
  },
  {
   "cell_type": "code",
   "execution_count": null,
   "id": "ea0056d9",
   "metadata": {},
   "outputs": [],
   "source": [
    "len(y)"
   ]
  },
  {
   "cell_type": "code",
   "execution_count": null,
   "id": "52ab60bb",
   "metadata": {},
   "outputs": [],
   "source": [
    "X = np.array(sequence_a).astype(np.float32)"
   ]
  },
  {
   "cell_type": "code",
   "execution_count": null,
   "id": "ee028fb1",
   "metadata": {},
   "outputs": [],
   "source": [
    "X.shape"
   ]
  },
  {
   "cell_type": "code",
   "execution_count": null,
   "id": "bc5e186e",
   "metadata": {},
   "outputs": [],
   "source": [
    "X[2]"
   ]
  },
  {
   "cell_type": "code",
   "execution_count": null,
   "id": "fecebc70",
   "metadata": {},
   "outputs": [],
   "source": [
    "y[2]"
   ]
  },
  {
   "cell_type": "code",
   "execution_count": null,
   "id": "ffbdbe5e",
   "metadata": {},
   "outputs": [],
   "source": [
    "df_T.iloc[107:110,:]"
   ]
  },
  {
   "cell_type": "code",
   "execution_count": null,
   "id": "a19400aa",
   "metadata": {},
   "outputs": [],
   "source": [
    "import numpy as np\n",
    "\n",
    "# --- SEQUENCE A (AMZN)\n",
    "\n",
    "day_1 = [10, 25, 50]  # OBSERVATION 1 [adj_close, low, high]\n",
    "day_2 = [13, 10, 70]  # OBSERVATION 2 [adj_close, low, high]\n",
    "day_3 = [ 9,  5, 90]\n",
    "day_4 = [ 7,  0, 95]\n",
    "\n",
    "sequence_a = [day_1, day_2, day_3, day_4]\n",
    "\n",
    "y_a = 110 # adj_close of +1, +7, +21, +63\n",
    "\n",
    "# --- SEQUENCE B (T)\n",
    "sequence_b = [[25, 20, 30], [26, 24, 50], [28, 20, 80], [22, 3, 110]]\n",
    "y_b = 125\n",
    "\n",
    "# --- SEQUENCE C (AAPL)\n",
    "sequence_c = [[15, 10, 60], [25, 20, 65], [35, 10, 75], [36, 15, 70]]\n",
    "y_c = 30\n",
    "\n",
    "X = np.array([sequence_a, sequence_b, sequence_c]).astype(np.float32)\n",
    "y = np.array([y_a, y_b, y_c]).astype(np.float32)\n",
    "\n",
    "print(X.shape)\n",
    "print(y.shape)"
   ]
  },
  {
   "cell_type": "code",
   "execution_count": null,
   "id": "94b8b61a",
   "metadata": {},
   "outputs": [],
   "source": [
    "from stock_prices_predictions.get_data import get_lstm_training_data\n",
    "\n",
    "X, y = get_lstm_training_data('AAPL', 1)"
   ]
  },
  {
   "cell_type": "code",
   "execution_count": null,
   "id": "2d3d7602",
   "metadata": {},
   "outputs": [],
   "source": [
    "print(y)"
   ]
  },
  {
   "cell_type": "code",
   "execution_count": null,
   "id": "c2b691ba",
   "metadata": {},
   "outputs": [],
   "source": [
    "X[0]"
   ]
  },
  {
   "cell_type": "code",
   "execution_count": null,
   "id": "7c4f1cd2",
   "metadata": {},
   "outputs": [],
   "source": [
    "X.shape"
   ]
  },
  {
   "cell_type": "markdown",
   "id": "95232034",
   "metadata": {},
   "source": [
    "# Create test data"
   ]
  },
  {
   "cell_type": "code",
   "execution_count": 3,
   "id": "07cdd3f1",
   "metadata": {},
   "outputs": [],
   "source": [
    "def get_lstm_test_data(stock, prediction_timeframe):\n",
    "    '''returns X and y for the training of the LSTM'''\n",
    "    cwd = os.getcwd()\n",
    "    simp_path4 = 'raw_data/df.csv'\n",
    "    abs_path4 = os.path.abspath(os.path.join(cwd,'..',simp_path4))\n",
    "    df_500 = pd.read_csv(abs_path4)\n",
    "    list_of_10_stocks = ['T', 'INTC', 'ADBE', 'JPM', 'PG', 'NVDA', 'AAPL', 'AMZN', 'UNH', 'MA']\n",
    "    df_top500 = df_500[df_500['ticker'].isin(list_of_10_stocks)]\n",
    "    df_500.date = pd.to_datetime(df_500.date)\n",
    "    df_500['year'] = pd.DatetimeIndex(df_500['date']).year\n",
    "    df_500['month'] = pd.DatetimeIndex(df_500['date']).month\n",
    "    df_500['day'] = pd.DatetimeIndex(df_500['date']).day\n",
    "    df_top10_3y = df_500[df_500.year>2015]\n",
    "\n",
    "    sequence_a = []\n",
    "    y = []\n",
    "    for i in range(0, 900, 36):\n",
    "        day = []\n",
    "        df_ = df_top10_3y[df_top10_3y['ticker'] == stock]\n",
    "        df_ = df_.iloc[i:i+36+prediction_timeframe,3:4]\n",
    "        for p in range(36):\n",
    "            day.append(df_.iloc[p,:]) \n",
    "        sequence_a.append(day)\n",
    "        X = np.array(sequence_a).astype(np.float32)\n",
    "        y.append(np.array(df_.iloc[35+prediction_timeframe,0]))\n",
    "\n",
    "    return (X, np.array(y))"
   ]
  },
  {
   "cell_type": "code",
   "execution_count": 4,
   "id": "5b408fda",
   "metadata": {},
   "outputs": [
    {
     "ename": "IndexError",
     "evalue": "single positional indexer is out-of-bounds",
     "output_type": "error",
     "traceback": [
      "\u001b[0;31m---------------------------------------------------------------------------\u001b[0m",
      "\u001b[0;31mIndexError\u001b[0m                                Traceback (most recent call last)",
      "\u001b[0;32m<ipython-input-4-c559cda1baa4>\u001b[0m in \u001b[0;36m<module>\u001b[0;34m\u001b[0m\n\u001b[0;32m----> 1\u001b[0;31m \u001b[0mget_lstm_test_data\u001b[0m\u001b[0;34m(\u001b[0m\u001b[0;34m'T'\u001b[0m\u001b[0;34m,\u001b[0m \u001b[0;36m1\u001b[0m\u001b[0;34m)\u001b[0m\u001b[0;34m\u001b[0m\u001b[0;34m\u001b[0m\u001b[0m\n\u001b[0m",
      "\u001b[0;32m<ipython-input-3-f4afd4aac250>\u001b[0m in \u001b[0;36mget_lstm_test_data\u001b[0;34m(stock, prediction_timeframe)\u001b[0m\n\u001b[1;32m     20\u001b[0m         \u001b[0mdf_\u001b[0m \u001b[0;34m=\u001b[0m \u001b[0mdf_\u001b[0m\u001b[0;34m.\u001b[0m\u001b[0miloc\u001b[0m\u001b[0;34m[\u001b[0m\u001b[0mi\u001b[0m\u001b[0;34m:\u001b[0m\u001b[0mi\u001b[0m\u001b[0;34m+\u001b[0m\u001b[0;36m36\u001b[0m\u001b[0;34m+\u001b[0m\u001b[0mprediction_timeframe\u001b[0m\u001b[0;34m,\u001b[0m\u001b[0;36m3\u001b[0m\u001b[0;34m:\u001b[0m\u001b[0;36m4\u001b[0m\u001b[0;34m]\u001b[0m\u001b[0;34m\u001b[0m\u001b[0;34m\u001b[0m\u001b[0m\n\u001b[1;32m     21\u001b[0m         \u001b[0;32mfor\u001b[0m \u001b[0mp\u001b[0m \u001b[0;32min\u001b[0m \u001b[0mrange\u001b[0m\u001b[0;34m(\u001b[0m\u001b[0;36m36\u001b[0m\u001b[0;34m)\u001b[0m\u001b[0;34m:\u001b[0m\u001b[0;34m\u001b[0m\u001b[0;34m\u001b[0m\u001b[0m\n\u001b[0;32m---> 22\u001b[0;31m             \u001b[0mday\u001b[0m\u001b[0;34m.\u001b[0m\u001b[0mappend\u001b[0m\u001b[0;34m(\u001b[0m\u001b[0mdf_\u001b[0m\u001b[0;34m.\u001b[0m\u001b[0miloc\u001b[0m\u001b[0;34m[\u001b[0m\u001b[0mp\u001b[0m\u001b[0;34m,\u001b[0m\u001b[0;34m:\u001b[0m\u001b[0;34m]\u001b[0m\u001b[0;34m)\u001b[0m\u001b[0;34m\u001b[0m\u001b[0;34m\u001b[0m\u001b[0m\n\u001b[0m\u001b[1;32m     23\u001b[0m         \u001b[0msequence_a\u001b[0m\u001b[0;34m.\u001b[0m\u001b[0mappend\u001b[0m\u001b[0;34m(\u001b[0m\u001b[0mday\u001b[0m\u001b[0;34m)\u001b[0m\u001b[0;34m\u001b[0m\u001b[0;34m\u001b[0m\u001b[0m\n\u001b[1;32m     24\u001b[0m         \u001b[0mX\u001b[0m \u001b[0;34m=\u001b[0m \u001b[0mnp\u001b[0m\u001b[0;34m.\u001b[0m\u001b[0marray\u001b[0m\u001b[0;34m(\u001b[0m\u001b[0msequence_a\u001b[0m\u001b[0;34m)\u001b[0m\u001b[0;34m.\u001b[0m\u001b[0mastype\u001b[0m\u001b[0;34m(\u001b[0m\u001b[0mnp\u001b[0m\u001b[0;34m.\u001b[0m\u001b[0mfloat32\u001b[0m\u001b[0;34m)\u001b[0m\u001b[0;34m\u001b[0m\u001b[0;34m\u001b[0m\u001b[0m\n",
      "\u001b[0;32m~/.pyenv/versions/lewagon/envs/stock_prices_predictions/lib/python3.8/site-packages/pandas/core/indexing.py\u001b[0m in \u001b[0;36m__getitem__\u001b[0;34m(self, key)\u001b[0m\n\u001b[1;32m    887\u001b[0m                     \u001b[0;31m# AttributeError for IntervalTree get_value\u001b[0m\u001b[0;34m\u001b[0m\u001b[0;34m\u001b[0m\u001b[0;34m\u001b[0m\u001b[0m\n\u001b[1;32m    888\u001b[0m                     \u001b[0;32mreturn\u001b[0m \u001b[0mself\u001b[0m\u001b[0;34m.\u001b[0m\u001b[0mobj\u001b[0m\u001b[0;34m.\u001b[0m\u001b[0m_get_value\u001b[0m\u001b[0;34m(\u001b[0m\u001b[0;34m*\u001b[0m\u001b[0mkey\u001b[0m\u001b[0;34m,\u001b[0m \u001b[0mtakeable\u001b[0m\u001b[0;34m=\u001b[0m\u001b[0mself\u001b[0m\u001b[0;34m.\u001b[0m\u001b[0m_takeable\u001b[0m\u001b[0;34m)\u001b[0m\u001b[0;34m\u001b[0m\u001b[0;34m\u001b[0m\u001b[0m\n\u001b[0;32m--> 889\u001b[0;31m             \u001b[0;32mreturn\u001b[0m \u001b[0mself\u001b[0m\u001b[0;34m.\u001b[0m\u001b[0m_getitem_tuple\u001b[0m\u001b[0;34m(\u001b[0m\u001b[0mkey\u001b[0m\u001b[0;34m)\u001b[0m\u001b[0;34m\u001b[0m\u001b[0;34m\u001b[0m\u001b[0m\n\u001b[0m\u001b[1;32m    890\u001b[0m         \u001b[0;32melse\u001b[0m\u001b[0;34m:\u001b[0m\u001b[0;34m\u001b[0m\u001b[0;34m\u001b[0m\u001b[0m\n\u001b[1;32m    891\u001b[0m             \u001b[0;31m# we by definition only have the 0th axis\u001b[0m\u001b[0;34m\u001b[0m\u001b[0;34m\u001b[0m\u001b[0;34m\u001b[0m\u001b[0m\n",
      "\u001b[0;32m~/.pyenv/versions/lewagon/envs/stock_prices_predictions/lib/python3.8/site-packages/pandas/core/indexing.py\u001b[0m in \u001b[0;36m_getitem_tuple\u001b[0;34m(self, tup)\u001b[0m\n\u001b[1;32m   1448\u001b[0m     \u001b[0;32mdef\u001b[0m \u001b[0m_getitem_tuple\u001b[0m\u001b[0;34m(\u001b[0m\u001b[0mself\u001b[0m\u001b[0;34m,\u001b[0m \u001b[0mtup\u001b[0m\u001b[0;34m:\u001b[0m \u001b[0mTuple\u001b[0m\u001b[0;34m)\u001b[0m\u001b[0;34m:\u001b[0m\u001b[0;34m\u001b[0m\u001b[0;34m\u001b[0m\u001b[0m\n\u001b[1;32m   1449\u001b[0m \u001b[0;34m\u001b[0m\u001b[0m\n\u001b[0;32m-> 1450\u001b[0;31m         \u001b[0mself\u001b[0m\u001b[0;34m.\u001b[0m\u001b[0m_has_valid_tuple\u001b[0m\u001b[0;34m(\u001b[0m\u001b[0mtup\u001b[0m\u001b[0;34m)\u001b[0m\u001b[0;34m\u001b[0m\u001b[0;34m\u001b[0m\u001b[0m\n\u001b[0m\u001b[1;32m   1451\u001b[0m         \u001b[0;32mwith\u001b[0m \u001b[0msuppress\u001b[0m\u001b[0;34m(\u001b[0m\u001b[0mIndexingError\u001b[0m\u001b[0;34m)\u001b[0m\u001b[0;34m:\u001b[0m\u001b[0;34m\u001b[0m\u001b[0;34m\u001b[0m\u001b[0m\n\u001b[1;32m   1452\u001b[0m             \u001b[0;32mreturn\u001b[0m \u001b[0mself\u001b[0m\u001b[0;34m.\u001b[0m\u001b[0m_getitem_lowerdim\u001b[0m\u001b[0;34m(\u001b[0m\u001b[0mtup\u001b[0m\u001b[0;34m)\u001b[0m\u001b[0;34m\u001b[0m\u001b[0;34m\u001b[0m\u001b[0m\n",
      "\u001b[0;32m~/.pyenv/versions/lewagon/envs/stock_prices_predictions/lib/python3.8/site-packages/pandas/core/indexing.py\u001b[0m in \u001b[0;36m_has_valid_tuple\u001b[0;34m(self, key)\u001b[0m\n\u001b[1;32m    721\u001b[0m         \u001b[0;32mfor\u001b[0m \u001b[0mi\u001b[0m\u001b[0;34m,\u001b[0m \u001b[0mk\u001b[0m \u001b[0;32min\u001b[0m \u001b[0menumerate\u001b[0m\u001b[0;34m(\u001b[0m\u001b[0mkey\u001b[0m\u001b[0;34m)\u001b[0m\u001b[0;34m:\u001b[0m\u001b[0;34m\u001b[0m\u001b[0;34m\u001b[0m\u001b[0m\n\u001b[1;32m    722\u001b[0m             \u001b[0;32mtry\u001b[0m\u001b[0;34m:\u001b[0m\u001b[0;34m\u001b[0m\u001b[0;34m\u001b[0m\u001b[0m\n\u001b[0;32m--> 723\u001b[0;31m                 \u001b[0mself\u001b[0m\u001b[0;34m.\u001b[0m\u001b[0m_validate_key\u001b[0m\u001b[0;34m(\u001b[0m\u001b[0mk\u001b[0m\u001b[0;34m,\u001b[0m \u001b[0mi\u001b[0m\u001b[0;34m)\u001b[0m\u001b[0;34m\u001b[0m\u001b[0;34m\u001b[0m\u001b[0m\n\u001b[0m\u001b[1;32m    724\u001b[0m             \u001b[0;32mexcept\u001b[0m \u001b[0mValueError\u001b[0m \u001b[0;32mas\u001b[0m \u001b[0merr\u001b[0m\u001b[0;34m:\u001b[0m\u001b[0;34m\u001b[0m\u001b[0;34m\u001b[0m\u001b[0m\n\u001b[1;32m    725\u001b[0m                 raise ValueError(\n",
      "\u001b[0;32m~/.pyenv/versions/lewagon/envs/stock_prices_predictions/lib/python3.8/site-packages/pandas/core/indexing.py\u001b[0m in \u001b[0;36m_validate_key\u001b[0;34m(self, key, axis)\u001b[0m\n\u001b[1;32m   1356\u001b[0m             \u001b[0;32mreturn\u001b[0m\u001b[0;34m\u001b[0m\u001b[0;34m\u001b[0m\u001b[0m\n\u001b[1;32m   1357\u001b[0m         \u001b[0;32melif\u001b[0m \u001b[0mis_integer\u001b[0m\u001b[0;34m(\u001b[0m\u001b[0mkey\u001b[0m\u001b[0;34m)\u001b[0m\u001b[0;34m:\u001b[0m\u001b[0;34m\u001b[0m\u001b[0;34m\u001b[0m\u001b[0m\n\u001b[0;32m-> 1358\u001b[0;31m             \u001b[0mself\u001b[0m\u001b[0;34m.\u001b[0m\u001b[0m_validate_integer\u001b[0m\u001b[0;34m(\u001b[0m\u001b[0mkey\u001b[0m\u001b[0;34m,\u001b[0m \u001b[0maxis\u001b[0m\u001b[0;34m)\u001b[0m\u001b[0;34m\u001b[0m\u001b[0;34m\u001b[0m\u001b[0m\n\u001b[0m\u001b[1;32m   1359\u001b[0m         \u001b[0;32melif\u001b[0m \u001b[0misinstance\u001b[0m\u001b[0;34m(\u001b[0m\u001b[0mkey\u001b[0m\u001b[0;34m,\u001b[0m \u001b[0mtuple\u001b[0m\u001b[0;34m)\u001b[0m\u001b[0;34m:\u001b[0m\u001b[0;34m\u001b[0m\u001b[0;34m\u001b[0m\u001b[0m\n\u001b[1;32m   1360\u001b[0m             \u001b[0;31m# a tuple should already have been caught by this point\u001b[0m\u001b[0;34m\u001b[0m\u001b[0;34m\u001b[0m\u001b[0;34m\u001b[0m\u001b[0m\n",
      "\u001b[0;32m~/.pyenv/versions/lewagon/envs/stock_prices_predictions/lib/python3.8/site-packages/pandas/core/indexing.py\u001b[0m in \u001b[0;36m_validate_integer\u001b[0;34m(self, key, axis)\u001b[0m\n\u001b[1;32m   1442\u001b[0m         \u001b[0mlen_axis\u001b[0m \u001b[0;34m=\u001b[0m \u001b[0mlen\u001b[0m\u001b[0;34m(\u001b[0m\u001b[0mself\u001b[0m\u001b[0;34m.\u001b[0m\u001b[0mobj\u001b[0m\u001b[0;34m.\u001b[0m\u001b[0m_get_axis\u001b[0m\u001b[0;34m(\u001b[0m\u001b[0maxis\u001b[0m\u001b[0;34m)\u001b[0m\u001b[0;34m)\u001b[0m\u001b[0;34m\u001b[0m\u001b[0;34m\u001b[0m\u001b[0m\n\u001b[1;32m   1443\u001b[0m         \u001b[0;32mif\u001b[0m \u001b[0mkey\u001b[0m \u001b[0;34m>=\u001b[0m \u001b[0mlen_axis\u001b[0m \u001b[0;32mor\u001b[0m \u001b[0mkey\u001b[0m \u001b[0;34m<\u001b[0m \u001b[0;34m-\u001b[0m\u001b[0mlen_axis\u001b[0m\u001b[0;34m:\u001b[0m\u001b[0;34m\u001b[0m\u001b[0;34m\u001b[0m\u001b[0m\n\u001b[0;32m-> 1444\u001b[0;31m             \u001b[0;32mraise\u001b[0m \u001b[0mIndexError\u001b[0m\u001b[0;34m(\u001b[0m\u001b[0;34m\"single positional indexer is out-of-bounds\"\u001b[0m\u001b[0;34m)\u001b[0m\u001b[0;34m\u001b[0m\u001b[0;34m\u001b[0m\u001b[0m\n\u001b[0m\u001b[1;32m   1445\u001b[0m \u001b[0;34m\u001b[0m\u001b[0m\n\u001b[1;32m   1446\u001b[0m     \u001b[0;31m# -------------------------------------------------------------------\u001b[0m\u001b[0;34m\u001b[0m\u001b[0;34m\u001b[0m\u001b[0;34m\u001b[0m\u001b[0m\n",
      "\u001b[0;31mIndexError\u001b[0m: single positional indexer is out-of-bounds"
     ]
    }
   ],
   "source": [
    "get_lstm_test_data('T', 1)"
   ]
  },
  {
   "cell_type": "code",
   "execution_count": null,
   "id": "c5edd961",
   "metadata": {},
   "outputs": [],
   "source": []
  }
 ],
 "metadata": {
  "kernelspec": {
   "display_name": "Python 3",
   "language": "python",
   "name": "python3"
  },
  "language_info": {
   "codemirror_mode": {
    "name": "ipython",
    "version": 3
   },
   "file_extension": ".py",
   "mimetype": "text/x-python",
   "name": "python",
   "nbconvert_exporter": "python",
   "pygments_lexer": "ipython3",
   "version": "3.8.6"
  },
  "toc": {
   "base_numbering": 1,
   "nav_menu": {},
   "number_sections": true,
   "sideBar": true,
   "skip_h1_title": false,
   "title_cell": "Table of Contents",
   "title_sidebar": "Contents",
   "toc_cell": false,
   "toc_position": {},
   "toc_section_display": true,
   "toc_window_display": false
  }
 },
 "nbformat": 4,
 "nbformat_minor": 5
}
