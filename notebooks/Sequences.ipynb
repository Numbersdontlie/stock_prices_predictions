{
 "cells": [
  {
   "cell_type": "markdown",
   "id": "a396de3d",
   "metadata": {},
   "source": [
    "# Import Libraries"
   ]
  },
  {
   "cell_type": "code",
   "execution_count": 103,
   "id": "99bfd5a3",
   "metadata": {},
   "outputs": [],
   "source": [
    "import os\n",
    "import pandas as pd\n",
    "import numpy as np"
   ]
  },
  {
   "cell_type": "markdown",
   "id": "2a39ca4e",
   "metadata": {},
   "source": [
    "# Load dataset and filter"
   ]
  },
  {
   "cell_type": "code",
   "execution_count": 29,
   "id": "17479286",
   "metadata": {},
   "outputs": [],
   "source": [
    "cwd = os.getcwd()\n",
    "\n",
    "simp_path4 = 'raw_data/df.csv'\n",
    "abs_path4 = os.path.abspath(os.path.join(cwd,'..',simp_path4))\n",
    "df_500 = pd.read_csv(abs_path4)\n",
    "df_500.date = pd.to_datetime(df_500.date)"
   ]
  },
  {
   "cell_type": "code",
   "execution_count": 30,
   "id": "55ec1759",
   "metadata": {},
   "outputs": [],
   "source": [
    "df_500['year'] = pd.DatetimeIndex(df_500['date']).year\n",
    "df_500['month'] = pd.DatetimeIndex(df_500['date']).month\n",
    "df_500['day'] = pd.DatetimeIndex(df_500['date']).day"
   ]
  },
  {
   "cell_type": "code",
   "execution_count": 31,
   "id": "388b15e9",
   "metadata": {},
   "outputs": [],
   "source": [
    "df_500 = df_500[df_500.year>1999]"
   ]
  },
  {
   "cell_type": "code",
   "execution_count": 32,
   "id": "2f6ac2b6",
   "metadata": {},
   "outputs": [],
   "source": [
    "list_of_10_stocks = ['T', 'INTC', 'ADBE', 'JPM', 'PG', 'NVDA', 'AAPL', 'AMZN', 'UNH', 'MA']"
   ]
  },
  {
   "cell_type": "code",
   "execution_count": 33,
   "id": "161fcc2d",
   "metadata": {},
   "outputs": [],
   "source": [
    "df_top10 = df_500[df_500['ticker'].isin(list_of_10_stocks)]"
   ]
  },
  {
   "cell_type": "code",
   "execution_count": 34,
   "id": "7f95a106",
   "metadata": {},
   "outputs": [
    {
     "data": {
      "text/html": [
       "<div>\n",
       "<style scoped>\n",
       "    .dataframe tbody tr th:only-of-type {\n",
       "        vertical-align: middle;\n",
       "    }\n",
       "\n",
       "    .dataframe tbody tr th {\n",
       "        vertical-align: top;\n",
       "    }\n",
       "\n",
       "    .dataframe thead th {\n",
       "        text-align: right;\n",
       "    }\n",
       "</style>\n",
       "<table border=\"1\" class=\"dataframe\">\n",
       "  <thead>\n",
       "    <tr style=\"text-align: right;\">\n",
       "      <th></th>\n",
       "      <th>ticker</th>\n",
       "      <th>open</th>\n",
       "      <th>close</th>\n",
       "      <th>adj_close</th>\n",
       "      <th>low</th>\n",
       "      <th>high</th>\n",
       "      <th>volume</th>\n",
       "      <th>date</th>\n",
       "      <th>sector</th>\n",
       "      <th>year</th>\n",
       "      <th>month</th>\n",
       "      <th>day</th>\n",
       "    </tr>\n",
       "  </thead>\n",
       "  <tbody>\n",
       "    <tr>\n",
       "      <th>4815</th>\n",
       "      <td>AAPL</td>\n",
       "      <td>3.745536</td>\n",
       "      <td>3.997768</td>\n",
       "      <td>2.686497</td>\n",
       "      <td>3.631696</td>\n",
       "      <td>4.017857</td>\n",
       "      <td>133949200</td>\n",
       "      <td>2000-01-03</td>\n",
       "      <td>TECHNOLOGY</td>\n",
       "      <td>2000</td>\n",
       "      <td>1</td>\n",
       "      <td>3</td>\n",
       "    </tr>\n",
       "    <tr>\n",
       "      <th>4816</th>\n",
       "      <td>AAPL</td>\n",
       "      <td>3.866071</td>\n",
       "      <td>3.660714</td>\n",
       "      <td>2.459998</td>\n",
       "      <td>3.613839</td>\n",
       "      <td>3.950893</td>\n",
       "      <td>128094400</td>\n",
       "      <td>2000-01-04</td>\n",
       "      <td>TECHNOLOGY</td>\n",
       "      <td>2000</td>\n",
       "      <td>1</td>\n",
       "      <td>4</td>\n",
       "    </tr>\n",
       "    <tr>\n",
       "      <th>4817</th>\n",
       "      <td>AAPL</td>\n",
       "      <td>3.705357</td>\n",
       "      <td>3.714286</td>\n",
       "      <td>2.495997</td>\n",
       "      <td>3.678571</td>\n",
       "      <td>3.948661</td>\n",
       "      <td>194580400</td>\n",
       "      <td>2000-01-05</td>\n",
       "      <td>TECHNOLOGY</td>\n",
       "      <td>2000</td>\n",
       "      <td>1</td>\n",
       "      <td>5</td>\n",
       "    </tr>\n",
       "    <tr>\n",
       "      <th>4818</th>\n",
       "      <td>AAPL</td>\n",
       "      <td>3.790179</td>\n",
       "      <td>3.392857</td>\n",
       "      <td>2.279998</td>\n",
       "      <td>3.392857</td>\n",
       "      <td>3.821429</td>\n",
       "      <td>191993200</td>\n",
       "      <td>2000-01-06</td>\n",
       "      <td>TECHNOLOGY</td>\n",
       "      <td>2000</td>\n",
       "      <td>1</td>\n",
       "      <td>6</td>\n",
       "    </tr>\n",
       "    <tr>\n",
       "      <th>4819</th>\n",
       "      <td>AAPL</td>\n",
       "      <td>3.446429</td>\n",
       "      <td>3.553571</td>\n",
       "      <td>2.387998</td>\n",
       "      <td>3.410714</td>\n",
       "      <td>3.607143</td>\n",
       "      <td>115183600</td>\n",
       "      <td>2000-01-07</td>\n",
       "      <td>TECHNOLOGY</td>\n",
       "      <td>2000</td>\n",
       "      <td>1</td>\n",
       "      <td>7</td>\n",
       "    </tr>\n",
       "    <tr>\n",
       "      <th>...</th>\n",
       "      <td>...</td>\n",
       "      <td>...</td>\n",
       "      <td>...</td>\n",
       "      <td>...</td>\n",
       "      <td>...</td>\n",
       "      <td>...</td>\n",
       "      <td>...</td>\n",
       "      <td>...</td>\n",
       "      <td>...</td>\n",
       "      <td>...</td>\n",
       "      <td>...</td>\n",
       "      <td>...</td>\n",
       "    </tr>\n",
       "    <tr>\n",
       "      <th>3275819</th>\n",
       "      <td>UNH</td>\n",
       "      <td>263.000000</td>\n",
       "      <td>262.399994</td>\n",
       "      <td>262.399994</td>\n",
       "      <td>261.570007</td>\n",
       "      <td>263.489990</td>\n",
       "      <td>1786200</td>\n",
       "      <td>2018-08-20</td>\n",
       "      <td>HEALTH CARE</td>\n",
       "      <td>2018</td>\n",
       "      <td>8</td>\n",
       "      <td>20</td>\n",
       "    </tr>\n",
       "    <tr>\n",
       "      <th>3275820</th>\n",
       "      <td>UNH</td>\n",
       "      <td>261.850006</td>\n",
       "      <td>261.690002</td>\n",
       "      <td>261.690002</td>\n",
       "      <td>260.730011</td>\n",
       "      <td>262.519989</td>\n",
       "      <td>1559300</td>\n",
       "      <td>2018-08-21</td>\n",
       "      <td>HEALTH CARE</td>\n",
       "      <td>2018</td>\n",
       "      <td>8</td>\n",
       "      <td>21</td>\n",
       "    </tr>\n",
       "    <tr>\n",
       "      <th>3275821</th>\n",
       "      <td>UNH</td>\n",
       "      <td>261.950012</td>\n",
       "      <td>260.739990</td>\n",
       "      <td>260.739990</td>\n",
       "      <td>260.250000</td>\n",
       "      <td>261.950012</td>\n",
       "      <td>2148500</td>\n",
       "      <td>2018-08-22</td>\n",
       "      <td>HEALTH CARE</td>\n",
       "      <td>2018</td>\n",
       "      <td>8</td>\n",
       "      <td>22</td>\n",
       "    </tr>\n",
       "    <tr>\n",
       "      <th>3275822</th>\n",
       "      <td>UNH</td>\n",
       "      <td>261.019989</td>\n",
       "      <td>261.420013</td>\n",
       "      <td>261.420013</td>\n",
       "      <td>259.559998</td>\n",
       "      <td>262.559998</td>\n",
       "      <td>1603500</td>\n",
       "      <td>2018-08-23</td>\n",
       "      <td>HEALTH CARE</td>\n",
       "      <td>2018</td>\n",
       "      <td>8</td>\n",
       "      <td>23</td>\n",
       "    </tr>\n",
       "    <tr>\n",
       "      <th>3275823</th>\n",
       "      <td>UNH</td>\n",
       "      <td>261.750000</td>\n",
       "      <td>264.279999</td>\n",
       "      <td>264.279999</td>\n",
       "      <td>261.750000</td>\n",
       "      <td>264.779999</td>\n",
       "      <td>2238600</td>\n",
       "      <td>2018-08-24</td>\n",
       "      <td>HEALTH CARE</td>\n",
       "      <td>2018</td>\n",
       "      <td>8</td>\n",
       "      <td>24</td>\n",
       "    </tr>\n",
       "  </tbody>\n",
       "</table>\n",
       "<p>45313 rows × 12 columns</p>\n",
       "</div>"
      ],
      "text/plain": [
       "        ticker        open       close   adj_close         low        high  \\\n",
       "4815      AAPL    3.745536    3.997768    2.686497    3.631696    4.017857   \n",
       "4816      AAPL    3.866071    3.660714    2.459998    3.613839    3.950893   \n",
       "4817      AAPL    3.705357    3.714286    2.495997    3.678571    3.948661   \n",
       "4818      AAPL    3.790179    3.392857    2.279998    3.392857    3.821429   \n",
       "4819      AAPL    3.446429    3.553571    2.387998    3.410714    3.607143   \n",
       "...        ...         ...         ...         ...         ...         ...   \n",
       "3275819    UNH  263.000000  262.399994  262.399994  261.570007  263.489990   \n",
       "3275820    UNH  261.850006  261.690002  261.690002  260.730011  262.519989   \n",
       "3275821    UNH  261.950012  260.739990  260.739990  260.250000  261.950012   \n",
       "3275822    UNH  261.019989  261.420013  261.420013  259.559998  262.559998   \n",
       "3275823    UNH  261.750000  264.279999  264.279999  261.750000  264.779999   \n",
       "\n",
       "            volume       date       sector  year  month  day  \n",
       "4815     133949200 2000-01-03   TECHNOLOGY  2000      1    3  \n",
       "4816     128094400 2000-01-04   TECHNOLOGY  2000      1    4  \n",
       "4817     194580400 2000-01-05   TECHNOLOGY  2000      1    5  \n",
       "4818     191993200 2000-01-06   TECHNOLOGY  2000      1    6  \n",
       "4819     115183600 2000-01-07   TECHNOLOGY  2000      1    7  \n",
       "...            ...        ...          ...   ...    ...  ...  \n",
       "3275819    1786200 2018-08-20  HEALTH CARE  2018      8   20  \n",
       "3275820    1559300 2018-08-21  HEALTH CARE  2018      8   21  \n",
       "3275821    2148500 2018-08-22  HEALTH CARE  2018      8   22  \n",
       "3275822    1603500 2018-08-23  HEALTH CARE  2018      8   23  \n",
       "3275823    2238600 2018-08-24  HEALTH CARE  2018      8   24  \n",
       "\n",
       "[45313 rows x 12 columns]"
      ]
     },
     "execution_count": 34,
     "metadata": {},
     "output_type": "execute_result"
    }
   ],
   "source": [
    "df_top10"
   ]
  },
  {
   "cell_type": "code",
   "execution_count": 36,
   "id": "3255a58f",
   "metadata": {},
   "outputs": [],
   "source": [
    "df_T = df_top10[df_top10['ticker'] == \"T\"]"
   ]
  },
  {
   "cell_type": "code",
   "execution_count": 42,
   "id": "ea0cd369",
   "metadata": {},
   "outputs": [
    {
     "data": {
      "text/plain": [
       "4692"
      ]
     },
     "execution_count": 42,
     "metadata": {},
     "output_type": "execute_result"
    }
   ],
   "source": [
    "len(df_T)"
   ]
  },
  {
   "cell_type": "markdown",
   "id": "d47248fd",
   "metadata": {},
   "source": [
    "# Create Sequences for LSTM"
   ]
  },
  {
   "cell_type": "markdown",
   "id": "b274b855",
   "metadata": {},
   "source": [
    "-filter only 14 years"
   ]
  },
  {
   "cell_type": "code",
   "execution_count": 40,
   "id": "684ef504",
   "metadata": {},
   "outputs": [],
   "source": [
    "df_top10_14y = df_top10[df_top10.year<2015]"
   ]
  },
  {
   "cell_type": "code",
   "execution_count": 41,
   "id": "61de1435",
   "metadata": {},
   "outputs": [
    {
     "data": {
      "text/plain": [
       "array(['AAPL', 'AMZN', 'JPM', 'INTC', 'ADBE', 'MA', 'T', 'NVDA', 'PG',\n",
       "       'UNH'], dtype=object)"
      ]
     },
     "execution_count": 41,
     "metadata": {},
     "output_type": "execute_result"
    }
   ],
   "source": [
    "df_top10_14y['ticker'].unique()"
   ]
  },
  {
   "cell_type": "code",
   "execution_count": 43,
   "id": "489e8f7f",
   "metadata": {},
   "outputs": [],
   "source": [
    "df_T = df_top10_14y[df_top10_14y['ticker'] == \"T\"]"
   ]
  },
  {
   "cell_type": "code",
   "execution_count": 44,
   "id": "0f0c2fdb",
   "metadata": {},
   "outputs": [
    {
     "data": {
      "text/plain": [
       "3773"
      ]
     },
     "execution_count": 44,
     "metadata": {},
     "output_type": "execute_result"
    }
   ],
   "source": [
    "len(df_T)"
   ]
  },
  {
   "cell_type": "markdown",
   "id": "56359720",
   "metadata": {},
   "source": [
    "-each day"
   ]
  },
  {
   "cell_type": "code",
   "execution_count": 47,
   "id": "f04a4ec1",
   "metadata": {},
   "outputs": [
    {
     "data": {
      "text/html": [
       "<div>\n",
       "<style scoped>\n",
       "    .dataframe tbody tr th:only-of-type {\n",
       "        vertical-align: middle;\n",
       "    }\n",
       "\n",
       "    .dataframe tbody tr th {\n",
       "        vertical-align: top;\n",
       "    }\n",
       "\n",
       "    .dataframe thead th {\n",
       "        text-align: right;\n",
       "    }\n",
       "</style>\n",
       "<table border=\"1\" class=\"dataframe\">\n",
       "  <thead>\n",
       "    <tr style=\"text-align: right;\">\n",
       "      <th></th>\n",
       "      <th>ticker</th>\n",
       "      <th>open</th>\n",
       "      <th>close</th>\n",
       "      <th>adj_close</th>\n",
       "      <th>low</th>\n",
       "      <th>high</th>\n",
       "      <th>volume</th>\n",
       "      <th>date</th>\n",
       "      <th>sector</th>\n",
       "      <th>year</th>\n",
       "      <th>month</th>\n",
       "      <th>day</th>\n",
       "    </tr>\n",
       "  </thead>\n",
       "  <tbody>\n",
       "    <tr>\n",
       "      <th>2431677</th>\n",
       "      <td>T</td>\n",
       "      <td>48.562500</td>\n",
       "      <td>47.000000</td>\n",
       "      <td>19.225044</td>\n",
       "      <td>46.625000</td>\n",
       "      <td>49.000000</td>\n",
       "      <td>5791900</td>\n",
       "      <td>2000-01-03</td>\n",
       "      <td>PUBLIC UTILITIES</td>\n",
       "      <td>2000</td>\n",
       "      <td>1</td>\n",
       "      <td>3</td>\n",
       "    </tr>\n",
       "    <tr>\n",
       "      <th>2431678</th>\n",
       "      <td>T</td>\n",
       "      <td>47.062500</td>\n",
       "      <td>44.250000</td>\n",
       "      <td>18.100174</td>\n",
       "      <td>43.500000</td>\n",
       "      <td>47.750000</td>\n",
       "      <td>7173600</td>\n",
       "      <td>2000-01-04</td>\n",
       "      <td>PUBLIC UTILITIES</td>\n",
       "      <td>2000</td>\n",
       "      <td>1</td>\n",
       "      <td>4</td>\n",
       "    </tr>\n",
       "    <tr>\n",
       "      <th>2431679</th>\n",
       "      <td>T</td>\n",
       "      <td>45.000000</td>\n",
       "      <td>44.937500</td>\n",
       "      <td>18.381397</td>\n",
       "      <td>44.437500</td>\n",
       "      <td>45.250000</td>\n",
       "      <td>9090000</td>\n",
       "      <td>2000-01-05</td>\n",
       "      <td>PUBLIC UTILITIES</td>\n",
       "      <td>2000</td>\n",
       "      <td>1</td>\n",
       "      <td>5</td>\n",
       "    </tr>\n",
       "    <tr>\n",
       "      <th>2431680</th>\n",
       "      <td>T</td>\n",
       "      <td>44.562500</td>\n",
       "      <td>43.750000</td>\n",
       "      <td>17.993273</td>\n",
       "      <td>43.125000</td>\n",
       "      <td>45.000000</td>\n",
       "      <td>7153600</td>\n",
       "      <td>2000-01-06</td>\n",
       "      <td>PUBLIC UTILITIES</td>\n",
       "      <td>2000</td>\n",
       "      <td>1</td>\n",
       "      <td>6</td>\n",
       "    </tr>\n",
       "    <tr>\n",
       "      <th>2431681</th>\n",
       "      <td>T</td>\n",
       "      <td>44.562500</td>\n",
       "      <td>44.125000</td>\n",
       "      <td>18.147497</td>\n",
       "      <td>43.375000</td>\n",
       "      <td>44.750000</td>\n",
       "      <td>5885600</td>\n",
       "      <td>2000-01-07</td>\n",
       "      <td>PUBLIC UTILITIES</td>\n",
       "      <td>2000</td>\n",
       "      <td>1</td>\n",
       "      <td>7</td>\n",
       "    </tr>\n",
       "    <tr>\n",
       "      <th>...</th>\n",
       "      <td>...</td>\n",
       "      <td>...</td>\n",
       "      <td>...</td>\n",
       "      <td>...</td>\n",
       "      <td>...</td>\n",
       "      <td>...</td>\n",
       "      <td>...</td>\n",
       "      <td>...</td>\n",
       "      <td>...</td>\n",
       "      <td>...</td>\n",
       "      <td>...</td>\n",
       "      <td>...</td>\n",
       "    </tr>\n",
       "    <tr>\n",
       "      <th>2435445</th>\n",
       "      <td>T</td>\n",
       "      <td>34.020000</td>\n",
       "      <td>33.959999</td>\n",
       "      <td>27.890707</td>\n",
       "      <td>33.930000</td>\n",
       "      <td>34.189999</td>\n",
       "      <td>8831900</td>\n",
       "      <td>2014-12-24</td>\n",
       "      <td>PUBLIC UTILITIES</td>\n",
       "      <td>2014</td>\n",
       "      <td>12</td>\n",
       "      <td>24</td>\n",
       "    </tr>\n",
       "    <tr>\n",
       "      <th>2435446</th>\n",
       "      <td>T</td>\n",
       "      <td>34.049999</td>\n",
       "      <td>34.169998</td>\n",
       "      <td>28.063179</td>\n",
       "      <td>33.980000</td>\n",
       "      <td>34.230000</td>\n",
       "      <td>11486800</td>\n",
       "      <td>2014-12-26</td>\n",
       "      <td>PUBLIC UTILITIES</td>\n",
       "      <td>2014</td>\n",
       "      <td>12</td>\n",
       "      <td>26</td>\n",
       "    </tr>\n",
       "    <tr>\n",
       "      <th>2435447</th>\n",
       "      <td>T</td>\n",
       "      <td>34.070000</td>\n",
       "      <td>34.110001</td>\n",
       "      <td>28.013905</td>\n",
       "      <td>34.020000</td>\n",
       "      <td>34.270000</td>\n",
       "      <td>12708100</td>\n",
       "      <td>2014-12-29</td>\n",
       "      <td>PUBLIC UTILITIES</td>\n",
       "      <td>2014</td>\n",
       "      <td>12</td>\n",
       "      <td>29</td>\n",
       "    </tr>\n",
       "    <tr>\n",
       "      <th>2435448</th>\n",
       "      <td>T</td>\n",
       "      <td>34.090000</td>\n",
       "      <td>34.080002</td>\n",
       "      <td>27.989269</td>\n",
       "      <td>34.029999</td>\n",
       "      <td>34.200001</td>\n",
       "      <td>12369700</td>\n",
       "      <td>2014-12-30</td>\n",
       "      <td>PUBLIC UTILITIES</td>\n",
       "      <td>2014</td>\n",
       "      <td>12</td>\n",
       "      <td>30</td>\n",
       "    </tr>\n",
       "    <tr>\n",
       "      <th>2435449</th>\n",
       "      <td>T</td>\n",
       "      <td>33.980000</td>\n",
       "      <td>33.590000</td>\n",
       "      <td>27.586840</td>\n",
       "      <td>33.540001</td>\n",
       "      <td>34.080002</td>\n",
       "      <td>24178100</td>\n",
       "      <td>2014-12-31</td>\n",
       "      <td>PUBLIC UTILITIES</td>\n",
       "      <td>2014</td>\n",
       "      <td>12</td>\n",
       "      <td>31</td>\n",
       "    </tr>\n",
       "  </tbody>\n",
       "</table>\n",
       "<p>3773 rows × 12 columns</p>\n",
       "</div>"
      ],
      "text/plain": [
       "        ticker       open      close  adj_close        low       high  \\\n",
       "2431677      T  48.562500  47.000000  19.225044  46.625000  49.000000   \n",
       "2431678      T  47.062500  44.250000  18.100174  43.500000  47.750000   \n",
       "2431679      T  45.000000  44.937500  18.381397  44.437500  45.250000   \n",
       "2431680      T  44.562500  43.750000  17.993273  43.125000  45.000000   \n",
       "2431681      T  44.562500  44.125000  18.147497  43.375000  44.750000   \n",
       "...        ...        ...        ...        ...        ...        ...   \n",
       "2435445      T  34.020000  33.959999  27.890707  33.930000  34.189999   \n",
       "2435446      T  34.049999  34.169998  28.063179  33.980000  34.230000   \n",
       "2435447      T  34.070000  34.110001  28.013905  34.020000  34.270000   \n",
       "2435448      T  34.090000  34.080002  27.989269  34.029999  34.200001   \n",
       "2435449      T  33.980000  33.590000  27.586840  33.540001  34.080002   \n",
       "\n",
       "           volume       date            sector  year  month  day  \n",
       "2431677   5791900 2000-01-03  PUBLIC UTILITIES  2000      1    3  \n",
       "2431678   7173600 2000-01-04  PUBLIC UTILITIES  2000      1    4  \n",
       "2431679   9090000 2000-01-05  PUBLIC UTILITIES  2000      1    5  \n",
       "2431680   7153600 2000-01-06  PUBLIC UTILITIES  2000      1    6  \n",
       "2431681   5885600 2000-01-07  PUBLIC UTILITIES  2000      1    7  \n",
       "...           ...        ...               ...   ...    ...  ...  \n",
       "2435445   8831900 2014-12-24  PUBLIC UTILITIES  2014     12   24  \n",
       "2435446  11486800 2014-12-26  PUBLIC UTILITIES  2014     12   26  \n",
       "2435447  12708100 2014-12-29  PUBLIC UTILITIES  2014     12   29  \n",
       "2435448  12369700 2014-12-30  PUBLIC UTILITIES  2014     12   30  \n",
       "2435449  24178100 2014-12-31  PUBLIC UTILITIES  2014     12   31  \n",
       "\n",
       "[3773 rows x 12 columns]"
      ]
     },
     "execution_count": 47,
     "metadata": {},
     "output_type": "execute_result"
    }
   ],
   "source": [
    "df_T"
   ]
  },
  {
   "cell_type": "code",
   "execution_count": 136,
   "id": "76a2cbd4",
   "metadata": {},
   "outputs": [],
   "source": [
    "stock = 'T'\n",
    "sequence_a = []\n",
    "y = []\n",
    "for i in range(0, 3600, 36):\n",
    "    day = []\n",
    "    df_ = df_top10_14y[df_top10_14y['ticker'] == stock]\n",
    "    df_ = df_.iloc[i:i+37,3:6]\n",
    "    for p in range(36):\n",
    "        day.append(df_.iloc[p,:])       \n",
    "    sequence_a.append(day)\n",
    "    y.append(df_.iloc[36,0])"
   ]
  },
  {
   "cell_type": "code",
   "execution_count": 137,
   "id": "ea0056d9",
   "metadata": {},
   "outputs": [
    {
     "data": {
      "text/plain": [
       "100"
      ]
     },
     "execution_count": 137,
     "metadata": {},
     "output_type": "execute_result"
    }
   ],
   "source": [
    "len(y)"
   ]
  },
  {
   "cell_type": "code",
   "execution_count": 138,
   "id": "52ab60bb",
   "metadata": {},
   "outputs": [],
   "source": [
    "X = np.array(sequence_a).astype(np.float32)"
   ]
  },
  {
   "cell_type": "code",
   "execution_count": 139,
   "id": "ee028fb1",
   "metadata": {},
   "outputs": [
    {
     "data": {
      "text/plain": [
       "(100, 36, 3)"
      ]
     },
     "execution_count": 139,
     "metadata": {},
     "output_type": "execute_result"
    }
   ],
   "source": [
    "X.shape"
   ]
  },
  {
   "cell_type": "code",
   "execution_count": 140,
   "id": "bc5e186e",
   "metadata": {},
   "outputs": [
    {
     "data": {
      "text/plain": [
       "array([[17.6272  , 42.      , 46.625   ],\n",
       "       [17.31704 , 40.875   , 43.5625  ],\n",
       "       [17.161955, 40.4375  , 41.9375  ],\n",
       "       [17.34288 , 41.125   , 42.625   ],\n",
       "       [17.032724, 40.9375  , 42.375   ],\n",
       "       [17.472113, 41.      , 42.4375  ],\n",
       "       [18.5835  , 42.4375  , 45.4375  ],\n",
       "       [18.195808, 43.5     , 45.1875  ],\n",
       "       [17.885656, 43.      , 44.25    ],\n",
       "       [18.118275, 43.25    , 44.3125  ],\n",
       "       [18.454275, 43.6875  , 45.125   ],\n",
       "       [17.523804, 41.75    , 44.5     ],\n",
       "       [17.34288 , 41.6875  , 42.6875  ],\n",
       "       [16.981031, 40.8125  , 42.      ],\n",
       "       [17.782269, 41.0625  , 43.1875  ],\n",
       "       [17.730572, 41.875   , 42.9375  ],\n",
       "       [17.497963, 41.875   , 43.5     ],\n",
       "       [18.661043, 42.25    , 46.      ],\n",
       "       [18.841972, 45.1875  , 45.9375  ],\n",
       "       [18.544718, 44.1875  , 45.      ],\n",
       "       [19.022894, 44.      , 46.75    ],\n",
       "       [18.893665, 45.3125  , 46.9375  ],\n",
       "       [18.738588, 44.8125  , 45.4375  ],\n",
       "       [18.299187, 43.9375  , 45.5625  ],\n",
       "       [17.653044, 42.375   , 43.6875  ],\n",
       "       [17.575499, 41.75    , 43.625   ],\n",
       "       [17.291183, 41.75    , 42.4375  ],\n",
       "       [17.833967, 42.0625  , 43.3125  ],\n",
       "       [17.39458 , 41.5625  , 43.1875  ],\n",
       "       [17.6272  , 42.0625  , 43.0625  ],\n",
       "       [18.299187, 42.75    , 44.25    ],\n",
       "       [18.06658 , 43.25    , 44.3125  ],\n",
       "       [18.195808, 44.      , 44.875   ],\n",
       "       [18.609358, 44.75    , 45.4375  ],\n",
       "       [18.325045, 44.3125  , 45.3125  ],\n",
       "       [18.738588, 44.625   , 46.375   ]], dtype=float32)"
      ]
     },
     "execution_count": 140,
     "metadata": {},
     "output_type": "execute_result"
    }
   ],
   "source": [
    "X[2]"
   ]
  },
  {
   "cell_type": "code",
   "execution_count": 141,
   "id": "fecebc70",
   "metadata": {},
   "outputs": [
    {
     "data": {
      "text/plain": [
       "19.1779766082764"
      ]
     },
     "execution_count": 141,
     "metadata": {},
     "output_type": "execute_result"
    }
   ],
   "source": [
    "y[2]"
   ]
  },
  {
   "cell_type": "code",
   "execution_count": 143,
   "id": "ffbdbe5e",
   "metadata": {},
   "outputs": [
    {
     "data": {
      "text/html": [
       "<div>\n",
       "<style scoped>\n",
       "    .dataframe tbody tr th:only-of-type {\n",
       "        vertical-align: middle;\n",
       "    }\n",
       "\n",
       "    .dataframe tbody tr th {\n",
       "        vertical-align: top;\n",
       "    }\n",
       "\n",
       "    .dataframe thead th {\n",
       "        text-align: right;\n",
       "    }\n",
       "</style>\n",
       "<table border=\"1\" class=\"dataframe\">\n",
       "  <thead>\n",
       "    <tr style=\"text-align: right;\">\n",
       "      <th></th>\n",
       "      <th>ticker</th>\n",
       "      <th>open</th>\n",
       "      <th>close</th>\n",
       "      <th>adj_close</th>\n",
       "      <th>low</th>\n",
       "      <th>high</th>\n",
       "      <th>volume</th>\n",
       "      <th>date</th>\n",
       "      <th>sector</th>\n",
       "      <th>year</th>\n",
       "      <th>month</th>\n",
       "      <th>day</th>\n",
       "    </tr>\n",
       "  </thead>\n",
       "  <tbody>\n",
       "    <tr>\n",
       "      <th>2431784</th>\n",
       "      <td>T</td>\n",
       "      <td>44.6875</td>\n",
       "      <td>45.3125</td>\n",
       "      <td>18.738588</td>\n",
       "      <td>44.6250</td>\n",
       "      <td>46.3750</td>\n",
       "      <td>5289900</td>\n",
       "      <td>2000-06-06</td>\n",
       "      <td>PUBLIC UTILITIES</td>\n",
       "      <td>2000</td>\n",
       "      <td>6</td>\n",
       "      <td>6</td>\n",
       "    </tr>\n",
       "    <tr>\n",
       "      <th>2431785</th>\n",
       "      <td>T</td>\n",
       "      <td>45.2500</td>\n",
       "      <td>46.3750</td>\n",
       "      <td>19.177977</td>\n",
       "      <td>45.0625</td>\n",
       "      <td>46.7500</td>\n",
       "      <td>4645500</td>\n",
       "      <td>2000-06-07</td>\n",
       "      <td>PUBLIC UTILITIES</td>\n",
       "      <td>2000</td>\n",
       "      <td>6</td>\n",
       "      <td>7</td>\n",
       "    </tr>\n",
       "    <tr>\n",
       "      <th>2431786</th>\n",
       "      <td>T</td>\n",
       "      <td>46.3750</td>\n",
       "      <td>47.0000</td>\n",
       "      <td>19.436434</td>\n",
       "      <td>46.3125</td>\n",
       "      <td>47.3125</td>\n",
       "      <td>4517900</td>\n",
       "      <td>2000-06-08</td>\n",
       "      <td>PUBLIC UTILITIES</td>\n",
       "      <td>2000</td>\n",
       "      <td>6</td>\n",
       "      <td>8</td>\n",
       "    </tr>\n",
       "  </tbody>\n",
       "</table>\n",
       "</div>"
      ],
      "text/plain": [
       "        ticker     open    close  adj_close      low     high   volume  \\\n",
       "2431784      T  44.6875  45.3125  18.738588  44.6250  46.3750  5289900   \n",
       "2431785      T  45.2500  46.3750  19.177977  45.0625  46.7500  4645500   \n",
       "2431786      T  46.3750  47.0000  19.436434  46.3125  47.3125  4517900   \n",
       "\n",
       "              date            sector  year  month  day  \n",
       "2431784 2000-06-06  PUBLIC UTILITIES  2000      6    6  \n",
       "2431785 2000-06-07  PUBLIC UTILITIES  2000      6    7  \n",
       "2431786 2000-06-08  PUBLIC UTILITIES  2000      6    8  "
      ]
     },
     "execution_count": 143,
     "metadata": {},
     "output_type": "execute_result"
    }
   ],
   "source": [
    "df_T.iloc[107:110,:]"
   ]
  },
  {
   "cell_type": "code",
   "execution_count": null,
   "id": "a19400aa",
   "metadata": {},
   "outputs": [],
   "source": [
    "import numpy as np\n",
    "\n",
    "# --- SEQUENCE A (AMZN)\n",
    "\n",
    "day_1 = [10, 25, 50]  # OBSERVATION 1 [adj_close, low, high]\n",
    "day_2 = [13, 10, 70]  # OBSERVATION 2 [adj_close, low, high]\n",
    "day_3 = [ 9,  5, 90]\n",
    "day_4 = [ 7,  0, 95]\n",
    "\n",
    "sequence_a = [day_1, day_2, day_3, day_4]\n",
    "\n",
    "y_a = 110 # adj_close of +1, +7, +21, +63\n",
    "\n",
    "# --- SEQUENCE B (T)\n",
    "sequence_b = [[25, 20, 30], [26, 24, 50], [28, 20, 80], [22, 3, 110]]\n",
    "y_b = 125\n",
    "\n",
    "# --- SEQUENCE C (AAPL)\n",
    "sequence_c = [[15, 10, 60], [25, 20, 65], [35, 10, 75], [36, 15, 70]]\n",
    "y_c = 30\n",
    "\n",
    "X = np.array([sequence_a, sequence_b, sequence_c]).astype(np.float32)\n",
    "y = np.array([y_a, y_b, y_c]).astype(np.float32)\n",
    "\n",
    "print(X.shape)\n",
    "print(y.shape)"
   ]
  },
  {
   "cell_type": "code",
   "execution_count": 7,
   "id": "94b8b61a",
   "metadata": {},
   "outputs": [],
   "source": [
    "from stock_prices_predictions.get_data import get_lstm_training_data\n",
    "\n",
    "X, y = get_lstm_training_data('AAPL', 5)"
   ]
  },
  {
   "cell_type": "code",
   "execution_count": 8,
   "id": "2d3d7602",
   "metadata": {},
   "outputs": [
    {
     "name": "stdout",
     "output_type": "stream",
     "text": [
      "[3.12749695777893, 2.85299777984619, 2.2679979801178, 2.30399775505066, 2.56799745559692, 0.971999287605286, 0.794999241828918, 0.899999260902405, 1.16399872303009, 0.982558786869049, 0.935999095439911, 0.745919287204742, 0.937439382076263, 1.01519906520844, 1.17023897171021, 1.1500791311264, 0.821759343147278, 0.719999194145203, 0.696479320526123, 0.745439231395721, 0.70127946138382, 0.69743937253952, 0.674879372119904, 0.918719112873077, 0.943678915500641, 0.997919201850891, 0.978239238262177, 1.16159880161285, 1.24799871444702, 1.26959884166718, 1.55183851718903, 1.48847877979279, 1.85615825653076, 2.94479751586914, 3.35039734840393, 3.89087653160095, 3.41183638572693, 3.61055588722229, 4.16447639465332, 5.14655447006226, 6.23615455627441, 8.21663188934326, 6.30335378646851, 6.75743341445923, 5.51711511611938, 6.15071439743042, 7.18655252456665, 8.50559043884277, 9.11519050598145, 8.4451150894165, 9.54911231994629, 11.8943872451782, 12.2678279876709, 15.160306930542, 16.4678287506104, 15.3254289627075, 11.4902286529541, 16.6991806030273, 16.8259105682373, 16.9660682678223, 9.60959053039551, 7.92767429351807, 8.00446891784668, 8.50847244262695, 12.0796689987183, 13.1875076293945, 15.8697462081909, 17.7503852844238, 19.7644596099854, 19.7692604064941, 21.5846195220947, 25.0646190643311, 26.2895812988281, 24.1718158721924, 26.7494125366211, 29.6380500793457, 33.4540481567383, 33.8370819091797, 33.6124496459961, 31.2287750244141, 35.8751678466797, 35.9615707397461, 36.1449317932129, 40.7711601257324, 52.0309867858887, 56.0620307922363, 56.2309837341309, 61.5243339538574, 65.4441986083984, 60.2585487365723, 51.381217956543, 45.6430549621582, 47.463752746582, 44.9540367126465, 58.3496284484863, 56.5388603210449, 63.9003601074219, 65.9659652709961, 68.3160552978516, 75.4416275024414]\n"
     ]
    }
   ],
   "source": [
    "print(y)"
   ]
  },
  {
   "cell_type": "code",
   "execution_count": 9,
   "id": "246d6f17",
   "metadata": {},
   "outputs": [
    {
     "data": {
      "text/plain": [
       "array([[2.6864974, 3.6316965, 4.017857 ],\n",
       "       [2.459998 , 3.6138394, 3.950893 ],\n",
       "       [2.4959974, 3.6785715, 3.9486606],\n",
       "       [2.279998 , 3.392857 , 3.8214285],\n",
       "       [2.3879979, 3.4107144, 3.607143 ],\n",
       "       [2.3459978, 3.3839285, 3.6517856],\n",
       "       [2.2259984, 3.232143 , 3.549107 ],\n",
       "       [2.092498 , 3.0892856, 3.4107144],\n",
       "       [2.3219984, 3.3035715, 3.5267856],\n",
       "       [2.4104974, 3.549107 , 3.6517856],\n",
       "       [2.4944973, 3.5870535, 3.7857144],\n",
       "       [2.5574977, 3.6919644, 3.8839285],\n",
       "       [2.7239976, 4.053571 , 4.339286 ],\n",
       "       [2.671498 , 3.935268 , 4.080357 ],\n",
       "       [2.5499978, 3.7544644, 4.026786 ],\n",
       "       [2.6939976, 3.65625  , 4.040179 ],\n",
       "       [2.6444976, 3.919643 , 4.078125 ],\n",
       "       [2.6399975, 3.8214285, 4.035714 ],\n",
       "       [2.438998 , 3.59375  , 3.9598215],\n",
       "       [2.4899974, 3.375    , 3.7098215],\n",
       "       [2.4059975, 3.5714285, 3.75     ],\n",
       "       [2.3714983, 3.4642856, 3.6473215],\n",
       "       [2.4794974, 3.580357 , 3.7232144],\n",
       "       [2.5919971, 3.700893 , 3.9285715],\n",
       "       [2.7374978, 3.783482 , 4.080357 ],\n",
       "       [2.7569976, 3.9732144, 4.147321 ],\n",
       "       [2.7029972, 4.015625 , 4.183036 ],\n",
       "       [2.7239976, 3.9285715, 4.066964 ],\n",
       "       [2.6099975, 3.8660715, 4.075893 ],\n",
       "       [2.7794976, 3.8794644, 4.138393 ],\n",
       "       [2.8559973, 4.113839 , 4.283482 ],\n",
       "       [2.7389975, 4.004464 , 4.21875  ],\n",
       "       [2.7569976, 4.040179 , 4.125    ],\n",
       "       [2.6699977, 3.9598215, 4.120536 ],\n",
       "       [2.7314975, 3.810268 , 4.176339 ],\n",
       "       [2.7899978, 3.9642856, 4.25     ]], dtype=float32)"
      ]
     },
     "execution_count": 9,
     "metadata": {},
     "output_type": "execute_result"
    }
   ],
   "source": [
    "X[0]"
   ]
  },
  {
   "cell_type": "code",
   "execution_count": null,
   "id": "a3695cc6",
   "metadata": {},
   "outputs": [],
   "source": []
  }
 ],
 "metadata": {
  "kernelspec": {
   "display_name": "Python 3",
   "language": "python",
   "name": "python3"
  },
  "language_info": {
   "codemirror_mode": {
    "name": "ipython",
    "version": 3
   },
   "file_extension": ".py",
   "mimetype": "text/x-python",
   "name": "python",
   "nbconvert_exporter": "python",
   "pygments_lexer": "ipython3",
   "version": "3.8.6"
  },
  "toc": {
   "base_numbering": 1,
   "nav_menu": {},
   "number_sections": true,
   "sideBar": true,
   "skip_h1_title": false,
   "title_cell": "Table of Contents",
   "title_sidebar": "Contents",
   "toc_cell": false,
   "toc_position": {},
   "toc_section_display": true,
   "toc_window_display": false
  }
 },
 "nbformat": 4,
 "nbformat_minor": 5
}
